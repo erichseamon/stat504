{
 "cells": [
  {
   "cell_type": "code",
   "execution_count": null,
   "metadata": {
    "collapsed": true
   },
   "outputs": [],
   "source": [
    "import netCDF4\n",
    "url = 'http://thredds.met.no/thredds/dodsC/arome25/arome_norway_default2_5km_latest.nc'\n",
    "\n",
    "nc = netCDF4.Dataset(url)\n",
    "ncv = nc.variables\n",
    "ncv.keys()\n",
    "\n",
    "# subset and subsample\n",
    "lon = ncv['longitude'][10:-10:2,20:-10:2]\n",
    "lat = ncv['latitude'][10:-10:2,20:-10:2]\n",
    "# read the 1st time step\n",
    "itime = 0\n",
    "tair = ncv['air_temperature_2m'][itime,10:-10:2,20:-10:2]\n",
    "\n",
    "pcolormesh(lon,lat,tair);\n",
    "colorbar();"
   ]
  }
 ],
 "metadata": {
  "kernelspec": {
   "display_name": "Python 2",
   "language": "python",
   "name": "python2"
  },
  "language_info": {
   "codemirror_mode": {
    "name": "ipython",
    "version": 2
   },
   "file_extension": ".py",
   "mimetype": "text/x-python",
   "name": "python",
   "nbconvert_exporter": "python",
   "pygments_lexer": "ipython2",
   "version": "2.7.10"
  }
 },
 "nbformat": 4,
 "nbformat_minor": 0
}
