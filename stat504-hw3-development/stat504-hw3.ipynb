{
 "cells": [
  {
   "cell_type": "markdown",
   "metadata": {},
   "source": [
    "##### Statistics 504 Homework #3 <br>\n",
    "12/04/2015 <br>\n",
    "Fall 2015 <br>\n",
    "Erich Seamon <br>\n",
    "University of Idaho <br>\n",
    "erichs@uidaho.edu <br>\n",
    "http://github.com/erichseamon.com/stat504-python <br>"
   ]
  },
  {
   "cell_type": "markdown",
   "metadata": {},
   "source": [
    "### DATA1: \n",
    "\n",
    "STRONG-R Male Sample_Reduced_2014-03-14.csv (with variables description in  STRONG Codebook.xls). The response variable is FelRecidYr3 (1 versus 0) - Felony recidivism in 3 years.\n",
    "\n",
    "### DATA2: \n",
    "\n",
    "reviews_Musical_Instruments. The response variables is the reviewer’s rating in \"overall\": 5.0 versus 1.0 (ignore the other in-between ratings of 4.0, 3.0, and 2.0)\n",
    "\n",
    "\n",
    "#### The common goal for both data sets is to successfully develop a model to predict the response variable given the other explanatory variables/features. <br> \n",
    "\n",
    "Conduct a data analysis for the above two Data Sets #1 and #2 using all you have learned in the semester to cleanup, build, and  compare/contrast the performance (10-CV with AUC- measure) of various models (including variables/features selections, \n",
    "\n",
    "1) Null,  \n",
    "2) NB, <br> \n",
    "3) knn, <br> \n",
    "4) logistic regression, <br> \n",
    "5) SVM Polynomial kernel, <br> \n",
    "6) SVM Gaussian kernel, <br> \n",
    "7) Tree, 7) Bagging, <br> \n",
    "8) Random Forest, <br> \n",
    "9) Noisy Replications Ensembling, <br> \n",
    "10) plus one feasible model of your choice which was not covered in class). <br> <br> \n",
    "\n",
    "Overlay all model ROC curves in one figure for the same data set, with a legend key. Discuss your modeling process, interesting findings, and conclusions.\n",
    "\n",
    "Specifics:\n",
    "\n",
    "•\tUse 10CV mAUC measure to find the optimal model hyper-parameters <br>\n",
    "•\tFor SVM, do both the polynomial and Gaussian kernel with the optimal model hyper-meters <br>\n",
    "•\tFor Ensembling, do Bagging, Random Forest, and Noisy Replications <br>\n",
    "•\tYou probably would have to run these complicated models on Amazon Web Service (AWS) at http://aws.amazon.com/  <br>\n",
    "•\tMeasure and report the execution time for running each of these 10 models in Python.   <br>\n",
    "\n",
    "Make sure that all your Python codes are documented and bug-free-executable, and all your reported results are reproducible. 15% will be deducted from non-executable non-reproducible codes/results.\n",
    "\n",
    "Finally, please make sure that all your 3 .ipynb Notebooks for Homework#1, #2, and #3 should be in the same Github directory so they can be downloaded in one zip file.\n"
   ]
  },
  {
   "cell_type": "code",
   "execution_count": 382,
   "metadata": {
    "collapsed": false
   },
   "outputs": [],
   "source": [
    "import matplotlib\n",
    "%matplotlib nbagg\n",
    "\n",
    "import json\n",
    "from pprint import pprint\n",
    "from pyproj import Proj\n",
    "import StringIO\n",
    "from pandas import DataFrame\n",
    "import pandas as pd\n",
    "import seaborn as sns\n",
    "import pydot\n",
    "from IPython.display import Image\n",
    "import scipy.sparse as sp\n",
    "import urllib\n",
    "\n",
    "\n",
    "from urllib2 import Request, urlopen\n",
    "import json\n",
    "from pandas.io.json import json_normalize\n",
    "import numpy\n",
    "from sklearn.cross_validation import cross_val_score\n",
    "\n",
    "import pandas as pd\n",
    "import numpy as np\n",
    "from sklearn.linear_model import LinearRegression\n",
    "\n",
    "from sklearn.datasets import load_iris\n",
    "from sklearn.cross_validation import train_test_split\n",
    "from sklearn.neighbors import KNeighborsClassifier\n",
    "from sklearn import metrics\n",
    "import pandas as pd\n",
    "\n",
    "from sklearn.cross_validation import KFold\n",
    "import matplotlib.pyplot as plt\n",
    "from sklearn import metrics\n",
    "\n"
   ]
  },
  {
   "cell_type": "markdown",
   "metadata": {},
   "source": [
    "### DATA1 - Data Organization - Music"
   ]
  },
  {
   "cell_type": "code",
   "execution_count": 430,
   "metadata": {
    "collapsed": false
   },
   "outputs": [
    {
     "data": {
      "text/plain": [
       "('/git/data/hw3/music.json', <httplib.HTTPMessage instance at 0x7ff721080680>)"
      ]
     },
     "execution_count": 430,
     "metadata": {},
     "output_type": "execute_result"
    }
   ],
   "source": [
    "urllib.urlretrieve('http://www.webpages.uidaho.edu/erichs/music.json', '/git/data/hw3/music.json')"
   ]
  },
  {
   "cell_type": "code",
   "execution_count": 431,
   "metadata": {
    "collapsed": false
   },
   "outputs": [],
   "source": [
    "with open('/git/data/hw3/music.json', 'rU') as f:\n",
    "    data = [json.loads(row) for row in f]   "
   ]
  },
  {
   "cell_type": "code",
   "execution_count": 385,
   "metadata": {
    "collapsed": false
   },
   "outputs": [],
   "source": [
    "data1 = pd.DataFrame(data)\n",
    "feature_cols = ['asin', 'helpful', 'reviewText', 'reviewTime', 'reviewerID', 'reviewerName', 'summary', 'unixReviewTime']\n",
    "music_best_worst = data1[(data1.overall==5) | (data1.overall==1)]\n",
    "music_best_worst_featureadd = music_best_worst[feature_cols] #for use in Task 6\n",
    "\n",
    "#--Setting X and y for music\n",
    "musicX = music_best_worst_featureadd\n",
    "musicy = music_best_worst.overall"
   ]
  },
  {
   "cell_type": "code",
   "execution_count": 386,
   "metadata": {
    "collapsed": false
   },
   "outputs": [],
   "source": [
    "from sklearn.feature_extraction.text import TfidfTransformer\n",
    "transformer = TfidfTransformer()\n",
    "from sklearn.feature_extraction.text import CountVectorizer\n",
    "vect = CountVectorizer()"
   ]
  },
  {
   "cell_type": "code",
   "execution_count": 387,
   "metadata": {
    "collapsed": false
   },
   "outputs": [],
   "source": [
    "musicX_reviewtext = vect.fit_transform(musicX.reviewText)"
   ]
  },
  {
   "cell_type": "code",
   "execution_count": 388,
   "metadata": {
    "collapsed": false
   },
   "outputs": [],
   "source": [
    "musicX_reviewtext= sp.issparse(musicX_reviewtext)"
   ]
  },
  {
   "cell_type": "code",
   "execution_count": 389,
   "metadata": {
    "collapsed": false
   },
   "outputs": [
    {
     "data": {
      "text/plain": [
       "True"
      ]
     },
     "execution_count": 389,
     "metadata": {},
     "output_type": "execute_result"
    }
   ],
   "source": [
    "musicX_reviewtext"
   ]
  },
  {
   "cell_type": "markdown",
   "metadata": {},
   "source": [
    "### DATA2 Data Organization - Recidivism"
   ]
  },
  {
   "cell_type": "code",
   "execution_count": 432,
   "metadata": {
    "collapsed": false
   },
   "outputs": [
    {
     "data": {
      "text/plain": [
       "('/git/data/hw3/strong.csv', <httplib.HTTPMessage instance at 0x7ff725c03ab8>)"
      ]
     },
     "execution_count": 432,
     "metadata": {},
     "output_type": "execute_result"
    }
   ],
   "source": [
    "urllib.urlretrieve('http://webpages.uidaho.edu/~stevel/504/STRONG-R Male Sample_Reduced_2014-03-14.csv', '/git/data/hw3/strong.csv')"
   ]
  },
  {
   "cell_type": "code",
   "execution_count": 433,
   "metadata": {
    "collapsed": true
   },
   "outputs": [],
   "source": [
    "data2 = pd.read_csv('/git/data/hw3/strong.csv')\n",
    "data2['FelRecidYr3'].replace('', np.nan, inplace=True)"
   ]
  },
  {
   "cell_type": "code",
   "execution_count": 392,
   "metadata": {
    "collapsed": false
   },
   "outputs": [],
   "source": [
    "filter = data2[\"FelRecidYr3\"] != \" \"\n",
    "data2 = data2[filter]"
   ]
  },
  {
   "cell_type": "code",
   "execution_count": 393,
   "metadata": {
    "collapsed": false
   },
   "outputs": [
    {
     "data": {
      "text/plain": [
       "0        0\n",
       "1        1\n",
       "3        0\n",
       "4        1\n",
       "7        0\n",
       "8        0\n",
       "9        0\n",
       "10       0\n",
       "11       0\n",
       "12       0\n",
       "14       0\n",
       "15       0\n",
       "16       1\n",
       "17       1\n",
       "19       0\n",
       "22       0\n",
       "23       0\n",
       "24       0\n",
       "25       0\n",
       "27       0\n",
       "28       0\n",
       "29       0\n",
       "30       0\n",
       "31       0\n",
       "32       0\n",
       "33       0\n",
       "34       0\n",
       "37       0\n",
       "39       0\n",
       "40       0\n",
       "        ..\n",
       "39095    0\n",
       "39098    0\n",
       "39100    1\n",
       "39102    1\n",
       "39104    0\n",
       "39107    0\n",
       "39109    0\n",
       "39110    0\n",
       "39111    1\n",
       "39113    0\n",
       "39114    0\n",
       "39115    0\n",
       "39122    0\n",
       "39123    0\n",
       "39124    1\n",
       "39125    1\n",
       "39126    1\n",
       "39127    0\n",
       "39128    0\n",
       "39130    1\n",
       "39133    0\n",
       "39135    1\n",
       "39138    1\n",
       "39139    0\n",
       "39143    0\n",
       "39146    0\n",
       "39147    1\n",
       "39150    0\n",
       "39152    0\n",
       "39153    1\n",
       "Name: FelRecidYr3, dtype: int64"
      ]
     },
     "execution_count": 393,
     "metadata": {},
     "output_type": "execute_result"
    }
   ],
   "source": [
    "feature_cols2 = ['AgeAsses3RN', 'AgeAtFirstConvR', 'JvFelCon', 'JvVioCon', 'JvComit', 'HomConv', 'SexConv', 'VProCon', 'AssaCon', 'DomVio', 'CopFodNd3', 'CopBugNd3', 'CopTraNd3', 'CopHygNd3', 'CopMedNd3', 'CopMHNd3']\n",
    "X = data2[feature_cols2]\n",
    "y = data2.FelRecidYr3.astype(int)\n",
    "\n",
    "#y = pd.DataFrame(strongy)\n",
    "\n",
    "X_train, X_test, y_train, y_test = train_test_split(X, y, random_state=99)\n",
    "y"
   ]
  },
  {
   "cell_type": "markdown",
   "metadata": {},
   "source": [
    "## 10-fold cross-validation with all three features"
   ]
  },
  {
   "cell_type": "code",
   "execution_count": 422,
   "metadata": {
    "collapsed": false
   },
   "outputs": [
    {
     "name": "stdout",
     "output_type": "stream",
     "text": [
      "[-0.20346957 -0.20018375 -0.2012021  -0.19961081 -0.19804856 -0.19347437\n",
      " -0.19305239 -0.20056708 -0.19595228 -0.19547802]\n"
     ]
    }
   ],
   "source": [
    "lm = LinearRegression()\n",
    "scores = cross_val_score(lm, X, y, cv=KFold(X.shape[0], n_folds=10, shuffle=True), scoring='mean_squared_error')\n",
    "print scores"
   ]
  },
  {
   "cell_type": "code",
   "execution_count": 423,
   "metadata": {
    "collapsed": false
   },
   "outputs": [
    {
     "name": "stdout",
     "output_type": "stream",
     "text": [
      "[ 0.20346957  0.20018375  0.2012021   0.19961081  0.19804856  0.19347437\n",
      "  0.19305239  0.20056708  0.19595228  0.19547802]\n"
     ]
    }
   ],
   "source": [
    "# fix the sign of MSE scores\n",
    "mse_scores = -scores\n",
    "print mse_scores"
   ]
  },
  {
   "cell_type": "code",
   "execution_count": 424,
   "metadata": {
    "collapsed": false
   },
   "outputs": [
    {
     "name": "stdout",
     "output_type": "stream",
     "text": [
      "[ 0.45107601  0.44741899  0.44855557  0.44677826  0.44502647  0.43985721\n",
      "  0.43937728  0.44784717  0.44266497  0.44212897]\n"
     ]
    }
   ],
   "source": [
    "# convert from MSE to RMSE\n",
    "rmse_scores = np.sqrt(mse_scores)\n",
    "print rmse_scores"
   ]
  },
  {
   "cell_type": "code",
   "execution_count": 425,
   "metadata": {
    "collapsed": false
   },
   "outputs": [
    {
     "name": "stdout",
     "output_type": "stream",
     "text": [
      "0.445073088756\n"
     ]
    }
   ],
   "source": [
    "# calculate the average RMSE\n",
    "print rmse_scores.mean()"
   ]
  },
  {
   "cell_type": "markdown",
   "metadata": {},
   "source": [
    "## Null Accuracy"
   ]
  },
  {
   "cell_type": "code",
   "execution_count": 394,
   "metadata": {
    "collapsed": false
   },
   "outputs": [
    {
     "data": {
      "text/plain": [
       "0    0.698353\n",
       "dtype: float64"
      ]
     },
     "execution_count": 394,
     "metadata": {},
     "output_type": "execute_result"
    }
   ],
   "source": [
    "# calculate the null accuracy\n",
    "y_test.value_counts().head(1) / len(y_test)"
   ]
  },
  {
   "cell_type": "markdown",
   "metadata": {},
   "source": [
    "## KNN"
   ]
  },
  {
   "cell_type": "code",
   "execution_count": 399,
   "metadata": {
    "collapsed": false
   },
   "outputs": [
    {
     "name": "stdout",
     "output_type": "stream",
     "text": [
      "[ 0.67118803  0.66230122  0.69831618  0.6939635   0.69723912  0.67430978\n",
      "  0.68554048  0.67197005  0.68975199  0.68460459]\n"
     ]
    }
   ],
   "source": [
    "# 10-fold cross-validation with K=5 for KNN (the n_neighbors parameter)\n",
    "knn = KNeighborsClassifier(n_neighbors=9)\n",
    "strongy = data2.FelRecidYr3\n",
    "scores = cross_val_score(knn, X, y, cv=KFold(X.shape[0], n_folds=10, shuffle=True), scoring='accuracy')\n",
    "print scores"
   ]
  },
  {
   "cell_type": "code",
   "execution_count": 400,
   "metadata": {
    "collapsed": false
   },
   "outputs": [
    {
     "name": "stdout",
     "output_type": "stream",
     "text": [
      "0.682918492961\n"
     ]
    }
   ],
   "source": [
    "# use average accuracy as an estimate of out-of-sample accuracy\n",
    "print scores.mean()"
   ]
  },
  {
   "cell_type": "code",
   "execution_count": 218,
   "metadata": {
    "collapsed": false
   },
   "outputs": [
    {
     "ename": "KeyboardInterrupt",
     "evalue": "",
     "output_type": "error",
     "traceback": [
      "\u001b[1;31m---------------------------------------------------------------------------\u001b[0m",
      "\u001b[1;31mKeyboardInterrupt\u001b[0m                         Traceback (most recent call last)",
      "\u001b[1;32m<ipython-input-218-cc1351d17732>\u001b[0m in \u001b[0;36m<module>\u001b[1;34m()\u001b[0m\n\u001b[0;32m      4\u001b[0m \u001b[1;32mfor\u001b[0m \u001b[0mk\u001b[0m \u001b[1;32min\u001b[0m \u001b[0mk_range\u001b[0m\u001b[1;33m:\u001b[0m\u001b[1;33m\u001b[0m\u001b[0m\n\u001b[0;32m      5\u001b[0m     \u001b[0mknn\u001b[0m \u001b[1;33m=\u001b[0m \u001b[0mKNeighborsClassifier\u001b[0m\u001b[1;33m(\u001b[0m\u001b[0mn_neighbors\u001b[0m\u001b[1;33m=\u001b[0m\u001b[0mk\u001b[0m\u001b[1;33m)\u001b[0m\u001b[1;33m\u001b[0m\u001b[0m\n\u001b[1;32m----> 6\u001b[1;33m     \u001b[0mscores\u001b[0m \u001b[1;33m=\u001b[0m \u001b[0mcross_val_score\u001b[0m\u001b[1;33m(\u001b[0m\u001b[0mknn\u001b[0m\u001b[1;33m,\u001b[0m \u001b[0mX\u001b[0m\u001b[1;33m,\u001b[0m \u001b[0my\u001b[0m\u001b[1;33m,\u001b[0m \u001b[0mcv\u001b[0m\u001b[1;33m=\u001b[0m\u001b[0mKFold\u001b[0m\u001b[1;33m(\u001b[0m\u001b[0mX\u001b[0m\u001b[1;33m.\u001b[0m\u001b[0mshape\u001b[0m\u001b[1;33m[\u001b[0m\u001b[1;36m0\u001b[0m\u001b[1;33m]\u001b[0m\u001b[1;33m,\u001b[0m \u001b[0mn_folds\u001b[0m\u001b[1;33m=\u001b[0m\u001b[1;36m10\u001b[0m\u001b[1;33m,\u001b[0m \u001b[0mshuffle\u001b[0m\u001b[1;33m=\u001b[0m\u001b[0mTrue\u001b[0m\u001b[1;33m)\u001b[0m\u001b[1;33m,\u001b[0m \u001b[0mscoring\u001b[0m\u001b[1;33m=\u001b[0m\u001b[1;34m'accuracy'\u001b[0m\u001b[1;33m)\u001b[0m\u001b[1;33m\u001b[0m\u001b[0m\n\u001b[0m\u001b[0;32m      7\u001b[0m     \u001b[0mk_scores\u001b[0m\u001b[1;33m.\u001b[0m\u001b[0mappend\u001b[0m\u001b[1;33m(\u001b[0m\u001b[0mscores\u001b[0m\u001b[1;33m.\u001b[0m\u001b[0mmean\u001b[0m\u001b[1;33m(\u001b[0m\u001b[1;33m)\u001b[0m\u001b[1;33m)\u001b[0m\u001b[1;33m\u001b[0m\u001b[0m\n\u001b[0;32m      8\u001b[0m \u001b[1;32mprint\u001b[0m \u001b[0mk_scores\u001b[0m\u001b[1;33m\u001b[0m\u001b[0m\n",
      "\u001b[1;32m/usr/local/lib/python2.7/site-packages/sklearn/cross_validation.pyc\u001b[0m in \u001b[0;36mcross_val_score\u001b[1;34m(estimator, X, y, scoring, cv, n_jobs, verbose, fit_params, pre_dispatch)\u001b[0m\n\u001b[0;32m   1359\u001b[0m                                               \u001b[0mtrain\u001b[0m\u001b[1;33m,\u001b[0m \u001b[0mtest\u001b[0m\u001b[1;33m,\u001b[0m \u001b[0mverbose\u001b[0m\u001b[1;33m,\u001b[0m \u001b[0mNone\u001b[0m\u001b[1;33m,\u001b[0m\u001b[1;33m\u001b[0m\u001b[0m\n\u001b[0;32m   1360\u001b[0m                                               fit_params)\n\u001b[1;32m-> 1361\u001b[1;33m                       for train, test in cv)\n\u001b[0m\u001b[0;32m   1362\u001b[0m     \u001b[1;32mreturn\u001b[0m \u001b[0mnp\u001b[0m\u001b[1;33m.\u001b[0m\u001b[0marray\u001b[0m\u001b[1;33m(\u001b[0m\u001b[0mscores\u001b[0m\u001b[1;33m)\u001b[0m\u001b[1;33m[\u001b[0m\u001b[1;33m:\u001b[0m\u001b[1;33m,\u001b[0m \u001b[1;36m0\u001b[0m\u001b[1;33m]\u001b[0m\u001b[1;33m\u001b[0m\u001b[0m\n\u001b[0;32m   1363\u001b[0m \u001b[1;33m\u001b[0m\u001b[0m\n",
      "\u001b[1;32m/usr/local/lib/python2.7/site-packages/sklearn/externals/joblib/parallel.pyc\u001b[0m in \u001b[0;36m__call__\u001b[1;34m(self, iterable)\u001b[0m\n\u001b[0;32m    657\u001b[0m             \u001b[0mself\u001b[0m\u001b[1;33m.\u001b[0m\u001b[0m_iterating\u001b[0m \u001b[1;33m=\u001b[0m \u001b[0mTrue\u001b[0m\u001b[1;33m\u001b[0m\u001b[0m\n\u001b[0;32m    658\u001b[0m             \u001b[1;32mfor\u001b[0m \u001b[0mfunction\u001b[0m\u001b[1;33m,\u001b[0m \u001b[0margs\u001b[0m\u001b[1;33m,\u001b[0m \u001b[0mkwargs\u001b[0m \u001b[1;32min\u001b[0m \u001b[0miterable\u001b[0m\u001b[1;33m:\u001b[0m\u001b[1;33m\u001b[0m\u001b[0m\n\u001b[1;32m--> 659\u001b[1;33m                 \u001b[0mself\u001b[0m\u001b[1;33m.\u001b[0m\u001b[0mdispatch\u001b[0m\u001b[1;33m(\u001b[0m\u001b[0mfunction\u001b[0m\u001b[1;33m,\u001b[0m \u001b[0margs\u001b[0m\u001b[1;33m,\u001b[0m \u001b[0mkwargs\u001b[0m\u001b[1;33m)\u001b[0m\u001b[1;33m\u001b[0m\u001b[0m\n\u001b[0m\u001b[0;32m    660\u001b[0m \u001b[1;33m\u001b[0m\u001b[0m\n\u001b[0;32m    661\u001b[0m             \u001b[1;32mif\u001b[0m \u001b[0mpre_dispatch\u001b[0m \u001b[1;33m==\u001b[0m \u001b[1;34m\"all\"\u001b[0m \u001b[1;32mor\u001b[0m \u001b[0mn_jobs\u001b[0m \u001b[1;33m==\u001b[0m \u001b[1;36m1\u001b[0m\u001b[1;33m:\u001b[0m\u001b[1;33m\u001b[0m\u001b[0m\n",
      "\u001b[1;32m/usr/local/lib/python2.7/site-packages/sklearn/externals/joblib/parallel.pyc\u001b[0m in \u001b[0;36mdispatch\u001b[1;34m(self, func, args, kwargs)\u001b[0m\n\u001b[0;32m    404\u001b[0m         \"\"\"\n\u001b[0;32m    405\u001b[0m         \u001b[1;32mif\u001b[0m \u001b[0mself\u001b[0m\u001b[1;33m.\u001b[0m\u001b[0m_pool\u001b[0m \u001b[1;32mis\u001b[0m \u001b[0mNone\u001b[0m\u001b[1;33m:\u001b[0m\u001b[1;33m\u001b[0m\u001b[0m\n\u001b[1;32m--> 406\u001b[1;33m             \u001b[0mjob\u001b[0m \u001b[1;33m=\u001b[0m \u001b[0mImmediateApply\u001b[0m\u001b[1;33m(\u001b[0m\u001b[0mfunc\u001b[0m\u001b[1;33m,\u001b[0m \u001b[0margs\u001b[0m\u001b[1;33m,\u001b[0m \u001b[0mkwargs\u001b[0m\u001b[1;33m)\u001b[0m\u001b[1;33m\u001b[0m\u001b[0m\n\u001b[0m\u001b[0;32m    407\u001b[0m             \u001b[0mindex\u001b[0m \u001b[1;33m=\u001b[0m \u001b[0mlen\u001b[0m\u001b[1;33m(\u001b[0m\u001b[0mself\u001b[0m\u001b[1;33m.\u001b[0m\u001b[0m_jobs\u001b[0m\u001b[1;33m)\u001b[0m\u001b[1;33m\u001b[0m\u001b[0m\n\u001b[0;32m    408\u001b[0m             \u001b[1;32mif\u001b[0m \u001b[1;32mnot\u001b[0m \u001b[0m_verbosity_filter\u001b[0m\u001b[1;33m(\u001b[0m\u001b[0mindex\u001b[0m\u001b[1;33m,\u001b[0m \u001b[0mself\u001b[0m\u001b[1;33m.\u001b[0m\u001b[0mverbose\u001b[0m\u001b[1;33m)\u001b[0m\u001b[1;33m:\u001b[0m\u001b[1;33m\u001b[0m\u001b[0m\n",
      "\u001b[1;32m/usr/local/lib/python2.7/site-packages/sklearn/externals/joblib/parallel.pyc\u001b[0m in \u001b[0;36m__init__\u001b[1;34m(self, func, args, kwargs)\u001b[0m\n\u001b[0;32m    138\u001b[0m         \u001b[1;31m# Don't delay the application, to avoid keeping the input\u001b[0m\u001b[1;33m\u001b[0m\u001b[1;33m\u001b[0m\u001b[0m\n\u001b[0;32m    139\u001b[0m         \u001b[1;31m# arguments in memory\u001b[0m\u001b[1;33m\u001b[0m\u001b[1;33m\u001b[0m\u001b[0m\n\u001b[1;32m--> 140\u001b[1;33m         \u001b[0mself\u001b[0m\u001b[1;33m.\u001b[0m\u001b[0mresults\u001b[0m \u001b[1;33m=\u001b[0m \u001b[0mfunc\u001b[0m\u001b[1;33m(\u001b[0m\u001b[1;33m*\u001b[0m\u001b[0margs\u001b[0m\u001b[1;33m,\u001b[0m \u001b[1;33m**\u001b[0m\u001b[0mkwargs\u001b[0m\u001b[1;33m)\u001b[0m\u001b[1;33m\u001b[0m\u001b[0m\n\u001b[0m\u001b[0;32m    141\u001b[0m \u001b[1;33m\u001b[0m\u001b[0m\n\u001b[0;32m    142\u001b[0m     \u001b[1;32mdef\u001b[0m \u001b[0mget\u001b[0m\u001b[1;33m(\u001b[0m\u001b[0mself\u001b[0m\u001b[1;33m)\u001b[0m\u001b[1;33m:\u001b[0m\u001b[1;33m\u001b[0m\u001b[0m\n",
      "\u001b[1;32m/usr/local/lib/python2.7/site-packages/sklearn/cross_validation.pyc\u001b[0m in \u001b[0;36m_fit_and_score\u001b[1;34m(estimator, X, y, scorer, train, test, verbose, parameters, fit_params, return_train_score, return_parameters, error_score)\u001b[0m\n\u001b[0;32m   1476\u001b[0m \u001b[1;33m\u001b[0m\u001b[0m\n\u001b[0;32m   1477\u001b[0m     \u001b[1;32melse\u001b[0m\u001b[1;33m:\u001b[0m\u001b[1;33m\u001b[0m\u001b[0m\n\u001b[1;32m-> 1478\u001b[1;33m         \u001b[0mtest_score\u001b[0m \u001b[1;33m=\u001b[0m \u001b[0m_score\u001b[0m\u001b[1;33m(\u001b[0m\u001b[0mestimator\u001b[0m\u001b[1;33m,\u001b[0m \u001b[0mX_test\u001b[0m\u001b[1;33m,\u001b[0m \u001b[0my_test\u001b[0m\u001b[1;33m,\u001b[0m \u001b[0mscorer\u001b[0m\u001b[1;33m)\u001b[0m\u001b[1;33m\u001b[0m\u001b[0m\n\u001b[0m\u001b[0;32m   1479\u001b[0m         \u001b[1;32mif\u001b[0m \u001b[0mreturn_train_score\u001b[0m\u001b[1;33m:\u001b[0m\u001b[1;33m\u001b[0m\u001b[0m\n\u001b[0;32m   1480\u001b[0m             \u001b[0mtrain_score\u001b[0m \u001b[1;33m=\u001b[0m \u001b[0m_score\u001b[0m\u001b[1;33m(\u001b[0m\u001b[0mestimator\u001b[0m\u001b[1;33m,\u001b[0m \u001b[0mX_train\u001b[0m\u001b[1;33m,\u001b[0m \u001b[0my_train\u001b[0m\u001b[1;33m,\u001b[0m \u001b[0mscorer\u001b[0m\u001b[1;33m)\u001b[0m\u001b[1;33m\u001b[0m\u001b[0m\n",
      "\u001b[1;32m/usr/local/lib/python2.7/site-packages/sklearn/cross_validation.pyc\u001b[0m in \u001b[0;36m_score\u001b[1;34m(estimator, X_test, y_test, scorer)\u001b[0m\n\u001b[0;32m   1532\u001b[0m         \u001b[0mscore\u001b[0m \u001b[1;33m=\u001b[0m \u001b[0mscorer\u001b[0m\u001b[1;33m(\u001b[0m\u001b[0mestimator\u001b[0m\u001b[1;33m,\u001b[0m \u001b[0mX_test\u001b[0m\u001b[1;33m)\u001b[0m\u001b[1;33m\u001b[0m\u001b[0m\n\u001b[0;32m   1533\u001b[0m     \u001b[1;32melse\u001b[0m\u001b[1;33m:\u001b[0m\u001b[1;33m\u001b[0m\u001b[0m\n\u001b[1;32m-> 1534\u001b[1;33m         \u001b[0mscore\u001b[0m \u001b[1;33m=\u001b[0m \u001b[0mscorer\u001b[0m\u001b[1;33m(\u001b[0m\u001b[0mestimator\u001b[0m\u001b[1;33m,\u001b[0m \u001b[0mX_test\u001b[0m\u001b[1;33m,\u001b[0m \u001b[0my_test\u001b[0m\u001b[1;33m)\u001b[0m\u001b[1;33m\u001b[0m\u001b[0m\n\u001b[0m\u001b[0;32m   1535\u001b[0m     \u001b[1;32mif\u001b[0m \u001b[1;32mnot\u001b[0m \u001b[0misinstance\u001b[0m\u001b[1;33m(\u001b[0m\u001b[0mscore\u001b[0m\u001b[1;33m,\u001b[0m \u001b[0mnumbers\u001b[0m\u001b[1;33m.\u001b[0m\u001b[0mNumber\u001b[0m\u001b[1;33m)\u001b[0m\u001b[1;33m:\u001b[0m\u001b[1;33m\u001b[0m\u001b[0m\n\u001b[0;32m   1536\u001b[0m         raise ValueError(\"scoring must return a number, got %s (%s) instead.\"\n",
      "\u001b[1;32m/usr/local/lib/python2.7/site-packages/sklearn/metrics/scorer.pyc\u001b[0m in \u001b[0;36m__call__\u001b[1;34m(self, estimator, X, y_true, sample_weight)\u001b[0m\n\u001b[0;32m     80\u001b[0m             \u001b[0mScore\u001b[0m \u001b[0mfunction\u001b[0m \u001b[0mapplied\u001b[0m \u001b[0mto\u001b[0m \u001b[0mprediction\u001b[0m \u001b[0mof\u001b[0m \u001b[0mestimator\u001b[0m \u001b[0mon\u001b[0m \u001b[0mX\u001b[0m\u001b[1;33m.\u001b[0m\u001b[1;33m\u001b[0m\u001b[0m\n\u001b[0;32m     81\u001b[0m         \"\"\"\n\u001b[1;32m---> 82\u001b[1;33m         \u001b[0my_pred\u001b[0m \u001b[1;33m=\u001b[0m \u001b[0mestimator\u001b[0m\u001b[1;33m.\u001b[0m\u001b[0mpredict\u001b[0m\u001b[1;33m(\u001b[0m\u001b[0mX\u001b[0m\u001b[1;33m)\u001b[0m\u001b[1;33m\u001b[0m\u001b[0m\n\u001b[0m\u001b[0;32m     83\u001b[0m         \u001b[1;32mif\u001b[0m \u001b[0msample_weight\u001b[0m \u001b[1;32mis\u001b[0m \u001b[1;32mnot\u001b[0m \u001b[0mNone\u001b[0m\u001b[1;33m:\u001b[0m\u001b[1;33m\u001b[0m\u001b[0m\n\u001b[0;32m     84\u001b[0m             return self._sign * self._score_func(y_true, y_pred,\n",
      "\u001b[1;32m/usr/local/lib/python2.7/site-packages/sklearn/neighbors/classification.pyc\u001b[0m in \u001b[0;36mpredict\u001b[1;34m(self, X)\u001b[0m\n\u001b[0;32m    136\u001b[0m         \u001b[0mX\u001b[0m \u001b[1;33m=\u001b[0m \u001b[0mcheck_array\u001b[0m\u001b[1;33m(\u001b[0m\u001b[0mX\u001b[0m\u001b[1;33m,\u001b[0m \u001b[0maccept_sparse\u001b[0m\u001b[1;33m=\u001b[0m\u001b[1;34m'csr'\u001b[0m\u001b[1;33m)\u001b[0m\u001b[1;33m\u001b[0m\u001b[0m\n\u001b[0;32m    137\u001b[0m \u001b[1;33m\u001b[0m\u001b[0m\n\u001b[1;32m--> 138\u001b[1;33m         \u001b[0mneigh_dist\u001b[0m\u001b[1;33m,\u001b[0m \u001b[0mneigh_ind\u001b[0m \u001b[1;33m=\u001b[0m \u001b[0mself\u001b[0m\u001b[1;33m.\u001b[0m\u001b[0mkneighbors\u001b[0m\u001b[1;33m(\u001b[0m\u001b[0mX\u001b[0m\u001b[1;33m)\u001b[0m\u001b[1;33m\u001b[0m\u001b[0m\n\u001b[0m\u001b[0;32m    139\u001b[0m \u001b[1;33m\u001b[0m\u001b[0m\n\u001b[0;32m    140\u001b[0m         \u001b[0mclasses_\u001b[0m \u001b[1;33m=\u001b[0m \u001b[0mself\u001b[0m\u001b[1;33m.\u001b[0m\u001b[0mclasses_\u001b[0m\u001b[1;33m\u001b[0m\u001b[0m\n",
      "\u001b[1;32m/usr/local/lib/python2.7/site-packages/sklearn/neighbors/base.pyc\u001b[0m in \u001b[0;36mkneighbors\u001b[1;34m(self, X, n_neighbors, return_distance)\u001b[0m\n\u001b[0;32m    372\u001b[0m                     \"or set algorithm='brute'\" % self._fit_method)\n\u001b[0;32m    373\u001b[0m             result = self._tree.query(X, n_neighbors,\n\u001b[1;32m--> 374\u001b[1;33m                                       return_distance=return_distance)\n\u001b[0m\u001b[0;32m    375\u001b[0m         \u001b[1;32melse\u001b[0m\u001b[1;33m:\u001b[0m\u001b[1;33m\u001b[0m\u001b[0m\n\u001b[0;32m    376\u001b[0m             \u001b[1;32mraise\u001b[0m \u001b[0mValueError\u001b[0m\u001b[1;33m(\u001b[0m\u001b[1;34m\"internal: _fit_method not recognized\"\u001b[0m\u001b[1;33m)\u001b[0m\u001b[1;33m\u001b[0m\u001b[0m\n",
      "\u001b[1;31mKeyboardInterrupt\u001b[0m: "
     ]
    }
   ],
   "source": [
    "# search for an optimal value of K for KNN\n",
    "k_range = range(1, 100)\n",
    "k_scores = []\n",
    "for k in k_range:\n",
    "    knn = KNeighborsClassifier(n_neighbors=k)\n",
    "    scores = cross_val_score(knn, X, y, cv=KFold(X.shape[0], n_folds=10, shuffle=True), scoring='accuracy')\n",
    "    k_scores.append(scores.mean())\n",
    "print k_scores"
   ]
  },
  {
   "cell_type": "code",
   "execution_count": null,
   "metadata": {
    "collapsed": false
   },
   "outputs": [],
   "source": [
    "# plot the value of K for KNN (x-axis) versus the cross-validated accuracy (y-axis)\n",
    "plt.plot(k_range, k_scores)\n",
    "plt.xlabel('Value of K for KNN')\n",
    "plt.ylabel('Cross-Validated Accuracy')"
   ]
  },
  {
   "cell_type": "markdown",
   "metadata": {},
   "source": [
    "## Logistic Regression"
   ]
  },
  {
   "cell_type": "code",
   "execution_count": 416,
   "metadata": {
    "collapsed": false
   },
   "outputs": [
    {
     "name": "stdout",
     "output_type": "stream",
     "text": [
      "0.701212959951\n",
      "0.658488969462\n"
     ]
    }
   ],
   "source": [
    "# 10-fold cross-validation with logistic regression\n",
    "from sklearn.linear_model import LogisticRegression\n",
    "logreg = LogisticRegression()\n",
    "logreg.fit(X,y)\n",
    "print cross_val_score(logreg, X, y, cv=KFold(X.shape[0], n_folds=10, shuffle=True), scoring='accuracy').mean()\n",
    "print cross_val_score(logreg, X, y, cv=KFold(X.shape[0], n_folds=10, shuffle=True), scoring='roc_auc').mean()"
   ]
  },
  {
   "cell_type": "code",
   "execution_count": 421,
   "metadata": {
    "collapsed": false
   },
   "outputs": [
    {
     "data": {
      "application/javascript": [
       "/* Put everything inside the global mpl namespace */\n",
       "window.mpl = {};\n",
       "\n",
       "mpl.get_websocket_type = function() {\n",
       "    if (typeof(WebSocket) !== 'undefined') {\n",
       "        return WebSocket;\n",
       "    } else if (typeof(MozWebSocket) !== 'undefined') {\n",
       "        return MozWebSocket;\n",
       "    } else {\n",
       "        alert('Your browser does not have WebSocket support.' +\n",
       "              'Please try Chrome, Safari or Firefox ≥ 6. ' +\n",
       "              'Firefox 4 and 5 are also supported but you ' +\n",
       "              'have to enable WebSockets in about:config.');\n",
       "    };\n",
       "}\n",
       "\n",
       "mpl.figure = function(figure_id, websocket, ondownload, parent_element) {\n",
       "    this.id = figure_id;\n",
       "\n",
       "    this.ws = websocket;\n",
       "\n",
       "    this.supports_binary = (this.ws.binaryType != undefined);\n",
       "\n",
       "    if (!this.supports_binary) {\n",
       "        var warnings = document.getElementById(\"mpl-warnings\");\n",
       "        if (warnings) {\n",
       "            warnings.style.display = 'block';\n",
       "            warnings.textContent = (\n",
       "                \"This browser does not support binary websocket messages. \" +\n",
       "                    \"Performance may be slow.\");\n",
       "        }\n",
       "    }\n",
       "\n",
       "    this.imageObj = new Image();\n",
       "\n",
       "    this.context = undefined;\n",
       "    this.message = undefined;\n",
       "    this.canvas = undefined;\n",
       "    this.rubberband_canvas = undefined;\n",
       "    this.rubberband_context = undefined;\n",
       "    this.format_dropdown = undefined;\n",
       "\n",
       "    this.image_mode = 'full';\n",
       "\n",
       "    this.root = $('<div/>');\n",
       "    this._root_extra_style(this.root)\n",
       "    this.root.attr('style', 'display: inline-block');\n",
       "\n",
       "    $(parent_element).append(this.root);\n",
       "\n",
       "    this._init_header(this);\n",
       "    this._init_canvas(this);\n",
       "    this._init_toolbar(this);\n",
       "\n",
       "    var fig = this;\n",
       "\n",
       "    this.waiting = false;\n",
       "\n",
       "    this.ws.onopen =  function () {\n",
       "            fig.send_message(\"supports_binary\", {value: fig.supports_binary});\n",
       "            fig.send_message(\"send_image_mode\", {});\n",
       "            fig.send_message(\"refresh\", {});\n",
       "        }\n",
       "\n",
       "    this.imageObj.onload = function() {\n",
       "            if (fig.image_mode == 'full') {\n",
       "                // Full images could contain transparency (where diff images\n",
       "                // almost always do), so we need to clear the canvas so that\n",
       "                // there is no ghosting.\n",
       "                fig.context.clearRect(0, 0, fig.canvas.width, fig.canvas.height);\n",
       "            }\n",
       "            fig.context.drawImage(fig.imageObj, 0, 0);\n",
       "            fig.waiting = false;\n",
       "        };\n",
       "\n",
       "    this.imageObj.onunload = function() {\n",
       "        this.ws.close();\n",
       "    }\n",
       "\n",
       "    this.ws.onmessage = this._make_on_message_function(this);\n",
       "\n",
       "    this.ondownload = ondownload;\n",
       "}\n",
       "\n",
       "mpl.figure.prototype._init_header = function() {\n",
       "    var titlebar = $(\n",
       "        '<div class=\"ui-dialog-titlebar ui-widget-header ui-corner-all ' +\n",
       "        'ui-helper-clearfix\"/>');\n",
       "    var titletext = $(\n",
       "        '<div class=\"ui-dialog-title\" style=\"width: 100%; ' +\n",
       "        'text-align: center; padding: 3px;\"/>');\n",
       "    titlebar.append(titletext)\n",
       "    this.root.append(titlebar);\n",
       "    this.header = titletext[0];\n",
       "}\n",
       "\n",
       "\n",
       "\n",
       "mpl.figure.prototype._canvas_extra_style = function(canvas_div) {\n",
       "\n",
       "}\n",
       "\n",
       "\n",
       "mpl.figure.prototype._root_extra_style = function(canvas_div) {\n",
       "\n",
       "}\n",
       "\n",
       "mpl.figure.prototype._init_canvas = function() {\n",
       "    var fig = this;\n",
       "\n",
       "    var canvas_div = $('<div/>');\n",
       "\n",
       "    canvas_div.attr('style', 'position: relative; clear: both; outline: 0');\n",
       "\n",
       "    function canvas_keyboard_event(event) {\n",
       "        return fig.key_event(event, event['data']);\n",
       "    }\n",
       "\n",
       "    canvas_div.keydown('key_press', canvas_keyboard_event);\n",
       "    canvas_div.keyup('key_release', canvas_keyboard_event);\n",
       "    this.canvas_div = canvas_div\n",
       "    this._canvas_extra_style(canvas_div)\n",
       "    this.root.append(canvas_div);\n",
       "\n",
       "    var canvas = $('<canvas/>');\n",
       "    canvas.addClass('mpl-canvas');\n",
       "    canvas.attr('style', \"left: 0; top: 0; z-index: 0; outline: 0\")\n",
       "\n",
       "    this.canvas = canvas[0];\n",
       "    this.context = canvas[0].getContext(\"2d\");\n",
       "\n",
       "    var rubberband = $('<canvas/>');\n",
       "    rubberband.attr('style', \"position: absolute; left: 0; top: 0; z-index: 1;\")\n",
       "\n",
       "    var pass_mouse_events = true;\n",
       "\n",
       "    canvas_div.resizable({\n",
       "        start: function(event, ui) {\n",
       "            pass_mouse_events = false;\n",
       "        },\n",
       "        resize: function(event, ui) {\n",
       "            fig.request_resize(ui.size.width, ui.size.height);\n",
       "        },\n",
       "        stop: function(event, ui) {\n",
       "            pass_mouse_events = true;\n",
       "            fig.request_resize(ui.size.width, ui.size.height);\n",
       "        },\n",
       "    });\n",
       "\n",
       "    function mouse_event_fn(event) {\n",
       "        if (pass_mouse_events)\n",
       "            return fig.mouse_event(event, event['data']);\n",
       "    }\n",
       "\n",
       "    rubberband.mousedown('button_press', mouse_event_fn);\n",
       "    rubberband.mouseup('button_release', mouse_event_fn);\n",
       "    // Throttle sequential mouse events to 1 every 20ms.\n",
       "    rubberband.mousemove('motion_notify', mouse_event_fn);\n",
       "\n",
       "    rubberband.mouseenter('figure_enter', mouse_event_fn);\n",
       "    rubberband.mouseleave('figure_leave', mouse_event_fn);\n",
       "\n",
       "    canvas_div.on(\"wheel\", function (event) {\n",
       "        event = event.originalEvent;\n",
       "        event['data'] = 'scroll'\n",
       "        if (event.deltaY < 0) {\n",
       "            event.step = 1;\n",
       "        } else {\n",
       "            event.step = -1;\n",
       "        }\n",
       "        mouse_event_fn(event);\n",
       "    });\n",
       "\n",
       "    canvas_div.append(canvas);\n",
       "    canvas_div.append(rubberband);\n",
       "\n",
       "    this.rubberband = rubberband;\n",
       "    this.rubberband_canvas = rubberband[0];\n",
       "    this.rubberband_context = rubberband[0].getContext(\"2d\");\n",
       "    this.rubberband_context.strokeStyle = \"#000000\";\n",
       "\n",
       "    this._resize_canvas = function(width, height) {\n",
       "        // Keep the size of the canvas, canvas container, and rubber band\n",
       "        // canvas in synch.\n",
       "        canvas_div.css('width', width)\n",
       "        canvas_div.css('height', height)\n",
       "\n",
       "        canvas.attr('width', width);\n",
       "        canvas.attr('height', height);\n",
       "\n",
       "        rubberband.attr('width', width);\n",
       "        rubberband.attr('height', height);\n",
       "    }\n",
       "\n",
       "    // Set the figure to an initial 600x600px, this will subsequently be updated\n",
       "    // upon first draw.\n",
       "    this._resize_canvas(600, 600);\n",
       "\n",
       "    // Disable right mouse context menu.\n",
       "    $(this.rubberband_canvas).bind(\"contextmenu\",function(e){\n",
       "        return false;\n",
       "    });\n",
       "\n",
       "    function set_focus () {\n",
       "        canvas.focus();\n",
       "        canvas_div.focus();\n",
       "    }\n",
       "\n",
       "    window.setTimeout(set_focus, 100);\n",
       "}\n",
       "\n",
       "mpl.figure.prototype._init_toolbar = function() {\n",
       "    var fig = this;\n",
       "\n",
       "    var nav_element = $('<div/>')\n",
       "    nav_element.attr('style', 'width: 100%');\n",
       "    this.root.append(nav_element);\n",
       "\n",
       "    // Define a callback function for later on.\n",
       "    function toolbar_event(event) {\n",
       "        return fig.toolbar_button_onclick(event['data']);\n",
       "    }\n",
       "    function toolbar_mouse_event(event) {\n",
       "        return fig.toolbar_button_onmouseover(event['data']);\n",
       "    }\n",
       "\n",
       "    for(var toolbar_ind in mpl.toolbar_items) {\n",
       "        var name = mpl.toolbar_items[toolbar_ind][0];\n",
       "        var tooltip = mpl.toolbar_items[toolbar_ind][1];\n",
       "        var image = mpl.toolbar_items[toolbar_ind][2];\n",
       "        var method_name = mpl.toolbar_items[toolbar_ind][3];\n",
       "\n",
       "        if (!name) {\n",
       "            // put a spacer in here.\n",
       "            continue;\n",
       "        }\n",
       "        var button = $('<button/>');\n",
       "        button.addClass('ui-button ui-widget ui-state-default ui-corner-all ' +\n",
       "                        'ui-button-icon-only');\n",
       "        button.attr('role', 'button');\n",
       "        button.attr('aria-disabled', 'false');\n",
       "        button.click(method_name, toolbar_event);\n",
       "        button.mouseover(tooltip, toolbar_mouse_event);\n",
       "\n",
       "        var icon_img = $('<span/>');\n",
       "        icon_img.addClass('ui-button-icon-primary ui-icon');\n",
       "        icon_img.addClass(image);\n",
       "        icon_img.addClass('ui-corner-all');\n",
       "\n",
       "        var tooltip_span = $('<span/>');\n",
       "        tooltip_span.addClass('ui-button-text');\n",
       "        tooltip_span.html(tooltip);\n",
       "\n",
       "        button.append(icon_img);\n",
       "        button.append(tooltip_span);\n",
       "\n",
       "        nav_element.append(button);\n",
       "    }\n",
       "\n",
       "    var fmt_picker_span = $('<span/>');\n",
       "\n",
       "    var fmt_picker = $('<select/>');\n",
       "    fmt_picker.addClass('mpl-toolbar-option ui-widget ui-widget-content');\n",
       "    fmt_picker_span.append(fmt_picker);\n",
       "    nav_element.append(fmt_picker_span);\n",
       "    this.format_dropdown = fmt_picker[0];\n",
       "\n",
       "    for (var ind in mpl.extensions) {\n",
       "        var fmt = mpl.extensions[ind];\n",
       "        var option = $(\n",
       "            '<option/>', {selected: fmt === mpl.default_extension}).html(fmt);\n",
       "        fmt_picker.append(option)\n",
       "    }\n",
       "\n",
       "    // Add hover states to the ui-buttons\n",
       "    $( \".ui-button\" ).hover(\n",
       "        function() { $(this).addClass(\"ui-state-hover\");},\n",
       "        function() { $(this).removeClass(\"ui-state-hover\");}\n",
       "    );\n",
       "\n",
       "    var status_bar = $('<span class=\"mpl-message\"/>');\n",
       "    nav_element.append(status_bar);\n",
       "    this.message = status_bar[0];\n",
       "}\n",
       "\n",
       "mpl.figure.prototype.request_resize = function(x_pixels, y_pixels) {\n",
       "    // Request matplotlib to resize the figure. Matplotlib will then trigger a resize in the client,\n",
       "    // which will in turn request a refresh of the image.\n",
       "    this.send_message('resize', {'width': x_pixels, 'height': y_pixels});\n",
       "}\n",
       "\n",
       "mpl.figure.prototype.send_message = function(type, properties) {\n",
       "    properties['type'] = type;\n",
       "    properties['figure_id'] = this.id;\n",
       "    this.ws.send(JSON.stringify(properties));\n",
       "}\n",
       "\n",
       "mpl.figure.prototype.send_draw_message = function() {\n",
       "    if (!this.waiting) {\n",
       "        this.waiting = true;\n",
       "        this.ws.send(JSON.stringify({type: \"draw\", figure_id: this.id}));\n",
       "    }\n",
       "}\n",
       "\n",
       "\n",
       "mpl.figure.prototype.handle_save = function(fig, msg) {\n",
       "    var format_dropdown = fig.format_dropdown;\n",
       "    var format = format_dropdown.options[format_dropdown.selectedIndex].value;\n",
       "    fig.ondownload(fig, format);\n",
       "}\n",
       "\n",
       "\n",
       "mpl.figure.prototype.handle_resize = function(fig, msg) {\n",
       "    var size = msg['size'];\n",
       "    if (size[0] != fig.canvas.width || size[1] != fig.canvas.height) {\n",
       "        fig._resize_canvas(size[0], size[1]);\n",
       "        fig.send_message(\"refresh\", {});\n",
       "    };\n",
       "}\n",
       "\n",
       "mpl.figure.prototype.handle_rubberband = function(fig, msg) {\n",
       "    var x0 = msg['x0'];\n",
       "    var y0 = fig.canvas.height - msg['y0'];\n",
       "    var x1 = msg['x1'];\n",
       "    var y1 = fig.canvas.height - msg['y1'];\n",
       "    x0 = Math.floor(x0) + 0.5;\n",
       "    y0 = Math.floor(y0) + 0.5;\n",
       "    x1 = Math.floor(x1) + 0.5;\n",
       "    y1 = Math.floor(y1) + 0.5;\n",
       "    var min_x = Math.min(x0, x1);\n",
       "    var min_y = Math.min(y0, y1);\n",
       "    var width = Math.abs(x1 - x0);\n",
       "    var height = Math.abs(y1 - y0);\n",
       "\n",
       "    fig.rubberband_context.clearRect(\n",
       "        0, 0, fig.canvas.width, fig.canvas.height);\n",
       "\n",
       "    fig.rubberband_context.strokeRect(min_x, min_y, width, height);\n",
       "}\n",
       "\n",
       "mpl.figure.prototype.handle_figure_label = function(fig, msg) {\n",
       "    // Updates the figure title.\n",
       "    fig.header.textContent = msg['label'];\n",
       "}\n",
       "\n",
       "mpl.figure.prototype.handle_cursor = function(fig, msg) {\n",
       "    var cursor = msg['cursor'];\n",
       "    switch(cursor)\n",
       "    {\n",
       "    case 0:\n",
       "        cursor = 'pointer';\n",
       "        break;\n",
       "    case 1:\n",
       "        cursor = 'default';\n",
       "        break;\n",
       "    case 2:\n",
       "        cursor = 'crosshair';\n",
       "        break;\n",
       "    case 3:\n",
       "        cursor = 'move';\n",
       "        break;\n",
       "    }\n",
       "    fig.rubberband_canvas.style.cursor = cursor;\n",
       "}\n",
       "\n",
       "mpl.figure.prototype.handle_message = function(fig, msg) {\n",
       "    fig.message.textContent = msg['message'];\n",
       "}\n",
       "\n",
       "mpl.figure.prototype.handle_draw = function(fig, msg) {\n",
       "    // Request the server to send over a new figure.\n",
       "    fig.send_draw_message();\n",
       "}\n",
       "\n",
       "mpl.figure.prototype.handle_image_mode = function(fig, msg) {\n",
       "    fig.image_mode = msg['mode'];\n",
       "}\n",
       "\n",
       "mpl.figure.prototype.updated_canvas_event = function() {\n",
       "    // Called whenever the canvas gets updated.\n",
       "    this.send_message(\"ack\", {});\n",
       "}\n",
       "\n",
       "// A function to construct a web socket function for onmessage handling.\n",
       "// Called in the figure constructor.\n",
       "mpl.figure.prototype._make_on_message_function = function(fig) {\n",
       "    return function socket_on_message(evt) {\n",
       "        if (evt.data instanceof Blob) {\n",
       "            /* FIXME: We get \"Resource interpreted as Image but\n",
       "             * transferred with MIME type text/plain:\" errors on\n",
       "             * Chrome.  But how to set the MIME type?  It doesn't seem\n",
       "             * to be part of the websocket stream */\n",
       "            evt.data.type = \"image/png\";\n",
       "\n",
       "            /* Free the memory for the previous frames */\n",
       "            if (fig.imageObj.src) {\n",
       "                (window.URL || window.webkitURL).revokeObjectURL(\n",
       "                    fig.imageObj.src);\n",
       "            }\n",
       "\n",
       "            fig.imageObj.src = (window.URL || window.webkitURL).createObjectURL(\n",
       "                evt.data);\n",
       "            fig.updated_canvas_event();\n",
       "            return;\n",
       "        }\n",
       "        else if (typeof evt.data === 'string' && evt.data.slice(0, 21) == \"data:image/png;base64\") {\n",
       "            fig.imageObj.src = evt.data;\n",
       "            fig.updated_canvas_event();\n",
       "            return;\n",
       "        }\n",
       "\n",
       "        var msg = JSON.parse(evt.data);\n",
       "        var msg_type = msg['type'];\n",
       "\n",
       "        // Call the  \"handle_{type}\" callback, which takes\n",
       "        // the figure and JSON message as its only arguments.\n",
       "        try {\n",
       "            var callback = fig[\"handle_\" + msg_type];\n",
       "        } catch (e) {\n",
       "            console.log(\"No handler for the '\" + msg_type + \"' message type: \", msg);\n",
       "            return;\n",
       "        }\n",
       "\n",
       "        if (callback) {\n",
       "            try {\n",
       "                // console.log(\"Handling '\" + msg_type + \"' message: \", msg);\n",
       "                callback(fig, msg);\n",
       "            } catch (e) {\n",
       "                console.log(\"Exception inside the 'handler_\" + msg_type + \"' callback:\", e, e.stack, msg);\n",
       "            }\n",
       "        }\n",
       "    };\n",
       "}\n",
       "\n",
       "// from http://stackoverflow.com/questions/1114465/getting-mouse-location-in-canvas\n",
       "mpl.findpos = function(e) {\n",
       "    //this section is from http://www.quirksmode.org/js/events_properties.html\n",
       "    var targ;\n",
       "    if (!e)\n",
       "        e = window.event;\n",
       "    if (e.target)\n",
       "        targ = e.target;\n",
       "    else if (e.srcElement)\n",
       "        targ = e.srcElement;\n",
       "    if (targ.nodeType == 3) // defeat Safari bug\n",
       "        targ = targ.parentNode;\n",
       "\n",
       "    // jQuery normalizes the pageX and pageY\n",
       "    // pageX,Y are the mouse positions relative to the document\n",
       "    // offset() returns the position of the element relative to the document\n",
       "    var x = e.pageX - $(targ).offset().left;\n",
       "    var y = e.pageY - $(targ).offset().top;\n",
       "\n",
       "    return {\"x\": x, \"y\": y};\n",
       "};\n",
       "\n",
       "mpl.figure.prototype.mouse_event = function(event, name) {\n",
       "    var canvas_pos = mpl.findpos(event)\n",
       "\n",
       "    if (name === 'button_press')\n",
       "    {\n",
       "        this.canvas.focus();\n",
       "        this.canvas_div.focus();\n",
       "    }\n",
       "\n",
       "    var x = canvas_pos.x;\n",
       "    var y = canvas_pos.y;\n",
       "\n",
       "    this.send_message(name, {x: x, y: y, button: event.button,\n",
       "                             step: event.step});\n",
       "\n",
       "    /* This prevents the web browser from automatically changing to\n",
       "     * the text insertion cursor when the button is pressed.  We want\n",
       "     * to control all of the cursor setting manually through the\n",
       "     * 'cursor' event from matplotlib */\n",
       "    event.preventDefault();\n",
       "    return false;\n",
       "}\n",
       "\n",
       "mpl.figure.prototype._key_event_extra = function(event, name) {\n",
       "    // Handle any extra behaviour associated with a key event\n",
       "}\n",
       "\n",
       "mpl.figure.prototype.key_event = function(event, name) {\n",
       "\n",
       "    // Prevent repeat events\n",
       "    if (name == 'key_press')\n",
       "    {\n",
       "        if (event.which === this._key)\n",
       "            return;\n",
       "        else\n",
       "            this._key = event.which;\n",
       "    }\n",
       "    if (name == 'key_release')\n",
       "        this._key = null;\n",
       "\n",
       "    var value = '';\n",
       "    if (event.ctrlKey && event.which != 17)\n",
       "        value += \"ctrl+\";\n",
       "    if (event.altKey && event.which != 18)\n",
       "        value += \"alt+\";\n",
       "    if (event.shiftKey && event.which != 16)\n",
       "        value += \"shift+\";\n",
       "\n",
       "    value += 'k';\n",
       "    value += event.which.toString();\n",
       "\n",
       "    this._key_event_extra(event, name);\n",
       "\n",
       "    this.send_message(name, {key: value});\n",
       "    return false;\n",
       "}\n",
       "\n",
       "mpl.figure.prototype.toolbar_button_onclick = function(name) {\n",
       "    if (name == 'download') {\n",
       "        this.handle_save(this, null);\n",
       "    } else {\n",
       "        this.send_message(\"toolbar_button\", {name: name});\n",
       "    }\n",
       "};\n",
       "\n",
       "mpl.figure.prototype.toolbar_button_onmouseover = function(tooltip) {\n",
       "    this.message.textContent = tooltip;\n",
       "};\n",
       "mpl.toolbar_items = [[\"Home\", \"Reset original view\", \"fa fa-home icon-home\", \"home\"], [\"Back\", \"Back to  previous view\", \"fa fa-arrow-left icon-arrow-left\", \"back\"], [\"Forward\", \"Forward to next view\", \"fa fa-arrow-right icon-arrow-right\", \"forward\"], [\"\", \"\", \"\", \"\"], [\"Pan\", \"Pan axes with left mouse, zoom with right\", \"fa fa-arrows icon-move\", \"pan\"], [\"Zoom\", \"Zoom to rectangle\", \"fa fa-square-o icon-check-empty\", \"zoom\"], [\"\", \"\", \"\", \"\"], [\"Download\", \"Download plot\", \"fa fa-floppy-o icon-save\", \"download\"]];\n",
       "\n",
       "mpl.extensions = [\"eps\", \"jpeg\", \"pdf\", \"png\", \"ps\", \"raw\", \"svg\", \"tif\"];\n",
       "\n",
       "mpl.default_extension = \"png\";var comm_websocket_adapter = function(comm) {\n",
       "    // Create a \"websocket\"-like object which calls the given IPython comm\n",
       "    // object with the appropriate methods. Currently this is a non binary\n",
       "    // socket, so there is still some room for performance tuning.\n",
       "    var ws = {};\n",
       "\n",
       "    ws.close = function() {\n",
       "        comm.close()\n",
       "    };\n",
       "    ws.send = function(m) {\n",
       "        //console.log('sending', m);\n",
       "        comm.send(m);\n",
       "    };\n",
       "    // Register the callback with on_msg.\n",
       "    comm.on_msg(function(msg) {\n",
       "        //console.log('receiving', msg['content']['data'], msg);\n",
       "        // Pass the mpl event to the overriden (by mpl) onmessage function.\n",
       "        ws.onmessage(msg['content']['data'])\n",
       "    });\n",
       "    return ws;\n",
       "}\n",
       "\n",
       "mpl.mpl_figure_comm = function(comm, msg) {\n",
       "    // This is the function which gets called when the mpl process\n",
       "    // starts-up an IPython Comm through the \"matplotlib\" channel.\n",
       "\n",
       "    var id = msg.content.data.id;\n",
       "    // Get hold of the div created by the display call when the Comm\n",
       "    // socket was opened in Python.\n",
       "    var element = $(\"#\" + id);\n",
       "    var ws_proxy = comm_websocket_adapter(comm)\n",
       "\n",
       "    function ondownload(figure, format) {\n",
       "        window.open(figure.imageObj.src);\n",
       "    }\n",
       "\n",
       "    var fig = new mpl.figure(id, ws_proxy,\n",
       "                           ondownload,\n",
       "                           element.get(0));\n",
       "\n",
       "    // Call onopen now - mpl needs it, as it is assuming we've passed it a real\n",
       "    // web socket which is closed, not our websocket->open comm proxy.\n",
       "    ws_proxy.onopen();\n",
       "\n",
       "    fig.parent_element = element.get(0);\n",
       "    fig.cell_info = mpl.find_output_cell(\"<div id='\" + id + \"'></div>\");\n",
       "    if (!fig.cell_info) {\n",
       "        console.error(\"Failed to find cell for figure\", id, fig);\n",
       "        return;\n",
       "    }\n",
       "\n",
       "    var output_index = fig.cell_info[2]\n",
       "    var cell = fig.cell_info[0];\n",
       "\n",
       "};\n",
       "\n",
       "mpl.figure.prototype.handle_close = function(fig, msg) {\n",
       "    // Update the output cell to use the data from the current canvas.\n",
       "    fig.push_to_output();\n",
       "    var dataURL = fig.canvas.toDataURL();\n",
       "    // Re-enable the keyboard manager in IPython - without this line, in FF,\n",
       "    // the notebook keyboard shortcuts fail.\n",
       "    IPython.keyboard_manager.enable()\n",
       "    $(fig.parent_element).html('<img src=\"' + dataURL + '\">');\n",
       "    fig.send_message('closing', {});\n",
       "    fig.ws.close()\n",
       "}\n",
       "\n",
       "mpl.figure.prototype.push_to_output = function(remove_interactive) {\n",
       "    // Turn the data on the canvas into data in the output cell.\n",
       "    var dataURL = this.canvas.toDataURL();\n",
       "    this.cell_info[1]['text/html'] = '<img src=\"' + dataURL + '\">';\n",
       "}\n",
       "\n",
       "mpl.figure.prototype.updated_canvas_event = function() {\n",
       "    // Tell IPython that the notebook contents must change.\n",
       "    IPython.notebook.set_dirty(true);\n",
       "    this.send_message(\"ack\", {});\n",
       "    var fig = this;\n",
       "    // Wait a second, then push the new image to the DOM so\n",
       "    // that it is saved nicely (might be nice to debounce this).\n",
       "    setTimeout(function () { fig.push_to_output() }, 1000);\n",
       "}\n",
       "\n",
       "mpl.figure.prototype._init_toolbar = function() {\n",
       "    var fig = this;\n",
       "\n",
       "    var nav_element = $('<div/>')\n",
       "    nav_element.attr('style', 'width: 100%');\n",
       "    this.root.append(nav_element);\n",
       "\n",
       "    // Define a callback function for later on.\n",
       "    function toolbar_event(event) {\n",
       "        return fig.toolbar_button_onclick(event['data']);\n",
       "    }\n",
       "    function toolbar_mouse_event(event) {\n",
       "        return fig.toolbar_button_onmouseover(event['data']);\n",
       "    }\n",
       "\n",
       "    for(var toolbar_ind in mpl.toolbar_items){\n",
       "        var name = mpl.toolbar_items[toolbar_ind][0];\n",
       "        var tooltip = mpl.toolbar_items[toolbar_ind][1];\n",
       "        var image = mpl.toolbar_items[toolbar_ind][2];\n",
       "        var method_name = mpl.toolbar_items[toolbar_ind][3];\n",
       "\n",
       "        if (!name) { continue; };\n",
       "\n",
       "        var button = $('<button class=\"btn btn-default\" href=\"#\" title=\"' + name + '\"><i class=\"fa ' + image + ' fa-lg\"></i></button>');\n",
       "        button.click(method_name, toolbar_event);\n",
       "        button.mouseover(tooltip, toolbar_mouse_event);\n",
       "        nav_element.append(button);\n",
       "    }\n",
       "\n",
       "    // Add the status bar.\n",
       "    var status_bar = $('<span class=\"mpl-message\" style=\"text-align:right; float: right;\"/>');\n",
       "    nav_element.append(status_bar);\n",
       "    this.message = status_bar[0];\n",
       "\n",
       "    // Add the close button to the window.\n",
       "    var buttongrp = $('<div class=\"btn-group inline pull-right\"></div>');\n",
       "    var button = $('<button class=\"btn btn-mini btn-danger\" href=\"#\" title=\"Close figure\"><i class=\"fa fa-times icon-remove icon-large\"></i></button>');\n",
       "    button.click(function (evt) { fig.handle_close(fig, {}); } );\n",
       "    button.mouseover('Close figure', toolbar_mouse_event);\n",
       "    buttongrp.append(button);\n",
       "    var titlebar = this.root.find($('.ui-dialog-titlebar'));\n",
       "    titlebar.prepend(buttongrp);\n",
       "}\n",
       "\n",
       "\n",
       "mpl.figure.prototype._canvas_extra_style = function(el){\n",
       "    // this is important to make the div 'focusable\n",
       "    el.attr('tabindex', 0)\n",
       "    // reach out to IPython and tell the keyboard manager to turn it's self\n",
       "    // off when our div gets focus\n",
       "\n",
       "    // location in version 3\n",
       "    if (IPython.notebook.keyboard_manager) {\n",
       "        IPython.notebook.keyboard_manager.register_events(el);\n",
       "    }\n",
       "    else {\n",
       "        // location in version 2\n",
       "        IPython.keyboard_manager.register_events(el);\n",
       "    }\n",
       "\n",
       "}\n",
       "\n",
       "mpl.figure.prototype._key_event_extra = function(event, name) {\n",
       "    var manager = IPython.notebook.keyboard_manager;\n",
       "    if (!manager)\n",
       "        manager = IPython.keyboard_manager;\n",
       "\n",
       "    // Check for shift+enter\n",
       "    if (event.shiftKey && event.which == 13) {\n",
       "        this.canvas_div.blur();\n",
       "        event.shiftKey = false;\n",
       "        // Send a \"J\" for go to next cell\n",
       "        event.which = 74;\n",
       "        event.keyCode = 74;\n",
       "        manager.command_mode();\n",
       "        manager.handle_keydown(event);\n",
       "    }\n",
       "}\n",
       "\n",
       "mpl.figure.prototype.handle_save = function(fig, msg) {\n",
       "    fig.ondownload(fig, null);\n",
       "}\n",
       "\n",
       "\n",
       "mpl.find_output_cell = function(html_output) {\n",
       "    // Return the cell and output element which can be found *uniquely* in the notebook.\n",
       "    // Note - this is a bit hacky, but it is done because the \"notebook_saving.Notebook\"\n",
       "    // IPython event is triggered only after the cells have been serialised, which for\n",
       "    // our purposes (turning an active figure into a static one), is too late.\n",
       "    var cells = IPython.notebook.get_cells();\n",
       "    var ncells = cells.length;\n",
       "    for (var i=0; i<ncells; i++) {\n",
       "        var cell = cells[i];\n",
       "        if (cell.cell_type === 'code'){\n",
       "            for (var j=0; j<cell.output_area.outputs.length; j++) {\n",
       "                var data = cell.output_area.outputs[j];\n",
       "                if (data.data) {\n",
       "                    // IPython >= 3 moved mimebundle to data attribute of output\n",
       "                    data = data.data;\n",
       "                }\n",
       "                if (data['text/html'] == html_output) {\n",
       "                    return [cell, data, j];\n",
       "                }\n",
       "            }\n",
       "        }\n",
       "    }\n",
       "}\n",
       "\n",
       "// Register the function which deals with the matplotlib target/channel.\n",
       "// The kernel may be null if the page has been refreshed.\n",
       "if (IPython.notebook.kernel != null) {\n",
       "    IPython.notebook.kernel.comm_manager.register_target('matplotlib', mpl.mpl_figure_comm);\n",
       "}\n"
      ],
      "text/plain": [
       "<IPython.core.display.Javascript object>"
      ]
     },
     "metadata": {},
     "output_type": "display_data"
    },
    {
     "data": {
      "text/html": [
       "<img src=\"data:image/png;base64,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\">"
      ],
      "text/plain": [
       "<IPython.core.display.HTML object>"
      ]
     },
     "metadata": {},
     "output_type": "display_data"
    },
    {
     "data": {
      "text/plain": [
       "<ggplot: (8793716986381)>"
      ]
     },
     "execution_count": 421,
     "metadata": {},
     "output_type": "execute_result"
    }
   ],
   "source": [
    "from sklearn import metrics\n",
    "import pandas as pd\n",
    "from ggplot import *\n",
    "\n",
    "preds = logreg.predict_proba(X_test)[:,1]\n",
    "fpr, tpr, _ = metrics.roc_curve(y_test, preds)\n",
    "\n",
    "df = pd.DataFrame(dict(fpr=fpr, tpr=tpr))\n",
    "\n",
    "# TASK 7: plot the ROC curve\n",
    "import matplotlib\n",
    "%matplotlib nbagg\n",
    "\n",
    "import matplotlib.pyplot as plt\n",
    "roc_knn2 = metrics.roc_curve(knn_y_test_binary, knn_y_pred_prob)\n",
    "knn_fpr2, knn_tpr2, thresholds2 = roc_knn2\n",
    "plt.plot(knn_fpr2, knn_tpr2, color='blue')\n",
    "\n",
    "roc_log2 = metrics.roc_curve(log_y_test_binary, log_y_pred_prob)\n",
    "log_fpr2, log_tpr2, thresholds2 = roc_log2\n",
    "plt.plot(log_fpr2, log_tpr2, color='magenta')\n",
    "\n",
    "roc_tree2 = metrics.roc_curve(tree_y_test_binary, tree_y_pred_prob)\n",
    "tree_fpr2, tree_tpr2, thresholds2 = roc_tree2\n",
    "plt.plot(tree_fpr2, tree_tpr2, color='green')\n",
    "\n",
    "\n",
    "plt.xlim([0.0, 1.0])\n",
    "plt.ylim([0.0, 1.0])\n",
    "plt.xlabel('False Positive Rate (1 - Specificity)')\n",
    "plt.ylabel('True Positive Rate (Sensitivity)')\n",
    "\n",
    "\n",
    "\n",
    "\n",
    "\n",
    "ggplot(df, aes(x='fpr', y='tpr')) +\\\n",
    "    geom_line() +\\\n",
    "    geom_abline(linetype='dashed')"
   ]
  },
  {
   "cell_type": "code",
   "execution_count": 228,
   "metadata": {
    "collapsed": false
   },
   "outputs": [],
   "source": [
    "log_y_test_binary = np.where(y_test==1, 0, 2)"
   ]
  },
  {
   "cell_type": "code",
   "execution_count": 417,
   "metadata": {
    "collapsed": false
   },
   "outputs": [
    {
     "data": {
      "text/plain": [
       "array([  0.00000000e+00,   2.67952840e-04,   2.67952840e-04, ...,\n",
       "         9.98660236e-01,   9.99732047e-01,   1.00000000e+00])"
      ]
     },
     "execution_count": 417,
     "metadata": {},
     "output_type": "execute_result"
    }
   ],
   "source": [
    "fpr"
   ]
  },
  {
   "cell_type": "code",
   "execution_count": 418,
   "metadata": {
    "collapsed": false
   },
   "outputs": [
    {
     "data": {
      "text/plain": [
       "array([  0.00000000e+00,   0.00000000e+00,   6.20347395e-04, ...,\n",
       "         1.00000000e+00,   1.00000000e+00,   1.00000000e+00])"
      ]
     },
     "execution_count": 418,
     "metadata": {},
     "output_type": "execute_result"
    }
   ],
   "source": [
    "tpr"
   ]
  },
  {
   "cell_type": "code",
   "execution_count": null,
   "metadata": {
    "collapsed": true
   },
   "outputs": [],
   "source": []
  }
 ],
 "metadata": {
  "kernelspec": {
   "display_name": "Python 2",
   "language": "python",
   "name": "python2"
  },
  "language_info": {
   "codemirror_mode": {
    "name": "ipython",
    "version": 2
   },
   "file_extension": ".py",
   "mimetype": "text/x-python",
   "name": "python",
   "nbconvert_exporter": "python",
   "pygments_lexer": "ipython2",
   "version": "2.7.10"
  }
 },
 "nbformat": 4,
 "nbformat_minor": 0
}
