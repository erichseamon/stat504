{
 "cells": [
  {
   "cell_type": "markdown",
   "metadata": {},
   "source": [
    "# STATISTICS 504 HW #3 <br>\n",
    "12/04/2015 <br>\n",
    "Fall 2015 <br>\n",
    "Erich Seamon <br>\n",
    "University of Idaho <br>\n",
    "erichs@uidaho.edu <br>\n",
    "http://github.com/erichseamon.com/stat504-python <br>"
   ]
  },
  {
   "cell_type": "markdown",
   "metadata": {},
   "source": [
    "####        "
   ]
  },
  {
   "cell_type": "markdown",
   "metadata": {},
   "source": [
    "# OVERVIEW\n",
    "\n",
    "### DATA1: \n",
    "\n",
    "STRONG-R Male Sample_Reduced_2014-03-14.csv (with variables description in  STRONG Codebook.xls). The response variable is FelRecidYr3 (1 versus 0) - Felony recidivism in 3 years.\n",
    "\n",
    "### DATA2: \n",
    "\n",
    "reviews_Musical_Instruments. The response variables is the reviewer’s rating in \"overall\": 5.0 versus 1.0 (ignore the other in-between ratings of 4.0, 3.0, and 2.0)\n",
    "\n",
    "\n",
    "### The common goal for both data sets is to successfully develop a model to predict the response variable given the other explanatory variables/features. <br> \n",
    "\n",
    "Conduct a data analysis for the above two Data Sets #1 and #2 using all you have learned in the semester to cleanup, build, and  compare/contrast the performance (10-CV with AUC- measure) of various models (including variables/features selections, \n",
    "\n",
    "1) Null,  \n",
    "2) NB, <br> \n",
    "3) knn, <br> \n",
    "4) logistic regression, <br> \n",
    "5) SVM Polynomial kernel, <br> \n",
    "6) SVM Gaussian kernel, <br> \n",
    "7) Tree, 7) Bagging, <br> \n",
    "8) Random Forest, <br> \n",
    "9) Noisy Replications Ensembling, <br> \n",
    "10) plus one feasible model of your choice which was not covered in class). <br> <br> \n",
    "\n",
    "Overlay all model ROC curves in one figure for the same data set, with a legend key. Discuss your modeling process, interesting findings, and conclusions.\n",
    "\n",
    "Specifics:\n",
    "\n",
    "•\tUse 10CV mAUC measure to find the optimal model hyper-parameters <br>\n",
    "•\tFor SVM, do both the polynomial and Gaussian kernel with the optimal model hyper-meters <br>\n",
    "•\tFor Ensembling, do Bagging, Random Forest, and Noisy Replications <br>\n",
    "•\tYou probably would have to run these complicated models on Amazon Web Service (AWS) at http://aws.amazon.com/  <br>\n",
    "•\tMeasure and report the execution time for running each of these 10 models in Python.   <br>\n",
    "\n",
    "Make sure that all your Python codes are documented and bug-free-executable, and all your reported results are reproducible. 15% will be deducted from non-executable non-reproducible codes/results.\n",
    "\n",
    "Finally, please make sure that all your 3 .ipynb Notebooks for Homework#1, #2, and #3 should be in the same Github directory so they can be downloaded in one zip file.\n"
   ]
  },
  {
   "cell_type": "markdown",
   "metadata": {},
   "source": [
    "# STEP 1: IMPORT"
   ]
  },
  {
   "cell_type": "code",
   "execution_count": 2,
   "metadata": {
    "collapsed": false
   },
   "outputs": [],
   "source": [
    "import matplotlib\n",
    "%matplotlib nbagg\n",
    "\n",
    "import json\n",
    "from pprint import pprint\n",
    "from pyproj import Proj\n",
    "import StringIO\n",
    "from pandas import DataFrame\n",
    "import pandas as pd\n",
    "import seaborn as sns\n",
    "import pydot\n",
    "from IPython.display import Image\n",
    "import scipy.sparse as sp\n",
    "import urllib\n",
    "\n",
    "\n",
    "from urllib2 import Request, urlopen\n",
    "import json\n",
    "from pandas.io.json import json_normalize\n",
    "import numpy\n",
    "from sklearn.cross_validation import cross_val_score\n",
    "\n",
    "import pandas as pd\n",
    "import numpy as np\n",
    "from sklearn.linear_model import LinearRegression\n",
    "\n",
    "from sklearn.datasets import load_iris\n",
    "from sklearn.cross_validation import train_test_split\n",
    "from sklearn.neighbors import KNeighborsClassifier\n",
    "from sklearn import metrics\n",
    "import pandas as pd\n",
    "\n",
    "from sklearn.cross_validation import KFold\n",
    "import matplotlib.pyplot as plt\n",
    "from sklearn import metrics\n",
    "\n"
   ]
  },
  {
   "cell_type": "markdown",
   "metadata": {},
   "source": [
    "# STEP 2: DATA LOADING"
   ]
  },
  {
   "cell_type": "markdown",
   "metadata": {},
   "source": [
    "## DATA1 Loading - Recidivism"
   ]
  },
  {
   "cell_type": "code",
   "execution_count": 3,
   "metadata": {
    "collapsed": false
   },
   "outputs": [
    {
     "data": {
      "text/plain": [
       "('/git/data/hw3/strong.csv', <httplib.HTTPMessage instance at 0x7efc81447a70>)"
      ]
     },
     "execution_count": 3,
     "metadata": {},
     "output_type": "execute_result"
    }
   ],
   "source": [
    "urllib.urlretrieve('http://webpages.uidaho.edu/~stevel/504/STRONG-R Male Sample_Reduced_2014-03-14.csv', '/git/data/hw3/strong.csv')"
   ]
  },
  {
   "cell_type": "code",
   "execution_count": 4,
   "metadata": {
    "collapsed": true
   },
   "outputs": [],
   "source": [
    "data1 = pd.read_csv('/git/data/hw3/strong.csv')\n",
    "data1['FelRecidYr3'].replace('', np.nan, inplace=True)"
   ]
  },
  {
   "cell_type": "code",
   "execution_count": 5,
   "metadata": {
    "collapsed": false
   },
   "outputs": [],
   "source": [
    "filter = data1[\"FelRecidYr3\"] != \" \"\n",
    "data1 = data1[filter]"
   ]
  },
  {
   "cell_type": "code",
   "execution_count": 6,
   "metadata": {
    "collapsed": false
   },
   "outputs": [],
   "source": [
    "feature_cols2 = ['AgeAsses3RN', 'AgeAtFirstConvR', 'JvFelCon', 'JvVioCon', 'JvComit', 'HomConv', 'SexConv', 'VProCon', 'AssaCon', 'DomVio', 'CopFodNd3', 'CopBugNd3', 'CopTraNd3', 'CopHygNd3', 'CopMedNd3', 'CopMHNd3']\n",
    "X = data1[feature_cols2]\n",
    "y = data1.FelRecidYr3.astype(int)\n",
    "#y = pd.DataFrame(strongy)\n",
    "X_train, X_test, y_train, y_test = train_test_split(X, y, random_state=99)"
   ]
  },
  {
   "cell_type": "markdown",
   "metadata": {},
   "source": [
    "### DATA2 Loading - Music"
   ]
  },
  {
   "cell_type": "code",
   "execution_count": 7,
   "metadata": {
    "collapsed": false
   },
   "outputs": [
    {
     "data": {
      "text/plain": [
       "('/git/data/hw3/music.json', <httplib.HTTPMessage instance at 0x7efc814442d8>)"
      ]
     },
     "execution_count": 7,
     "metadata": {},
     "output_type": "execute_result"
    }
   ],
   "source": [
    "urllib.urlretrieve('http://www.webpages.uidaho.edu/erichs/music.json', '/git/data/hw3/music.json')"
   ]
  },
  {
   "cell_type": "code",
   "execution_count": 8,
   "metadata": {
    "collapsed": false
   },
   "outputs": [],
   "source": [
    "with open('/git/data/hw3/music.json', 'rU') as f:\n",
    "    data = [json.loads(row) for row in f]   "
   ]
  },
  {
   "cell_type": "code",
   "execution_count": 10,
   "metadata": {
    "collapsed": false
   },
   "outputs": [],
   "source": [
    "data2 = pd.DataFrame(data)\n",
    "feature_cols = ['asin', 'helpful', 'reviewText', 'reviewTime', 'reviewerID', 'reviewerName', 'summary', 'unixReviewTime']\n",
    "music_best_worst = data2[(data2.overall==5) | (data2.overall==1)]\n",
    "music_best_worst_featureadd = music_best_worst[feature_cols] #for use in Task 6\n",
    "\n",
    "#--Setting X and y for music\n",
    "musicX = music_best_worst_featureadd\n",
    "musicy = music_best_worst.overall"
   ]
  },
  {
   "cell_type": "code",
   "execution_count": 11,
   "metadata": {
    "collapsed": false
   },
   "outputs": [],
   "source": [
    "from sklearn.feature_extraction.text import TfidfTransformer\n",
    "transformer = TfidfTransformer()\n",
    "from sklearn.feature_extraction.text import CountVectorizer\n",
    "vect = CountVectorizer()"
   ]
  },
  {
   "cell_type": "code",
   "execution_count": 12,
   "metadata": {
    "collapsed": false
   },
   "outputs": [],
   "source": [
    "musicX_reviewtext = vect.fit_transform(musicX.reviewText)"
   ]
  },
  {
   "cell_type": "code",
   "execution_count": 13,
   "metadata": {
    "collapsed": false
   },
   "outputs": [],
   "source": [
    "musicX_reviewtext= sp.issparse(musicX_reviewtext)"
   ]
  },
  {
   "cell_type": "markdown",
   "metadata": {},
   "source": [
    "## STEP 3: FEATURE EXTRACTION"
   ]
  },
  {
   "cell_type": "markdown",
   "metadata": {},
   "source": [
    "### 10-fold cross-validation with all three features"
   ]
  },
  {
   "cell_type": "code",
   "execution_count": null,
   "metadata": {
    "collapsed": false
   },
   "outputs": [],
   "source": [
    "lm = LinearRegression()\n",
    "scores = cross_val_score(lm, X, y, cv=KFold(X.shape[0], n_folds=10, shuffle=True), scoring='mean_squared_error')\n",
    "print scores"
   ]
  },
  {
   "cell_type": "code",
   "execution_count": null,
   "metadata": {
    "collapsed": false
   },
   "outputs": [],
   "source": [
    "# fix the sign of MSE scores\n",
    "mse_scores = -scores\n",
    "print mse_scores"
   ]
  },
  {
   "cell_type": "code",
   "execution_count": null,
   "metadata": {
    "collapsed": false
   },
   "outputs": [],
   "source": [
    "# convert from MSE to RMSE\n",
    "rmse_scores = np.sqrt(mse_scores)\n",
    "print rmse_scores"
   ]
  },
  {
   "cell_type": "code",
   "execution_count": null,
   "metadata": {
    "collapsed": false
   },
   "outputs": [],
   "source": [
    "# calculate the average RMSE\n",
    "print rmse_scores.mean()"
   ]
  },
  {
   "cell_type": "markdown",
   "metadata": {},
   "source": [
    "# STEP : MODEL EVALUATION"
   ]
  },
  {
   "cell_type": "markdown",
   "metadata": {},
   "source": [
    "## MODEL 1: Null Accuracy"
   ]
  },
  {
   "cell_type": "code",
   "execution_count": null,
   "metadata": {
    "collapsed": false
   },
   "outputs": [],
   "source": [
    "# calculate the null accuracy\n",
    "y_test.value_counts().head(1) / len(y_test)"
   ]
  },
  {
   "cell_type": "markdown",
   "metadata": {},
   "source": [
    "## MODEL 2: Naive-Bayes"
   ]
  },
  {
   "cell_type": "markdown",
   "metadata": {},
   "source": [
    "### Multinomial Naive Bayes"
   ]
  },
  {
   "cell_type": "code",
   "execution_count": null,
   "metadata": {
    "collapsed": false
   },
   "outputs": [],
   "source": [
    "from sklearn.naive_bayes import MultinomialNB\n",
    "nbm = MultinomialNB()\n",
    "nbm.fit(X, y)\n",
    "MultinomialNB(alpha=1.0, class_prior=None, fit_prior=True)\n",
    "nbm_scores = cross_val_score(nbm, X, y, cv=KFold(X.shape[0], n_folds=10, shuffle=True), scoring='accuracy')\n",
    "print nbm_scores\n",
    "\n",
    "#print(clf.predict(X[2:3]))"
   ]
  },
  {
   "cell_type": "code",
   "execution_count": null,
   "metadata": {
    "collapsed": false
   },
   "outputs": [],
   "source": [
    "nbm_scores_mean = cross_val_score(nbm, X, y, cv=KFold(X.shape[0], n_folds=10, shuffle=True), scoring='accuracy').mean()\n",
    "print nbm_scores_mean"
   ]
  },
  {
   "cell_type": "code",
   "execution_count": null,
   "metadata": {
    "collapsed": false
   },
   "outputs": [],
   "source": [
    "nbm_scores_auc = cross_val_score(nbm, X, y, cv=KFold(X.shape[0], n_folds=10, shuffle=True), scoring='roc_auc').mean()\n",
    "print nbm_scores_auc"
   ]
  },
  {
   "cell_type": "code",
   "execution_count": null,
   "metadata": {
    "collapsed": false
   },
   "outputs": [],
   "source": [
    "mean_score = nbm_scores.mean()\n",
    "std_dev = nbm_scores.std()\n",
    "std_error = nbm_scores.std() / math.sqrt(nbm_scores.shape[0])\n",
    "ci =  2.262 * std_error\n",
    "lower_bound = mean_score - ci\n",
    "upper_bound = mean_score + ci\n",
    "\n",
    "print \"Multinomial NB Score is %f +/-  %f\" % (mean_score, ci)\n",
    "print \"Multinomial NB AUC is \"\n",
    "print '95 percent probability that if this experiment were repeated over and over the average score would be between %f and %f' % (lower_bound, upper_bound)"
   ]
  },
  {
   "cell_type": "markdown",
   "metadata": {},
   "source": [
    "### Gaussian Naive Bayes"
   ]
  },
  {
   "cell_type": "code",
   "execution_count": null,
   "metadata": {
    "collapsed": false
   },
   "outputs": [],
   "source": [
    "from sklearn.naive_bayes import GaussianNB\n",
    "nbg = GaussianNB()\n",
    "nbg.fit(X, y)\n",
    "GaussianNB()\n",
    "nbg_scores = cross_val_score(nbg, X, y, cv=KFold(X.shape[0], n_folds=10, shuffle=True), scoring='accuracy')\n",
    "print nbg_scores\n",
    "\n",
    "#print(clf.predict(X[2:3]))"
   ]
  },
  {
   "cell_type": "code",
   "execution_count": null,
   "metadata": {
    "collapsed": false
   },
   "outputs": [],
   "source": [
    "nbg_scores_mean = cross_val_score(nbm, X, y, cv=KFold(X.shape[0], n_folds=10, shuffle=True), scoring='accuracy').mean()\n",
    "print nbg_scores_mean"
   ]
  },
  {
   "cell_type": "code",
   "execution_count": null,
   "metadata": {
    "collapsed": false
   },
   "outputs": [],
   "source": [
    "nbg_scores_auc = cross_val_score(nbm, X, y, cv=KFold(X.shape[0], n_folds=10, shuffle=True), scoring='roc_auc').mean()\n",
    "print nbg_scores_auc"
   ]
  },
  {
   "cell_type": "markdown",
   "metadata": {},
   "source": [
    "### Bernoulli Naive Bayes"
   ]
  },
  {
   "cell_type": "code",
   "execution_count": null,
   "metadata": {
    "collapsed": false
   },
   "outputs": [],
   "source": [
    "from sklearn.naive_bayes import BernoulliNB\n",
    "nbb = BernoulliNB()\n",
    "nbb.fit(X, y)\n",
    "BernoulliNB(alpha=1.0, class_prior=None, fit_prior=True)\n",
    "nbb_scores = cross_val_score(nbb, X, y, cv=KFold(X.shape[0], n_folds=10, shuffle=True), scoring='accuracy')\n",
    "print nbb_scores\n",
    "\n",
    "#print(clf.predict(X[2:3]))"
   ]
  },
  {
   "cell_type": "code",
   "execution_count": null,
   "metadata": {
    "collapsed": false
   },
   "outputs": [],
   "source": [
    "nbb_scores_mean = cross_val_score(nbm, X, y, cv=KFold(X.shape[0], n_folds=10, shuffle=True), scoring='accuracy').mean()\n",
    "print nbb_scores_mean"
   ]
  },
  {
   "cell_type": "code",
   "execution_count": null,
   "metadata": {
    "collapsed": false
   },
   "outputs": [],
   "source": [
    "nbb_scores_auc = cross_val_score(nbm, X, y, cv=KFold(X.shape[0], n_folds=10, shuffle=True), scoring='roc_auc').mean()\n",
    "print nbb_scores_auc"
   ]
  },
  {
   "cell_type": "markdown",
   "metadata": {},
   "source": [
    "## Best performing Naive Bayes??"
   ]
  },
  {
   "cell_type": "code",
   "execution_count": null,
   "metadata": {
    "collapsed": false
   },
   "outputs": [],
   "source": [
    "# TASK 7: plot the ROC curve\n",
    "import matplotlib\n",
    "%matplotlib nbagg\n",
    "from sklearn import metrics\n",
    "import pandas as pd\n",
    "from ggplot import *\n",
    "\n",
    "\n",
    "nbm_preds = nbm.predict_proba(X_test)[:,1]\n",
    "nbm_fpr, nbm_tpr, _ = metrics.roc_curve(y_test, nbm_preds)\n",
    "\n",
    "nbg_preds = nbg.predict_proba(X_test)[:,1]\n",
    "nbg_fpr, nbg_tpr, _ = metrics.roc_curve(y_test, nbg_preds)\n",
    "\n",
    "nbb_preds = nbb.predict_proba(X_test)[:,1]\n",
    "nbb_fpr, nbb_tpr, _ = metrics.roc_curve(y_test, nbb_preds)\n",
    "\n",
    "plt.plot(nbm_fpr, nbm_tpr, color='green')\n",
    "plt.plot(nbg_fpr, nbg_tpr, color='magenta')\n",
    "plt.plot(nbb_fpr, nbb_tpr, color='yellow')\n",
    "\n",
    "plt.xlim([0.0, 1.0])\n",
    "plt.ylim([0.0, 1.0])\n",
    "plt.xlabel('False Positive Rate (1 - Specificity)')\n",
    "plt.ylabel('True Positive Rate (Sensitivity)')\n"
   ]
  },
  {
   "cell_type": "markdown",
   "metadata": {},
   "source": [
    "## MODEL3: KNN"
   ]
  },
  {
   "cell_type": "code",
   "execution_count": null,
   "metadata": {
    "collapsed": false
   },
   "outputs": [],
   "source": [
    "# 10-fold cross-validation with K=5 for KNN (the n_neighbors parameter)\n",
    "knn = KNeighborsClassifier(n_neighbors=9)\n",
    "strongy = data1.FelRecidYr3\n",
    "knn.fit(X,y)\n",
    "scores = cross_val_score(knn, X, y, cv=KFold(X.shape[0], n_folds=10, shuffle=True), scoring='accuracy')\n",
    "print scores"
   ]
  },
  {
   "cell_type": "code",
   "execution_count": null,
   "metadata": {
    "collapsed": false
   },
   "outputs": [],
   "source": [
    "# use average accuracy as an estimate of out-of-sample accuracy\n",
    "print scores.mean()"
   ]
  },
  {
   "cell_type": "code",
   "execution_count": null,
   "metadata": {
    "collapsed": false
   },
   "outputs": [],
   "source": [
    "# search for an optimal value of K for KNN\n",
    "k_range = range(1, 100)\n",
    "k_scores = []\n",
    "for k in k_range:\n",
    "    knn = KNeighborsClassifier(n_neighbors=k)\n",
    "    scores = cross_val_score(knn, X, y, cv=KFold(X.shape[0], n_folds=10, shuffle=True), scoring='accuracy')\n",
    "    k_scores.append(scores.mean())\n",
    "print k_scores"
   ]
  },
  {
   "cell_type": "code",
   "execution_count": null,
   "metadata": {
    "collapsed": false
   },
   "outputs": [],
   "source": [
    "# plot the value of K for KNN (x-axis) versus the cross-validated accuracy (y-axis)\n",
    "plt.plot(k_range, k_scores)\n",
    "plt.xlabel('Value of K for KNN')\n",
    "plt.ylabel('Cross-Validated Accuracy')"
   ]
  },
  {
   "cell_type": "markdown",
   "metadata": {},
   "source": [
    "### Re-run KNN model with optimized K = 40"
   ]
  },
  {
   "cell_type": "code",
   "execution_count": null,
   "metadata": {
    "collapsed": false
   },
   "outputs": [],
   "source": [
    "# 10-fold cross-validation with K=5 for KNN (the n_neighbors parameter)\n",
    "knn = KNeighborsClassifier(n_neighbors=40)\n",
    "strongy = data1.FelRecidYr3\n",
    "knn_scores = cross_val_score(knn, X, y, cv=KFold(X.shape[0], n_folds=10, shuffle=True), scoring='accuracy')\n",
    "print knn_scores"
   ]
  },
  {
   "cell_type": "code",
   "execution_count": null,
   "metadata": {
    "collapsed": false
   },
   "outputs": [],
   "source": [
    "import math\n",
    "mean_score = knn_scores.mean()\n",
    "std_dev = knn_scores.std()\n",
    "std_error = knn_scores.std() / math.sqrt(scores.shape[0])\n",
    "ci =  2.262 * std_error\n",
    "lower_bound = mean_score - ci\n",
    "upper_bound = mean_score + ci\n",
    "\n",
    "print \"Score is %f +/-  %f\" % (mean_score, ci)\n",
    "print '95 percent probability that if this experiment were repeated over and over the average score would be between %f and %f' % (lower_bound, upper_bound)"
   ]
  },
  {
   "cell_type": "markdown",
   "metadata": {},
   "source": [
    "## MODEL 4: Logistic Regression"
   ]
  },
  {
   "cell_type": "code",
   "execution_count": null,
   "metadata": {
    "collapsed": false
   },
   "outputs": [],
   "source": [
    "# 10-fold cross-validation with logistic regression\n",
    "from sklearn.linear_model import LogisticRegression\n",
    "logreg = LogisticRegression()\n",
    "logreg.fit(X,y)\n",
    "logreg_scores = cross_val_score(logreg, X, y, cv=KFold(X.shape[0], n_folds=10, shuffle=True), scoring='accuracy')\n",
    "print logreg_scores"
   ]
  },
  {
   "cell_type": "code",
   "execution_count": null,
   "metadata": {
    "collapsed": false
   },
   "outputs": [],
   "source": [
    "print cross_val_score(logreg, X, y, cv=KFold(X.shape[0], n_folds=10, shuffle=True), scoring='accuracy').mean()"
   ]
  },
  {
   "cell_type": "code",
   "execution_count": null,
   "metadata": {
    "collapsed": false
   },
   "outputs": [],
   "source": [
    "print cross_val_score(logreg, X, y, cv=KFold(X.shape[0], n_folds=10, shuffle=True), scoring='roc_auc').mean()"
   ]
  },
  {
   "cell_type": "code",
   "execution_count": null,
   "metadata": {
    "collapsed": false
   },
   "outputs": [],
   "source": [
    "mean_score = logreg_scores.mean()\n",
    "std_dev = logreg_scores.std()\n",
    "std_error = logreg_scores.std() / math.sqrt(logreg_scores.shape[0])\n",
    "ci =  2.262 * std_error\n",
    "lower_bound = mean_score - ci\n",
    "upper_bound = mean_score + ci\n",
    "\n",
    "print \"Score is %f +/-  %f\" % (mean_score, ci)\n",
    "print '95 percent probability that if this experiment were repeated over and over the average score would be between %f and %f' % (lower_bound, upper_bound)"
   ]
  },
  {
   "cell_type": "markdown",
   "metadata": {},
   "source": [
    "## MODEL 5: SVM Polynomial Kernel"
   ]
  },
  {
   "cell_type": "code",
   "execution_count": null,
   "metadata": {
    "collapsed": false
   },
   "outputs": [],
   "source": [
    "\n",
    "# 10-fold cross-validation with SVM Polynomial\n",
    "from sklearn import svm\n",
    "svmpoly = svm.SVC(kernel='poly', gamma=2)\n",
    "svmpoly.fit(X,y)\n",
    "svmpoly_scores = cross_val_score(svmpoly, X, y, cv=KFold(X.shape[0], n_folds=10, shuffle=True), scoring='accuracy')\n",
    "print svmpoly_scores\n"
   ]
  },
  {
   "cell_type": "code",
   "execution_count": null,
   "metadata": {
    "collapsed": true
   },
   "outputs": [],
   "source": [
    "# search for an optimal gamma for SVM Polynomial\n",
    "g_range = range(1, 10)\n",
    "g_scores = []\n",
    "for k in g_range:\n",
    "    knn = svm.SVC(kernel='poly', gamma=k)\n",
    "    scores = cross_val_score(svmpoly, X, y, cv=KFold(X.shape[0], n_folds=10, shuffle=True), scoring='accuracy')\n",
    "    g_scores.append(scores.mean())\n",
    "print g_scores"
   ]
  },
  {
   "cell_type": "markdown",
   "metadata": {},
   "source": [
    "## Tune SVM Hyperparameters - C and gamma"
   ]
  },
  {
   "cell_type": "code",
   "execution_count": null,
   "metadata": {
    "collapsed": true
   },
   "outputs": [],
   "source": [
    "import optunity\n",
    "import optunity.metrics\n",
    "import sklearn.svm\n",
    "\n",
    "# score function: twice iterated 10-fold cross-validated accuracy\n",
    "@optunity.cross_validated(x=data1[feature_cols2], y=data1.FelRecidYr3, num_folds=10, num_iter=2)\n",
    "def svm_auc(x_train, y_train, x_test, y_test, logC, logGamma):\n",
    "    model = sklearn.svm.SVC(C=10 ** logC, gamma=10 ** logGamma).fit(x_train, y_train)\n",
    "    decision_values = model.decision_function(x_test)\n",
    "    return optunity.metrics.roc_auc(y_test, decision_values)\n",
    "\n",
    "# perform tuning\n",
    "hps, _, _ = optunity.maximize(svm_auc, num_evals=200, logC=[-5, 2], logGamma=[-5, 1])\n",
    "\n",
    "# train model on the full training set with tuned hyperparameters\n",
    "optimal_model = sklearn.svm.SVC(C=10 ** hps['logC'], gamma=10 ** hps['logGamma']).fit(data, labels)"
   ]
  },
  {
   "cell_type": "markdown",
   "metadata": {},
   "source": [
    "## Plotting SVM boundaries"
   ]
  },
  {
   "cell_type": "code",
   "execution_count": null,
   "metadata": {
    "collapsed": true
   },
   "outputs": [],
   "source": [
    "fignum=1\n",
    "\n",
    "# plot the line, the points, and the nearest vectors to the plane\n",
    "    plt.figure(fignum, figsize=(4, 3))\n",
    "    plt.svmpoly()\n",
    "\n",
    "    plt.scatter(svmpoly.support_vectors_[:, 0], svmpoly.support_vectors_[:, 1], s=80,\n",
    "                facecolors='none', zorder=10)\n",
    "    plt.scatter(X[:, 0], X[:, 1], c=Y, zorder=10, cmap=plt.cm.Paired)\n",
    "\n",
    "    plt.axis('tight')\n",
    "    x_min = -3\n",
    "    x_max = 3\n",
    "    y_min = -3\n",
    "    y_max = 3\n",
    "\n",
    "    XX, YY = np.mgrid[x_min:x_max:200j, y_min:y_max:200j]\n",
    "    Z = svmpoly.decision_function(np.c_[XX.ravel(), YY.ravel()])\n",
    "\n",
    "    # Put the result into a color plot\n",
    "    Z = Z.reshape(XX.shape)\n",
    "    plt.figure(fignum, figsize=(4, 3))\n",
    "    plt.pcolormesh(XX, YY, Z > 0, cmap=plt.cm.Paired)\n",
    "    plt.contour(XX, YY, Z, colors=['k', 'k', 'k'], linestyles=['--', '-', '--'],\n",
    "                levels=[-.5, 0, .5])\n",
    "\n",
    "    plt.xlim(x_min, x_max)\n",
    "    plt.ylim(y_min, y_max)\n",
    "\n",
    "    plt.xticks(())\n",
    "    plt.yticks(())\n",
    "    fignum = fignum + 1\n",
    "plt.show()"
   ]
  },
  {
   "cell_type": "markdown",
   "metadata": {},
   "source": [
    "## MODEL 5: SVM Gaussian Kernel"
   ]
  },
  {
   "cell_type": "code",
   "execution_count": null,
   "metadata": {
    "collapsed": false
   },
   "outputs": [],
   "source": [
    "\n",
    "# 10-fold cross-validation with SVM Polynomial\n",
    "from sklearn import svm\n",
    "svmpoly = svm.SVC(kernel='poly', gamma=2)\n",
    "svmpoly.fit(X,y)\n",
    "svmpoly_scores = cross_val_score(svmpoly, X, y, cv=KFold(X.shape[0], n_folds=10, shuffle=True), scoring='accuracy')\n",
    "print svmpoly_scores\n"
   ]
  },
  {
   "cell_type": "markdown",
   "metadata": {},
   "source": [
    "# MODEL 6: Decision Tree"
   ]
  },
  {
   "cell_type": "code",
   "execution_count": null,
   "metadata": {
    "collapsed": true
   },
   "outputs": [],
   "source": [
    "from sklearn import tree\n",
    "clf = tree.DecisionTreeClassifier(max_depth=15)\n",
    "clf.fit(X,y)\n",
    "clf_scores = cross_val_score(clf, X, y, cv=KFold(X.shape[0], n_folds=10, shuffle=True), scoring='accuracy')\n",
    "print clf_scores"
   ]
  },
  {
   "cell_type": "code",
   "execution_count": null,
   "metadata": {
    "collapsed": true
   },
   "outputs": [],
   "source": [
    "from sklearn.externals.six import StringIO  \n",
    "import pydot \n",
    "dot_data = StringIO() \n",
    "tree.export_graphviz(clf, out_file=dot_data)\n",
    "graph = pydot.graph_from_dot_data(dot_data.getvalue()) "
   ]
  },
  {
   "cell_type": "code",
   "execution_count": null,
   "metadata": {
    "collapsed": true
   },
   "outputs": [],
   "source": [
    "graph.write_jpeg(\"hw3_tree_plot.jpg\")"
   ]
  },
  {
   "cell_type": "code",
   "execution_count": null,
   "metadata": {
    "collapsed": true
   },
   "outputs": [],
   "source": [
    "from IPython.display import Image\n",
    "Image(filename='hw3_tree_plot.jpg')"
   ]
  },
  {
   "cell_type": "code",
   "execution_count": null,
   "metadata": {
    "collapsed": true
   },
   "outputs": [],
   "source": [
    "# search for an optimal gamma for Decision Tree\n",
    "t_range = range(1, 15)\n",
    "t_scores = []\n",
    "for k in t_range:\n",
    "    clf = tree.DecisionTreeClassifier(max_depth=k)\n",
    "    scores = cross_val_score(clf, X, y, cv=KFold(X.shape[0], n_folds=10, shuffle=True), scoring='accuracy')\n",
    "    t_scores.append(scores.mean())\n",
    "print t_scores"
   ]
  },
  {
   "cell_type": "code",
   "execution_count": null,
   "metadata": {
    "collapsed": true
   },
   "outputs": [],
   "source": [
    "# plot the value of K for KNN (x-axis) versus the cross-validated accuracy (y-axis)\n",
    "plt.plot(t_range, t_scores)\n",
    "plt.xlabel('Value of Depth for Decision Tree')\n",
    "plt.ylabel('Cross-Validated Accuracy')"
   ]
  },
  {
   "cell_type": "markdown",
   "metadata": {},
   "source": [
    "## Summary information for all models - DATA2 - RECIDIVISM"
   ]
  },
  {
   "cell_type": "code",
   "execution_count": 101,
   "metadata": {
    "collapsed": false
   },
   "outputs": [
    {
     "data": {
      "application/javascript": [
       "/* Put everything inside the global mpl namespace */\n",
       "window.mpl = {};\n",
       "\n",
       "mpl.get_websocket_type = function() {\n",
       "    if (typeof(WebSocket) !== 'undefined') {\n",
       "        return WebSocket;\n",
       "    } else if (typeof(MozWebSocket) !== 'undefined') {\n",
       "        return MozWebSocket;\n",
       "    } else {\n",
       "        alert('Your browser does not have WebSocket support.' +\n",
       "              'Please try Chrome, Safari or Firefox ≥ 6. ' +\n",
       "              'Firefox 4 and 5 are also supported but you ' +\n",
       "              'have to enable WebSockets in about:config.');\n",
       "    };\n",
       "}\n",
       "\n",
       "mpl.figure = function(figure_id, websocket, ondownload, parent_element) {\n",
       "    this.id = figure_id;\n",
       "\n",
       "    this.ws = websocket;\n",
       "\n",
       "    this.supports_binary = (this.ws.binaryType != undefined);\n",
       "\n",
       "    if (!this.supports_binary) {\n",
       "        var warnings = document.getElementById(\"mpl-warnings\");\n",
       "        if (warnings) {\n",
       "            warnings.style.display = 'block';\n",
       "            warnings.textContent = (\n",
       "                \"This browser does not support binary websocket messages. \" +\n",
       "                    \"Performance may be slow.\");\n",
       "        }\n",
       "    }\n",
       "\n",
       "    this.imageObj = new Image();\n",
       "\n",
       "    this.context = undefined;\n",
       "    this.message = undefined;\n",
       "    this.canvas = undefined;\n",
       "    this.rubberband_canvas = undefined;\n",
       "    this.rubberband_context = undefined;\n",
       "    this.format_dropdown = undefined;\n",
       "\n",
       "    this.image_mode = 'full';\n",
       "\n",
       "    this.root = $('<div/>');\n",
       "    this._root_extra_style(this.root)\n",
       "    this.root.attr('style', 'display: inline-block');\n",
       "\n",
       "    $(parent_element).append(this.root);\n",
       "\n",
       "    this._init_header(this);\n",
       "    this._init_canvas(this);\n",
       "    this._init_toolbar(this);\n",
       "\n",
       "    var fig = this;\n",
       "\n",
       "    this.waiting = false;\n",
       "\n",
       "    this.ws.onopen =  function () {\n",
       "            fig.send_message(\"supports_binary\", {value: fig.supports_binary});\n",
       "            fig.send_message(\"send_image_mode\", {});\n",
       "            fig.send_message(\"refresh\", {});\n",
       "        }\n",
       "\n",
       "    this.imageObj.onload = function() {\n",
       "            if (fig.image_mode == 'full') {\n",
       "                // Full images could contain transparency (where diff images\n",
       "                // almost always do), so we need to clear the canvas so that\n",
       "                // there is no ghosting.\n",
       "                fig.context.clearRect(0, 0, fig.canvas.width, fig.canvas.height);\n",
       "            }\n",
       "            fig.context.drawImage(fig.imageObj, 0, 0);\n",
       "            fig.waiting = false;\n",
       "        };\n",
       "\n",
       "    this.imageObj.onunload = function() {\n",
       "        this.ws.close();\n",
       "    }\n",
       "\n",
       "    this.ws.onmessage = this._make_on_message_function(this);\n",
       "\n",
       "    this.ondownload = ondownload;\n",
       "}\n",
       "\n",
       "mpl.figure.prototype._init_header = function() {\n",
       "    var titlebar = $(\n",
       "        '<div class=\"ui-dialog-titlebar ui-widget-header ui-corner-all ' +\n",
       "        'ui-helper-clearfix\"/>');\n",
       "    var titletext = $(\n",
       "        '<div class=\"ui-dialog-title\" style=\"width: 100%; ' +\n",
       "        'text-align: center; padding: 3px;\"/>');\n",
       "    titlebar.append(titletext)\n",
       "    this.root.append(titlebar);\n",
       "    this.header = titletext[0];\n",
       "}\n",
       "\n",
       "\n",
       "\n",
       "mpl.figure.prototype._canvas_extra_style = function(canvas_div) {\n",
       "\n",
       "}\n",
       "\n",
       "\n",
       "mpl.figure.prototype._root_extra_style = function(canvas_div) {\n",
       "\n",
       "}\n",
       "\n",
       "mpl.figure.prototype._init_canvas = function() {\n",
       "    var fig = this;\n",
       "\n",
       "    var canvas_div = $('<div/>');\n",
       "\n",
       "    canvas_div.attr('style', 'position: relative; clear: both; outline: 0');\n",
       "\n",
       "    function canvas_keyboard_event(event) {\n",
       "        return fig.key_event(event, event['data']);\n",
       "    }\n",
       "\n",
       "    canvas_div.keydown('key_press', canvas_keyboard_event);\n",
       "    canvas_div.keyup('key_release', canvas_keyboard_event);\n",
       "    this.canvas_div = canvas_div\n",
       "    this._canvas_extra_style(canvas_div)\n",
       "    this.root.append(canvas_div);\n",
       "\n",
       "    var canvas = $('<canvas/>');\n",
       "    canvas.addClass('mpl-canvas');\n",
       "    canvas.attr('style', \"left: 0; top: 0; z-index: 0; outline: 0\")\n",
       "\n",
       "    this.canvas = canvas[0];\n",
       "    this.context = canvas[0].getContext(\"2d\");\n",
       "\n",
       "    var rubberband = $('<canvas/>');\n",
       "    rubberband.attr('style', \"position: absolute; left: 0; top: 0; z-index: 1;\")\n",
       "\n",
       "    var pass_mouse_events = true;\n",
       "\n",
       "    canvas_div.resizable({\n",
       "        start: function(event, ui) {\n",
       "            pass_mouse_events = false;\n",
       "        },\n",
       "        resize: function(event, ui) {\n",
       "            fig.request_resize(ui.size.width, ui.size.height);\n",
       "        },\n",
       "        stop: function(event, ui) {\n",
       "            pass_mouse_events = true;\n",
       "            fig.request_resize(ui.size.width, ui.size.height);\n",
       "        },\n",
       "    });\n",
       "\n",
       "    function mouse_event_fn(event) {\n",
       "        if (pass_mouse_events)\n",
       "            return fig.mouse_event(event, event['data']);\n",
       "    }\n",
       "\n",
       "    rubberband.mousedown('button_press', mouse_event_fn);\n",
       "    rubberband.mouseup('button_release', mouse_event_fn);\n",
       "    // Throttle sequential mouse events to 1 every 20ms.\n",
       "    rubberband.mousemove('motion_notify', mouse_event_fn);\n",
       "\n",
       "    rubberband.mouseenter('figure_enter', mouse_event_fn);\n",
       "    rubberband.mouseleave('figure_leave', mouse_event_fn);\n",
       "\n",
       "    canvas_div.on(\"wheel\", function (event) {\n",
       "        event = event.originalEvent;\n",
       "        event['data'] = 'scroll'\n",
       "        if (event.deltaY < 0) {\n",
       "            event.step = 1;\n",
       "        } else {\n",
       "            event.step = -1;\n",
       "        }\n",
       "        mouse_event_fn(event);\n",
       "    });\n",
       "\n",
       "    canvas_div.append(canvas);\n",
       "    canvas_div.append(rubberband);\n",
       "\n",
       "    this.rubberband = rubberband;\n",
       "    this.rubberband_canvas = rubberband[0];\n",
       "    this.rubberband_context = rubberband[0].getContext(\"2d\");\n",
       "    this.rubberband_context.strokeStyle = \"#000000\";\n",
       "\n",
       "    this._resize_canvas = function(width, height) {\n",
       "        // Keep the size of the canvas, canvas container, and rubber band\n",
       "        // canvas in synch.\n",
       "        canvas_div.css('width', width)\n",
       "        canvas_div.css('height', height)\n",
       "\n",
       "        canvas.attr('width', width);\n",
       "        canvas.attr('height', height);\n",
       "\n",
       "        rubberband.attr('width', width);\n",
       "        rubberband.attr('height', height);\n",
       "    }\n",
       "\n",
       "    // Set the figure to an initial 600x600px, this will subsequently be updated\n",
       "    // upon first draw.\n",
       "    this._resize_canvas(600, 600);\n",
       "\n",
       "    // Disable right mouse context menu.\n",
       "    $(this.rubberband_canvas).bind(\"contextmenu\",function(e){\n",
       "        return false;\n",
       "    });\n",
       "\n",
       "    function set_focus () {\n",
       "        canvas.focus();\n",
       "        canvas_div.focus();\n",
       "    }\n",
       "\n",
       "    window.setTimeout(set_focus, 100);\n",
       "}\n",
       "\n",
       "mpl.figure.prototype._init_toolbar = function() {\n",
       "    var fig = this;\n",
       "\n",
       "    var nav_element = $('<div/>')\n",
       "    nav_element.attr('style', 'width: 100%');\n",
       "    this.root.append(nav_element);\n",
       "\n",
       "    // Define a callback function for later on.\n",
       "    function toolbar_event(event) {\n",
       "        return fig.toolbar_button_onclick(event['data']);\n",
       "    }\n",
       "    function toolbar_mouse_event(event) {\n",
       "        return fig.toolbar_button_onmouseover(event['data']);\n",
       "    }\n",
       "\n",
       "    for(var toolbar_ind in mpl.toolbar_items) {\n",
       "        var name = mpl.toolbar_items[toolbar_ind][0];\n",
       "        var tooltip = mpl.toolbar_items[toolbar_ind][1];\n",
       "        var image = mpl.toolbar_items[toolbar_ind][2];\n",
       "        var method_name = mpl.toolbar_items[toolbar_ind][3];\n",
       "\n",
       "        if (!name) {\n",
       "            // put a spacer in here.\n",
       "            continue;\n",
       "        }\n",
       "        var button = $('<button/>');\n",
       "        button.addClass('ui-button ui-widget ui-state-default ui-corner-all ' +\n",
       "                        'ui-button-icon-only');\n",
       "        button.attr('role', 'button');\n",
       "        button.attr('aria-disabled', 'false');\n",
       "        button.click(method_name, toolbar_event);\n",
       "        button.mouseover(tooltip, toolbar_mouse_event);\n",
       "\n",
       "        var icon_img = $('<span/>');\n",
       "        icon_img.addClass('ui-button-icon-primary ui-icon');\n",
       "        icon_img.addClass(image);\n",
       "        icon_img.addClass('ui-corner-all');\n",
       "\n",
       "        var tooltip_span = $('<span/>');\n",
       "        tooltip_span.addClass('ui-button-text');\n",
       "        tooltip_span.html(tooltip);\n",
       "\n",
       "        button.append(icon_img);\n",
       "        button.append(tooltip_span);\n",
       "\n",
       "        nav_element.append(button);\n",
       "    }\n",
       "\n",
       "    var fmt_picker_span = $('<span/>');\n",
       "\n",
       "    var fmt_picker = $('<select/>');\n",
       "    fmt_picker.addClass('mpl-toolbar-option ui-widget ui-widget-content');\n",
       "    fmt_picker_span.append(fmt_picker);\n",
       "    nav_element.append(fmt_picker_span);\n",
       "    this.format_dropdown = fmt_picker[0];\n",
       "\n",
       "    for (var ind in mpl.extensions) {\n",
       "        var fmt = mpl.extensions[ind];\n",
       "        var option = $(\n",
       "            '<option/>', {selected: fmt === mpl.default_extension}).html(fmt);\n",
       "        fmt_picker.append(option)\n",
       "    }\n",
       "\n",
       "    // Add hover states to the ui-buttons\n",
       "    $( \".ui-button\" ).hover(\n",
       "        function() { $(this).addClass(\"ui-state-hover\");},\n",
       "        function() { $(this).removeClass(\"ui-state-hover\");}\n",
       "    );\n",
       "\n",
       "    var status_bar = $('<span class=\"mpl-message\"/>');\n",
       "    nav_element.append(status_bar);\n",
       "    this.message = status_bar[0];\n",
       "}\n",
       "\n",
       "mpl.figure.prototype.request_resize = function(x_pixels, y_pixels) {\n",
       "    // Request matplotlib to resize the figure. Matplotlib will then trigger a resize in the client,\n",
       "    // which will in turn request a refresh of the image.\n",
       "    this.send_message('resize', {'width': x_pixels, 'height': y_pixels});\n",
       "}\n",
       "\n",
       "mpl.figure.prototype.send_message = function(type, properties) {\n",
       "    properties['type'] = type;\n",
       "    properties['figure_id'] = this.id;\n",
       "    this.ws.send(JSON.stringify(properties));\n",
       "}\n",
       "\n",
       "mpl.figure.prototype.send_draw_message = function() {\n",
       "    if (!this.waiting) {\n",
       "        this.waiting = true;\n",
       "        this.ws.send(JSON.stringify({type: \"draw\", figure_id: this.id}));\n",
       "    }\n",
       "}\n",
       "\n",
       "\n",
       "mpl.figure.prototype.handle_save = function(fig, msg) {\n",
       "    var format_dropdown = fig.format_dropdown;\n",
       "    var format = format_dropdown.options[format_dropdown.selectedIndex].value;\n",
       "    fig.ondownload(fig, format);\n",
       "}\n",
       "\n",
       "\n",
       "mpl.figure.prototype.handle_resize = function(fig, msg) {\n",
       "    var size = msg['size'];\n",
       "    if (size[0] != fig.canvas.width || size[1] != fig.canvas.height) {\n",
       "        fig._resize_canvas(size[0], size[1]);\n",
       "        fig.send_message(\"refresh\", {});\n",
       "    };\n",
       "}\n",
       "\n",
       "mpl.figure.prototype.handle_rubberband = function(fig, msg) {\n",
       "    var x0 = msg['x0'];\n",
       "    var y0 = fig.canvas.height - msg['y0'];\n",
       "    var x1 = msg['x1'];\n",
       "    var y1 = fig.canvas.height - msg['y1'];\n",
       "    x0 = Math.floor(x0) + 0.5;\n",
       "    y0 = Math.floor(y0) + 0.5;\n",
       "    x1 = Math.floor(x1) + 0.5;\n",
       "    y1 = Math.floor(y1) + 0.5;\n",
       "    var min_x = Math.min(x0, x1);\n",
       "    var min_y = Math.min(y0, y1);\n",
       "    var width = Math.abs(x1 - x0);\n",
       "    var height = Math.abs(y1 - y0);\n",
       "\n",
       "    fig.rubberband_context.clearRect(\n",
       "        0, 0, fig.canvas.width, fig.canvas.height);\n",
       "\n",
       "    fig.rubberband_context.strokeRect(min_x, min_y, width, height);\n",
       "}\n",
       "\n",
       "mpl.figure.prototype.handle_figure_label = function(fig, msg) {\n",
       "    // Updates the figure title.\n",
       "    fig.header.textContent = msg['label'];\n",
       "}\n",
       "\n",
       "mpl.figure.prototype.handle_cursor = function(fig, msg) {\n",
       "    var cursor = msg['cursor'];\n",
       "    switch(cursor)\n",
       "    {\n",
       "    case 0:\n",
       "        cursor = 'pointer';\n",
       "        break;\n",
       "    case 1:\n",
       "        cursor = 'default';\n",
       "        break;\n",
       "    case 2:\n",
       "        cursor = 'crosshair';\n",
       "        break;\n",
       "    case 3:\n",
       "        cursor = 'move';\n",
       "        break;\n",
       "    }\n",
       "    fig.rubberband_canvas.style.cursor = cursor;\n",
       "}\n",
       "\n",
       "mpl.figure.prototype.handle_message = function(fig, msg) {\n",
       "    fig.message.textContent = msg['message'];\n",
       "}\n",
       "\n",
       "mpl.figure.prototype.handle_draw = function(fig, msg) {\n",
       "    // Request the server to send over a new figure.\n",
       "    fig.send_draw_message();\n",
       "}\n",
       "\n",
       "mpl.figure.prototype.handle_image_mode = function(fig, msg) {\n",
       "    fig.image_mode = msg['mode'];\n",
       "}\n",
       "\n",
       "mpl.figure.prototype.updated_canvas_event = function() {\n",
       "    // Called whenever the canvas gets updated.\n",
       "    this.send_message(\"ack\", {});\n",
       "}\n",
       "\n",
       "// A function to construct a web socket function for onmessage handling.\n",
       "// Called in the figure constructor.\n",
       "mpl.figure.prototype._make_on_message_function = function(fig) {\n",
       "    return function socket_on_message(evt) {\n",
       "        if (evt.data instanceof Blob) {\n",
       "            /* FIXME: We get \"Resource interpreted as Image but\n",
       "             * transferred with MIME type text/plain:\" errors on\n",
       "             * Chrome.  But how to set the MIME type?  It doesn't seem\n",
       "             * to be part of the websocket stream */\n",
       "            evt.data.type = \"image/png\";\n",
       "\n",
       "            /* Free the memory for the previous frames */\n",
       "            if (fig.imageObj.src) {\n",
       "                (window.URL || window.webkitURL).revokeObjectURL(\n",
       "                    fig.imageObj.src);\n",
       "            }\n",
       "\n",
       "            fig.imageObj.src = (window.URL || window.webkitURL).createObjectURL(\n",
       "                evt.data);\n",
       "            fig.updated_canvas_event();\n",
       "            return;\n",
       "        }\n",
       "        else if (typeof evt.data === 'string' && evt.data.slice(0, 21) == \"data:image/png;base64\") {\n",
       "            fig.imageObj.src = evt.data;\n",
       "            fig.updated_canvas_event();\n",
       "            return;\n",
       "        }\n",
       "\n",
       "        var msg = JSON.parse(evt.data);\n",
       "        var msg_type = msg['type'];\n",
       "\n",
       "        // Call the  \"handle_{type}\" callback, which takes\n",
       "        // the figure and JSON message as its only arguments.\n",
       "        try {\n",
       "            var callback = fig[\"handle_\" + msg_type];\n",
       "        } catch (e) {\n",
       "            console.log(\"No handler for the '\" + msg_type + \"' message type: \", msg);\n",
       "            return;\n",
       "        }\n",
       "\n",
       "        if (callback) {\n",
       "            try {\n",
       "                // console.log(\"Handling '\" + msg_type + \"' message: \", msg);\n",
       "                callback(fig, msg);\n",
       "            } catch (e) {\n",
       "                console.log(\"Exception inside the 'handler_\" + msg_type + \"' callback:\", e, e.stack, msg);\n",
       "            }\n",
       "        }\n",
       "    };\n",
       "}\n",
       "\n",
       "// from http://stackoverflow.com/questions/1114465/getting-mouse-location-in-canvas\n",
       "mpl.findpos = function(e) {\n",
       "    //this section is from http://www.quirksmode.org/js/events_properties.html\n",
       "    var targ;\n",
       "    if (!e)\n",
       "        e = window.event;\n",
       "    if (e.target)\n",
       "        targ = e.target;\n",
       "    else if (e.srcElement)\n",
       "        targ = e.srcElement;\n",
       "    if (targ.nodeType == 3) // defeat Safari bug\n",
       "        targ = targ.parentNode;\n",
       "\n",
       "    // jQuery normalizes the pageX and pageY\n",
       "    // pageX,Y are the mouse positions relative to the document\n",
       "    // offset() returns the position of the element relative to the document\n",
       "    var x = e.pageX - $(targ).offset().left;\n",
       "    var y = e.pageY - $(targ).offset().top;\n",
       "\n",
       "    return {\"x\": x, \"y\": y};\n",
       "};\n",
       "\n",
       "mpl.figure.prototype.mouse_event = function(event, name) {\n",
       "    var canvas_pos = mpl.findpos(event)\n",
       "\n",
       "    if (name === 'button_press')\n",
       "    {\n",
       "        this.canvas.focus();\n",
       "        this.canvas_div.focus();\n",
       "    }\n",
       "\n",
       "    var x = canvas_pos.x;\n",
       "    var y = canvas_pos.y;\n",
       "\n",
       "    this.send_message(name, {x: x, y: y, button: event.button,\n",
       "                             step: event.step});\n",
       "\n",
       "    /* This prevents the web browser from automatically changing to\n",
       "     * the text insertion cursor when the button is pressed.  We want\n",
       "     * to control all of the cursor setting manually through the\n",
       "     * 'cursor' event from matplotlib */\n",
       "    event.preventDefault();\n",
       "    return false;\n",
       "}\n",
       "\n",
       "mpl.figure.prototype._key_event_extra = function(event, name) {\n",
       "    // Handle any extra behaviour associated with a key event\n",
       "}\n",
       "\n",
       "mpl.figure.prototype.key_event = function(event, name) {\n",
       "\n",
       "    // Prevent repeat events\n",
       "    if (name == 'key_press')\n",
       "    {\n",
       "        if (event.which === this._key)\n",
       "            return;\n",
       "        else\n",
       "            this._key = event.which;\n",
       "    }\n",
       "    if (name == 'key_release')\n",
       "        this._key = null;\n",
       "\n",
       "    var value = '';\n",
       "    if (event.ctrlKey && event.which != 17)\n",
       "        value += \"ctrl+\";\n",
       "    if (event.altKey && event.which != 18)\n",
       "        value += \"alt+\";\n",
       "    if (event.shiftKey && event.which != 16)\n",
       "        value += \"shift+\";\n",
       "\n",
       "    value += 'k';\n",
       "    value += event.which.toString();\n",
       "\n",
       "    this._key_event_extra(event, name);\n",
       "\n",
       "    this.send_message(name, {key: value});\n",
       "    return false;\n",
       "}\n",
       "\n",
       "mpl.figure.prototype.toolbar_button_onclick = function(name) {\n",
       "    if (name == 'download') {\n",
       "        this.handle_save(this, null);\n",
       "    } else {\n",
       "        this.send_message(\"toolbar_button\", {name: name});\n",
       "    }\n",
       "};\n",
       "\n",
       "mpl.figure.prototype.toolbar_button_onmouseover = function(tooltip) {\n",
       "    this.message.textContent = tooltip;\n",
       "};\n",
       "mpl.toolbar_items = [[\"Home\", \"Reset original view\", \"fa fa-home icon-home\", \"home\"], [\"Back\", \"Back to  previous view\", \"fa fa-arrow-left icon-arrow-left\", \"back\"], [\"Forward\", \"Forward to next view\", \"fa fa-arrow-right icon-arrow-right\", \"forward\"], [\"\", \"\", \"\", \"\"], [\"Pan\", \"Pan axes with left mouse, zoom with right\", \"fa fa-arrows icon-move\", \"pan\"], [\"Zoom\", \"Zoom to rectangle\", \"fa fa-square-o icon-check-empty\", \"zoom\"], [\"\", \"\", \"\", \"\"], [\"Download\", \"Download plot\", \"fa fa-floppy-o icon-save\", \"download\"]];\n",
       "\n",
       "mpl.extensions = [\"eps\", \"jpeg\", \"pdf\", \"png\", \"ps\", \"raw\", \"svg\", \"tif\"];\n",
       "\n",
       "mpl.default_extension = \"png\";var comm_websocket_adapter = function(comm) {\n",
       "    // Create a \"websocket\"-like object which calls the given IPython comm\n",
       "    // object with the appropriate methods. Currently this is a non binary\n",
       "    // socket, so there is still some room for performance tuning.\n",
       "    var ws = {};\n",
       "\n",
       "    ws.close = function() {\n",
       "        comm.close()\n",
       "    };\n",
       "    ws.send = function(m) {\n",
       "        //console.log('sending', m);\n",
       "        comm.send(m);\n",
       "    };\n",
       "    // Register the callback with on_msg.\n",
       "    comm.on_msg(function(msg) {\n",
       "        //console.log('receiving', msg['content']['data'], msg);\n",
       "        // Pass the mpl event to the overriden (by mpl) onmessage function.\n",
       "        ws.onmessage(msg['content']['data'])\n",
       "    });\n",
       "    return ws;\n",
       "}\n",
       "\n",
       "mpl.mpl_figure_comm = function(comm, msg) {\n",
       "    // This is the function which gets called when the mpl process\n",
       "    // starts-up an IPython Comm through the \"matplotlib\" channel.\n",
       "\n",
       "    var id = msg.content.data.id;\n",
       "    // Get hold of the div created by the display call when the Comm\n",
       "    // socket was opened in Python.\n",
       "    var element = $(\"#\" + id);\n",
       "    var ws_proxy = comm_websocket_adapter(comm)\n",
       "\n",
       "    function ondownload(figure, format) {\n",
       "        window.open(figure.imageObj.src);\n",
       "    }\n",
       "\n",
       "    var fig = new mpl.figure(id, ws_proxy,\n",
       "                           ondownload,\n",
       "                           element.get(0));\n",
       "\n",
       "    // Call onopen now - mpl needs it, as it is assuming we've passed it a real\n",
       "    // web socket which is closed, not our websocket->open comm proxy.\n",
       "    ws_proxy.onopen();\n",
       "\n",
       "    fig.parent_element = element.get(0);\n",
       "    fig.cell_info = mpl.find_output_cell(\"<div id='\" + id + \"'></div>\");\n",
       "    if (!fig.cell_info) {\n",
       "        console.error(\"Failed to find cell for figure\", id, fig);\n",
       "        return;\n",
       "    }\n",
       "\n",
       "    var output_index = fig.cell_info[2]\n",
       "    var cell = fig.cell_info[0];\n",
       "\n",
       "};\n",
       "\n",
       "mpl.figure.prototype.handle_close = function(fig, msg) {\n",
       "    // Update the output cell to use the data from the current canvas.\n",
       "    fig.push_to_output();\n",
       "    var dataURL = fig.canvas.toDataURL();\n",
       "    // Re-enable the keyboard manager in IPython - without this line, in FF,\n",
       "    // the notebook keyboard shortcuts fail.\n",
       "    IPython.keyboard_manager.enable()\n",
       "    $(fig.parent_element).html('<img src=\"' + dataURL + '\">');\n",
       "    fig.send_message('closing', {});\n",
       "    fig.ws.close()\n",
       "}\n",
       "\n",
       "mpl.figure.prototype.push_to_output = function(remove_interactive) {\n",
       "    // Turn the data on the canvas into data in the output cell.\n",
       "    var dataURL = this.canvas.toDataURL();\n",
       "    this.cell_info[1]['text/html'] = '<img src=\"' + dataURL + '\">';\n",
       "}\n",
       "\n",
       "mpl.figure.prototype.updated_canvas_event = function() {\n",
       "    // Tell IPython that the notebook contents must change.\n",
       "    IPython.notebook.set_dirty(true);\n",
       "    this.send_message(\"ack\", {});\n",
       "    var fig = this;\n",
       "    // Wait a second, then push the new image to the DOM so\n",
       "    // that it is saved nicely (might be nice to debounce this).\n",
       "    setTimeout(function () { fig.push_to_output() }, 1000);\n",
       "}\n",
       "\n",
       "mpl.figure.prototype._init_toolbar = function() {\n",
       "    var fig = this;\n",
       "\n",
       "    var nav_element = $('<div/>')\n",
       "    nav_element.attr('style', 'width: 100%');\n",
       "    this.root.append(nav_element);\n",
       "\n",
       "    // Define a callback function for later on.\n",
       "    function toolbar_event(event) {\n",
       "        return fig.toolbar_button_onclick(event['data']);\n",
       "    }\n",
       "    function toolbar_mouse_event(event) {\n",
       "        return fig.toolbar_button_onmouseover(event['data']);\n",
       "    }\n",
       "\n",
       "    for(var toolbar_ind in mpl.toolbar_items){\n",
       "        var name = mpl.toolbar_items[toolbar_ind][0];\n",
       "        var tooltip = mpl.toolbar_items[toolbar_ind][1];\n",
       "        var image = mpl.toolbar_items[toolbar_ind][2];\n",
       "        var method_name = mpl.toolbar_items[toolbar_ind][3];\n",
       "\n",
       "        if (!name) { continue; };\n",
       "\n",
       "        var button = $('<button class=\"btn btn-default\" href=\"#\" title=\"' + name + '\"><i class=\"fa ' + image + ' fa-lg\"></i></button>');\n",
       "        button.click(method_name, toolbar_event);\n",
       "        button.mouseover(tooltip, toolbar_mouse_event);\n",
       "        nav_element.append(button);\n",
       "    }\n",
       "\n",
       "    // Add the status bar.\n",
       "    var status_bar = $('<span class=\"mpl-message\" style=\"text-align:right; float: right;\"/>');\n",
       "    nav_element.append(status_bar);\n",
       "    this.message = status_bar[0];\n",
       "\n",
       "    // Add the close button to the window.\n",
       "    var buttongrp = $('<div class=\"btn-group inline pull-right\"></div>');\n",
       "    var button = $('<button class=\"btn btn-mini btn-danger\" href=\"#\" title=\"Close figure\"><i class=\"fa fa-times icon-remove icon-large\"></i></button>');\n",
       "    button.click(function (evt) { fig.handle_close(fig, {}); } );\n",
       "    button.mouseover('Close figure', toolbar_mouse_event);\n",
       "    buttongrp.append(button);\n",
       "    var titlebar = this.root.find($('.ui-dialog-titlebar'));\n",
       "    titlebar.prepend(buttongrp);\n",
       "}\n",
       "\n",
       "\n",
       "mpl.figure.prototype._canvas_extra_style = function(el){\n",
       "    // this is important to make the div 'focusable\n",
       "    el.attr('tabindex', 0)\n",
       "    // reach out to IPython and tell the keyboard manager to turn it's self\n",
       "    // off when our div gets focus\n",
       "\n",
       "    // location in version 3\n",
       "    if (IPython.notebook.keyboard_manager) {\n",
       "        IPython.notebook.keyboard_manager.register_events(el);\n",
       "    }\n",
       "    else {\n",
       "        // location in version 2\n",
       "        IPython.keyboard_manager.register_events(el);\n",
       "    }\n",
       "\n",
       "}\n",
       "\n",
       "mpl.figure.prototype._key_event_extra = function(event, name) {\n",
       "    var manager = IPython.notebook.keyboard_manager;\n",
       "    if (!manager)\n",
       "        manager = IPython.keyboard_manager;\n",
       "\n",
       "    // Check for shift+enter\n",
       "    if (event.shiftKey && event.which == 13) {\n",
       "        this.canvas_div.blur();\n",
       "        event.shiftKey = false;\n",
       "        // Send a \"J\" for go to next cell\n",
       "        event.which = 74;\n",
       "        event.keyCode = 74;\n",
       "        manager.command_mode();\n",
       "        manager.handle_keydown(event);\n",
       "    }\n",
       "}\n",
       "\n",
       "mpl.figure.prototype.handle_save = function(fig, msg) {\n",
       "    fig.ondownload(fig, null);\n",
       "}\n",
       "\n",
       "\n",
       "mpl.find_output_cell = function(html_output) {\n",
       "    // Return the cell and output element which can be found *uniquely* in the notebook.\n",
       "    // Note - this is a bit hacky, but it is done because the \"notebook_saving.Notebook\"\n",
       "    // IPython event is triggered only after the cells have been serialised, which for\n",
       "    // our purposes (turning an active figure into a static one), is too late.\n",
       "    var cells = IPython.notebook.get_cells();\n",
       "    var ncells = cells.length;\n",
       "    for (var i=0; i<ncells; i++) {\n",
       "        var cell = cells[i];\n",
       "        if (cell.cell_type === 'code'){\n",
       "            for (var j=0; j<cell.output_area.outputs.length; j++) {\n",
       "                var data = cell.output_area.outputs[j];\n",
       "                if (data.data) {\n",
       "                    // IPython >= 3 moved mimebundle to data attribute of output\n",
       "                    data = data.data;\n",
       "                }\n",
       "                if (data['text/html'] == html_output) {\n",
       "                    return [cell, data, j];\n",
       "                }\n",
       "            }\n",
       "        }\n",
       "    }\n",
       "}\n",
       "\n",
       "// Register the function which deals with the matplotlib target/channel.\n",
       "// The kernel may be null if the page has been refreshed.\n",
       "if (IPython.notebook.kernel != null) {\n",
       "    IPython.notebook.kernel.comm_manager.register_target('matplotlib', mpl.mpl_figure_comm);\n",
       "}\n"
      ],
      "text/plain": [
       "<IPython.core.display.Javascript object>"
      ]
     },
     "metadata": {},
     "output_type": "display_data"
    },
    {
     "data": {
      "text/html": [
       "<img src=\"data:image/png;base64,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\">"
      ],
      "text/plain": [
       "<IPython.core.display.HTML object>"
      ]
     },
     "metadata": {},
     "output_type": "display_data"
    },
    {
     "data": {
      "text/plain": [
       "<matplotlib.text.Text at 0x7f3a41bce750>"
      ]
     },
     "execution_count": 101,
     "metadata": {},
     "output_type": "execute_result"
    }
   ],
   "source": [
    "# TASK 7: plot the ROC curve\n",
    "import matplotlib\n",
    "%matplotlib nbagg\n",
    "from sklearn import metrics\n",
    "import pandas as pd\n",
    "from ggplot import *\n",
    "\n",
    "knn_preds = knn.predict_proba(X_test)[:,1]\n",
    "knn_fpr, knn_tpr, _ = metrics.roc_curve(y_test, knn_preds)\n",
    "\n",
    "nbm_preds = nbm.predict_proba(X_test)[:,1]\n",
    "nbm_fpr, nbm_tpr, _ = metrics.roc_curve(y_test, nbm_preds)\n",
    "\n",
    "nbg_preds = nbg.predict_proba(X_test)[:,1]\n",
    "nbg_fpr, nbg_tpr, _ = metrics.roc_curve(y_test, nbg_preds)\n",
    "\n",
    "nbb_preds = nbb.predict_proba(X_test)[:,1]\n",
    "nbb_fpr, nbb_tpr, _ = metrics.roc_curve(y_test, nbb_preds)\n",
    "\n",
    "logreg_preds = logreg.predict_proba(X_test)[:,1]\n",
    "logreg_fpr, logreg_tpr, _ = metrics.roc_curve(y_test, logreg_preds)\n",
    "\n",
    "\n",
    "plt.plot(knn_fpr, knn_tpr, color='blue')\n",
    "plt.plot(logreg_fpr, logreg_tpr, color='red')\n",
    "plt.plot(nbm_fpr, nbm_tpr, color='green')\n",
    "plt.plot(nbg_fpr, nbg_tpr, color='magenta')\n",
    "plt.plot(nbg_fpr, nbg_tpr, color='yellow')\n",
    "\n",
    "plt.xlim([0.0, 1.0])\n",
    "plt.ylim([0.0, 1.0])\n",
    "plt.xlabel('False Positive Rate (1 - Specificity)')\n",
    "plt.ylabel('True Positive Rate (Sensitivity)')\n",
    "\n",
    "\n"
   ]
  },
  {
   "cell_type": "code",
   "execution_count": null,
   "metadata": {
    "collapsed": true
   },
   "outputs": [],
   "source": []
  }
 ],
 "metadata": {
  "kernelspec": {
   "display_name": "Python 2",
   "language": "python",
   "name": "python2"
  },
  "language_info": {
   "codemirror_mode": {
    "name": "ipython",
    "version": 2
   },
   "file_extension": ".py",
   "mimetype": "text/x-python",
   "name": "python",
   "nbconvert_exporter": "python",
   "pygments_lexer": "ipython2",
   "version": "2.7.10"
  }
 },
 "nbformat": 4,
 "nbformat_minor": 0
}
