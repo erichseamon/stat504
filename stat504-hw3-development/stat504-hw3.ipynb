{
 "cells": [
  {
   "cell_type": "markdown",
   "metadata": {},
   "source": [
    "# STATISTICS 504 HW #3 <br>\n",
    "12/04/2015 <br>\n",
    "Fall 2015 <br>\n",
    "Erich Seamon <br>\n",
    "University of Idaho <br>\n",
    "erichs@uidaho.edu <br>\n",
    "http://github.com/erichseamon.com/stat504-python <br>"
   ]
  },
  {
   "cell_type": "markdown",
   "metadata": {},
   "source": [
    "# OVERVIEW\n",
    "\n",
    "Conduct a data analysis for the above two Data Sets #1 and #2 using all you have learned in the semester to cleanup, build, and  compare/contrast the performance (10-CV with AUC- measure) of various models (including variables/features selections, \n",
    "\n",
    "1) Null,  \n",
    "2) NB, <br> \n",
    "3) knn, <br> \n",
    "4) logistic regression, <br> \n",
    "5) SVM Polynomial kernel, <br> \n",
    "6) SVM Gaussian kernel, <br> \n",
    "7) Tree, 7) Bagging, <br> \n",
    "8) Random Forest, <br> \n",
    "9) Noisy Replications Ensembling, <br> \n",
    "10) plus one feasible model of your choice which was not covered in class). <br> <br> \n",
    "\n",
    "Overlay all model ROC curves in one figure for the same data set, with a legend key. Discuss your modeling process, interesting findings, and conclusions.\n",
    "\n",
    "### DATA1: \n",
    "\n",
    "STRONG-R Male Sample_Reduced_2014-03-14.csv (with variables description in  STRONG Codebook.xls). The response variable is FelRecidYr3 (1 versus 0) - Felony recidivism in 3 years.\n",
    "\n",
    "### DATA2: \n",
    "\n",
    "reviews_Musical_Instruments. The response variables is the reviewer’s rating in \"overall\": 5.0 versus 1.0 (ignore the other in-between ratings of 4.0, 3.0, and 2.0)\n",
    "\n",
    "### Specifics:\n",
    "\n",
    "•\tUse 10CV mAUC measure to find the optimal model hyper-parameters <br>\n",
    "•\tFor SVM, do both the polynomial and Gaussian kernel with the optimal model hyper-meters <br>\n",
    "•\tFor Ensembling, do Bagging, Random Forest, and Noisy Replications <br>\n",
    "•\tYou probably would have to run these complicated models on Amazon Web Service (AWS) at http://aws.amazon.com/  <br>\n",
    "•\tMeasure and report the execution time for running each of these 10 models in Python.   <br>\n",
    "\n",
    "Make sure that all your Python codes are documented and bug-free-executable, and all your reported results are reproducible. 15% will be deducted from non-executable non-reproducible codes/results.\n",
    "\n",
    "Finally, please make sure that all your 3 .ipynb Notebooks for Homework#1, #2, and #3 should be in the same Github directory so they can be downloaded in one zip file.\n"
   ]
  },
  {
   "cell_type": "markdown",
   "metadata": {},
   "source": [
    "# Homework Organization\n",
    "\n",
    "All Models are run, first against Data1 (recidivism).  Next, all models are run against Data2 (Music).  Final results (ROC graphs, as well as CV.time.memory graphs) are in the RESULTS section at the end of the document.<br>\n",
    "\n",
    "\n",
    "##### DATA1 RECIDIVISM<br>\n",
    "\n",
    "Step1: Data Loading and Feature Extraction<br>\n",
    "Step2: Feature Selection<br>\n",
    "Step3: Model Evaluation<br>\n",
    "* Model 1:Null<br>\n",
    "* Model 2:NB Multinomial<br>\n",
    "* Model 3:NB Gaussian<br>\n",
    "* Model 4:NB Bernoulli<br>\n",
    "* Model 5:KNN<br>\n",
    "* Model 6:Logitstic Regression<br>\n",
    "* Model 7:Decision Tree<br>\n",
    "* Model 8:Bagged Decision Tree<br>\n",
    "* Model 9:Random Forest<br>\n",
    "* Model 10:Bagged Random Forest<br>\n",
    "* Model 11:Noisy Replication<br>\n",
    "* Model 12:XXX<br>\n",
    "\n",
    "##### DATA2 MUSIC<br>\n",
    "\n",
    "Step1: Data Loading and Feature Extraction<br>\n",
    "Step2: Feature Selection<br>\n",
    "Step3: Model Evaluation<br>\n",
    "* Model 1:Null<br>\n",
    "* Model 2:NB Multinomial<br>\n",
    "* Model 3:NB Gaussian<br>\n",
    "* Model 4:NB Bernoulli<br>\n",
    "* Model 5:KNN<br>\n",
    "* Model 6:Logitstic Regression<br>\n",
    "* Model 7:Decision Tree<br>\n",
    "* Model 8:Bagged Decision Tree<br>\n",
    "* Model 9:Random Forest<br>\n",
    "* Model 10:Bagged Random Forest<br>\n",
    "* Model 11:Noisy Replication<br>\n",
    "* Model 12:XXX<br>\n",
    "\n",
    "\n",
    "##### RESULTS - all data<br>\n"
   ]
  },
  {
   "cell_type": "code",
   "execution_count": 1,
   "metadata": {
    "collapsed": false
   },
   "outputs": [
    {
     "name": "stderr",
     "output_type": "stream",
     "text": [
      "/usr/local/lib/python2.7/site-packages/IPython/kernel/__init__.py:13: ShimWarning: The `IPython.kernel` package has been deprecated. You should import from ipykernel or jupyter_client instead.\n",
      "  \"You should import from ipykernel or jupyter_client instead.\", ShimWarning)\n"
     ]
    }
   ],
   "source": [
    "import matplotlib\n",
    "%matplotlib nbagg\n",
    "\n",
    "import json\n",
    "from pprint import pprint\n",
    "from pyproj import Proj\n",
    "import StringIO\n",
    "from pandas import DataFrame\n",
    "import pandas as pd\n",
    "import seaborn as sns\n",
    "import pydot\n",
    "from IPython.display import Image\n",
    "import scipy.sparse as sp\n",
    "import urllib\n",
    "import math\n",
    "import sklearn\n",
    "import psutil\n",
    "import sys\n",
    "\n",
    "from urllib2 import Request, urlopen\n",
    "import json\n",
    "from pandas.io.json import json_normalize\n",
    "import numpy\n",
    "from sklearn.cross_validation import cross_val_score\n",
    "\n",
    "import pandas as pd\n",
    "import numpy as np\n",
    "from sklearn.linear_model import LinearRegression\n",
    "\n",
    "from sklearn.cross_validation import train_test_split\n",
    "from sklearn.neighbors import KNeighborsClassifier\n",
    "from sklearn import metrics\n",
    "import pandas as pd\n",
    "import time\n",
    "from memory_profiler import profile\n",
    "\n",
    "from sklearn.feature_extraction.text import CountVectorizer\n",
    "from sklearn.cross_validation import KFold\n",
    "import matplotlib.pyplot as plt\n",
    "from sklearn import metrics\n",
    "from sklearn.ensemble import RandomForestClassifier\n",
    "from sklearn.ensemble import BaggingClassifier\n",
    "from sklearn.metrics import roc_auc_score\n",
    "from sklearn.metrics import classification_report\n",
    "from sklearn.dummy import DummyClassifier\n",
    "from sklearn.feature_selection import SelectKBest, chi2, f_classif\n",
    "from sklearn.feature_selection.univariate_selection import SelectFpr"
   ]
  },
  {
   "cell_type": "code",
   "execution_count": 2,
   "metadata": {
    "collapsed": false
   },
   "outputs": [
    {
     "name": "stdout",
     "output_type": "stream",
     "text": [
      "The scikit-learn version is 0.16.1.\n"
     ]
    }
   ],
   "source": [
    "print('The scikit-learn version is {}.'.format(sklearn.__version__))"
   ]
  },
  {
   "cell_type": "code",
   "execution_count": 3,
   "metadata": {
    "collapsed": false
   },
   "outputs": [],
   "source": [
    "%load_ext memory_profiler"
   ]
  },
  {
   "cell_type": "markdown",
   "metadata": {},
   "source": [
    "# DATA1 - RECIDIVISM"
   ]
  },
  {
   "cell_type": "markdown",
   "metadata": {},
   "source": [
    "# STEP 1: DATA LOADING - Recidivism"
   ]
  },
  {
   "cell_type": "code",
   "execution_count": 4,
   "metadata": {
    "collapsed": false
   },
   "outputs": [
    {
     "data": {
      "text/plain": [
       "('/git/data/hw3/strong.csv', <httplib.HTTPMessage instance at 0x7f6eaa080f80>)"
      ]
     },
     "execution_count": 4,
     "metadata": {},
     "output_type": "execute_result"
    }
   ],
   "source": [
    "urllib.urlretrieve('http://webpages.uidaho.edu/~stevel/504/STRONG-R Male Sample_Reduced_2014-03-14.csv', '/git/data/hw3/strong.csv')"
   ]
  },
  {
   "cell_type": "code",
   "execution_count": 5,
   "metadata": {
    "collapsed": true
   },
   "outputs": [],
   "source": [
    "data1 = pd.read_csv('/git/data/hw3/strong.csv')\n",
    "data1['FelRecidYr3'].replace('', np.nan, inplace=True)"
   ]
  },
  {
   "cell_type": "code",
   "execution_count": 6,
   "metadata": {
    "collapsed": false
   },
   "outputs": [],
   "source": [
    "filter = data1[\"FelRecidYr3\"] != \" \"\n",
    "data1 = data1[filter]\n",
    "data1_a = data1\n",
    "y = data1_a.FelRecidYr3.astype(int)\n"
   ]
  },
  {
   "cell_type": "code",
   "execution_count": 7,
   "metadata": {
    "collapsed": false
   },
   "outputs": [],
   "source": [
    "#data1.drop(data1.columns[FelRecidYr3], axis=1, inplace=True)\n",
    "\n",
    "#datanew = data1.drop(data1.FelRecidYr3)\n",
    "del data1['FelRecidYr3']\n",
    "del data1['Unnamed: 338']\n",
    "del data1['Unnamed: 339']\n",
    "del data1['Unnamed: 340']\n"
   ]
  },
  {
   "cell_type": "code",
   "execution_count": 8,
   "metadata": {
    "collapsed": false
   },
   "outputs": [],
   "source": [
    "#feature_cols2 = ['AgeAsses3RN', 'AgeAtFirstConvR', 'JvFelCon', 'JvVioCon', 'JvComit', 'HomConv', 'SexConv', 'VProCon', 'AssaCon', 'DomVio', 'CopFodNd3', 'CopBugNd3', 'CopTraNd3', 'CopHygNd3', 'CopMedNd3', 'CopMHNd3']\n",
    "#data1.drop(data1.columns[\"FelrecidYr3\"], axis=1)\n",
    "X = data1\n",
    "#y = data1_a.FelRecidYr3.astype(int)\n",
    "#y = pd.DataFrame(strongy)"
   ]
  },
  {
   "cell_type": "markdown",
   "metadata": {},
   "source": [
    "# STEP 2: FEATURE SELECTION - Recidivism"
   ]
  },
  {
   "cell_type": "markdown",
   "metadata": {},
   "source": [
    "## Of all the possible feature variables, which ones are the most important?  Picking the best 10 features from Recidivism dataset\n",
    "\n",
    "### Using two methods: \n",
    "\n",
    "Random Forest with feature importance <br>\n",
    "Using Univariate Kbest selection - and rank by pvalue\n"
   ]
  },
  {
   "cell_type": "markdown",
   "metadata": {},
   "source": [
    "## Use random forest to score all the features"
   ]
  },
  {
   "cell_type": "code",
   "execution_count": 9,
   "metadata": {
    "collapsed": false
   },
   "outputs": [
    {
     "data": {
      "text/plain": [
       "RandomForestClassifier(bootstrap=True, class_weight=None, criterion='gini',\n",
       "            max_depth=None, max_features='auto', max_leaf_nodes=None,\n",
       "            min_samples_leaf=1, min_samples_split=2,\n",
       "            min_weight_fraction_leaf=0.0, n_estimators=100, n_jobs=1,\n",
       "            oob_score=True, random_state=42, verbose=0, warm_start=False)"
      ]
     },
     "execution_count": 9,
     "metadata": {},
     "output_type": "execute_result"
    }
   ],
   "source": [
    "rf = RandomForestClassifier(n_estimators=100, oob_score=True, random_state=42)\n",
    "rf.fit(X, y)\n",
    "#rf_scores = cross_val_score(rf, X, y, cv=KFold(X.shape[0], n_folds=10, shuffle=True), scoring='accuracy')\n",
    "#rf_auc_scores = cross_val_score(rf, X, y, cv=KFold(X.shape[0], n_folds=10, shuffle=True), scoring='roc_auc')"
   ]
  },
  {
   "cell_type": "code",
   "execution_count": 10,
   "metadata": {
    "collapsed": false,
    "scrolled": false
   },
   "outputs": [
    {
     "data": {
      "application/javascript": [
       "/* Put everything inside the global mpl namespace */\n",
       "window.mpl = {};\n",
       "\n",
       "mpl.get_websocket_type = function() {\n",
       "    if (typeof(WebSocket) !== 'undefined') {\n",
       "        return WebSocket;\n",
       "    } else if (typeof(MozWebSocket) !== 'undefined') {\n",
       "        return MozWebSocket;\n",
       "    } else {\n",
       "        alert('Your browser does not have WebSocket support.' +\n",
       "              'Please try Chrome, Safari or Firefox ≥ 6. ' +\n",
       "              'Firefox 4 and 5 are also supported but you ' +\n",
       "              'have to enable WebSockets in about:config.');\n",
       "    };\n",
       "}\n",
       "\n",
       "mpl.figure = function(figure_id, websocket, ondownload, parent_element) {\n",
       "    this.id = figure_id;\n",
       "\n",
       "    this.ws = websocket;\n",
       "\n",
       "    this.supports_binary = (this.ws.binaryType != undefined);\n",
       "\n",
       "    if (!this.supports_binary) {\n",
       "        var warnings = document.getElementById(\"mpl-warnings\");\n",
       "        if (warnings) {\n",
       "            warnings.style.display = 'block';\n",
       "            warnings.textContent = (\n",
       "                \"This browser does not support binary websocket messages. \" +\n",
       "                    \"Performance may be slow.\");\n",
       "        }\n",
       "    }\n",
       "\n",
       "    this.imageObj = new Image();\n",
       "\n",
       "    this.context = undefined;\n",
       "    this.message = undefined;\n",
       "    this.canvas = undefined;\n",
       "    this.rubberband_canvas = undefined;\n",
       "    this.rubberband_context = undefined;\n",
       "    this.format_dropdown = undefined;\n",
       "\n",
       "    this.image_mode = 'full';\n",
       "\n",
       "    this.root = $('<div/>');\n",
       "    this._root_extra_style(this.root)\n",
       "    this.root.attr('style', 'display: inline-block');\n",
       "\n",
       "    $(parent_element).append(this.root);\n",
       "\n",
       "    this._init_header(this);\n",
       "    this._init_canvas(this);\n",
       "    this._init_toolbar(this);\n",
       "\n",
       "    var fig = this;\n",
       "\n",
       "    this.waiting = false;\n",
       "\n",
       "    this.ws.onopen =  function () {\n",
       "            fig.send_message(\"supports_binary\", {value: fig.supports_binary});\n",
       "            fig.send_message(\"send_image_mode\", {});\n",
       "            fig.send_message(\"refresh\", {});\n",
       "        }\n",
       "\n",
       "    this.imageObj.onload = function() {\n",
       "            if (fig.image_mode == 'full') {\n",
       "                // Full images could contain transparency (where diff images\n",
       "                // almost always do), so we need to clear the canvas so that\n",
       "                // there is no ghosting.\n",
       "                fig.context.clearRect(0, 0, fig.canvas.width, fig.canvas.height);\n",
       "            }\n",
       "            fig.context.drawImage(fig.imageObj, 0, 0);\n",
       "            fig.waiting = false;\n",
       "        };\n",
       "\n",
       "    this.imageObj.onunload = function() {\n",
       "        this.ws.close();\n",
       "    }\n",
       "\n",
       "    this.ws.onmessage = this._make_on_message_function(this);\n",
       "\n",
       "    this.ondownload = ondownload;\n",
       "}\n",
       "\n",
       "mpl.figure.prototype._init_header = function() {\n",
       "    var titlebar = $(\n",
       "        '<div class=\"ui-dialog-titlebar ui-widget-header ui-corner-all ' +\n",
       "        'ui-helper-clearfix\"/>');\n",
       "    var titletext = $(\n",
       "        '<div class=\"ui-dialog-title\" style=\"width: 100%; ' +\n",
       "        'text-align: center; padding: 3px;\"/>');\n",
       "    titlebar.append(titletext)\n",
       "    this.root.append(titlebar);\n",
       "    this.header = titletext[0];\n",
       "}\n",
       "\n",
       "\n",
       "\n",
       "mpl.figure.prototype._canvas_extra_style = function(canvas_div) {\n",
       "\n",
       "}\n",
       "\n",
       "\n",
       "mpl.figure.prototype._root_extra_style = function(canvas_div) {\n",
       "\n",
       "}\n",
       "\n",
       "mpl.figure.prototype._init_canvas = function() {\n",
       "    var fig = this;\n",
       "\n",
       "    var canvas_div = $('<div/>');\n",
       "\n",
       "    canvas_div.attr('style', 'position: relative; clear: both; outline: 0');\n",
       "\n",
       "    function canvas_keyboard_event(event) {\n",
       "        return fig.key_event(event, event['data']);\n",
       "    }\n",
       "\n",
       "    canvas_div.keydown('key_press', canvas_keyboard_event);\n",
       "    canvas_div.keyup('key_release', canvas_keyboard_event);\n",
       "    this.canvas_div = canvas_div\n",
       "    this._canvas_extra_style(canvas_div)\n",
       "    this.root.append(canvas_div);\n",
       "\n",
       "    var canvas = $('<canvas/>');\n",
       "    canvas.addClass('mpl-canvas');\n",
       "    canvas.attr('style', \"left: 0; top: 0; z-index: 0; outline: 0\")\n",
       "\n",
       "    this.canvas = canvas[0];\n",
       "    this.context = canvas[0].getContext(\"2d\");\n",
       "\n",
       "    var rubberband = $('<canvas/>');\n",
       "    rubberband.attr('style', \"position: absolute; left: 0; top: 0; z-index: 1;\")\n",
       "\n",
       "    var pass_mouse_events = true;\n",
       "\n",
       "    canvas_div.resizable({\n",
       "        start: function(event, ui) {\n",
       "            pass_mouse_events = false;\n",
       "        },\n",
       "        resize: function(event, ui) {\n",
       "            fig.request_resize(ui.size.width, ui.size.height);\n",
       "        },\n",
       "        stop: function(event, ui) {\n",
       "            pass_mouse_events = true;\n",
       "            fig.request_resize(ui.size.width, ui.size.height);\n",
       "        },\n",
       "    });\n",
       "\n",
       "    function mouse_event_fn(event) {\n",
       "        if (pass_mouse_events)\n",
       "            return fig.mouse_event(event, event['data']);\n",
       "    }\n",
       "\n",
       "    rubberband.mousedown('button_press', mouse_event_fn);\n",
       "    rubberband.mouseup('button_release', mouse_event_fn);\n",
       "    // Throttle sequential mouse events to 1 every 20ms.\n",
       "    rubberband.mousemove('motion_notify', mouse_event_fn);\n",
       "\n",
       "    rubberband.mouseenter('figure_enter', mouse_event_fn);\n",
       "    rubberband.mouseleave('figure_leave', mouse_event_fn);\n",
       "\n",
       "    canvas_div.on(\"wheel\", function (event) {\n",
       "        event = event.originalEvent;\n",
       "        event['data'] = 'scroll'\n",
       "        if (event.deltaY < 0) {\n",
       "            event.step = 1;\n",
       "        } else {\n",
       "            event.step = -1;\n",
       "        }\n",
       "        mouse_event_fn(event);\n",
       "    });\n",
       "\n",
       "    canvas_div.append(canvas);\n",
       "    canvas_div.append(rubberband);\n",
       "\n",
       "    this.rubberband = rubberband;\n",
       "    this.rubberband_canvas = rubberband[0];\n",
       "    this.rubberband_context = rubberband[0].getContext(\"2d\");\n",
       "    this.rubberband_context.strokeStyle = \"#000000\";\n",
       "\n",
       "    this._resize_canvas = function(width, height) {\n",
       "        // Keep the size of the canvas, canvas container, and rubber band\n",
       "        // canvas in synch.\n",
       "        canvas_div.css('width', width)\n",
       "        canvas_div.css('height', height)\n",
       "\n",
       "        canvas.attr('width', width);\n",
       "        canvas.attr('height', height);\n",
       "\n",
       "        rubberband.attr('width', width);\n",
       "        rubberband.attr('height', height);\n",
       "    }\n",
       "\n",
       "    // Set the figure to an initial 600x600px, this will subsequently be updated\n",
       "    // upon first draw.\n",
       "    this._resize_canvas(600, 600);\n",
       "\n",
       "    // Disable right mouse context menu.\n",
       "    $(this.rubberband_canvas).bind(\"contextmenu\",function(e){\n",
       "        return false;\n",
       "    });\n",
       "\n",
       "    function set_focus () {\n",
       "        canvas.focus();\n",
       "        canvas_div.focus();\n",
       "    }\n",
       "\n",
       "    window.setTimeout(set_focus, 100);\n",
       "}\n",
       "\n",
       "mpl.figure.prototype._init_toolbar = function() {\n",
       "    var fig = this;\n",
       "\n",
       "    var nav_element = $('<div/>')\n",
       "    nav_element.attr('style', 'width: 100%');\n",
       "    this.root.append(nav_element);\n",
       "\n",
       "    // Define a callback function for later on.\n",
       "    function toolbar_event(event) {\n",
       "        return fig.toolbar_button_onclick(event['data']);\n",
       "    }\n",
       "    function toolbar_mouse_event(event) {\n",
       "        return fig.toolbar_button_onmouseover(event['data']);\n",
       "    }\n",
       "\n",
       "    for(var toolbar_ind in mpl.toolbar_items) {\n",
       "        var name = mpl.toolbar_items[toolbar_ind][0];\n",
       "        var tooltip = mpl.toolbar_items[toolbar_ind][1];\n",
       "        var image = mpl.toolbar_items[toolbar_ind][2];\n",
       "        var method_name = mpl.toolbar_items[toolbar_ind][3];\n",
       "\n",
       "        if (!name) {\n",
       "            // put a spacer in here.\n",
       "            continue;\n",
       "        }\n",
       "        var button = $('<button/>');\n",
       "        button.addClass('ui-button ui-widget ui-state-default ui-corner-all ' +\n",
       "                        'ui-button-icon-only');\n",
       "        button.attr('role', 'button');\n",
       "        button.attr('aria-disabled', 'false');\n",
       "        button.click(method_name, toolbar_event);\n",
       "        button.mouseover(tooltip, toolbar_mouse_event);\n",
       "\n",
       "        var icon_img = $('<span/>');\n",
       "        icon_img.addClass('ui-button-icon-primary ui-icon');\n",
       "        icon_img.addClass(image);\n",
       "        icon_img.addClass('ui-corner-all');\n",
       "\n",
       "        var tooltip_span = $('<span/>');\n",
       "        tooltip_span.addClass('ui-button-text');\n",
       "        tooltip_span.html(tooltip);\n",
       "\n",
       "        button.append(icon_img);\n",
       "        button.append(tooltip_span);\n",
       "\n",
       "        nav_element.append(button);\n",
       "    }\n",
       "\n",
       "    var fmt_picker_span = $('<span/>');\n",
       "\n",
       "    var fmt_picker = $('<select/>');\n",
       "    fmt_picker.addClass('mpl-toolbar-option ui-widget ui-widget-content');\n",
       "    fmt_picker_span.append(fmt_picker);\n",
       "    nav_element.append(fmt_picker_span);\n",
       "    this.format_dropdown = fmt_picker[0];\n",
       "\n",
       "    for (var ind in mpl.extensions) {\n",
       "        var fmt = mpl.extensions[ind];\n",
       "        var option = $(\n",
       "            '<option/>', {selected: fmt === mpl.default_extension}).html(fmt);\n",
       "        fmt_picker.append(option)\n",
       "    }\n",
       "\n",
       "    // Add hover states to the ui-buttons\n",
       "    $( \".ui-button\" ).hover(\n",
       "        function() { $(this).addClass(\"ui-state-hover\");},\n",
       "        function() { $(this).removeClass(\"ui-state-hover\");}\n",
       "    );\n",
       "\n",
       "    var status_bar = $('<span class=\"mpl-message\"/>');\n",
       "    nav_element.append(status_bar);\n",
       "    this.message = status_bar[0];\n",
       "}\n",
       "\n",
       "mpl.figure.prototype.request_resize = function(x_pixels, y_pixels) {\n",
       "    // Request matplotlib to resize the figure. Matplotlib will then trigger a resize in the client,\n",
       "    // which will in turn request a refresh of the image.\n",
       "    this.send_message('resize', {'width': x_pixels, 'height': y_pixels});\n",
       "}\n",
       "\n",
       "mpl.figure.prototype.send_message = function(type, properties) {\n",
       "    properties['type'] = type;\n",
       "    properties['figure_id'] = this.id;\n",
       "    this.ws.send(JSON.stringify(properties));\n",
       "}\n",
       "\n",
       "mpl.figure.prototype.send_draw_message = function() {\n",
       "    if (!this.waiting) {\n",
       "        this.waiting = true;\n",
       "        this.ws.send(JSON.stringify({type: \"draw\", figure_id: this.id}));\n",
       "    }\n",
       "}\n",
       "\n",
       "\n",
       "mpl.figure.prototype.handle_save = function(fig, msg) {\n",
       "    var format_dropdown = fig.format_dropdown;\n",
       "    var format = format_dropdown.options[format_dropdown.selectedIndex].value;\n",
       "    fig.ondownload(fig, format);\n",
       "}\n",
       "\n",
       "\n",
       "mpl.figure.prototype.handle_resize = function(fig, msg) {\n",
       "    var size = msg['size'];\n",
       "    if (size[0] != fig.canvas.width || size[1] != fig.canvas.height) {\n",
       "        fig._resize_canvas(size[0], size[1]);\n",
       "        fig.send_message(\"refresh\", {});\n",
       "    };\n",
       "}\n",
       "\n",
       "mpl.figure.prototype.handle_rubberband = function(fig, msg) {\n",
       "    var x0 = msg['x0'];\n",
       "    var y0 = fig.canvas.height - msg['y0'];\n",
       "    var x1 = msg['x1'];\n",
       "    var y1 = fig.canvas.height - msg['y1'];\n",
       "    x0 = Math.floor(x0) + 0.5;\n",
       "    y0 = Math.floor(y0) + 0.5;\n",
       "    x1 = Math.floor(x1) + 0.5;\n",
       "    y1 = Math.floor(y1) + 0.5;\n",
       "    var min_x = Math.min(x0, x1);\n",
       "    var min_y = Math.min(y0, y1);\n",
       "    var width = Math.abs(x1 - x0);\n",
       "    var height = Math.abs(y1 - y0);\n",
       "\n",
       "    fig.rubberband_context.clearRect(\n",
       "        0, 0, fig.canvas.width, fig.canvas.height);\n",
       "\n",
       "    fig.rubberband_context.strokeRect(min_x, min_y, width, height);\n",
       "}\n",
       "\n",
       "mpl.figure.prototype.handle_figure_label = function(fig, msg) {\n",
       "    // Updates the figure title.\n",
       "    fig.header.textContent = msg['label'];\n",
       "}\n",
       "\n",
       "mpl.figure.prototype.handle_cursor = function(fig, msg) {\n",
       "    var cursor = msg['cursor'];\n",
       "    switch(cursor)\n",
       "    {\n",
       "    case 0:\n",
       "        cursor = 'pointer';\n",
       "        break;\n",
       "    case 1:\n",
       "        cursor = 'default';\n",
       "        break;\n",
       "    case 2:\n",
       "        cursor = 'crosshair';\n",
       "        break;\n",
       "    case 3:\n",
       "        cursor = 'move';\n",
       "        break;\n",
       "    }\n",
       "    fig.rubberband_canvas.style.cursor = cursor;\n",
       "}\n",
       "\n",
       "mpl.figure.prototype.handle_message = function(fig, msg) {\n",
       "    fig.message.textContent = msg['message'];\n",
       "}\n",
       "\n",
       "mpl.figure.prototype.handle_draw = function(fig, msg) {\n",
       "    // Request the server to send over a new figure.\n",
       "    fig.send_draw_message();\n",
       "}\n",
       "\n",
       "mpl.figure.prototype.handle_image_mode = function(fig, msg) {\n",
       "    fig.image_mode = msg['mode'];\n",
       "}\n",
       "\n",
       "mpl.figure.prototype.updated_canvas_event = function() {\n",
       "    // Called whenever the canvas gets updated.\n",
       "    this.send_message(\"ack\", {});\n",
       "}\n",
       "\n",
       "// A function to construct a web socket function for onmessage handling.\n",
       "// Called in the figure constructor.\n",
       "mpl.figure.prototype._make_on_message_function = function(fig) {\n",
       "    return function socket_on_message(evt) {\n",
       "        if (evt.data instanceof Blob) {\n",
       "            /* FIXME: We get \"Resource interpreted as Image but\n",
       "             * transferred with MIME type text/plain:\" errors on\n",
       "             * Chrome.  But how to set the MIME type?  It doesn't seem\n",
       "             * to be part of the websocket stream */\n",
       "            evt.data.type = \"image/png\";\n",
       "\n",
       "            /* Free the memory for the previous frames */\n",
       "            if (fig.imageObj.src) {\n",
       "                (window.URL || window.webkitURL).revokeObjectURL(\n",
       "                    fig.imageObj.src);\n",
       "            }\n",
       "\n",
       "            fig.imageObj.src = (window.URL || window.webkitURL).createObjectURL(\n",
       "                evt.data);\n",
       "            fig.updated_canvas_event();\n",
       "            return;\n",
       "        }\n",
       "        else if (typeof evt.data === 'string' && evt.data.slice(0, 21) == \"data:image/png;base64\") {\n",
       "            fig.imageObj.src = evt.data;\n",
       "            fig.updated_canvas_event();\n",
       "            return;\n",
       "        }\n",
       "\n",
       "        var msg = JSON.parse(evt.data);\n",
       "        var msg_type = msg['type'];\n",
       "\n",
       "        // Call the  \"handle_{type}\" callback, which takes\n",
       "        // the figure and JSON message as its only arguments.\n",
       "        try {\n",
       "            var callback = fig[\"handle_\" + msg_type];\n",
       "        } catch (e) {\n",
       "            console.log(\"No handler for the '\" + msg_type + \"' message type: \", msg);\n",
       "            return;\n",
       "        }\n",
       "\n",
       "        if (callback) {\n",
       "            try {\n",
       "                // console.log(\"Handling '\" + msg_type + \"' message: \", msg);\n",
       "                callback(fig, msg);\n",
       "            } catch (e) {\n",
       "                console.log(\"Exception inside the 'handler_\" + msg_type + \"' callback:\", e, e.stack, msg);\n",
       "            }\n",
       "        }\n",
       "    };\n",
       "}\n",
       "\n",
       "// from http://stackoverflow.com/questions/1114465/getting-mouse-location-in-canvas\n",
       "mpl.findpos = function(e) {\n",
       "    //this section is from http://www.quirksmode.org/js/events_properties.html\n",
       "    var targ;\n",
       "    if (!e)\n",
       "        e = window.event;\n",
       "    if (e.target)\n",
       "        targ = e.target;\n",
       "    else if (e.srcElement)\n",
       "        targ = e.srcElement;\n",
       "    if (targ.nodeType == 3) // defeat Safari bug\n",
       "        targ = targ.parentNode;\n",
       "\n",
       "    // jQuery normalizes the pageX and pageY\n",
       "    // pageX,Y are the mouse positions relative to the document\n",
       "    // offset() returns the position of the element relative to the document\n",
       "    var x = e.pageX - $(targ).offset().left;\n",
       "    var y = e.pageY - $(targ).offset().top;\n",
       "\n",
       "    return {\"x\": x, \"y\": y};\n",
       "};\n",
       "\n",
       "mpl.figure.prototype.mouse_event = function(event, name) {\n",
       "    var canvas_pos = mpl.findpos(event)\n",
       "\n",
       "    if (name === 'button_press')\n",
       "    {\n",
       "        this.canvas.focus();\n",
       "        this.canvas_div.focus();\n",
       "    }\n",
       "\n",
       "    var x = canvas_pos.x;\n",
       "    var y = canvas_pos.y;\n",
       "\n",
       "    this.send_message(name, {x: x, y: y, button: event.button,\n",
       "                             step: event.step});\n",
       "\n",
       "    /* This prevents the web browser from automatically changing to\n",
       "     * the text insertion cursor when the button is pressed.  We want\n",
       "     * to control all of the cursor setting manually through the\n",
       "     * 'cursor' event from matplotlib */\n",
       "    event.preventDefault();\n",
       "    return false;\n",
       "}\n",
       "\n",
       "mpl.figure.prototype._key_event_extra = function(event, name) {\n",
       "    // Handle any extra behaviour associated with a key event\n",
       "}\n",
       "\n",
       "mpl.figure.prototype.key_event = function(event, name) {\n",
       "\n",
       "    // Prevent repeat events\n",
       "    if (name == 'key_press')\n",
       "    {\n",
       "        if (event.which === this._key)\n",
       "            return;\n",
       "        else\n",
       "            this._key = event.which;\n",
       "    }\n",
       "    if (name == 'key_release')\n",
       "        this._key = null;\n",
       "\n",
       "    var value = '';\n",
       "    if (event.ctrlKey && event.which != 17)\n",
       "        value += \"ctrl+\";\n",
       "    if (event.altKey && event.which != 18)\n",
       "        value += \"alt+\";\n",
       "    if (event.shiftKey && event.which != 16)\n",
       "        value += \"shift+\";\n",
       "\n",
       "    value += 'k';\n",
       "    value += event.which.toString();\n",
       "\n",
       "    this._key_event_extra(event, name);\n",
       "\n",
       "    this.send_message(name, {key: value});\n",
       "    return false;\n",
       "}\n",
       "\n",
       "mpl.figure.prototype.toolbar_button_onclick = function(name) {\n",
       "    if (name == 'download') {\n",
       "        this.handle_save(this, null);\n",
       "    } else {\n",
       "        this.send_message(\"toolbar_button\", {name: name});\n",
       "    }\n",
       "};\n",
       "\n",
       "mpl.figure.prototype.toolbar_button_onmouseover = function(tooltip) {\n",
       "    this.message.textContent = tooltip;\n",
       "};\n",
       "mpl.toolbar_items = [[\"Home\", \"Reset original view\", \"fa fa-home icon-home\", \"home\"], [\"Back\", \"Back to  previous view\", \"fa fa-arrow-left icon-arrow-left\", \"back\"], [\"Forward\", \"Forward to next view\", \"fa fa-arrow-right icon-arrow-right\", \"forward\"], [\"\", \"\", \"\", \"\"], [\"Pan\", \"Pan axes with left mouse, zoom with right\", \"fa fa-arrows icon-move\", \"pan\"], [\"Zoom\", \"Zoom to rectangle\", \"fa fa-square-o icon-check-empty\", \"zoom\"], [\"\", \"\", \"\", \"\"], [\"Download\", \"Download plot\", \"fa fa-floppy-o icon-save\", \"download\"]];\n",
       "\n",
       "mpl.extensions = [\"eps\", \"jpeg\", \"pdf\", \"png\", \"ps\", \"raw\", \"svg\", \"tif\"];\n",
       "\n",
       "mpl.default_extension = \"png\";var comm_websocket_adapter = function(comm) {\n",
       "    // Create a \"websocket\"-like object which calls the given IPython comm\n",
       "    // object with the appropriate methods. Currently this is a non binary\n",
       "    // socket, so there is still some room for performance tuning.\n",
       "    var ws = {};\n",
       "\n",
       "    ws.close = function() {\n",
       "        comm.close()\n",
       "    };\n",
       "    ws.send = function(m) {\n",
       "        //console.log('sending', m);\n",
       "        comm.send(m);\n",
       "    };\n",
       "    // Register the callback with on_msg.\n",
       "    comm.on_msg(function(msg) {\n",
       "        //console.log('receiving', msg['content']['data'], msg);\n",
       "        // Pass the mpl event to the overriden (by mpl) onmessage function.\n",
       "        ws.onmessage(msg['content']['data'])\n",
       "    });\n",
       "    return ws;\n",
       "}\n",
       "\n",
       "mpl.mpl_figure_comm = function(comm, msg) {\n",
       "    // This is the function which gets called when the mpl process\n",
       "    // starts-up an IPython Comm through the \"matplotlib\" channel.\n",
       "\n",
       "    var id = msg.content.data.id;\n",
       "    // Get hold of the div created by the display call when the Comm\n",
       "    // socket was opened in Python.\n",
       "    var element = $(\"#\" + id);\n",
       "    var ws_proxy = comm_websocket_adapter(comm)\n",
       "\n",
       "    function ondownload(figure, format) {\n",
       "        window.open(figure.imageObj.src);\n",
       "    }\n",
       "\n",
       "    var fig = new mpl.figure(id, ws_proxy,\n",
       "                           ondownload,\n",
       "                           element.get(0));\n",
       "\n",
       "    // Call onopen now - mpl needs it, as it is assuming we've passed it a real\n",
       "    // web socket which is closed, not our websocket->open comm proxy.\n",
       "    ws_proxy.onopen();\n",
       "\n",
       "    fig.parent_element = element.get(0);\n",
       "    fig.cell_info = mpl.find_output_cell(\"<div id='\" + id + \"'></div>\");\n",
       "    if (!fig.cell_info) {\n",
       "        console.error(\"Failed to find cell for figure\", id, fig);\n",
       "        return;\n",
       "    }\n",
       "\n",
       "    var output_index = fig.cell_info[2]\n",
       "    var cell = fig.cell_info[0];\n",
       "\n",
       "};\n",
       "\n",
       "mpl.figure.prototype.handle_close = function(fig, msg) {\n",
       "    // Update the output cell to use the data from the current canvas.\n",
       "    fig.push_to_output();\n",
       "    var dataURL = fig.canvas.toDataURL();\n",
       "    // Re-enable the keyboard manager in IPython - without this line, in FF,\n",
       "    // the notebook keyboard shortcuts fail.\n",
       "    IPython.keyboard_manager.enable()\n",
       "    $(fig.parent_element).html('<img src=\"' + dataURL + '\">');\n",
       "    fig.send_message('closing', {});\n",
       "    fig.ws.close()\n",
       "}\n",
       "\n",
       "mpl.figure.prototype.push_to_output = function(remove_interactive) {\n",
       "    // Turn the data on the canvas into data in the output cell.\n",
       "    var dataURL = this.canvas.toDataURL();\n",
       "    this.cell_info[1]['text/html'] = '<img src=\"' + dataURL + '\">';\n",
       "}\n",
       "\n",
       "mpl.figure.prototype.updated_canvas_event = function() {\n",
       "    // Tell IPython that the notebook contents must change.\n",
       "    IPython.notebook.set_dirty(true);\n",
       "    this.send_message(\"ack\", {});\n",
       "    var fig = this;\n",
       "    // Wait a second, then push the new image to the DOM so\n",
       "    // that it is saved nicely (might be nice to debounce this).\n",
       "    setTimeout(function () { fig.push_to_output() }, 1000);\n",
       "}\n",
       "\n",
       "mpl.figure.prototype._init_toolbar = function() {\n",
       "    var fig = this;\n",
       "\n",
       "    var nav_element = $('<div/>')\n",
       "    nav_element.attr('style', 'width: 100%');\n",
       "    this.root.append(nav_element);\n",
       "\n",
       "    // Define a callback function for later on.\n",
       "    function toolbar_event(event) {\n",
       "        return fig.toolbar_button_onclick(event['data']);\n",
       "    }\n",
       "    function toolbar_mouse_event(event) {\n",
       "        return fig.toolbar_button_onmouseover(event['data']);\n",
       "    }\n",
       "\n",
       "    for(var toolbar_ind in mpl.toolbar_items){\n",
       "        var name = mpl.toolbar_items[toolbar_ind][0];\n",
       "        var tooltip = mpl.toolbar_items[toolbar_ind][1];\n",
       "        var image = mpl.toolbar_items[toolbar_ind][2];\n",
       "        var method_name = mpl.toolbar_items[toolbar_ind][3];\n",
       "\n",
       "        if (!name) { continue; };\n",
       "\n",
       "        var button = $('<button class=\"btn btn-default\" href=\"#\" title=\"' + name + '\"><i class=\"fa ' + image + ' fa-lg\"></i></button>');\n",
       "        button.click(method_name, toolbar_event);\n",
       "        button.mouseover(tooltip, toolbar_mouse_event);\n",
       "        nav_element.append(button);\n",
       "    }\n",
       "\n",
       "    // Add the status bar.\n",
       "    var status_bar = $('<span class=\"mpl-message\" style=\"text-align:right; float: right;\"/>');\n",
       "    nav_element.append(status_bar);\n",
       "    this.message = status_bar[0];\n",
       "\n",
       "    // Add the close button to the window.\n",
       "    var buttongrp = $('<div class=\"btn-group inline pull-right\"></div>');\n",
       "    var button = $('<button class=\"btn btn-mini btn-danger\" href=\"#\" title=\"Close figure\"><i class=\"fa fa-times icon-remove icon-large\"></i></button>');\n",
       "    button.click(function (evt) { fig.handle_close(fig, {}); } );\n",
       "    button.mouseover('Close figure', toolbar_mouse_event);\n",
       "    buttongrp.append(button);\n",
       "    var titlebar = this.root.find($('.ui-dialog-titlebar'));\n",
       "    titlebar.prepend(buttongrp);\n",
       "}\n",
       "\n",
       "\n",
       "mpl.figure.prototype._canvas_extra_style = function(el){\n",
       "    // this is important to make the div 'focusable\n",
       "    el.attr('tabindex', 0)\n",
       "    // reach out to IPython and tell the keyboard manager to turn it's self\n",
       "    // off when our div gets focus\n",
       "\n",
       "    // location in version 3\n",
       "    if (IPython.notebook.keyboard_manager) {\n",
       "        IPython.notebook.keyboard_manager.register_events(el);\n",
       "    }\n",
       "    else {\n",
       "        // location in version 2\n",
       "        IPython.keyboard_manager.register_events(el);\n",
       "    }\n",
       "\n",
       "}\n",
       "\n",
       "mpl.figure.prototype._key_event_extra = function(event, name) {\n",
       "    var manager = IPython.notebook.keyboard_manager;\n",
       "    if (!manager)\n",
       "        manager = IPython.keyboard_manager;\n",
       "\n",
       "    // Check for shift+enter\n",
       "    if (event.shiftKey && event.which == 13) {\n",
       "        this.canvas_div.blur();\n",
       "        event.shiftKey = false;\n",
       "        // Send a \"J\" for go to next cell\n",
       "        event.which = 74;\n",
       "        event.keyCode = 74;\n",
       "        manager.command_mode();\n",
       "        manager.handle_keydown(event);\n",
       "    }\n",
       "}\n",
       "\n",
       "mpl.figure.prototype.handle_save = function(fig, msg) {\n",
       "    fig.ondownload(fig, null);\n",
       "}\n",
       "\n",
       "\n",
       "mpl.find_output_cell = function(html_output) {\n",
       "    // Return the cell and output element which can be found *uniquely* in the notebook.\n",
       "    // Note - this is a bit hacky, but it is done because the \"notebook_saving.Notebook\"\n",
       "    // IPython event is triggered only after the cells have been serialised, which for\n",
       "    // our purposes (turning an active figure into a static one), is too late.\n",
       "    var cells = IPython.notebook.get_cells();\n",
       "    var ncells = cells.length;\n",
       "    for (var i=0; i<ncells; i++) {\n",
       "        var cell = cells[i];\n",
       "        if (cell.cell_type === 'code'){\n",
       "            for (var j=0; j<cell.output_area.outputs.length; j++) {\n",
       "                var data = cell.output_area.outputs[j];\n",
       "                if (data.data) {\n",
       "                    // IPython >= 3 moved mimebundle to data attribute of output\n",
       "                    data = data.data;\n",
       "                }\n",
       "                if (data['text/html'] == html_output) {\n",
       "                    return [cell, data, j];\n",
       "                }\n",
       "            }\n",
       "        }\n",
       "    }\n",
       "}\n",
       "\n",
       "// Register the function which deals with the matplotlib target/channel.\n",
       "// The kernel may be null if the page has been refreshed.\n",
       "if (IPython.notebook.kernel != null) {\n",
       "    IPython.notebook.kernel.comm_manager.register_target('matplotlib', mpl.mpl_figure_comm);\n",
       "}\n"
      ],
      "text/plain": [
       "<IPython.core.display.Javascript object>"
      ]
     },
     "metadata": {},
     "output_type": "display_data"
    },
    {
     "data": {
      "text/html": [
       "<img src=\"data:image/png;base64,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\">"
      ],
      "text/plain": [
       "<IPython.core.display.HTML object>"
      ]
     },
     "metadata": {},
     "output_type": "display_data"
    }
   ],
   "source": [
    "import matplotlib\n",
    "%matplotlib nbagg\n",
    "\n",
    "feature_importances = pd.Series(rf.feature_importances_, index=X.columns)\n",
    "feature_importances.sort(ascending=True)\n",
    "feature_importances.plot(kind=\"barh\", figsize=(11,50));"
   ]
  },
  {
   "cell_type": "markdown",
   "metadata": {},
   "source": [
    "### Random Forest determined lowest to most important features"
   ]
  },
  {
   "cell_type": "code",
   "execution_count": 11,
   "metadata": {
    "collapsed": false
   },
   "outputs": [
    {
     "data": {
      "text/plain": [
       "MHSuProv3             0.000069\n",
       "DrgSuPrs3             0.000097\n",
       "AgChBizB3             0.000112\n",
       "FamCfDV3              0.000120\n",
       "SexInfrac             0.000128\n",
       "STGStatus             0.000162\n",
       "DrgSuFRx3             0.000192\n",
       "HomConv               0.000215\n",
       "AgChAnCr3             0.000239\n",
       "FamHpHos3             0.000263\n",
       "FamCfTPA3             0.000264\n",
       "FamMCOVc3             0.000311\n",
       "MHSuL6At3             0.000312\n",
       "FPAHpHos3             0.000321\n",
       "EmFiRPP3              0.000328\n",
       "AgMoHate3             0.000334\n",
       "CountVioInfracR       0.000341\n",
       "FPACfTPA3             0.000359\n",
       "FPACfPDV3             0.000365\n",
       "AgChFrSe3             0.000372\n",
       "EmBrCCI3              0.000378\n",
       "AgMoHosW3             0.000429\n",
       "FamCfODV3             0.000439\n",
       "ResCuRTx3             0.000468\n",
       "FamPrEmp3             0.000471\n",
       "AtRsBost3             0.000488\n",
       "EmBrHyg3              0.000512\n",
       "DrgRImMH3             0.000520\n",
       "MHSuOnGo3             0.000533\n",
       "MHmedNC3              0.000545\n",
       "                        ...   \n",
       "TechVioPriorsR        0.006273\n",
       "MisdDom               0.006307\n",
       "EmpJobSk3             0.006442\n",
       "AttAuth3              0.006449\n",
       "JvFelCon              0.006495\n",
       "AgeUse3               0.006776\n",
       "ProbSol3              0.006806\n",
       "DrugUse3              0.007086\n",
       "Readychg3             0.007183\n",
       "BelfSuc3              0.007788\n",
       "EmpSta3RC             0.007802\n",
       "DealOth3              0.007888\n",
       "DrugCon               0.008015\n",
       "ResNeiSp3RC           0.008041\n",
       "MisAssa               0.008123\n",
       "DxTxPg3MRV            0.008129\n",
       "Meth3RC               0.008718\n",
       "EmInSou3RC            0.009005\n",
       "MisdProp              0.009559\n",
       "EmpMonIn3             0.009602\n",
       "RespOth3              0.010025\n",
       "EDQuitExpell          0.010133\n",
       "EduGdCom3N            0.011012\n",
       "FelProp               0.011130\n",
       "AgeAsses3RN           0.012889\n",
       "EmpLeng3R             0.012899\n",
       "AgeAtFirstConvR       0.013053\n",
       "FrnAnti3RC            0.013744\n",
       "TotalAdultFelonies    0.021770\n",
       "LastConviction        0.027227\n",
       "dtype: float64"
      ]
     },
     "execution_count": 11,
     "metadata": {},
     "output_type": "execute_result"
    }
   ],
   "source": [
    "feature_importances[:]\n",
    "\n",
    "#feature_importances.sort_index(ascending=True)"
   ]
  },
  {
   "cell_type": "markdown",
   "metadata": {},
   "source": [
    "### Determining top features thru the use of Kbest selection (Univariate)"
   ]
  },
  {
   "cell_type": "code",
   "execution_count": 12,
   "metadata": {
    "collapsed": false
   },
   "outputs": [],
   "source": [
    "topfeatures = SelectKBest(chi2, k=all)"
   ]
  },
  {
   "cell_type": "code",
   "execution_count": 13,
   "metadata": {
    "collapsed": false
   },
   "outputs": [],
   "source": [
    "topfeatures = SelectFpr(chi2, alpha=0.05)"
   ]
  },
  {
   "cell_type": "markdown",
   "metadata": {},
   "source": [
    "### Graph showing p values from feature selection/importance model, with .05 cutoff"
   ]
  },
  {
   "cell_type": "code",
   "execution_count": null,
   "metadata": {
    "collapsed": false
   },
   "outputs": [],
   "source": []
  },
  {
   "cell_type": "code",
   "execution_count": 14,
   "metadata": {
    "collapsed": false
   },
   "outputs": [
    {
     "data": {
      "application/javascript": [
       "/* Put everything inside the global mpl namespace */\n",
       "window.mpl = {};\n",
       "\n",
       "mpl.get_websocket_type = function() {\n",
       "    if (typeof(WebSocket) !== 'undefined') {\n",
       "        return WebSocket;\n",
       "    } else if (typeof(MozWebSocket) !== 'undefined') {\n",
       "        return MozWebSocket;\n",
       "    } else {\n",
       "        alert('Your browser does not have WebSocket support.' +\n",
       "              'Please try Chrome, Safari or Firefox ≥ 6. ' +\n",
       "              'Firefox 4 and 5 are also supported but you ' +\n",
       "              'have to enable WebSockets in about:config.');\n",
       "    };\n",
       "}\n",
       "\n",
       "mpl.figure = function(figure_id, websocket, ondownload, parent_element) {\n",
       "    this.id = figure_id;\n",
       "\n",
       "    this.ws = websocket;\n",
       "\n",
       "    this.supports_binary = (this.ws.binaryType != undefined);\n",
       "\n",
       "    if (!this.supports_binary) {\n",
       "        var warnings = document.getElementById(\"mpl-warnings\");\n",
       "        if (warnings) {\n",
       "            warnings.style.display = 'block';\n",
       "            warnings.textContent = (\n",
       "                \"This browser does not support binary websocket messages. \" +\n",
       "                    \"Performance may be slow.\");\n",
       "        }\n",
       "    }\n",
       "\n",
       "    this.imageObj = new Image();\n",
       "\n",
       "    this.context = undefined;\n",
       "    this.message = undefined;\n",
       "    this.canvas = undefined;\n",
       "    this.rubberband_canvas = undefined;\n",
       "    this.rubberband_context = undefined;\n",
       "    this.format_dropdown = undefined;\n",
       "\n",
       "    this.image_mode = 'full';\n",
       "\n",
       "    this.root = $('<div/>');\n",
       "    this._root_extra_style(this.root)\n",
       "    this.root.attr('style', 'display: inline-block');\n",
       "\n",
       "    $(parent_element).append(this.root);\n",
       "\n",
       "    this._init_header(this);\n",
       "    this._init_canvas(this);\n",
       "    this._init_toolbar(this);\n",
       "\n",
       "    var fig = this;\n",
       "\n",
       "    this.waiting = false;\n",
       "\n",
       "    this.ws.onopen =  function () {\n",
       "            fig.send_message(\"supports_binary\", {value: fig.supports_binary});\n",
       "            fig.send_message(\"send_image_mode\", {});\n",
       "            fig.send_message(\"refresh\", {});\n",
       "        }\n",
       "\n",
       "    this.imageObj.onload = function() {\n",
       "            if (fig.image_mode == 'full') {\n",
       "                // Full images could contain transparency (where diff images\n",
       "                // almost always do), so we need to clear the canvas so that\n",
       "                // there is no ghosting.\n",
       "                fig.context.clearRect(0, 0, fig.canvas.width, fig.canvas.height);\n",
       "            }\n",
       "            fig.context.drawImage(fig.imageObj, 0, 0);\n",
       "            fig.waiting = false;\n",
       "        };\n",
       "\n",
       "    this.imageObj.onunload = function() {\n",
       "        this.ws.close();\n",
       "    }\n",
       "\n",
       "    this.ws.onmessage = this._make_on_message_function(this);\n",
       "\n",
       "    this.ondownload = ondownload;\n",
       "}\n",
       "\n",
       "mpl.figure.prototype._init_header = function() {\n",
       "    var titlebar = $(\n",
       "        '<div class=\"ui-dialog-titlebar ui-widget-header ui-corner-all ' +\n",
       "        'ui-helper-clearfix\"/>');\n",
       "    var titletext = $(\n",
       "        '<div class=\"ui-dialog-title\" style=\"width: 100%; ' +\n",
       "        'text-align: center; padding: 3px;\"/>');\n",
       "    titlebar.append(titletext)\n",
       "    this.root.append(titlebar);\n",
       "    this.header = titletext[0];\n",
       "}\n",
       "\n",
       "\n",
       "\n",
       "mpl.figure.prototype._canvas_extra_style = function(canvas_div) {\n",
       "\n",
       "}\n",
       "\n",
       "\n",
       "mpl.figure.prototype._root_extra_style = function(canvas_div) {\n",
       "\n",
       "}\n",
       "\n",
       "mpl.figure.prototype._init_canvas = function() {\n",
       "    var fig = this;\n",
       "\n",
       "    var canvas_div = $('<div/>');\n",
       "\n",
       "    canvas_div.attr('style', 'position: relative; clear: both; outline: 0');\n",
       "\n",
       "    function canvas_keyboard_event(event) {\n",
       "        return fig.key_event(event, event['data']);\n",
       "    }\n",
       "\n",
       "    canvas_div.keydown('key_press', canvas_keyboard_event);\n",
       "    canvas_div.keyup('key_release', canvas_keyboard_event);\n",
       "    this.canvas_div = canvas_div\n",
       "    this._canvas_extra_style(canvas_div)\n",
       "    this.root.append(canvas_div);\n",
       "\n",
       "    var canvas = $('<canvas/>');\n",
       "    canvas.addClass('mpl-canvas');\n",
       "    canvas.attr('style', \"left: 0; top: 0; z-index: 0; outline: 0\")\n",
       "\n",
       "    this.canvas = canvas[0];\n",
       "    this.context = canvas[0].getContext(\"2d\");\n",
       "\n",
       "    var rubberband = $('<canvas/>');\n",
       "    rubberband.attr('style', \"position: absolute; left: 0; top: 0; z-index: 1;\")\n",
       "\n",
       "    var pass_mouse_events = true;\n",
       "\n",
       "    canvas_div.resizable({\n",
       "        start: function(event, ui) {\n",
       "            pass_mouse_events = false;\n",
       "        },\n",
       "        resize: function(event, ui) {\n",
       "            fig.request_resize(ui.size.width, ui.size.height);\n",
       "        },\n",
       "        stop: function(event, ui) {\n",
       "            pass_mouse_events = true;\n",
       "            fig.request_resize(ui.size.width, ui.size.height);\n",
       "        },\n",
       "    });\n",
       "\n",
       "    function mouse_event_fn(event) {\n",
       "        if (pass_mouse_events)\n",
       "            return fig.mouse_event(event, event['data']);\n",
       "    }\n",
       "\n",
       "    rubberband.mousedown('button_press', mouse_event_fn);\n",
       "    rubberband.mouseup('button_release', mouse_event_fn);\n",
       "    // Throttle sequential mouse events to 1 every 20ms.\n",
       "    rubberband.mousemove('motion_notify', mouse_event_fn);\n",
       "\n",
       "    rubberband.mouseenter('figure_enter', mouse_event_fn);\n",
       "    rubberband.mouseleave('figure_leave', mouse_event_fn);\n",
       "\n",
       "    canvas_div.on(\"wheel\", function (event) {\n",
       "        event = event.originalEvent;\n",
       "        event['data'] = 'scroll'\n",
       "        if (event.deltaY < 0) {\n",
       "            event.step = 1;\n",
       "        } else {\n",
       "            event.step = -1;\n",
       "        }\n",
       "        mouse_event_fn(event);\n",
       "    });\n",
       "\n",
       "    canvas_div.append(canvas);\n",
       "    canvas_div.append(rubberband);\n",
       "\n",
       "    this.rubberband = rubberband;\n",
       "    this.rubberband_canvas = rubberband[0];\n",
       "    this.rubberband_context = rubberband[0].getContext(\"2d\");\n",
       "    this.rubberband_context.strokeStyle = \"#000000\";\n",
       "\n",
       "    this._resize_canvas = function(width, height) {\n",
       "        // Keep the size of the canvas, canvas container, and rubber band\n",
       "        // canvas in synch.\n",
       "        canvas_div.css('width', width)\n",
       "        canvas_div.css('height', height)\n",
       "\n",
       "        canvas.attr('width', width);\n",
       "        canvas.attr('height', height);\n",
       "\n",
       "        rubberband.attr('width', width);\n",
       "        rubberband.attr('height', height);\n",
       "    }\n",
       "\n",
       "    // Set the figure to an initial 600x600px, this will subsequently be updated\n",
       "    // upon first draw.\n",
       "    this._resize_canvas(600, 600);\n",
       "\n",
       "    // Disable right mouse context menu.\n",
       "    $(this.rubberband_canvas).bind(\"contextmenu\",function(e){\n",
       "        return false;\n",
       "    });\n",
       "\n",
       "    function set_focus () {\n",
       "        canvas.focus();\n",
       "        canvas_div.focus();\n",
       "    }\n",
       "\n",
       "    window.setTimeout(set_focus, 100);\n",
       "}\n",
       "\n",
       "mpl.figure.prototype._init_toolbar = function() {\n",
       "    var fig = this;\n",
       "\n",
       "    var nav_element = $('<div/>')\n",
       "    nav_element.attr('style', 'width: 100%');\n",
       "    this.root.append(nav_element);\n",
       "\n",
       "    // Define a callback function for later on.\n",
       "    function toolbar_event(event) {\n",
       "        return fig.toolbar_button_onclick(event['data']);\n",
       "    }\n",
       "    function toolbar_mouse_event(event) {\n",
       "        return fig.toolbar_button_onmouseover(event['data']);\n",
       "    }\n",
       "\n",
       "    for(var toolbar_ind in mpl.toolbar_items) {\n",
       "        var name = mpl.toolbar_items[toolbar_ind][0];\n",
       "        var tooltip = mpl.toolbar_items[toolbar_ind][1];\n",
       "        var image = mpl.toolbar_items[toolbar_ind][2];\n",
       "        var method_name = mpl.toolbar_items[toolbar_ind][3];\n",
       "\n",
       "        if (!name) {\n",
       "            // put a spacer in here.\n",
       "            continue;\n",
       "        }\n",
       "        var button = $('<button/>');\n",
       "        button.addClass('ui-button ui-widget ui-state-default ui-corner-all ' +\n",
       "                        'ui-button-icon-only');\n",
       "        button.attr('role', 'button');\n",
       "        button.attr('aria-disabled', 'false');\n",
       "        button.click(method_name, toolbar_event);\n",
       "        button.mouseover(tooltip, toolbar_mouse_event);\n",
       "\n",
       "        var icon_img = $('<span/>');\n",
       "        icon_img.addClass('ui-button-icon-primary ui-icon');\n",
       "        icon_img.addClass(image);\n",
       "        icon_img.addClass('ui-corner-all');\n",
       "\n",
       "        var tooltip_span = $('<span/>');\n",
       "        tooltip_span.addClass('ui-button-text');\n",
       "        tooltip_span.html(tooltip);\n",
       "\n",
       "        button.append(icon_img);\n",
       "        button.append(tooltip_span);\n",
       "\n",
       "        nav_element.append(button);\n",
       "    }\n",
       "\n",
       "    var fmt_picker_span = $('<span/>');\n",
       "\n",
       "    var fmt_picker = $('<select/>');\n",
       "    fmt_picker.addClass('mpl-toolbar-option ui-widget ui-widget-content');\n",
       "    fmt_picker_span.append(fmt_picker);\n",
       "    nav_element.append(fmt_picker_span);\n",
       "    this.format_dropdown = fmt_picker[0];\n",
       "\n",
       "    for (var ind in mpl.extensions) {\n",
       "        var fmt = mpl.extensions[ind];\n",
       "        var option = $(\n",
       "            '<option/>', {selected: fmt === mpl.default_extension}).html(fmt);\n",
       "        fmt_picker.append(option)\n",
       "    }\n",
       "\n",
       "    // Add hover states to the ui-buttons\n",
       "    $( \".ui-button\" ).hover(\n",
       "        function() { $(this).addClass(\"ui-state-hover\");},\n",
       "        function() { $(this).removeClass(\"ui-state-hover\");}\n",
       "    );\n",
       "\n",
       "    var status_bar = $('<span class=\"mpl-message\"/>');\n",
       "    nav_element.append(status_bar);\n",
       "    this.message = status_bar[0];\n",
       "}\n",
       "\n",
       "mpl.figure.prototype.request_resize = function(x_pixels, y_pixels) {\n",
       "    // Request matplotlib to resize the figure. Matplotlib will then trigger a resize in the client,\n",
       "    // which will in turn request a refresh of the image.\n",
       "    this.send_message('resize', {'width': x_pixels, 'height': y_pixels});\n",
       "}\n",
       "\n",
       "mpl.figure.prototype.send_message = function(type, properties) {\n",
       "    properties['type'] = type;\n",
       "    properties['figure_id'] = this.id;\n",
       "    this.ws.send(JSON.stringify(properties));\n",
       "}\n",
       "\n",
       "mpl.figure.prototype.send_draw_message = function() {\n",
       "    if (!this.waiting) {\n",
       "        this.waiting = true;\n",
       "        this.ws.send(JSON.stringify({type: \"draw\", figure_id: this.id}));\n",
       "    }\n",
       "}\n",
       "\n",
       "\n",
       "mpl.figure.prototype.handle_save = function(fig, msg) {\n",
       "    var format_dropdown = fig.format_dropdown;\n",
       "    var format = format_dropdown.options[format_dropdown.selectedIndex].value;\n",
       "    fig.ondownload(fig, format);\n",
       "}\n",
       "\n",
       "\n",
       "mpl.figure.prototype.handle_resize = function(fig, msg) {\n",
       "    var size = msg['size'];\n",
       "    if (size[0] != fig.canvas.width || size[1] != fig.canvas.height) {\n",
       "        fig._resize_canvas(size[0], size[1]);\n",
       "        fig.send_message(\"refresh\", {});\n",
       "    };\n",
       "}\n",
       "\n",
       "mpl.figure.prototype.handle_rubberband = function(fig, msg) {\n",
       "    var x0 = msg['x0'];\n",
       "    var y0 = fig.canvas.height - msg['y0'];\n",
       "    var x1 = msg['x1'];\n",
       "    var y1 = fig.canvas.height - msg['y1'];\n",
       "    x0 = Math.floor(x0) + 0.5;\n",
       "    y0 = Math.floor(y0) + 0.5;\n",
       "    x1 = Math.floor(x1) + 0.5;\n",
       "    y1 = Math.floor(y1) + 0.5;\n",
       "    var min_x = Math.min(x0, x1);\n",
       "    var min_y = Math.min(y0, y1);\n",
       "    var width = Math.abs(x1 - x0);\n",
       "    var height = Math.abs(y1 - y0);\n",
       "\n",
       "    fig.rubberband_context.clearRect(\n",
       "        0, 0, fig.canvas.width, fig.canvas.height);\n",
       "\n",
       "    fig.rubberband_context.strokeRect(min_x, min_y, width, height);\n",
       "}\n",
       "\n",
       "mpl.figure.prototype.handle_figure_label = function(fig, msg) {\n",
       "    // Updates the figure title.\n",
       "    fig.header.textContent = msg['label'];\n",
       "}\n",
       "\n",
       "mpl.figure.prototype.handle_cursor = function(fig, msg) {\n",
       "    var cursor = msg['cursor'];\n",
       "    switch(cursor)\n",
       "    {\n",
       "    case 0:\n",
       "        cursor = 'pointer';\n",
       "        break;\n",
       "    case 1:\n",
       "        cursor = 'default';\n",
       "        break;\n",
       "    case 2:\n",
       "        cursor = 'crosshair';\n",
       "        break;\n",
       "    case 3:\n",
       "        cursor = 'move';\n",
       "        break;\n",
       "    }\n",
       "    fig.rubberband_canvas.style.cursor = cursor;\n",
       "}\n",
       "\n",
       "mpl.figure.prototype.handle_message = function(fig, msg) {\n",
       "    fig.message.textContent = msg['message'];\n",
       "}\n",
       "\n",
       "mpl.figure.prototype.handle_draw = function(fig, msg) {\n",
       "    // Request the server to send over a new figure.\n",
       "    fig.send_draw_message();\n",
       "}\n",
       "\n",
       "mpl.figure.prototype.handle_image_mode = function(fig, msg) {\n",
       "    fig.image_mode = msg['mode'];\n",
       "}\n",
       "\n",
       "mpl.figure.prototype.updated_canvas_event = function() {\n",
       "    // Called whenever the canvas gets updated.\n",
       "    this.send_message(\"ack\", {});\n",
       "}\n",
       "\n",
       "// A function to construct a web socket function for onmessage handling.\n",
       "// Called in the figure constructor.\n",
       "mpl.figure.prototype._make_on_message_function = function(fig) {\n",
       "    return function socket_on_message(evt) {\n",
       "        if (evt.data instanceof Blob) {\n",
       "            /* FIXME: We get \"Resource interpreted as Image but\n",
       "             * transferred with MIME type text/plain:\" errors on\n",
       "             * Chrome.  But how to set the MIME type?  It doesn't seem\n",
       "             * to be part of the websocket stream */\n",
       "            evt.data.type = \"image/png\";\n",
       "\n",
       "            /* Free the memory for the previous frames */\n",
       "            if (fig.imageObj.src) {\n",
       "                (window.URL || window.webkitURL).revokeObjectURL(\n",
       "                    fig.imageObj.src);\n",
       "            }\n",
       "\n",
       "            fig.imageObj.src = (window.URL || window.webkitURL).createObjectURL(\n",
       "                evt.data);\n",
       "            fig.updated_canvas_event();\n",
       "            return;\n",
       "        }\n",
       "        else if (typeof evt.data === 'string' && evt.data.slice(0, 21) == \"data:image/png;base64\") {\n",
       "            fig.imageObj.src = evt.data;\n",
       "            fig.updated_canvas_event();\n",
       "            return;\n",
       "        }\n",
       "\n",
       "        var msg = JSON.parse(evt.data);\n",
       "        var msg_type = msg['type'];\n",
       "\n",
       "        // Call the  \"handle_{type}\" callback, which takes\n",
       "        // the figure and JSON message as its only arguments.\n",
       "        try {\n",
       "            var callback = fig[\"handle_\" + msg_type];\n",
       "        } catch (e) {\n",
       "            console.log(\"No handler for the '\" + msg_type + \"' message type: \", msg);\n",
       "            return;\n",
       "        }\n",
       "\n",
       "        if (callback) {\n",
       "            try {\n",
       "                // console.log(\"Handling '\" + msg_type + \"' message: \", msg);\n",
       "                callback(fig, msg);\n",
       "            } catch (e) {\n",
       "                console.log(\"Exception inside the 'handler_\" + msg_type + \"' callback:\", e, e.stack, msg);\n",
       "            }\n",
       "        }\n",
       "    };\n",
       "}\n",
       "\n",
       "// from http://stackoverflow.com/questions/1114465/getting-mouse-location-in-canvas\n",
       "mpl.findpos = function(e) {\n",
       "    //this section is from http://www.quirksmode.org/js/events_properties.html\n",
       "    var targ;\n",
       "    if (!e)\n",
       "        e = window.event;\n",
       "    if (e.target)\n",
       "        targ = e.target;\n",
       "    else if (e.srcElement)\n",
       "        targ = e.srcElement;\n",
       "    if (targ.nodeType == 3) // defeat Safari bug\n",
       "        targ = targ.parentNode;\n",
       "\n",
       "    // jQuery normalizes the pageX and pageY\n",
       "    // pageX,Y are the mouse positions relative to the document\n",
       "    // offset() returns the position of the element relative to the document\n",
       "    var x = e.pageX - $(targ).offset().left;\n",
       "    var y = e.pageY - $(targ).offset().top;\n",
       "\n",
       "    return {\"x\": x, \"y\": y};\n",
       "};\n",
       "\n",
       "mpl.figure.prototype.mouse_event = function(event, name) {\n",
       "    var canvas_pos = mpl.findpos(event)\n",
       "\n",
       "    if (name === 'button_press')\n",
       "    {\n",
       "        this.canvas.focus();\n",
       "        this.canvas_div.focus();\n",
       "    }\n",
       "\n",
       "    var x = canvas_pos.x;\n",
       "    var y = canvas_pos.y;\n",
       "\n",
       "    this.send_message(name, {x: x, y: y, button: event.button,\n",
       "                             step: event.step});\n",
       "\n",
       "    /* This prevents the web browser from automatically changing to\n",
       "     * the text insertion cursor when the button is pressed.  We want\n",
       "     * to control all of the cursor setting manually through the\n",
       "     * 'cursor' event from matplotlib */\n",
       "    event.preventDefault();\n",
       "    return false;\n",
       "}\n",
       "\n",
       "mpl.figure.prototype._key_event_extra = function(event, name) {\n",
       "    // Handle any extra behaviour associated with a key event\n",
       "}\n",
       "\n",
       "mpl.figure.prototype.key_event = function(event, name) {\n",
       "\n",
       "    // Prevent repeat events\n",
       "    if (name == 'key_press')\n",
       "    {\n",
       "        if (event.which === this._key)\n",
       "            return;\n",
       "        else\n",
       "            this._key = event.which;\n",
       "    }\n",
       "    if (name == 'key_release')\n",
       "        this._key = null;\n",
       "\n",
       "    var value = '';\n",
       "    if (event.ctrlKey && event.which != 17)\n",
       "        value += \"ctrl+\";\n",
       "    if (event.altKey && event.which != 18)\n",
       "        value += \"alt+\";\n",
       "    if (event.shiftKey && event.which != 16)\n",
       "        value += \"shift+\";\n",
       "\n",
       "    value += 'k';\n",
       "    value += event.which.toString();\n",
       "\n",
       "    this._key_event_extra(event, name);\n",
       "\n",
       "    this.send_message(name, {key: value});\n",
       "    return false;\n",
       "}\n",
       "\n",
       "mpl.figure.prototype.toolbar_button_onclick = function(name) {\n",
       "    if (name == 'download') {\n",
       "        this.handle_save(this, null);\n",
       "    } else {\n",
       "        this.send_message(\"toolbar_button\", {name: name});\n",
       "    }\n",
       "};\n",
       "\n",
       "mpl.figure.prototype.toolbar_button_onmouseover = function(tooltip) {\n",
       "    this.message.textContent = tooltip;\n",
       "};\n",
       "mpl.toolbar_items = [[\"Home\", \"Reset original view\", \"fa fa-home icon-home\", \"home\"], [\"Back\", \"Back to  previous view\", \"fa fa-arrow-left icon-arrow-left\", \"back\"], [\"Forward\", \"Forward to next view\", \"fa fa-arrow-right icon-arrow-right\", \"forward\"], [\"\", \"\", \"\", \"\"], [\"Pan\", \"Pan axes with left mouse, zoom with right\", \"fa fa-arrows icon-move\", \"pan\"], [\"Zoom\", \"Zoom to rectangle\", \"fa fa-square-o icon-check-empty\", \"zoom\"], [\"\", \"\", \"\", \"\"], [\"Download\", \"Download plot\", \"fa fa-floppy-o icon-save\", \"download\"]];\n",
       "\n",
       "mpl.extensions = [\"eps\", \"jpeg\", \"pdf\", \"png\", \"ps\", \"raw\", \"svg\", \"tif\"];\n",
       "\n",
       "mpl.default_extension = \"png\";var comm_websocket_adapter = function(comm) {\n",
       "    // Create a \"websocket\"-like object which calls the given IPython comm\n",
       "    // object with the appropriate methods. Currently this is a non binary\n",
       "    // socket, so there is still some room for performance tuning.\n",
       "    var ws = {};\n",
       "\n",
       "    ws.close = function() {\n",
       "        comm.close()\n",
       "    };\n",
       "    ws.send = function(m) {\n",
       "        //console.log('sending', m);\n",
       "        comm.send(m);\n",
       "    };\n",
       "    // Register the callback with on_msg.\n",
       "    comm.on_msg(function(msg) {\n",
       "        //console.log('receiving', msg['content']['data'], msg);\n",
       "        // Pass the mpl event to the overriden (by mpl) onmessage function.\n",
       "        ws.onmessage(msg['content']['data'])\n",
       "    });\n",
       "    return ws;\n",
       "}\n",
       "\n",
       "mpl.mpl_figure_comm = function(comm, msg) {\n",
       "    // This is the function which gets called when the mpl process\n",
       "    // starts-up an IPython Comm through the \"matplotlib\" channel.\n",
       "\n",
       "    var id = msg.content.data.id;\n",
       "    // Get hold of the div created by the display call when the Comm\n",
       "    // socket was opened in Python.\n",
       "    var element = $(\"#\" + id);\n",
       "    var ws_proxy = comm_websocket_adapter(comm)\n",
       "\n",
       "    function ondownload(figure, format) {\n",
       "        window.open(figure.imageObj.src);\n",
       "    }\n",
       "\n",
       "    var fig = new mpl.figure(id, ws_proxy,\n",
       "                           ondownload,\n",
       "                           element.get(0));\n",
       "\n",
       "    // Call onopen now - mpl needs it, as it is assuming we've passed it a real\n",
       "    // web socket which is closed, not our websocket->open comm proxy.\n",
       "    ws_proxy.onopen();\n",
       "\n",
       "    fig.parent_element = element.get(0);\n",
       "    fig.cell_info = mpl.find_output_cell(\"<div id='\" + id + \"'></div>\");\n",
       "    if (!fig.cell_info) {\n",
       "        console.error(\"Failed to find cell for figure\", id, fig);\n",
       "        return;\n",
       "    }\n",
       "\n",
       "    var output_index = fig.cell_info[2]\n",
       "    var cell = fig.cell_info[0];\n",
       "\n",
       "};\n",
       "\n",
       "mpl.figure.prototype.handle_close = function(fig, msg) {\n",
       "    // Update the output cell to use the data from the current canvas.\n",
       "    fig.push_to_output();\n",
       "    var dataURL = fig.canvas.toDataURL();\n",
       "    // Re-enable the keyboard manager in IPython - without this line, in FF,\n",
       "    // the notebook keyboard shortcuts fail.\n",
       "    IPython.keyboard_manager.enable()\n",
       "    $(fig.parent_element).html('<img src=\"' + dataURL + '\">');\n",
       "    fig.send_message('closing', {});\n",
       "    fig.ws.close()\n",
       "}\n",
       "\n",
       "mpl.figure.prototype.push_to_output = function(remove_interactive) {\n",
       "    // Turn the data on the canvas into data in the output cell.\n",
       "    var dataURL = this.canvas.toDataURL();\n",
       "    this.cell_info[1]['text/html'] = '<img src=\"' + dataURL + '\">';\n",
       "}\n",
       "\n",
       "mpl.figure.prototype.updated_canvas_event = function() {\n",
       "    // Tell IPython that the notebook contents must change.\n",
       "    IPython.notebook.set_dirty(true);\n",
       "    this.send_message(\"ack\", {});\n",
       "    var fig = this;\n",
       "    // Wait a second, then push the new image to the DOM so\n",
       "    // that it is saved nicely (might be nice to debounce this).\n",
       "    setTimeout(function () { fig.push_to_output() }, 1000);\n",
       "}\n",
       "\n",
       "mpl.figure.prototype._init_toolbar = function() {\n",
       "    var fig = this;\n",
       "\n",
       "    var nav_element = $('<div/>')\n",
       "    nav_element.attr('style', 'width: 100%');\n",
       "    this.root.append(nav_element);\n",
       "\n",
       "    // Define a callback function for later on.\n",
       "    function toolbar_event(event) {\n",
       "        return fig.toolbar_button_onclick(event['data']);\n",
       "    }\n",
       "    function toolbar_mouse_event(event) {\n",
       "        return fig.toolbar_button_onmouseover(event['data']);\n",
       "    }\n",
       "\n",
       "    for(var toolbar_ind in mpl.toolbar_items){\n",
       "        var name = mpl.toolbar_items[toolbar_ind][0];\n",
       "        var tooltip = mpl.toolbar_items[toolbar_ind][1];\n",
       "        var image = mpl.toolbar_items[toolbar_ind][2];\n",
       "        var method_name = mpl.toolbar_items[toolbar_ind][3];\n",
       "\n",
       "        if (!name) { continue; };\n",
       "\n",
       "        var button = $('<button class=\"btn btn-default\" href=\"#\" title=\"' + name + '\"><i class=\"fa ' + image + ' fa-lg\"></i></button>');\n",
       "        button.click(method_name, toolbar_event);\n",
       "        button.mouseover(tooltip, toolbar_mouse_event);\n",
       "        nav_element.append(button);\n",
       "    }\n",
       "\n",
       "    // Add the status bar.\n",
       "    var status_bar = $('<span class=\"mpl-message\" style=\"text-align:right; float: right;\"/>');\n",
       "    nav_element.append(status_bar);\n",
       "    this.message = status_bar[0];\n",
       "\n",
       "    // Add the close button to the window.\n",
       "    var buttongrp = $('<div class=\"btn-group inline pull-right\"></div>');\n",
       "    var button = $('<button class=\"btn btn-mini btn-danger\" href=\"#\" title=\"Close figure\"><i class=\"fa fa-times icon-remove icon-large\"></i></button>');\n",
       "    button.click(function (evt) { fig.handle_close(fig, {}); } );\n",
       "    button.mouseover('Close figure', toolbar_mouse_event);\n",
       "    buttongrp.append(button);\n",
       "    var titlebar = this.root.find($('.ui-dialog-titlebar'));\n",
       "    titlebar.prepend(buttongrp);\n",
       "}\n",
       "\n",
       "\n",
       "mpl.figure.prototype._canvas_extra_style = function(el){\n",
       "    // this is important to make the div 'focusable\n",
       "    el.attr('tabindex', 0)\n",
       "    // reach out to IPython and tell the keyboard manager to turn it's self\n",
       "    // off when our div gets focus\n",
       "\n",
       "    // location in version 3\n",
       "    if (IPython.notebook.keyboard_manager) {\n",
       "        IPython.notebook.keyboard_manager.register_events(el);\n",
       "    }\n",
       "    else {\n",
       "        // location in version 2\n",
       "        IPython.keyboard_manager.register_events(el);\n",
       "    }\n",
       "\n",
       "}\n",
       "\n",
       "mpl.figure.prototype._key_event_extra = function(event, name) {\n",
       "    var manager = IPython.notebook.keyboard_manager;\n",
       "    if (!manager)\n",
       "        manager = IPython.keyboard_manager;\n",
       "\n",
       "    // Check for shift+enter\n",
       "    if (event.shiftKey && event.which == 13) {\n",
       "        this.canvas_div.blur();\n",
       "        event.shiftKey = false;\n",
       "        // Send a \"J\" for go to next cell\n",
       "        event.which = 74;\n",
       "        event.keyCode = 74;\n",
       "        manager.command_mode();\n",
       "        manager.handle_keydown(event);\n",
       "    }\n",
       "}\n",
       "\n",
       "mpl.figure.prototype.handle_save = function(fig, msg) {\n",
       "    fig.ondownload(fig, null);\n",
       "}\n",
       "\n",
       "\n",
       "mpl.find_output_cell = function(html_output) {\n",
       "    // Return the cell and output element which can be found *uniquely* in the notebook.\n",
       "    // Note - this is a bit hacky, but it is done because the \"notebook_saving.Notebook\"\n",
       "    // IPython event is triggered only after the cells have been serialised, which for\n",
       "    // our purposes (turning an active figure into a static one), is too late.\n",
       "    var cells = IPython.notebook.get_cells();\n",
       "    var ncells = cells.length;\n",
       "    for (var i=0; i<ncells; i++) {\n",
       "        var cell = cells[i];\n",
       "        if (cell.cell_type === 'code'){\n",
       "            for (var j=0; j<cell.output_area.outputs.length; j++) {\n",
       "                var data = cell.output_area.outputs[j];\n",
       "                if (data.data) {\n",
       "                    // IPython >= 3 moved mimebundle to data attribute of output\n",
       "                    data = data.data;\n",
       "                }\n",
       "                if (data['text/html'] == html_output) {\n",
       "                    return [cell, data, j];\n",
       "                }\n",
       "            }\n",
       "        }\n",
       "    }\n",
       "}\n",
       "\n",
       "// Register the function which deals with the matplotlib target/channel.\n",
       "// The kernel may be null if the page has been refreshed.\n",
       "if (IPython.notebook.kernel != null) {\n",
       "    IPython.notebook.kernel.comm_manager.register_target('matplotlib', mpl.mpl_figure_comm);\n",
       "}\n"
      ],
      "text/plain": [
       "<IPython.core.display.Javascript object>"
      ]
     },
     "metadata": {},
     "output_type": "display_data"
    },
    {
     "data": {
      "text/html": [
       "<img src=\"data:image/png;base64,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\">"
      ],
      "text/plain": [
       "<IPython.core.display.HTML object>"
      ]
     },
     "metadata": {},
     "output_type": "display_data"
    },
    {
     "data": {
      "text/plain": [
       "<matplotlib.lines.Line2D at 0x7f6ed8246150>"
      ]
     },
     "execution_count": 14,
     "metadata": {},
     "output_type": "execute_result"
    }
   ],
   "source": [
    "import matplotlib\n",
    "%matplotlib nbagg\n",
    "\n",
    "import pylab as pl\n",
    "\n",
    "#pl.figure(1)\n",
    "#pl.clf()\n",
    "\n",
    "x_indices = np.arange(X.shape[-1])\n",
    "\n",
    "selector = SelectFpr(f_classif, alpha=0.05)\n",
    "selector.fit(X, y)\n",
    "#scores = -np.log10(selector.pvalues_)\n",
    "#scores /= scores.max()\n",
    "\n",
    "tindex = pd.Series(selector.pvalues_, index=X.columns)\n",
    "tindex.sort()\n",
    "tindex.plot(kind=\"barh\", figsize=(11,40));\n",
    "plt.axvline(x=0.05, ymin=0, ymax = 5, linewidth=1, color='red')\n",
    "\n",
    "#pl.bar(index, selector.pvalues_, width=1, color='red')\n",
    "#plt.axhline(y=.05, xmin=0, xmax=350, linewidth=1, color = 'blue')"
   ]
  },
  {
   "cell_type": "markdown",
   "metadata": {},
   "source": [
    "### Table of top 272 features, with p-values below .05"
   ]
  },
  {
   "cell_type": "code",
   "execution_count": 15,
   "metadata": {
    "collapsed": false
   },
   "outputs": [],
   "source": [
    "b = selector.pvalues_ < .05\n",
    "b = pd.DataFrame(b)\n",
    "b.rename(columns={0: 'sig'}, inplace=True)\n",
    "\n",
    "Xcol = pd.DataFrame(X.columns)\n",
    "bresult = pd.concat([b, Xcol], axis=1)\n",
    "bresult.rename(columns={0: 'name'}, inplace=True)\n",
    "bresult2 = bresult.loc[bresult['sig'] == True]"
   ]
  },
  {
   "cell_type": "code",
   "execution_count": 16,
   "metadata": {
    "collapsed": false
   },
   "outputs": [],
   "source": [
    "#bresult.loc[bresult['0'] == False]\n",
    "#topfeatures = {k:v for k,v in enumerate(bresult) if v == False}\n",
    "#topf = topfeatures.items()\n",
    "#topfe = pd.DataFrame(topf)\n"
   ]
  },
  {
   "cell_type": "code",
   "execution_count": 17,
   "metadata": {
    "collapsed": false
   },
   "outputs": [
    {
     "data": {
      "text/html": [
       "<div>\n",
       "<table border=\"1\" class=\"dataframe\">\n",
       "  <thead>\n",
       "    <tr style=\"text-align: right;\">\n",
       "      <th></th>\n",
       "      <th>sig</th>\n",
       "      <th>name</th>\n",
       "    </tr>\n",
       "  </thead>\n",
       "  <tbody>\n",
       "    <tr>\n",
       "      <th>0</th>\n",
       "      <td>True</td>\n",
       "      <td>AgeAsses3RN</td>\n",
       "    </tr>\n",
       "    <tr>\n",
       "      <th>1</th>\n",
       "      <td>True</td>\n",
       "      <td>AgeAtFirstConvR</td>\n",
       "    </tr>\n",
       "    <tr>\n",
       "      <th>2</th>\n",
       "      <td>True</td>\n",
       "      <td>JvFelCon</td>\n",
       "    </tr>\n",
       "    <tr>\n",
       "      <th>3</th>\n",
       "      <td>True</td>\n",
       "      <td>JvVioCon</td>\n",
       "    </tr>\n",
       "    <tr>\n",
       "      <th>4</th>\n",
       "      <td>True</td>\n",
       "      <td>JvComit</td>\n",
       "    </tr>\n",
       "    <tr>\n",
       "      <th>5</th>\n",
       "      <td>True</td>\n",
       "      <td>HomConv</td>\n",
       "    </tr>\n",
       "    <tr>\n",
       "      <th>6</th>\n",
       "      <td>True</td>\n",
       "      <td>SexConv</td>\n",
       "    </tr>\n",
       "    <tr>\n",
       "      <th>7</th>\n",
       "      <td>True</td>\n",
       "      <td>VProCon</td>\n",
       "    </tr>\n",
       "    <tr>\n",
       "      <th>9</th>\n",
       "      <td>True</td>\n",
       "      <td>DomVio</td>\n",
       "    </tr>\n",
       "    <tr>\n",
       "      <th>10</th>\n",
       "      <td>True</td>\n",
       "      <td>FelWeap</td>\n",
       "    </tr>\n",
       "    <tr>\n",
       "      <th>11</th>\n",
       "      <td>True</td>\n",
       "      <td>FelProp</td>\n",
       "    </tr>\n",
       "    <tr>\n",
       "      <th>12</th>\n",
       "      <td>True</td>\n",
       "      <td>DrugCon</td>\n",
       "    </tr>\n",
       "    <tr>\n",
       "      <th>13</th>\n",
       "      <td>True</td>\n",
       "      <td>EscpCon</td>\n",
       "    </tr>\n",
       "    <tr>\n",
       "      <th>14</th>\n",
       "      <td>True</td>\n",
       "      <td>MisAssa</td>\n",
       "    </tr>\n",
       "    <tr>\n",
       "      <th>15</th>\n",
       "      <td>True</td>\n",
       "      <td>MisdDom</td>\n",
       "    </tr>\n",
       "    <tr>\n",
       "      <th>16</th>\n",
       "      <td>True</td>\n",
       "      <td>MisdSex</td>\n",
       "    </tr>\n",
       "    <tr>\n",
       "      <th>17</th>\n",
       "      <td>True</td>\n",
       "      <td>MisDomNV</td>\n",
       "    </tr>\n",
       "    <tr>\n",
       "      <th>18</th>\n",
       "      <td>True</td>\n",
       "      <td>MisWeap</td>\n",
       "    </tr>\n",
       "    <tr>\n",
       "      <th>19</th>\n",
       "      <td>True</td>\n",
       "      <td>MisdProp</td>\n",
       "    </tr>\n",
       "    <tr>\n",
       "      <th>20</th>\n",
       "      <td>True</td>\n",
       "      <td>MisdDrug</td>\n",
       "    </tr>\n",
       "    <tr>\n",
       "      <th>21</th>\n",
       "      <td>True</td>\n",
       "      <td>MisdEscp</td>\n",
       "    </tr>\n",
       "    <tr>\n",
       "      <th>22</th>\n",
       "      <td>True</td>\n",
       "      <td>MisAlcoh</td>\n",
       "    </tr>\n",
       "    <tr>\n",
       "      <th>23</th>\n",
       "      <td>True</td>\n",
       "      <td>TotalAdultFelonies</td>\n",
       "    </tr>\n",
       "    <tr>\n",
       "      <th>24</th>\n",
       "      <td>True</td>\n",
       "      <td>LastConviction</td>\n",
       "    </tr>\n",
       "    <tr>\n",
       "      <th>25</th>\n",
       "      <td>True</td>\n",
       "      <td>TechVioPriorsR</td>\n",
       "    </tr>\n",
       "    <tr>\n",
       "      <th>26</th>\n",
       "      <td>True</td>\n",
       "      <td>CountInfracR</td>\n",
       "    </tr>\n",
       "    <tr>\n",
       "      <th>27</th>\n",
       "      <td>True</td>\n",
       "      <td>CountVioInfracR</td>\n",
       "    </tr>\n",
       "    <tr>\n",
       "      <th>28</th>\n",
       "      <td>True</td>\n",
       "      <td>CountInfracEverR</td>\n",
       "    </tr>\n",
       "    <tr>\n",
       "      <th>29</th>\n",
       "      <td>True</td>\n",
       "      <td>CountVioInfracEverR</td>\n",
       "    </tr>\n",
       "    <tr>\n",
       "      <th>30</th>\n",
       "      <td>True</td>\n",
       "      <td>SeriousInfrac</td>\n",
       "    </tr>\n",
       "    <tr>\n",
       "      <th>...</th>\n",
       "      <td>...</td>\n",
       "      <td>...</td>\n",
       "    </tr>\n",
       "    <tr>\n",
       "      <th>307</th>\n",
       "      <td>True</td>\n",
       "      <td>AtChCHea3</td>\n",
       "    </tr>\n",
       "    <tr>\n",
       "      <th>308</th>\n",
       "      <td>True</td>\n",
       "      <td>AtChFaPr3</td>\n",
       "    </tr>\n",
       "    <tr>\n",
       "      <th>309</th>\n",
       "      <td>True</td>\n",
       "      <td>AtChFaRe3</td>\n",
       "    </tr>\n",
       "    <tr>\n",
       "      <th>310</th>\n",
       "      <td>True</td>\n",
       "      <td>AtChCrDi3</td>\n",
       "    </tr>\n",
       "    <tr>\n",
       "      <th>311</th>\n",
       "      <td>True</td>\n",
       "      <td>AtRsL63R</td>\n",
       "    </tr>\n",
       "    <tr>\n",
       "      <th>312</th>\n",
       "      <td>True</td>\n",
       "      <td>AtRsSup3</td>\n",
       "    </tr>\n",
       "    <tr>\n",
       "      <th>313</th>\n",
       "      <td>True</td>\n",
       "      <td>AtRsMin3</td>\n",
       "    </tr>\n",
       "    <tr>\n",
       "      <th>314</th>\n",
       "      <td>True</td>\n",
       "      <td>AtRsDInR3</td>\n",
       "    </tr>\n",
       "    <tr>\n",
       "      <th>315</th>\n",
       "      <td>True</td>\n",
       "      <td>AtRsDCoR3</td>\n",
       "    </tr>\n",
       "    <tr>\n",
       "      <th>316</th>\n",
       "      <td>True</td>\n",
       "      <td>AtRsNBR3</td>\n",
       "    </tr>\n",
       "    <tr>\n",
       "      <th>317</th>\n",
       "      <td>True</td>\n",
       "      <td>AtRsCrUs3</td>\n",
       "    </tr>\n",
       "    <tr>\n",
       "      <th>318</th>\n",
       "      <td>True</td>\n",
       "      <td>AtRsBost3</td>\n",
       "    </tr>\n",
       "    <tr>\n",
       "      <th>319</th>\n",
       "      <td>True</td>\n",
       "      <td>AttAuth3</td>\n",
       "    </tr>\n",
       "    <tr>\n",
       "      <th>320</th>\n",
       "      <td>True</td>\n",
       "      <td>RespOth3</td>\n",
       "    </tr>\n",
       "    <tr>\n",
       "      <th>321</th>\n",
       "      <td>True</td>\n",
       "      <td>Readychg3</td>\n",
       "    </tr>\n",
       "    <tr>\n",
       "      <th>322</th>\n",
       "      <td>True</td>\n",
       "      <td>BelfSuc3</td>\n",
       "    </tr>\n",
       "    <tr>\n",
       "      <th>323</th>\n",
       "      <td>True</td>\n",
       "      <td>ConsThk3</td>\n",
       "    </tr>\n",
       "    <tr>\n",
       "      <th>324</th>\n",
       "      <td>True</td>\n",
       "      <td>ImpCont3</td>\n",
       "    </tr>\n",
       "    <tr>\n",
       "      <th>325</th>\n",
       "      <td>True</td>\n",
       "      <td>DealOth3</td>\n",
       "    </tr>\n",
       "    <tr>\n",
       "      <th>326</th>\n",
       "      <td>True</td>\n",
       "      <td>ProbSol3</td>\n",
       "    </tr>\n",
       "    <tr>\n",
       "      <th>327</th>\n",
       "      <td>True</td>\n",
       "      <td>CopLv3MRV</td>\n",
       "    </tr>\n",
       "    <tr>\n",
       "      <th>328</th>\n",
       "      <td>True</td>\n",
       "      <td>CopEmpNd3</td>\n",
       "    </tr>\n",
       "    <tr>\n",
       "      <th>329</th>\n",
       "      <td>True</td>\n",
       "      <td>CopHouNd3</td>\n",
       "    </tr>\n",
       "    <tr>\n",
       "      <th>330</th>\n",
       "      <td>True</td>\n",
       "      <td>CopCloNd3</td>\n",
       "    </tr>\n",
       "    <tr>\n",
       "      <th>331</th>\n",
       "      <td>True</td>\n",
       "      <td>CopFodNd3</td>\n",
       "    </tr>\n",
       "    <tr>\n",
       "      <th>332</th>\n",
       "      <td>True</td>\n",
       "      <td>CopBugNd3</td>\n",
       "    </tr>\n",
       "    <tr>\n",
       "      <th>333</th>\n",
       "      <td>True</td>\n",
       "      <td>CopTraNd3</td>\n",
       "    </tr>\n",
       "    <tr>\n",
       "      <th>334</th>\n",
       "      <td>True</td>\n",
       "      <td>CopHygNd3</td>\n",
       "    </tr>\n",
       "    <tr>\n",
       "      <th>335</th>\n",
       "      <td>True</td>\n",
       "      <td>CopMedNd3</td>\n",
       "    </tr>\n",
       "    <tr>\n",
       "      <th>336</th>\n",
       "      <td>True</td>\n",
       "      <td>CopMHNd3</td>\n",
       "    </tr>\n",
       "  </tbody>\n",
       "</table>\n",
       "<p>272 rows × 2 columns</p>\n",
       "</div>"
      ],
      "text/plain": [
       "      sig                 name\n",
       "0    True          AgeAsses3RN\n",
       "1    True      AgeAtFirstConvR\n",
       "2    True             JvFelCon\n",
       "3    True             JvVioCon\n",
       "4    True              JvComit\n",
       "5    True              HomConv\n",
       "6    True              SexConv\n",
       "7    True              VProCon\n",
       "9    True               DomVio\n",
       "10   True              FelWeap\n",
       "11   True              FelProp\n",
       "12   True              DrugCon\n",
       "13   True              EscpCon\n",
       "14   True              MisAssa\n",
       "15   True              MisdDom\n",
       "16   True              MisdSex\n",
       "17   True             MisDomNV\n",
       "18   True              MisWeap\n",
       "19   True             MisdProp\n",
       "20   True             MisdDrug\n",
       "21   True             MisdEscp\n",
       "22   True             MisAlcoh\n",
       "23   True   TotalAdultFelonies\n",
       "24   True       LastConviction\n",
       "25   True       TechVioPriorsR\n",
       "26   True         CountInfracR\n",
       "27   True      CountVioInfracR\n",
       "28   True     CountInfracEverR\n",
       "29   True  CountVioInfracEverR\n",
       "30   True        SeriousInfrac\n",
       "..    ...                  ...\n",
       "307  True            AtChCHea3\n",
       "308  True            AtChFaPr3\n",
       "309  True            AtChFaRe3\n",
       "310  True            AtChCrDi3\n",
       "311  True             AtRsL63R\n",
       "312  True             AtRsSup3\n",
       "313  True             AtRsMin3\n",
       "314  True            AtRsDInR3\n",
       "315  True            AtRsDCoR3\n",
       "316  True             AtRsNBR3\n",
       "317  True            AtRsCrUs3\n",
       "318  True            AtRsBost3\n",
       "319  True             AttAuth3\n",
       "320  True             RespOth3\n",
       "321  True            Readychg3\n",
       "322  True             BelfSuc3\n",
       "323  True             ConsThk3\n",
       "324  True             ImpCont3\n",
       "325  True             DealOth3\n",
       "326  True             ProbSol3\n",
       "327  True            CopLv3MRV\n",
       "328  True            CopEmpNd3\n",
       "329  True            CopHouNd3\n",
       "330  True            CopCloNd3\n",
       "331  True            CopFodNd3\n",
       "332  True            CopBugNd3\n",
       "333  True            CopTraNd3\n",
       "334  True            CopHygNd3\n",
       "335  True            CopMedNd3\n",
       "336  True             CopMHNd3\n",
       "\n",
       "[272 rows x 2 columns]"
      ]
     },
     "execution_count": 17,
     "metadata": {},
     "output_type": "execute_result"
    }
   ],
   "source": [
    "bresult2"
   ]
  },
  {
   "cell_type": "code",
   "execution_count": 18,
   "metadata": {
    "collapsed": true
   },
   "outputs": [],
   "source": [
    "bresult3 = bresult2[\"name\"].tolist()"
   ]
  },
  {
   "cell_type": "code",
   "execution_count": 19,
   "metadata": {
    "collapsed": false
   },
   "outputs": [],
   "source": [
    "\n",
    "#feature_cols2 = ['RespOth3', 'EDQuitExpell', 'EduGdCom3N', 'FelProp', 'AgeAsses3RN', 'EmpLeng3R', 'AgeAtFirstConvR', 'FrnAnti3RC', 'TotalAdultFelonies', 'LastConviction']\n",
    "#data1.drop(data1.columns[\"FelrecidYr3\"], axis=1)\n",
    "X = data1[bresult3]\n",
    "#y = data1_a.FelRecidYr3.astype(int)\n",
    "#y = pd.DataFrame(strongy)\n"
   ]
  },
  {
   "cell_type": "markdown",
   "metadata": {},
   "source": [
    "## run train test split"
   ]
  },
  {
   "cell_type": "code",
   "execution_count": 20,
   "metadata": {
    "collapsed": true
   },
   "outputs": [],
   "source": [
    "X_train, X_test, y_train, y_test = train_test_split(X, y, random_state=99)"
   ]
  },
  {
   "cell_type": "markdown",
   "metadata": {},
   "source": [
    "# STEP 3 : MODEL EVALUATION - Recidivism"
   ]
  },
  {
   "cell_type": "markdown",
   "metadata": {},
   "source": [
    "### MODEL 1: Comparing Test Accuracy with Null Accuracy"
   ]
  },
  {
   "cell_type": "markdown",
   "metadata": {},
   "source": [
    "Null accuracy is the accuracy that could be achieved by always predicting the most frequent class. It is a benchmark against which you may want to measure your classification model.\n"
   ]
  },
  {
   "cell_type": "code",
   "execution_count": 21,
   "metadata": {
    "collapsed": false
   },
   "outputs": [
    {
     "data": {
      "text/plain": [
       "0    3732\n",
       "1    1612\n",
       "dtype: int64"
      ]
     },
     "execution_count": 21,
     "metadata": {},
     "output_type": "execute_result"
    }
   ],
   "source": [
    "# examine the class distribution\n",
    "y_test.value_counts()"
   ]
  },
  {
   "cell_type": "code",
   "execution_count": 22,
   "metadata": {
    "collapsed": false
   },
   "outputs": [
    {
     "name": "stdout",
     "output_type": "stream",
     "text": [
      "The slowest run took 40.16 times longer than the fastest. This could mean that an intermediate result is being cached \n",
      "10000000 loops, best of 3: 29.7 ns per loop\n"
     ]
    },
    {
     "data": {
      "text/plain": [
       "0    0.698353\n",
       "dtype: float64"
      ]
     },
     "execution_count": 22,
     "metadata": {},
     "output_type": "execute_result"
    }
   ],
   "source": [
    "nulltime1 = %%timeit -o 1 + 2\n",
    "# calc the null accuracy\n",
    "y_test.value_counts().head(1) / len(y_test)"
   ]
  },
  {
   "cell_type": "code",
   "execution_count": 23,
   "metadata": {
    "collapsed": false
   },
   "outputs": [],
   "source": [
    "nullmodel = sklearn.dummy.DummyClassifier(strategy='most_frequent', random_state=99, constant=None)"
   ]
  },
  {
   "cell_type": "code",
   "execution_count": 24,
   "metadata": {
    "collapsed": false
   },
   "outputs": [
    {
     "data": {
      "text/plain": [
       "DummyClassifier(constant=None, random_state=99, strategy='most_frequent')"
      ]
     },
     "execution_count": 24,
     "metadata": {},
     "output_type": "execute_result"
    }
   ],
   "source": [
    "nullmodel.fit(X,y)"
   ]
  },
  {
   "cell_type": "code",
   "execution_count": 25,
   "metadata": {
    "collapsed": false
   },
   "outputs": [],
   "source": [
    "y_pred_prob = nullmodel.predict_proba(X_test)[:, 1]"
   ]
  },
  {
   "cell_type": "code",
   "execution_count": 26,
   "metadata": {
    "collapsed": false
   },
   "outputs": [
    {
     "name": "stdout",
     "output_type": "stream",
     "text": [
      "0.5\n"
     ]
    }
   ],
   "source": [
    "# calculate AUC\n",
    "print metrics.roc_auc_score(y_test, y_pred_prob)"
   ]
  },
  {
   "cell_type": "code",
   "execution_count": 27,
   "metadata": {
    "collapsed": false
   },
   "outputs": [
    {
     "data": {
      "application/javascript": [
       "/* Put everything inside the global mpl namespace */\n",
       "window.mpl = {};\n",
       "\n",
       "mpl.get_websocket_type = function() {\n",
       "    if (typeof(WebSocket) !== 'undefined') {\n",
       "        return WebSocket;\n",
       "    } else if (typeof(MozWebSocket) !== 'undefined') {\n",
       "        return MozWebSocket;\n",
       "    } else {\n",
       "        alert('Your browser does not have WebSocket support.' +\n",
       "              'Please try Chrome, Safari or Firefox ≥ 6. ' +\n",
       "              'Firefox 4 and 5 are also supported but you ' +\n",
       "              'have to enable WebSockets in about:config.');\n",
       "    };\n",
       "}\n",
       "\n",
       "mpl.figure = function(figure_id, websocket, ondownload, parent_element) {\n",
       "    this.id = figure_id;\n",
       "\n",
       "    this.ws = websocket;\n",
       "\n",
       "    this.supports_binary = (this.ws.binaryType != undefined);\n",
       "\n",
       "    if (!this.supports_binary) {\n",
       "        var warnings = document.getElementById(\"mpl-warnings\");\n",
       "        if (warnings) {\n",
       "            warnings.style.display = 'block';\n",
       "            warnings.textContent = (\n",
       "                \"This browser does not support binary websocket messages. \" +\n",
       "                    \"Performance may be slow.\");\n",
       "        }\n",
       "    }\n",
       "\n",
       "    this.imageObj = new Image();\n",
       "\n",
       "    this.context = undefined;\n",
       "    this.message = undefined;\n",
       "    this.canvas = undefined;\n",
       "    this.rubberband_canvas = undefined;\n",
       "    this.rubberband_context = undefined;\n",
       "    this.format_dropdown = undefined;\n",
       "\n",
       "    this.image_mode = 'full';\n",
       "\n",
       "    this.root = $('<div/>');\n",
       "    this._root_extra_style(this.root)\n",
       "    this.root.attr('style', 'display: inline-block');\n",
       "\n",
       "    $(parent_element).append(this.root);\n",
       "\n",
       "    this._init_header(this);\n",
       "    this._init_canvas(this);\n",
       "    this._init_toolbar(this);\n",
       "\n",
       "    var fig = this;\n",
       "\n",
       "    this.waiting = false;\n",
       "\n",
       "    this.ws.onopen =  function () {\n",
       "            fig.send_message(\"supports_binary\", {value: fig.supports_binary});\n",
       "            fig.send_message(\"send_image_mode\", {});\n",
       "            fig.send_message(\"refresh\", {});\n",
       "        }\n",
       "\n",
       "    this.imageObj.onload = function() {\n",
       "            if (fig.image_mode == 'full') {\n",
       "                // Full images could contain transparency (where diff images\n",
       "                // almost always do), so we need to clear the canvas so that\n",
       "                // there is no ghosting.\n",
       "                fig.context.clearRect(0, 0, fig.canvas.width, fig.canvas.height);\n",
       "            }\n",
       "            fig.context.drawImage(fig.imageObj, 0, 0);\n",
       "            fig.waiting = false;\n",
       "        };\n",
       "\n",
       "    this.imageObj.onunload = function() {\n",
       "        this.ws.close();\n",
       "    }\n",
       "\n",
       "    this.ws.onmessage = this._make_on_message_function(this);\n",
       "\n",
       "    this.ondownload = ondownload;\n",
       "}\n",
       "\n",
       "mpl.figure.prototype._init_header = function() {\n",
       "    var titlebar = $(\n",
       "        '<div class=\"ui-dialog-titlebar ui-widget-header ui-corner-all ' +\n",
       "        'ui-helper-clearfix\"/>');\n",
       "    var titletext = $(\n",
       "        '<div class=\"ui-dialog-title\" style=\"width: 100%; ' +\n",
       "        'text-align: center; padding: 3px;\"/>');\n",
       "    titlebar.append(titletext)\n",
       "    this.root.append(titlebar);\n",
       "    this.header = titletext[0];\n",
       "}\n",
       "\n",
       "\n",
       "\n",
       "mpl.figure.prototype._canvas_extra_style = function(canvas_div) {\n",
       "\n",
       "}\n",
       "\n",
       "\n",
       "mpl.figure.prototype._root_extra_style = function(canvas_div) {\n",
       "\n",
       "}\n",
       "\n",
       "mpl.figure.prototype._init_canvas = function() {\n",
       "    var fig = this;\n",
       "\n",
       "    var canvas_div = $('<div/>');\n",
       "\n",
       "    canvas_div.attr('style', 'position: relative; clear: both; outline: 0');\n",
       "\n",
       "    function canvas_keyboard_event(event) {\n",
       "        return fig.key_event(event, event['data']);\n",
       "    }\n",
       "\n",
       "    canvas_div.keydown('key_press', canvas_keyboard_event);\n",
       "    canvas_div.keyup('key_release', canvas_keyboard_event);\n",
       "    this.canvas_div = canvas_div\n",
       "    this._canvas_extra_style(canvas_div)\n",
       "    this.root.append(canvas_div);\n",
       "\n",
       "    var canvas = $('<canvas/>');\n",
       "    canvas.addClass('mpl-canvas');\n",
       "    canvas.attr('style', \"left: 0; top: 0; z-index: 0; outline: 0\")\n",
       "\n",
       "    this.canvas = canvas[0];\n",
       "    this.context = canvas[0].getContext(\"2d\");\n",
       "\n",
       "    var rubberband = $('<canvas/>');\n",
       "    rubberband.attr('style', \"position: absolute; left: 0; top: 0; z-index: 1;\")\n",
       "\n",
       "    var pass_mouse_events = true;\n",
       "\n",
       "    canvas_div.resizable({\n",
       "        start: function(event, ui) {\n",
       "            pass_mouse_events = false;\n",
       "        },\n",
       "        resize: function(event, ui) {\n",
       "            fig.request_resize(ui.size.width, ui.size.height);\n",
       "        },\n",
       "        stop: function(event, ui) {\n",
       "            pass_mouse_events = true;\n",
       "            fig.request_resize(ui.size.width, ui.size.height);\n",
       "        },\n",
       "    });\n",
       "\n",
       "    function mouse_event_fn(event) {\n",
       "        if (pass_mouse_events)\n",
       "            return fig.mouse_event(event, event['data']);\n",
       "    }\n",
       "\n",
       "    rubberband.mousedown('button_press', mouse_event_fn);\n",
       "    rubberband.mouseup('button_release', mouse_event_fn);\n",
       "    // Throttle sequential mouse events to 1 every 20ms.\n",
       "    rubberband.mousemove('motion_notify', mouse_event_fn);\n",
       "\n",
       "    rubberband.mouseenter('figure_enter', mouse_event_fn);\n",
       "    rubberband.mouseleave('figure_leave', mouse_event_fn);\n",
       "\n",
       "    canvas_div.on(\"wheel\", function (event) {\n",
       "        event = event.originalEvent;\n",
       "        event['data'] = 'scroll'\n",
       "        if (event.deltaY < 0) {\n",
       "            event.step = 1;\n",
       "        } else {\n",
       "            event.step = -1;\n",
       "        }\n",
       "        mouse_event_fn(event);\n",
       "    });\n",
       "\n",
       "    canvas_div.append(canvas);\n",
       "    canvas_div.append(rubberband);\n",
       "\n",
       "    this.rubberband = rubberband;\n",
       "    this.rubberband_canvas = rubberband[0];\n",
       "    this.rubberband_context = rubberband[0].getContext(\"2d\");\n",
       "    this.rubberband_context.strokeStyle = \"#000000\";\n",
       "\n",
       "    this._resize_canvas = function(width, height) {\n",
       "        // Keep the size of the canvas, canvas container, and rubber band\n",
       "        // canvas in synch.\n",
       "        canvas_div.css('width', width)\n",
       "        canvas_div.css('height', height)\n",
       "\n",
       "        canvas.attr('width', width);\n",
       "        canvas.attr('height', height);\n",
       "\n",
       "        rubberband.attr('width', width);\n",
       "        rubberband.attr('height', height);\n",
       "    }\n",
       "\n",
       "    // Set the figure to an initial 600x600px, this will subsequently be updated\n",
       "    // upon first draw.\n",
       "    this._resize_canvas(600, 600);\n",
       "\n",
       "    // Disable right mouse context menu.\n",
       "    $(this.rubberband_canvas).bind(\"contextmenu\",function(e){\n",
       "        return false;\n",
       "    });\n",
       "\n",
       "    function set_focus () {\n",
       "        canvas.focus();\n",
       "        canvas_div.focus();\n",
       "    }\n",
       "\n",
       "    window.setTimeout(set_focus, 100);\n",
       "}\n",
       "\n",
       "mpl.figure.prototype._init_toolbar = function() {\n",
       "    var fig = this;\n",
       "\n",
       "    var nav_element = $('<div/>')\n",
       "    nav_element.attr('style', 'width: 100%');\n",
       "    this.root.append(nav_element);\n",
       "\n",
       "    // Define a callback function for later on.\n",
       "    function toolbar_event(event) {\n",
       "        return fig.toolbar_button_onclick(event['data']);\n",
       "    }\n",
       "    function toolbar_mouse_event(event) {\n",
       "        return fig.toolbar_button_onmouseover(event['data']);\n",
       "    }\n",
       "\n",
       "    for(var toolbar_ind in mpl.toolbar_items) {\n",
       "        var name = mpl.toolbar_items[toolbar_ind][0];\n",
       "        var tooltip = mpl.toolbar_items[toolbar_ind][1];\n",
       "        var image = mpl.toolbar_items[toolbar_ind][2];\n",
       "        var method_name = mpl.toolbar_items[toolbar_ind][3];\n",
       "\n",
       "        if (!name) {\n",
       "            // put a spacer in here.\n",
       "            continue;\n",
       "        }\n",
       "        var button = $('<button/>');\n",
       "        button.addClass('ui-button ui-widget ui-state-default ui-corner-all ' +\n",
       "                        'ui-button-icon-only');\n",
       "        button.attr('role', 'button');\n",
       "        button.attr('aria-disabled', 'false');\n",
       "        button.click(method_name, toolbar_event);\n",
       "        button.mouseover(tooltip, toolbar_mouse_event);\n",
       "\n",
       "        var icon_img = $('<span/>');\n",
       "        icon_img.addClass('ui-button-icon-primary ui-icon');\n",
       "        icon_img.addClass(image);\n",
       "        icon_img.addClass('ui-corner-all');\n",
       "\n",
       "        var tooltip_span = $('<span/>');\n",
       "        tooltip_span.addClass('ui-button-text');\n",
       "        tooltip_span.html(tooltip);\n",
       "\n",
       "        button.append(icon_img);\n",
       "        button.append(tooltip_span);\n",
       "\n",
       "        nav_element.append(button);\n",
       "    }\n",
       "\n",
       "    var fmt_picker_span = $('<span/>');\n",
       "\n",
       "    var fmt_picker = $('<select/>');\n",
       "    fmt_picker.addClass('mpl-toolbar-option ui-widget ui-widget-content');\n",
       "    fmt_picker_span.append(fmt_picker);\n",
       "    nav_element.append(fmt_picker_span);\n",
       "    this.format_dropdown = fmt_picker[0];\n",
       "\n",
       "    for (var ind in mpl.extensions) {\n",
       "        var fmt = mpl.extensions[ind];\n",
       "        var option = $(\n",
       "            '<option/>', {selected: fmt === mpl.default_extension}).html(fmt);\n",
       "        fmt_picker.append(option)\n",
       "    }\n",
       "\n",
       "    // Add hover states to the ui-buttons\n",
       "    $( \".ui-button\" ).hover(\n",
       "        function() { $(this).addClass(\"ui-state-hover\");},\n",
       "        function() { $(this).removeClass(\"ui-state-hover\");}\n",
       "    );\n",
       "\n",
       "    var status_bar = $('<span class=\"mpl-message\"/>');\n",
       "    nav_element.append(status_bar);\n",
       "    this.message = status_bar[0];\n",
       "}\n",
       "\n",
       "mpl.figure.prototype.request_resize = function(x_pixels, y_pixels) {\n",
       "    // Request matplotlib to resize the figure. Matplotlib will then trigger a resize in the client,\n",
       "    // which will in turn request a refresh of the image.\n",
       "    this.send_message('resize', {'width': x_pixels, 'height': y_pixels});\n",
       "}\n",
       "\n",
       "mpl.figure.prototype.send_message = function(type, properties) {\n",
       "    properties['type'] = type;\n",
       "    properties['figure_id'] = this.id;\n",
       "    this.ws.send(JSON.stringify(properties));\n",
       "}\n",
       "\n",
       "mpl.figure.prototype.send_draw_message = function() {\n",
       "    if (!this.waiting) {\n",
       "        this.waiting = true;\n",
       "        this.ws.send(JSON.stringify({type: \"draw\", figure_id: this.id}));\n",
       "    }\n",
       "}\n",
       "\n",
       "\n",
       "mpl.figure.prototype.handle_save = function(fig, msg) {\n",
       "    var format_dropdown = fig.format_dropdown;\n",
       "    var format = format_dropdown.options[format_dropdown.selectedIndex].value;\n",
       "    fig.ondownload(fig, format);\n",
       "}\n",
       "\n",
       "\n",
       "mpl.figure.prototype.handle_resize = function(fig, msg) {\n",
       "    var size = msg['size'];\n",
       "    if (size[0] != fig.canvas.width || size[1] != fig.canvas.height) {\n",
       "        fig._resize_canvas(size[0], size[1]);\n",
       "        fig.send_message(\"refresh\", {});\n",
       "    };\n",
       "}\n",
       "\n",
       "mpl.figure.prototype.handle_rubberband = function(fig, msg) {\n",
       "    var x0 = msg['x0'];\n",
       "    var y0 = fig.canvas.height - msg['y0'];\n",
       "    var x1 = msg['x1'];\n",
       "    var y1 = fig.canvas.height - msg['y1'];\n",
       "    x0 = Math.floor(x0) + 0.5;\n",
       "    y0 = Math.floor(y0) + 0.5;\n",
       "    x1 = Math.floor(x1) + 0.5;\n",
       "    y1 = Math.floor(y1) + 0.5;\n",
       "    var min_x = Math.min(x0, x1);\n",
       "    var min_y = Math.min(y0, y1);\n",
       "    var width = Math.abs(x1 - x0);\n",
       "    var height = Math.abs(y1 - y0);\n",
       "\n",
       "    fig.rubberband_context.clearRect(\n",
       "        0, 0, fig.canvas.width, fig.canvas.height);\n",
       "\n",
       "    fig.rubberband_context.strokeRect(min_x, min_y, width, height);\n",
       "}\n",
       "\n",
       "mpl.figure.prototype.handle_figure_label = function(fig, msg) {\n",
       "    // Updates the figure title.\n",
       "    fig.header.textContent = msg['label'];\n",
       "}\n",
       "\n",
       "mpl.figure.prototype.handle_cursor = function(fig, msg) {\n",
       "    var cursor = msg['cursor'];\n",
       "    switch(cursor)\n",
       "    {\n",
       "    case 0:\n",
       "        cursor = 'pointer';\n",
       "        break;\n",
       "    case 1:\n",
       "        cursor = 'default';\n",
       "        break;\n",
       "    case 2:\n",
       "        cursor = 'crosshair';\n",
       "        break;\n",
       "    case 3:\n",
       "        cursor = 'move';\n",
       "        break;\n",
       "    }\n",
       "    fig.rubberband_canvas.style.cursor = cursor;\n",
       "}\n",
       "\n",
       "mpl.figure.prototype.handle_message = function(fig, msg) {\n",
       "    fig.message.textContent = msg['message'];\n",
       "}\n",
       "\n",
       "mpl.figure.prototype.handle_draw = function(fig, msg) {\n",
       "    // Request the server to send over a new figure.\n",
       "    fig.send_draw_message();\n",
       "}\n",
       "\n",
       "mpl.figure.prototype.handle_image_mode = function(fig, msg) {\n",
       "    fig.image_mode = msg['mode'];\n",
       "}\n",
       "\n",
       "mpl.figure.prototype.updated_canvas_event = function() {\n",
       "    // Called whenever the canvas gets updated.\n",
       "    this.send_message(\"ack\", {});\n",
       "}\n",
       "\n",
       "// A function to construct a web socket function for onmessage handling.\n",
       "// Called in the figure constructor.\n",
       "mpl.figure.prototype._make_on_message_function = function(fig) {\n",
       "    return function socket_on_message(evt) {\n",
       "        if (evt.data instanceof Blob) {\n",
       "            /* FIXME: We get \"Resource interpreted as Image but\n",
       "             * transferred with MIME type text/plain:\" errors on\n",
       "             * Chrome.  But how to set the MIME type?  It doesn't seem\n",
       "             * to be part of the websocket stream */\n",
       "            evt.data.type = \"image/png\";\n",
       "\n",
       "            /* Free the memory for the previous frames */\n",
       "            if (fig.imageObj.src) {\n",
       "                (window.URL || window.webkitURL).revokeObjectURL(\n",
       "                    fig.imageObj.src);\n",
       "            }\n",
       "\n",
       "            fig.imageObj.src = (window.URL || window.webkitURL).createObjectURL(\n",
       "                evt.data);\n",
       "            fig.updated_canvas_event();\n",
       "            return;\n",
       "        }\n",
       "        else if (typeof evt.data === 'string' && evt.data.slice(0, 21) == \"data:image/png;base64\") {\n",
       "            fig.imageObj.src = evt.data;\n",
       "            fig.updated_canvas_event();\n",
       "            return;\n",
       "        }\n",
       "\n",
       "        var msg = JSON.parse(evt.data);\n",
       "        var msg_type = msg['type'];\n",
       "\n",
       "        // Call the  \"handle_{type}\" callback, which takes\n",
       "        // the figure and JSON message as its only arguments.\n",
       "        try {\n",
       "            var callback = fig[\"handle_\" + msg_type];\n",
       "        } catch (e) {\n",
       "            console.log(\"No handler for the '\" + msg_type + \"' message type: \", msg);\n",
       "            return;\n",
       "        }\n",
       "\n",
       "        if (callback) {\n",
       "            try {\n",
       "                // console.log(\"Handling '\" + msg_type + \"' message: \", msg);\n",
       "                callback(fig, msg);\n",
       "            } catch (e) {\n",
       "                console.log(\"Exception inside the 'handler_\" + msg_type + \"' callback:\", e, e.stack, msg);\n",
       "            }\n",
       "        }\n",
       "    };\n",
       "}\n",
       "\n",
       "// from http://stackoverflow.com/questions/1114465/getting-mouse-location-in-canvas\n",
       "mpl.findpos = function(e) {\n",
       "    //this section is from http://www.quirksmode.org/js/events_properties.html\n",
       "    var targ;\n",
       "    if (!e)\n",
       "        e = window.event;\n",
       "    if (e.target)\n",
       "        targ = e.target;\n",
       "    else if (e.srcElement)\n",
       "        targ = e.srcElement;\n",
       "    if (targ.nodeType == 3) // defeat Safari bug\n",
       "        targ = targ.parentNode;\n",
       "\n",
       "    // jQuery normalizes the pageX and pageY\n",
       "    // pageX,Y are the mouse positions relative to the document\n",
       "    // offset() returns the position of the element relative to the document\n",
       "    var x = e.pageX - $(targ).offset().left;\n",
       "    var y = e.pageY - $(targ).offset().top;\n",
       "\n",
       "    return {\"x\": x, \"y\": y};\n",
       "};\n",
       "\n",
       "mpl.figure.prototype.mouse_event = function(event, name) {\n",
       "    var canvas_pos = mpl.findpos(event)\n",
       "\n",
       "    if (name === 'button_press')\n",
       "    {\n",
       "        this.canvas.focus();\n",
       "        this.canvas_div.focus();\n",
       "    }\n",
       "\n",
       "    var x = canvas_pos.x;\n",
       "    var y = canvas_pos.y;\n",
       "\n",
       "    this.send_message(name, {x: x, y: y, button: event.button,\n",
       "                             step: event.step});\n",
       "\n",
       "    /* This prevents the web browser from automatically changing to\n",
       "     * the text insertion cursor when the button is pressed.  We want\n",
       "     * to control all of the cursor setting manually through the\n",
       "     * 'cursor' event from matplotlib */\n",
       "    event.preventDefault();\n",
       "    return false;\n",
       "}\n",
       "\n",
       "mpl.figure.prototype._key_event_extra = function(event, name) {\n",
       "    // Handle any extra behaviour associated with a key event\n",
       "}\n",
       "\n",
       "mpl.figure.prototype.key_event = function(event, name) {\n",
       "\n",
       "    // Prevent repeat events\n",
       "    if (name == 'key_press')\n",
       "    {\n",
       "        if (event.which === this._key)\n",
       "            return;\n",
       "        else\n",
       "            this._key = event.which;\n",
       "    }\n",
       "    if (name == 'key_release')\n",
       "        this._key = null;\n",
       "\n",
       "    var value = '';\n",
       "    if (event.ctrlKey && event.which != 17)\n",
       "        value += \"ctrl+\";\n",
       "    if (event.altKey && event.which != 18)\n",
       "        value += \"alt+\";\n",
       "    if (event.shiftKey && event.which != 16)\n",
       "        value += \"shift+\";\n",
       "\n",
       "    value += 'k';\n",
       "    value += event.which.toString();\n",
       "\n",
       "    this._key_event_extra(event, name);\n",
       "\n",
       "    this.send_message(name, {key: value});\n",
       "    return false;\n",
       "}\n",
       "\n",
       "mpl.figure.prototype.toolbar_button_onclick = function(name) {\n",
       "    if (name == 'download') {\n",
       "        this.handle_save(this, null);\n",
       "    } else {\n",
       "        this.send_message(\"toolbar_button\", {name: name});\n",
       "    }\n",
       "};\n",
       "\n",
       "mpl.figure.prototype.toolbar_button_onmouseover = function(tooltip) {\n",
       "    this.message.textContent = tooltip;\n",
       "};\n",
       "mpl.toolbar_items = [[\"Home\", \"Reset original view\", \"fa fa-home icon-home\", \"home\"], [\"Back\", \"Back to  previous view\", \"fa fa-arrow-left icon-arrow-left\", \"back\"], [\"Forward\", \"Forward to next view\", \"fa fa-arrow-right icon-arrow-right\", \"forward\"], [\"\", \"\", \"\", \"\"], [\"Pan\", \"Pan axes with left mouse, zoom with right\", \"fa fa-arrows icon-move\", \"pan\"], [\"Zoom\", \"Zoom to rectangle\", \"fa fa-square-o icon-check-empty\", \"zoom\"], [\"\", \"\", \"\", \"\"], [\"Download\", \"Download plot\", \"fa fa-floppy-o icon-save\", \"download\"]];\n",
       "\n",
       "mpl.extensions = [\"eps\", \"jpeg\", \"pdf\", \"png\", \"ps\", \"raw\", \"svg\", \"tif\"];\n",
       "\n",
       "mpl.default_extension = \"png\";var comm_websocket_adapter = function(comm) {\n",
       "    // Create a \"websocket\"-like object which calls the given IPython comm\n",
       "    // object with the appropriate methods. Currently this is a non binary\n",
       "    // socket, so there is still some room for performance tuning.\n",
       "    var ws = {};\n",
       "\n",
       "    ws.close = function() {\n",
       "        comm.close()\n",
       "    };\n",
       "    ws.send = function(m) {\n",
       "        //console.log('sending', m);\n",
       "        comm.send(m);\n",
       "    };\n",
       "    // Register the callback with on_msg.\n",
       "    comm.on_msg(function(msg) {\n",
       "        //console.log('receiving', msg['content']['data'], msg);\n",
       "        // Pass the mpl event to the overriden (by mpl) onmessage function.\n",
       "        ws.onmessage(msg['content']['data'])\n",
       "    });\n",
       "    return ws;\n",
       "}\n",
       "\n",
       "mpl.mpl_figure_comm = function(comm, msg) {\n",
       "    // This is the function which gets called when the mpl process\n",
       "    // starts-up an IPython Comm through the \"matplotlib\" channel.\n",
       "\n",
       "    var id = msg.content.data.id;\n",
       "    // Get hold of the div created by the display call when the Comm\n",
       "    // socket was opened in Python.\n",
       "    var element = $(\"#\" + id);\n",
       "    var ws_proxy = comm_websocket_adapter(comm)\n",
       "\n",
       "    function ondownload(figure, format) {\n",
       "        window.open(figure.imageObj.src);\n",
       "    }\n",
       "\n",
       "    var fig = new mpl.figure(id, ws_proxy,\n",
       "                           ondownload,\n",
       "                           element.get(0));\n",
       "\n",
       "    // Call onopen now - mpl needs it, as it is assuming we've passed it a real\n",
       "    // web socket which is closed, not our websocket->open comm proxy.\n",
       "    ws_proxy.onopen();\n",
       "\n",
       "    fig.parent_element = element.get(0);\n",
       "    fig.cell_info = mpl.find_output_cell(\"<div id='\" + id + \"'></div>\");\n",
       "    if (!fig.cell_info) {\n",
       "        console.error(\"Failed to find cell for figure\", id, fig);\n",
       "        return;\n",
       "    }\n",
       "\n",
       "    var output_index = fig.cell_info[2]\n",
       "    var cell = fig.cell_info[0];\n",
       "\n",
       "};\n",
       "\n",
       "mpl.figure.prototype.handle_close = function(fig, msg) {\n",
       "    // Update the output cell to use the data from the current canvas.\n",
       "    fig.push_to_output();\n",
       "    var dataURL = fig.canvas.toDataURL();\n",
       "    // Re-enable the keyboard manager in IPython - without this line, in FF,\n",
       "    // the notebook keyboard shortcuts fail.\n",
       "    IPython.keyboard_manager.enable()\n",
       "    $(fig.parent_element).html('<img src=\"' + dataURL + '\">');\n",
       "    fig.send_message('closing', {});\n",
       "    fig.ws.close()\n",
       "}\n",
       "\n",
       "mpl.figure.prototype.push_to_output = function(remove_interactive) {\n",
       "    // Turn the data on the canvas into data in the output cell.\n",
       "    var dataURL = this.canvas.toDataURL();\n",
       "    this.cell_info[1]['text/html'] = '<img src=\"' + dataURL + '\">';\n",
       "}\n",
       "\n",
       "mpl.figure.prototype.updated_canvas_event = function() {\n",
       "    // Tell IPython that the notebook contents must change.\n",
       "    IPython.notebook.set_dirty(true);\n",
       "    this.send_message(\"ack\", {});\n",
       "    var fig = this;\n",
       "    // Wait a second, then push the new image to the DOM so\n",
       "    // that it is saved nicely (might be nice to debounce this).\n",
       "    setTimeout(function () { fig.push_to_output() }, 1000);\n",
       "}\n",
       "\n",
       "mpl.figure.prototype._init_toolbar = function() {\n",
       "    var fig = this;\n",
       "\n",
       "    var nav_element = $('<div/>')\n",
       "    nav_element.attr('style', 'width: 100%');\n",
       "    this.root.append(nav_element);\n",
       "\n",
       "    // Define a callback function for later on.\n",
       "    function toolbar_event(event) {\n",
       "        return fig.toolbar_button_onclick(event['data']);\n",
       "    }\n",
       "    function toolbar_mouse_event(event) {\n",
       "        return fig.toolbar_button_onmouseover(event['data']);\n",
       "    }\n",
       "\n",
       "    for(var toolbar_ind in mpl.toolbar_items){\n",
       "        var name = mpl.toolbar_items[toolbar_ind][0];\n",
       "        var tooltip = mpl.toolbar_items[toolbar_ind][1];\n",
       "        var image = mpl.toolbar_items[toolbar_ind][2];\n",
       "        var method_name = mpl.toolbar_items[toolbar_ind][3];\n",
       "\n",
       "        if (!name) { continue; };\n",
       "\n",
       "        var button = $('<button class=\"btn btn-default\" href=\"#\" title=\"' + name + '\"><i class=\"fa ' + image + ' fa-lg\"></i></button>');\n",
       "        button.click(method_name, toolbar_event);\n",
       "        button.mouseover(tooltip, toolbar_mouse_event);\n",
       "        nav_element.append(button);\n",
       "    }\n",
       "\n",
       "    // Add the status bar.\n",
       "    var status_bar = $('<span class=\"mpl-message\" style=\"text-align:right; float: right;\"/>');\n",
       "    nav_element.append(status_bar);\n",
       "    this.message = status_bar[0];\n",
       "\n",
       "    // Add the close button to the window.\n",
       "    var buttongrp = $('<div class=\"btn-group inline pull-right\"></div>');\n",
       "    var button = $('<button class=\"btn btn-mini btn-danger\" href=\"#\" title=\"Close figure\"><i class=\"fa fa-times icon-remove icon-large\"></i></button>');\n",
       "    button.click(function (evt) { fig.handle_close(fig, {}); } );\n",
       "    button.mouseover('Close figure', toolbar_mouse_event);\n",
       "    buttongrp.append(button);\n",
       "    var titlebar = this.root.find($('.ui-dialog-titlebar'));\n",
       "    titlebar.prepend(buttongrp);\n",
       "}\n",
       "\n",
       "\n",
       "mpl.figure.prototype._canvas_extra_style = function(el){\n",
       "    // this is important to make the div 'focusable\n",
       "    el.attr('tabindex', 0)\n",
       "    // reach out to IPython and tell the keyboard manager to turn it's self\n",
       "    // off when our div gets focus\n",
       "\n",
       "    // location in version 3\n",
       "    if (IPython.notebook.keyboard_manager) {\n",
       "        IPython.notebook.keyboard_manager.register_events(el);\n",
       "    }\n",
       "    else {\n",
       "        // location in version 2\n",
       "        IPython.keyboard_manager.register_events(el);\n",
       "    }\n",
       "\n",
       "}\n",
       "\n",
       "mpl.figure.prototype._key_event_extra = function(event, name) {\n",
       "    var manager = IPython.notebook.keyboard_manager;\n",
       "    if (!manager)\n",
       "        manager = IPython.keyboard_manager;\n",
       "\n",
       "    // Check for shift+enter\n",
       "    if (event.shiftKey && event.which == 13) {\n",
       "        this.canvas_div.blur();\n",
       "        event.shiftKey = false;\n",
       "        // Send a \"J\" for go to next cell\n",
       "        event.which = 74;\n",
       "        event.keyCode = 74;\n",
       "        manager.command_mode();\n",
       "        manager.handle_keydown(event);\n",
       "    }\n",
       "}\n",
       "\n",
       "mpl.figure.prototype.handle_save = function(fig, msg) {\n",
       "    fig.ondownload(fig, null);\n",
       "}\n",
       "\n",
       "\n",
       "mpl.find_output_cell = function(html_output) {\n",
       "    // Return the cell and output element which can be found *uniquely* in the notebook.\n",
       "    // Note - this is a bit hacky, but it is done because the \"notebook_saving.Notebook\"\n",
       "    // IPython event is triggered only after the cells have been serialised, which for\n",
       "    // our purposes (turning an active figure into a static one), is too late.\n",
       "    var cells = IPython.notebook.get_cells();\n",
       "    var ncells = cells.length;\n",
       "    for (var i=0; i<ncells; i++) {\n",
       "        var cell = cells[i];\n",
       "        if (cell.cell_type === 'code'){\n",
       "            for (var j=0; j<cell.output_area.outputs.length; j++) {\n",
       "                var data = cell.output_area.outputs[j];\n",
       "                if (data.data) {\n",
       "                    // IPython >= 3 moved mimebundle to data attribute of output\n",
       "                    data = data.data;\n",
       "                }\n",
       "                if (data['text/html'] == html_output) {\n",
       "                    return [cell, data, j];\n",
       "                }\n",
       "            }\n",
       "        }\n",
       "    }\n",
       "}\n",
       "\n",
       "// Register the function which deals with the matplotlib target/channel.\n",
       "// The kernel may be null if the page has been refreshed.\n",
       "if (IPython.notebook.kernel != null) {\n",
       "    IPython.notebook.kernel.comm_manager.register_target('matplotlib', mpl.mpl_figure_comm);\n",
       "}\n"
      ],
      "text/plain": [
       "<IPython.core.display.Javascript object>"
      ]
     },
     "metadata": {},
     "output_type": "display_data"
    },
    {
     "data": {
      "text/html": [
       "<img src=\"data:image/png;base64,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\">"
      ],
      "text/plain": [
       "<IPython.core.display.HTML object>"
      ]
     },
     "metadata": {},
     "output_type": "display_data"
    },
    {
     "data": {
      "text/plain": [
       "[<matplotlib.lines.Line2D at 0x7f6ea8dcc2d0>]"
      ]
     },
     "execution_count": 27,
     "metadata": {},
     "output_type": "execute_result"
    }
   ],
   "source": [
    "import matplotlib\n",
    "%matplotlib nbagg\n",
    "fpr, tpr, thresholds = metrics.roc_curve(y_test, y_pred_prob)\n",
    "plt.plot(fpr, tpr)\n"
   ]
  },
  {
   "cell_type": "code",
   "execution_count": 28,
   "metadata": {
    "collapsed": true
   },
   "outputs": [],
   "source": [
    "nullmodel_mean1 = cross_val_score(nullmodel, X, y, cv=KFold(X.shape[0], n_folds=10, shuffle=True), scoring='accuracy').mean()"
   ]
  },
  {
   "cell_type": "code",
   "execution_count": 29,
   "metadata": {
    "collapsed": true
   },
   "outputs": [],
   "source": [
    "nullmodel_scores1 = cross_val_score(nullmodel, X, y, cv=KFold(X.shape[0], n_folds=10, shuffle=True), scoring='roc_auc')"
   ]
  },
  {
   "cell_type": "markdown",
   "metadata": {},
   "source": [
    "### MODEL 2: Naive-Bayes"
   ]
  },
  {
   "cell_type": "markdown",
   "metadata": {},
   "source": [
    "### MODEL 2: Naive-Bayes - Multinomial Naive Bayes"
   ]
  },
  {
   "cell_type": "code",
   "execution_count": 30,
   "metadata": {
    "collapsed": false
   },
   "outputs": [
    {
     "name": "stdout",
     "output_type": "stream",
     "text": [
      "The slowest run took 433.52 times longer than the fastest. This could mean that an intermediate result is being cached \n",
      "10000000 loops, best of 3: 29.7 ns per loop\n"
     ]
    }
   ],
   "source": [
    "nbmtime1 = %%timeit -o 1 + 2\n",
    "from sklearn.naive_bayes import MultinomialNB\n",
    "nbm = MultinomialNB()\n",
    "nbm.fit(X, y)\n",
    "MultinomialNB(alpha=1.0, class_prior=None, fit_prior=True)\n",
    "nbm_scores = cross_val_score(nbm, X, y, cv=KFold(X.shape[0], n_folds=10, shuffle=True), scoring='accuracy')\n",
    "\n",
    "#print(clf.predict(X[2:3]))"
   ]
  },
  {
   "cell_type": "code",
   "execution_count": 31,
   "metadata": {
    "collapsed": false
   },
   "outputs": [
    {
     "name": "stdout",
     "output_type": "stream",
     "text": [
      "[ 0.68521983  0.68709074  0.6777362   0.67992513  0.69302761  0.6939635\n",
      "  0.70472625  0.68086102  0.70379036  0.69630323]\n"
     ]
    }
   ],
   "source": [
    "print nbm_scores"
   ]
  },
  {
   "cell_type": "code",
   "execution_count": 46,
   "metadata": {
    "collapsed": false
   },
   "outputs": [
    {
     "name": "stdout",
     "output_type": "stream",
     "text": [
      "0.689655379209\n"
     ]
    }
   ],
   "source": [
    "nbm_scores_mean1 = cross_val_score(nbm, X, y, cv=KFold(X.shape[0], n_folds=10, shuffle=True), scoring='accuracy').mean()\n",
    "print nbm_scores_mean1"
   ]
  },
  {
   "cell_type": "code",
   "execution_count": 47,
   "metadata": {
    "collapsed": false
   },
   "outputs": [
    {
     "name": "stdout",
     "output_type": "stream",
     "text": [
      "0.712768750079\n"
     ]
    }
   ],
   "source": [
    "nbm_scores_auc1 = cross_val_score(nbm, X, y, cv=KFold(X.shape[0], n_folds=10, shuffle=True), scoring='roc_auc').mean()\n",
    "print nbm_scores_auc1"
   ]
  },
  {
   "cell_type": "code",
   "execution_count": 34,
   "metadata": {
    "collapsed": false
   },
   "outputs": [
    {
     "name": "stdout",
     "output_type": "stream",
     "text": [
      "Multinomial NB Score is 0.690264 +/-  0.006547\n",
      "Multinomial NB AUC is \n",
      "95 percent probability that if this experiment were repeated over and over the average score would be between 0.683718 and 0.696811\n"
     ]
    }
   ],
   "source": [
    "mean_score = nbm_scores.mean()\n",
    "std_dev = nbm_scores.std()\n",
    "std_error = nbm_scores.std() / math.sqrt(nbm_scores.shape[0])\n",
    "ci =  2.262 * std_error\n",
    "lower_bound = mean_score - ci\n",
    "upper_bound = mean_score + ci\n",
    "\n",
    "print \"Multinomial NB Score is %f +/-  %f\" % (mean_score, ci)\n",
    "print \"Multinomial NB AUC is \"\n",
    "print '95 percent probability that if this experiment were repeated over and over the average score would be between %f and %f' % (lower_bound, upper_bound)"
   ]
  },
  {
   "cell_type": "markdown",
   "metadata": {},
   "source": [
    "### MODEL 2: Naive-Bayes - Gaussian Naive Bayes"
   ]
  },
  {
   "cell_type": "code",
   "execution_count": 35,
   "metadata": {
    "collapsed": false
   },
   "outputs": [
    {
     "name": "stdout",
     "output_type": "stream",
     "text": [
      "10000000 loops, best of 3: 29.7 ns per loop\n",
      "[ 0.68334892  0.67867166  0.68521983  0.68226486  0.68132897  0.68132897\n",
      "  0.67945718  0.69021993  0.67664951  0.67898924]\n"
     ]
    }
   ],
   "source": [
    "nbgtime1 = %%timeit -o 1 + 2\n",
    "from sklearn.naive_bayes import GaussianNB\n",
    "nbg = GaussianNB()\n",
    "nbg.fit(X, y)\n",
    "GaussianNB()\n",
    "nbg_scores = cross_val_score(nbg, X, y, cv=KFold(X.shape[0], n_folds=10, shuffle=True), scoring='accuracy')\n",
    "print nbg_scores\n",
    "\n",
    "#print(clf.predict(X[2:3]))"
   ]
  },
  {
   "cell_type": "code",
   "execution_count": 48,
   "metadata": {
    "collapsed": false
   },
   "outputs": [
    {
     "name": "stdout",
     "output_type": "stream",
     "text": [
      "0.680952945847\n"
     ]
    }
   ],
   "source": [
    "nbg_scores_mean1 = cross_val_score(nbg, X, y, cv=KFold(X.shape[0], n_folds=10, shuffle=True), scoring='accuracy').mean()\n",
    "print nbg_scores_mean1"
   ]
  },
  {
   "cell_type": "code",
   "execution_count": 49,
   "metadata": {
    "collapsed": false
   },
   "outputs": [
    {
     "name": "stdout",
     "output_type": "stream",
     "text": [
      "0.675158737479\n"
     ]
    }
   ],
   "source": [
    "nbg_scores_auc1 = cross_val_score(nbg, X, y, cv=KFold(X.shape[0], n_folds=10, shuffle=True), scoring='roc_auc').mean()\n",
    "print nbg_scores_auc1"
   ]
  },
  {
   "cell_type": "markdown",
   "metadata": {},
   "source": [
    "### MODEL 2: Naive-Bayes - Bernoulli Naive Bayes"
   ]
  },
  {
   "cell_type": "code",
   "execution_count": 39,
   "metadata": {
    "collapsed": false
   },
   "outputs": [
    {
     "name": "stdout",
     "output_type": "stream",
     "text": [
      "The slowest run took 36.38 times longer than the fastest. This could mean that an intermediate result is being cached \n",
      "10000000 loops, best of 3: 35.4 ns per loop\n",
      "[ 0.65762395  0.64078578  0.66651076  0.65980346  0.67337389  0.66167525\n",
      "  0.66916238  0.68741226  0.68039307  0.65886757]\n"
     ]
    }
   ],
   "source": [
    "nbbtime1 = %%timeit -o 1 + 2\n",
    "from sklearn.naive_bayes import BernoulliNB\n",
    "nbb = BernoulliNB()\n",
    "nbb.fit(X, y)\n",
    "BernoulliNB(alpha=1.0, class_prior=None, fit_prior=True)\n",
    "nbb_scores = cross_val_score(nbb, X, y, cv=KFold(X.shape[0], n_folds=10, shuffle=True), scoring='accuracy')\n",
    "print nbb_scores\n",
    "\n",
    "#print(clf.predict(X[2:3]))"
   ]
  },
  {
   "cell_type": "code",
   "execution_count": 50,
   "metadata": {
    "collapsed": false
   },
   "outputs": [
    {
     "name": "stdout",
     "output_type": "stream",
     "text": [
      "0.665698812801\n"
     ]
    }
   ],
   "source": [
    "nbb_scores_mean1 = cross_val_score(nbb, X, y, cv=KFold(X.shape[0], n_folds=10, shuffle=True), scoring='accuracy').mean()\n",
    "print nbb_scores_mean1"
   ]
  },
  {
   "cell_type": "code",
   "execution_count": 51,
   "metadata": {
    "collapsed": false
   },
   "outputs": [
    {
     "name": "stdout",
     "output_type": "stream",
     "text": [
      "0.708537484107\n"
     ]
    }
   ],
   "source": [
    "nbb_scores_auc1 = cross_val_score(nbb, X, y, cv=KFold(X.shape[0], n_folds=10, shuffle=True), scoring='roc_auc').mean()\n",
    "print nbb_scores_auc1"
   ]
  },
  {
   "cell_type": "markdown",
   "metadata": {},
   "source": [
    "### MODEL 2: Naive-Bayes - Best performing Naive Bayes??"
   ]
  },
  {
   "cell_type": "code",
   "execution_count": 42,
   "metadata": {
    "collapsed": false
   },
   "outputs": [
    {
     "data": {
      "application/javascript": [
       "/* Put everything inside the global mpl namespace */\n",
       "window.mpl = {};\n",
       "\n",
       "mpl.get_websocket_type = function() {\n",
       "    if (typeof(WebSocket) !== 'undefined') {\n",
       "        return WebSocket;\n",
       "    } else if (typeof(MozWebSocket) !== 'undefined') {\n",
       "        return MozWebSocket;\n",
       "    } else {\n",
       "        alert('Your browser does not have WebSocket support.' +\n",
       "              'Please try Chrome, Safari or Firefox ≥ 6. ' +\n",
       "              'Firefox 4 and 5 are also supported but you ' +\n",
       "              'have to enable WebSockets in about:config.');\n",
       "    };\n",
       "}\n",
       "\n",
       "mpl.figure = function(figure_id, websocket, ondownload, parent_element) {\n",
       "    this.id = figure_id;\n",
       "\n",
       "    this.ws = websocket;\n",
       "\n",
       "    this.supports_binary = (this.ws.binaryType != undefined);\n",
       "\n",
       "    if (!this.supports_binary) {\n",
       "        var warnings = document.getElementById(\"mpl-warnings\");\n",
       "        if (warnings) {\n",
       "            warnings.style.display = 'block';\n",
       "            warnings.textContent = (\n",
       "                \"This browser does not support binary websocket messages. \" +\n",
       "                    \"Performance may be slow.\");\n",
       "        }\n",
       "    }\n",
       "\n",
       "    this.imageObj = new Image();\n",
       "\n",
       "    this.context = undefined;\n",
       "    this.message = undefined;\n",
       "    this.canvas = undefined;\n",
       "    this.rubberband_canvas = undefined;\n",
       "    this.rubberband_context = undefined;\n",
       "    this.format_dropdown = undefined;\n",
       "\n",
       "    this.image_mode = 'full';\n",
       "\n",
       "    this.root = $('<div/>');\n",
       "    this._root_extra_style(this.root)\n",
       "    this.root.attr('style', 'display: inline-block');\n",
       "\n",
       "    $(parent_element).append(this.root);\n",
       "\n",
       "    this._init_header(this);\n",
       "    this._init_canvas(this);\n",
       "    this._init_toolbar(this);\n",
       "\n",
       "    var fig = this;\n",
       "\n",
       "    this.waiting = false;\n",
       "\n",
       "    this.ws.onopen =  function () {\n",
       "            fig.send_message(\"supports_binary\", {value: fig.supports_binary});\n",
       "            fig.send_message(\"send_image_mode\", {});\n",
       "            fig.send_message(\"refresh\", {});\n",
       "        }\n",
       "\n",
       "    this.imageObj.onload = function() {\n",
       "            if (fig.image_mode == 'full') {\n",
       "                // Full images could contain transparency (where diff images\n",
       "                // almost always do), so we need to clear the canvas so that\n",
       "                // there is no ghosting.\n",
       "                fig.context.clearRect(0, 0, fig.canvas.width, fig.canvas.height);\n",
       "            }\n",
       "            fig.context.drawImage(fig.imageObj, 0, 0);\n",
       "            fig.waiting = false;\n",
       "        };\n",
       "\n",
       "    this.imageObj.onunload = function() {\n",
       "        this.ws.close();\n",
       "    }\n",
       "\n",
       "    this.ws.onmessage = this._make_on_message_function(this);\n",
       "\n",
       "    this.ondownload = ondownload;\n",
       "}\n",
       "\n",
       "mpl.figure.prototype._init_header = function() {\n",
       "    var titlebar = $(\n",
       "        '<div class=\"ui-dialog-titlebar ui-widget-header ui-corner-all ' +\n",
       "        'ui-helper-clearfix\"/>');\n",
       "    var titletext = $(\n",
       "        '<div class=\"ui-dialog-title\" style=\"width: 100%; ' +\n",
       "        'text-align: center; padding: 3px;\"/>');\n",
       "    titlebar.append(titletext)\n",
       "    this.root.append(titlebar);\n",
       "    this.header = titletext[0];\n",
       "}\n",
       "\n",
       "\n",
       "\n",
       "mpl.figure.prototype._canvas_extra_style = function(canvas_div) {\n",
       "\n",
       "}\n",
       "\n",
       "\n",
       "mpl.figure.prototype._root_extra_style = function(canvas_div) {\n",
       "\n",
       "}\n",
       "\n",
       "mpl.figure.prototype._init_canvas = function() {\n",
       "    var fig = this;\n",
       "\n",
       "    var canvas_div = $('<div/>');\n",
       "\n",
       "    canvas_div.attr('style', 'position: relative; clear: both; outline: 0');\n",
       "\n",
       "    function canvas_keyboard_event(event) {\n",
       "        return fig.key_event(event, event['data']);\n",
       "    }\n",
       "\n",
       "    canvas_div.keydown('key_press', canvas_keyboard_event);\n",
       "    canvas_div.keyup('key_release', canvas_keyboard_event);\n",
       "    this.canvas_div = canvas_div\n",
       "    this._canvas_extra_style(canvas_div)\n",
       "    this.root.append(canvas_div);\n",
       "\n",
       "    var canvas = $('<canvas/>');\n",
       "    canvas.addClass('mpl-canvas');\n",
       "    canvas.attr('style', \"left: 0; top: 0; z-index: 0; outline: 0\")\n",
       "\n",
       "    this.canvas = canvas[0];\n",
       "    this.context = canvas[0].getContext(\"2d\");\n",
       "\n",
       "    var rubberband = $('<canvas/>');\n",
       "    rubberband.attr('style', \"position: absolute; left: 0; top: 0; z-index: 1;\")\n",
       "\n",
       "    var pass_mouse_events = true;\n",
       "\n",
       "    canvas_div.resizable({\n",
       "        start: function(event, ui) {\n",
       "            pass_mouse_events = false;\n",
       "        },\n",
       "        resize: function(event, ui) {\n",
       "            fig.request_resize(ui.size.width, ui.size.height);\n",
       "        },\n",
       "        stop: function(event, ui) {\n",
       "            pass_mouse_events = true;\n",
       "            fig.request_resize(ui.size.width, ui.size.height);\n",
       "        },\n",
       "    });\n",
       "\n",
       "    function mouse_event_fn(event) {\n",
       "        if (pass_mouse_events)\n",
       "            return fig.mouse_event(event, event['data']);\n",
       "    }\n",
       "\n",
       "    rubberband.mousedown('button_press', mouse_event_fn);\n",
       "    rubberband.mouseup('button_release', mouse_event_fn);\n",
       "    // Throttle sequential mouse events to 1 every 20ms.\n",
       "    rubberband.mousemove('motion_notify', mouse_event_fn);\n",
       "\n",
       "    rubberband.mouseenter('figure_enter', mouse_event_fn);\n",
       "    rubberband.mouseleave('figure_leave', mouse_event_fn);\n",
       "\n",
       "    canvas_div.on(\"wheel\", function (event) {\n",
       "        event = event.originalEvent;\n",
       "        event['data'] = 'scroll'\n",
       "        if (event.deltaY < 0) {\n",
       "            event.step = 1;\n",
       "        } else {\n",
       "            event.step = -1;\n",
       "        }\n",
       "        mouse_event_fn(event);\n",
       "    });\n",
       "\n",
       "    canvas_div.append(canvas);\n",
       "    canvas_div.append(rubberband);\n",
       "\n",
       "    this.rubberband = rubberband;\n",
       "    this.rubberband_canvas = rubberband[0];\n",
       "    this.rubberband_context = rubberband[0].getContext(\"2d\");\n",
       "    this.rubberband_context.strokeStyle = \"#000000\";\n",
       "\n",
       "    this._resize_canvas = function(width, height) {\n",
       "        // Keep the size of the canvas, canvas container, and rubber band\n",
       "        // canvas in synch.\n",
       "        canvas_div.css('width', width)\n",
       "        canvas_div.css('height', height)\n",
       "\n",
       "        canvas.attr('width', width);\n",
       "        canvas.attr('height', height);\n",
       "\n",
       "        rubberband.attr('width', width);\n",
       "        rubberband.attr('height', height);\n",
       "    }\n",
       "\n",
       "    // Set the figure to an initial 600x600px, this will subsequently be updated\n",
       "    // upon first draw.\n",
       "    this._resize_canvas(600, 600);\n",
       "\n",
       "    // Disable right mouse context menu.\n",
       "    $(this.rubberband_canvas).bind(\"contextmenu\",function(e){\n",
       "        return false;\n",
       "    });\n",
       "\n",
       "    function set_focus () {\n",
       "        canvas.focus();\n",
       "        canvas_div.focus();\n",
       "    }\n",
       "\n",
       "    window.setTimeout(set_focus, 100);\n",
       "}\n",
       "\n",
       "mpl.figure.prototype._init_toolbar = function() {\n",
       "    var fig = this;\n",
       "\n",
       "    var nav_element = $('<div/>')\n",
       "    nav_element.attr('style', 'width: 100%');\n",
       "    this.root.append(nav_element);\n",
       "\n",
       "    // Define a callback function for later on.\n",
       "    function toolbar_event(event) {\n",
       "        return fig.toolbar_button_onclick(event['data']);\n",
       "    }\n",
       "    function toolbar_mouse_event(event) {\n",
       "        return fig.toolbar_button_onmouseover(event['data']);\n",
       "    }\n",
       "\n",
       "    for(var toolbar_ind in mpl.toolbar_items) {\n",
       "        var name = mpl.toolbar_items[toolbar_ind][0];\n",
       "        var tooltip = mpl.toolbar_items[toolbar_ind][1];\n",
       "        var image = mpl.toolbar_items[toolbar_ind][2];\n",
       "        var method_name = mpl.toolbar_items[toolbar_ind][3];\n",
       "\n",
       "        if (!name) {\n",
       "            // put a spacer in here.\n",
       "            continue;\n",
       "        }\n",
       "        var button = $('<button/>');\n",
       "        button.addClass('ui-button ui-widget ui-state-default ui-corner-all ' +\n",
       "                        'ui-button-icon-only');\n",
       "        button.attr('role', 'button');\n",
       "        button.attr('aria-disabled', 'false');\n",
       "        button.click(method_name, toolbar_event);\n",
       "        button.mouseover(tooltip, toolbar_mouse_event);\n",
       "\n",
       "        var icon_img = $('<span/>');\n",
       "        icon_img.addClass('ui-button-icon-primary ui-icon');\n",
       "        icon_img.addClass(image);\n",
       "        icon_img.addClass('ui-corner-all');\n",
       "\n",
       "        var tooltip_span = $('<span/>');\n",
       "        tooltip_span.addClass('ui-button-text');\n",
       "        tooltip_span.html(tooltip);\n",
       "\n",
       "        button.append(icon_img);\n",
       "        button.append(tooltip_span);\n",
       "\n",
       "        nav_element.append(button);\n",
       "    }\n",
       "\n",
       "    var fmt_picker_span = $('<span/>');\n",
       "\n",
       "    var fmt_picker = $('<select/>');\n",
       "    fmt_picker.addClass('mpl-toolbar-option ui-widget ui-widget-content');\n",
       "    fmt_picker_span.append(fmt_picker);\n",
       "    nav_element.append(fmt_picker_span);\n",
       "    this.format_dropdown = fmt_picker[0];\n",
       "\n",
       "    for (var ind in mpl.extensions) {\n",
       "        var fmt = mpl.extensions[ind];\n",
       "        var option = $(\n",
       "            '<option/>', {selected: fmt === mpl.default_extension}).html(fmt);\n",
       "        fmt_picker.append(option)\n",
       "    }\n",
       "\n",
       "    // Add hover states to the ui-buttons\n",
       "    $( \".ui-button\" ).hover(\n",
       "        function() { $(this).addClass(\"ui-state-hover\");},\n",
       "        function() { $(this).removeClass(\"ui-state-hover\");}\n",
       "    );\n",
       "\n",
       "    var status_bar = $('<span class=\"mpl-message\"/>');\n",
       "    nav_element.append(status_bar);\n",
       "    this.message = status_bar[0];\n",
       "}\n",
       "\n",
       "mpl.figure.prototype.request_resize = function(x_pixels, y_pixels) {\n",
       "    // Request matplotlib to resize the figure. Matplotlib will then trigger a resize in the client,\n",
       "    // which will in turn request a refresh of the image.\n",
       "    this.send_message('resize', {'width': x_pixels, 'height': y_pixels});\n",
       "}\n",
       "\n",
       "mpl.figure.prototype.send_message = function(type, properties) {\n",
       "    properties['type'] = type;\n",
       "    properties['figure_id'] = this.id;\n",
       "    this.ws.send(JSON.stringify(properties));\n",
       "}\n",
       "\n",
       "mpl.figure.prototype.send_draw_message = function() {\n",
       "    if (!this.waiting) {\n",
       "        this.waiting = true;\n",
       "        this.ws.send(JSON.stringify({type: \"draw\", figure_id: this.id}));\n",
       "    }\n",
       "}\n",
       "\n",
       "\n",
       "mpl.figure.prototype.handle_save = function(fig, msg) {\n",
       "    var format_dropdown = fig.format_dropdown;\n",
       "    var format = format_dropdown.options[format_dropdown.selectedIndex].value;\n",
       "    fig.ondownload(fig, format);\n",
       "}\n",
       "\n",
       "\n",
       "mpl.figure.prototype.handle_resize = function(fig, msg) {\n",
       "    var size = msg['size'];\n",
       "    if (size[0] != fig.canvas.width || size[1] != fig.canvas.height) {\n",
       "        fig._resize_canvas(size[0], size[1]);\n",
       "        fig.send_message(\"refresh\", {});\n",
       "    };\n",
       "}\n",
       "\n",
       "mpl.figure.prototype.handle_rubberband = function(fig, msg) {\n",
       "    var x0 = msg['x0'];\n",
       "    var y0 = fig.canvas.height - msg['y0'];\n",
       "    var x1 = msg['x1'];\n",
       "    var y1 = fig.canvas.height - msg['y1'];\n",
       "    x0 = Math.floor(x0) + 0.5;\n",
       "    y0 = Math.floor(y0) + 0.5;\n",
       "    x1 = Math.floor(x1) + 0.5;\n",
       "    y1 = Math.floor(y1) + 0.5;\n",
       "    var min_x = Math.min(x0, x1);\n",
       "    var min_y = Math.min(y0, y1);\n",
       "    var width = Math.abs(x1 - x0);\n",
       "    var height = Math.abs(y1 - y0);\n",
       "\n",
       "    fig.rubberband_context.clearRect(\n",
       "        0, 0, fig.canvas.width, fig.canvas.height);\n",
       "\n",
       "    fig.rubberband_context.strokeRect(min_x, min_y, width, height);\n",
       "}\n",
       "\n",
       "mpl.figure.prototype.handle_figure_label = function(fig, msg) {\n",
       "    // Updates the figure title.\n",
       "    fig.header.textContent = msg['label'];\n",
       "}\n",
       "\n",
       "mpl.figure.prototype.handle_cursor = function(fig, msg) {\n",
       "    var cursor = msg['cursor'];\n",
       "    switch(cursor)\n",
       "    {\n",
       "    case 0:\n",
       "        cursor = 'pointer';\n",
       "        break;\n",
       "    case 1:\n",
       "        cursor = 'default';\n",
       "        break;\n",
       "    case 2:\n",
       "        cursor = 'crosshair';\n",
       "        break;\n",
       "    case 3:\n",
       "        cursor = 'move';\n",
       "        break;\n",
       "    }\n",
       "    fig.rubberband_canvas.style.cursor = cursor;\n",
       "}\n",
       "\n",
       "mpl.figure.prototype.handle_message = function(fig, msg) {\n",
       "    fig.message.textContent = msg['message'];\n",
       "}\n",
       "\n",
       "mpl.figure.prototype.handle_draw = function(fig, msg) {\n",
       "    // Request the server to send over a new figure.\n",
       "    fig.send_draw_message();\n",
       "}\n",
       "\n",
       "mpl.figure.prototype.handle_image_mode = function(fig, msg) {\n",
       "    fig.image_mode = msg['mode'];\n",
       "}\n",
       "\n",
       "mpl.figure.prototype.updated_canvas_event = function() {\n",
       "    // Called whenever the canvas gets updated.\n",
       "    this.send_message(\"ack\", {});\n",
       "}\n",
       "\n",
       "// A function to construct a web socket function for onmessage handling.\n",
       "// Called in the figure constructor.\n",
       "mpl.figure.prototype._make_on_message_function = function(fig) {\n",
       "    return function socket_on_message(evt) {\n",
       "        if (evt.data instanceof Blob) {\n",
       "            /* FIXME: We get \"Resource interpreted as Image but\n",
       "             * transferred with MIME type text/plain:\" errors on\n",
       "             * Chrome.  But how to set the MIME type?  It doesn't seem\n",
       "             * to be part of the websocket stream */\n",
       "            evt.data.type = \"image/png\";\n",
       "\n",
       "            /* Free the memory for the previous frames */\n",
       "            if (fig.imageObj.src) {\n",
       "                (window.URL || window.webkitURL).revokeObjectURL(\n",
       "                    fig.imageObj.src);\n",
       "            }\n",
       "\n",
       "            fig.imageObj.src = (window.URL || window.webkitURL).createObjectURL(\n",
       "                evt.data);\n",
       "            fig.updated_canvas_event();\n",
       "            return;\n",
       "        }\n",
       "        else if (typeof evt.data === 'string' && evt.data.slice(0, 21) == \"data:image/png;base64\") {\n",
       "            fig.imageObj.src = evt.data;\n",
       "            fig.updated_canvas_event();\n",
       "            return;\n",
       "        }\n",
       "\n",
       "        var msg = JSON.parse(evt.data);\n",
       "        var msg_type = msg['type'];\n",
       "\n",
       "        // Call the  \"handle_{type}\" callback, which takes\n",
       "        // the figure and JSON message as its only arguments.\n",
       "        try {\n",
       "            var callback = fig[\"handle_\" + msg_type];\n",
       "        } catch (e) {\n",
       "            console.log(\"No handler for the '\" + msg_type + \"' message type: \", msg);\n",
       "            return;\n",
       "        }\n",
       "\n",
       "        if (callback) {\n",
       "            try {\n",
       "                // console.log(\"Handling '\" + msg_type + \"' message: \", msg);\n",
       "                callback(fig, msg);\n",
       "            } catch (e) {\n",
       "                console.log(\"Exception inside the 'handler_\" + msg_type + \"' callback:\", e, e.stack, msg);\n",
       "            }\n",
       "        }\n",
       "    };\n",
       "}\n",
       "\n",
       "// from http://stackoverflow.com/questions/1114465/getting-mouse-location-in-canvas\n",
       "mpl.findpos = function(e) {\n",
       "    //this section is from http://www.quirksmode.org/js/events_properties.html\n",
       "    var targ;\n",
       "    if (!e)\n",
       "        e = window.event;\n",
       "    if (e.target)\n",
       "        targ = e.target;\n",
       "    else if (e.srcElement)\n",
       "        targ = e.srcElement;\n",
       "    if (targ.nodeType == 3) // defeat Safari bug\n",
       "        targ = targ.parentNode;\n",
       "\n",
       "    // jQuery normalizes the pageX and pageY\n",
       "    // pageX,Y are the mouse positions relative to the document\n",
       "    // offset() returns the position of the element relative to the document\n",
       "    var x = e.pageX - $(targ).offset().left;\n",
       "    var y = e.pageY - $(targ).offset().top;\n",
       "\n",
       "    return {\"x\": x, \"y\": y};\n",
       "};\n",
       "\n",
       "mpl.figure.prototype.mouse_event = function(event, name) {\n",
       "    var canvas_pos = mpl.findpos(event)\n",
       "\n",
       "    if (name === 'button_press')\n",
       "    {\n",
       "        this.canvas.focus();\n",
       "        this.canvas_div.focus();\n",
       "    }\n",
       "\n",
       "    var x = canvas_pos.x;\n",
       "    var y = canvas_pos.y;\n",
       "\n",
       "    this.send_message(name, {x: x, y: y, button: event.button,\n",
       "                             step: event.step});\n",
       "\n",
       "    /* This prevents the web browser from automatically changing to\n",
       "     * the text insertion cursor when the button is pressed.  We want\n",
       "     * to control all of the cursor setting manually through the\n",
       "     * 'cursor' event from matplotlib */\n",
       "    event.preventDefault();\n",
       "    return false;\n",
       "}\n",
       "\n",
       "mpl.figure.prototype._key_event_extra = function(event, name) {\n",
       "    // Handle any extra behaviour associated with a key event\n",
       "}\n",
       "\n",
       "mpl.figure.prototype.key_event = function(event, name) {\n",
       "\n",
       "    // Prevent repeat events\n",
       "    if (name == 'key_press')\n",
       "    {\n",
       "        if (event.which === this._key)\n",
       "            return;\n",
       "        else\n",
       "            this._key = event.which;\n",
       "    }\n",
       "    if (name == 'key_release')\n",
       "        this._key = null;\n",
       "\n",
       "    var value = '';\n",
       "    if (event.ctrlKey && event.which != 17)\n",
       "        value += \"ctrl+\";\n",
       "    if (event.altKey && event.which != 18)\n",
       "        value += \"alt+\";\n",
       "    if (event.shiftKey && event.which != 16)\n",
       "        value += \"shift+\";\n",
       "\n",
       "    value += 'k';\n",
       "    value += event.which.toString();\n",
       "\n",
       "    this._key_event_extra(event, name);\n",
       "\n",
       "    this.send_message(name, {key: value});\n",
       "    return false;\n",
       "}\n",
       "\n",
       "mpl.figure.prototype.toolbar_button_onclick = function(name) {\n",
       "    if (name == 'download') {\n",
       "        this.handle_save(this, null);\n",
       "    } else {\n",
       "        this.send_message(\"toolbar_button\", {name: name});\n",
       "    }\n",
       "};\n",
       "\n",
       "mpl.figure.prototype.toolbar_button_onmouseover = function(tooltip) {\n",
       "    this.message.textContent = tooltip;\n",
       "};\n",
       "mpl.toolbar_items = [[\"Home\", \"Reset original view\", \"fa fa-home icon-home\", \"home\"], [\"Back\", \"Back to  previous view\", \"fa fa-arrow-left icon-arrow-left\", \"back\"], [\"Forward\", \"Forward to next view\", \"fa fa-arrow-right icon-arrow-right\", \"forward\"], [\"\", \"\", \"\", \"\"], [\"Pan\", \"Pan axes with left mouse, zoom with right\", \"fa fa-arrows icon-move\", \"pan\"], [\"Zoom\", \"Zoom to rectangle\", \"fa fa-square-o icon-check-empty\", \"zoom\"], [\"\", \"\", \"\", \"\"], [\"Download\", \"Download plot\", \"fa fa-floppy-o icon-save\", \"download\"]];\n",
       "\n",
       "mpl.extensions = [\"eps\", \"jpeg\", \"pdf\", \"png\", \"ps\", \"raw\", \"svg\", \"tif\"];\n",
       "\n",
       "mpl.default_extension = \"png\";var comm_websocket_adapter = function(comm) {\n",
       "    // Create a \"websocket\"-like object which calls the given IPython comm\n",
       "    // object with the appropriate methods. Currently this is a non binary\n",
       "    // socket, so there is still some room for performance tuning.\n",
       "    var ws = {};\n",
       "\n",
       "    ws.close = function() {\n",
       "        comm.close()\n",
       "    };\n",
       "    ws.send = function(m) {\n",
       "        //console.log('sending', m);\n",
       "        comm.send(m);\n",
       "    };\n",
       "    // Register the callback with on_msg.\n",
       "    comm.on_msg(function(msg) {\n",
       "        //console.log('receiving', msg['content']['data'], msg);\n",
       "        // Pass the mpl event to the overriden (by mpl) onmessage function.\n",
       "        ws.onmessage(msg['content']['data'])\n",
       "    });\n",
       "    return ws;\n",
       "}\n",
       "\n",
       "mpl.mpl_figure_comm = function(comm, msg) {\n",
       "    // This is the function which gets called when the mpl process\n",
       "    // starts-up an IPython Comm through the \"matplotlib\" channel.\n",
       "\n",
       "    var id = msg.content.data.id;\n",
       "    // Get hold of the div created by the display call when the Comm\n",
       "    // socket was opened in Python.\n",
       "    var element = $(\"#\" + id);\n",
       "    var ws_proxy = comm_websocket_adapter(comm)\n",
       "\n",
       "    function ondownload(figure, format) {\n",
       "        window.open(figure.imageObj.src);\n",
       "    }\n",
       "\n",
       "    var fig = new mpl.figure(id, ws_proxy,\n",
       "                           ondownload,\n",
       "                           element.get(0));\n",
       "\n",
       "    // Call onopen now - mpl needs it, as it is assuming we've passed it a real\n",
       "    // web socket which is closed, not our websocket->open comm proxy.\n",
       "    ws_proxy.onopen();\n",
       "\n",
       "    fig.parent_element = element.get(0);\n",
       "    fig.cell_info = mpl.find_output_cell(\"<div id='\" + id + \"'></div>\");\n",
       "    if (!fig.cell_info) {\n",
       "        console.error(\"Failed to find cell for figure\", id, fig);\n",
       "        return;\n",
       "    }\n",
       "\n",
       "    var output_index = fig.cell_info[2]\n",
       "    var cell = fig.cell_info[0];\n",
       "\n",
       "};\n",
       "\n",
       "mpl.figure.prototype.handle_close = function(fig, msg) {\n",
       "    // Update the output cell to use the data from the current canvas.\n",
       "    fig.push_to_output();\n",
       "    var dataURL = fig.canvas.toDataURL();\n",
       "    // Re-enable the keyboard manager in IPython - without this line, in FF,\n",
       "    // the notebook keyboard shortcuts fail.\n",
       "    IPython.keyboard_manager.enable()\n",
       "    $(fig.parent_element).html('<img src=\"' + dataURL + '\">');\n",
       "    fig.send_message('closing', {});\n",
       "    fig.ws.close()\n",
       "}\n",
       "\n",
       "mpl.figure.prototype.push_to_output = function(remove_interactive) {\n",
       "    // Turn the data on the canvas into data in the output cell.\n",
       "    var dataURL = this.canvas.toDataURL();\n",
       "    this.cell_info[1]['text/html'] = '<img src=\"' + dataURL + '\">';\n",
       "}\n",
       "\n",
       "mpl.figure.prototype.updated_canvas_event = function() {\n",
       "    // Tell IPython that the notebook contents must change.\n",
       "    IPython.notebook.set_dirty(true);\n",
       "    this.send_message(\"ack\", {});\n",
       "    var fig = this;\n",
       "    // Wait a second, then push the new image to the DOM so\n",
       "    // that it is saved nicely (might be nice to debounce this).\n",
       "    setTimeout(function () { fig.push_to_output() }, 1000);\n",
       "}\n",
       "\n",
       "mpl.figure.prototype._init_toolbar = function() {\n",
       "    var fig = this;\n",
       "\n",
       "    var nav_element = $('<div/>')\n",
       "    nav_element.attr('style', 'width: 100%');\n",
       "    this.root.append(nav_element);\n",
       "\n",
       "    // Define a callback function for later on.\n",
       "    function toolbar_event(event) {\n",
       "        return fig.toolbar_button_onclick(event['data']);\n",
       "    }\n",
       "    function toolbar_mouse_event(event) {\n",
       "        return fig.toolbar_button_onmouseover(event['data']);\n",
       "    }\n",
       "\n",
       "    for(var toolbar_ind in mpl.toolbar_items){\n",
       "        var name = mpl.toolbar_items[toolbar_ind][0];\n",
       "        var tooltip = mpl.toolbar_items[toolbar_ind][1];\n",
       "        var image = mpl.toolbar_items[toolbar_ind][2];\n",
       "        var method_name = mpl.toolbar_items[toolbar_ind][3];\n",
       "\n",
       "        if (!name) { continue; };\n",
       "\n",
       "        var button = $('<button class=\"btn btn-default\" href=\"#\" title=\"' + name + '\"><i class=\"fa ' + image + ' fa-lg\"></i></button>');\n",
       "        button.click(method_name, toolbar_event);\n",
       "        button.mouseover(tooltip, toolbar_mouse_event);\n",
       "        nav_element.append(button);\n",
       "    }\n",
       "\n",
       "    // Add the status bar.\n",
       "    var status_bar = $('<span class=\"mpl-message\" style=\"text-align:right; float: right;\"/>');\n",
       "    nav_element.append(status_bar);\n",
       "    this.message = status_bar[0];\n",
       "\n",
       "    // Add the close button to the window.\n",
       "    var buttongrp = $('<div class=\"btn-group inline pull-right\"></div>');\n",
       "    var button = $('<button class=\"btn btn-mini btn-danger\" href=\"#\" title=\"Close figure\"><i class=\"fa fa-times icon-remove icon-large\"></i></button>');\n",
       "    button.click(function (evt) { fig.handle_close(fig, {}); } );\n",
       "    button.mouseover('Close figure', toolbar_mouse_event);\n",
       "    buttongrp.append(button);\n",
       "    var titlebar = this.root.find($('.ui-dialog-titlebar'));\n",
       "    titlebar.prepend(buttongrp);\n",
       "}\n",
       "\n",
       "\n",
       "mpl.figure.prototype._canvas_extra_style = function(el){\n",
       "    // this is important to make the div 'focusable\n",
       "    el.attr('tabindex', 0)\n",
       "    // reach out to IPython and tell the keyboard manager to turn it's self\n",
       "    // off when our div gets focus\n",
       "\n",
       "    // location in version 3\n",
       "    if (IPython.notebook.keyboard_manager) {\n",
       "        IPython.notebook.keyboard_manager.register_events(el);\n",
       "    }\n",
       "    else {\n",
       "        // location in version 2\n",
       "        IPython.keyboard_manager.register_events(el);\n",
       "    }\n",
       "\n",
       "}\n",
       "\n",
       "mpl.figure.prototype._key_event_extra = function(event, name) {\n",
       "    var manager = IPython.notebook.keyboard_manager;\n",
       "    if (!manager)\n",
       "        manager = IPython.keyboard_manager;\n",
       "\n",
       "    // Check for shift+enter\n",
       "    if (event.shiftKey && event.which == 13) {\n",
       "        this.canvas_div.blur();\n",
       "        event.shiftKey = false;\n",
       "        // Send a \"J\" for go to next cell\n",
       "        event.which = 74;\n",
       "        event.keyCode = 74;\n",
       "        manager.command_mode();\n",
       "        manager.handle_keydown(event);\n",
       "    }\n",
       "}\n",
       "\n",
       "mpl.figure.prototype.handle_save = function(fig, msg) {\n",
       "    fig.ondownload(fig, null);\n",
       "}\n",
       "\n",
       "\n",
       "mpl.find_output_cell = function(html_output) {\n",
       "    // Return the cell and output element which can be found *uniquely* in the notebook.\n",
       "    // Note - this is a bit hacky, but it is done because the \"notebook_saving.Notebook\"\n",
       "    // IPython event is triggered only after the cells have been serialised, which for\n",
       "    // our purposes (turning an active figure into a static one), is too late.\n",
       "    var cells = IPython.notebook.get_cells();\n",
       "    var ncells = cells.length;\n",
       "    for (var i=0; i<ncells; i++) {\n",
       "        var cell = cells[i];\n",
       "        if (cell.cell_type === 'code'){\n",
       "            for (var j=0; j<cell.output_area.outputs.length; j++) {\n",
       "                var data = cell.output_area.outputs[j];\n",
       "                if (data.data) {\n",
       "                    // IPython >= 3 moved mimebundle to data attribute of output\n",
       "                    data = data.data;\n",
       "                }\n",
       "                if (data['text/html'] == html_output) {\n",
       "                    return [cell, data, j];\n",
       "                }\n",
       "            }\n",
       "        }\n",
       "    }\n",
       "}\n",
       "\n",
       "// Register the function which deals with the matplotlib target/channel.\n",
       "// The kernel may be null if the page has been refreshed.\n",
       "if (IPython.notebook.kernel != null) {\n",
       "    IPython.notebook.kernel.comm_manager.register_target('matplotlib', mpl.mpl_figure_comm);\n",
       "}\n"
      ],
      "text/plain": [
       "<IPython.core.display.Javascript object>"
      ]
     },
     "metadata": {},
     "output_type": "display_data"
    },
    {
     "data": {
      "text/html": [
       "<img src=\"data:image/png;base64,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\">"
      ],
      "text/plain": [
       "<IPython.core.display.HTML object>"
      ]
     },
     "metadata": {},
     "output_type": "display_data"
    },
    {
     "data": {
      "text/plain": [
       "<matplotlib.text.Text at 0x7f6ea2d18fd0>"
      ]
     },
     "execution_count": 42,
     "metadata": {},
     "output_type": "execute_result"
    }
   ],
   "source": [
    "# TASK 7: plot the ROC curve\n",
    "import matplotlib\n",
    "%matplotlib nbagg\n",
    "from sklearn import metrics\n",
    "import pandas as pd\n",
    "from ggplot import *\n",
    "\n",
    "\n",
    "nbm_preds = nbm.predict_proba(X_test)[:,1]\n",
    "nbm_fpr, nbm_tpr, _ = metrics.roc_curve(y_test, nbm_preds)\n",
    "\n",
    "nbg_preds = nbg.predict_proba(X_test)[:,1]\n",
    "nbg_fpr, nbg_tpr, _ = metrics.roc_curve(y_test, nbg_preds)\n",
    "\n",
    "nbb_preds = nbb.predict_proba(X_test)[:,1]\n",
    "nbb_fpr, nbb_tpr, _ = metrics.roc_curve(y_test, nbb_preds)\n",
    "\n",
    "plt.plot(nbm_fpr, nbm_tpr, color='green')\n",
    "plt.plot(nbg_fpr, nbg_tpr, color='magenta')\n",
    "plt.plot(nbb_fpr, nbb_tpr, color='yellow')\n",
    "\n",
    "plt.xlim([0.0, 1.0])\n",
    "plt.ylim([0.0, 1.0])\n",
    "plt.xlabel('False Positive Rate (1 - Specificity)')\n",
    "plt.ylabel('True Positive Rate (Sensitivity)')\n"
   ]
  },
  {
   "cell_type": "markdown",
   "metadata": {},
   "source": [
    "### Multinomial NB was the best performing NB with an AUC of 68%.  (green ROC above)"
   ]
  },
  {
   "cell_type": "markdown",
   "metadata": {},
   "source": [
    " "
   ]
  },
  {
   "cell_type": "markdown",
   "metadata": {},
   "source": [
    "### MODEL3: KNN"
   ]
  },
  {
   "cell_type": "code",
   "execution_count": 43,
   "metadata": {
    "collapsed": false
   },
   "outputs": [],
   "source": [
    "knn = KNeighborsClassifier(n_neighbors=9)\n",
    "#strongy = data1.FelRecidYr3\n",
    "knn.fit(X,y)\n",
    "knn_scores = cross_val_score(knn, X, y, cv=KFold(X.shape[0], n_folds=10, shuffle=True), scoring='accuracy')"
   ]
  },
  {
   "cell_type": "code",
   "execution_count": 44,
   "metadata": {
    "collapsed": false
   },
   "outputs": [
    {
     "name": "stdout",
     "output_type": "stream",
     "text": [
      "[ 0.70954163  0.73199252  0.70159027  0.71595695  0.70238652  0.7103416\n",
      "  0.70379036  0.71221338  0.70425831  0.70706598]\n"
     ]
    }
   ],
   "source": [
    "print knn_scores"
   ]
  },
  {
   "cell_type": "code",
   "execution_count": 52,
   "metadata": {
    "collapsed": false
   },
   "outputs": [
    {
     "name": "stdout",
     "output_type": "stream",
     "text": [
      "0.709913751782\n"
     ]
    }
   ],
   "source": [
    "# use average accuracy as an estimate of out-of-sample accuracy\n",
    "knn_scores_mean1 = knn_scores.mean()\n",
    "print knn_scores_mean1"
   ]
  },
  {
   "cell_type": "code",
   "execution_count": null,
   "metadata": {
    "collapsed": false
   },
   "outputs": [],
   "source": [
    "knn_scores_auc = cross_val_score(knn, X, y, cv=KFold(X.shape[0], n_folds=10, shuffle=True), scoring='roc_auc').mean()\n",
    "print knn_scores_auc"
   ]
  },
  {
   "cell_type": "code",
   "execution_count": 63,
   "metadata": {
    "collapsed": false
   },
   "outputs": [
    {
     "ename": "KeyboardInterrupt",
     "evalue": "",
     "output_type": "error",
     "traceback": [
      "\u001b[1;31m---------------------------------------------------------------------------\u001b[0m",
      "\u001b[1;31mKeyboardInterrupt\u001b[0m                         Traceback (most recent call last)",
      "\u001b[1;32m<ipython-input-63-a2fe4f5221b4>\u001b[0m in \u001b[0;36m<module>\u001b[1;34m()\u001b[0m\n\u001b[0;32m      4\u001b[0m \u001b[1;32mfor\u001b[0m \u001b[0mk\u001b[0m \u001b[1;32min\u001b[0m \u001b[0mk_range\u001b[0m\u001b[1;33m:\u001b[0m\u001b[1;33m\u001b[0m\u001b[0m\n\u001b[0;32m      5\u001b[0m     \u001b[0mknn\u001b[0m \u001b[1;33m=\u001b[0m \u001b[0mKNeighborsClassifier\u001b[0m\u001b[1;33m(\u001b[0m\u001b[0mn_neighbors\u001b[0m\u001b[1;33m=\u001b[0m\u001b[0mk\u001b[0m\u001b[1;33m)\u001b[0m\u001b[1;33m\u001b[0m\u001b[0m\n\u001b[1;32m----> 6\u001b[1;33m     \u001b[0mknn_scores\u001b[0m \u001b[1;33m=\u001b[0m \u001b[0mcross_val_score\u001b[0m\u001b[1;33m(\u001b[0m\u001b[0mknn\u001b[0m\u001b[1;33m,\u001b[0m \u001b[0mX\u001b[0m\u001b[1;33m,\u001b[0m \u001b[0my\u001b[0m\u001b[1;33m,\u001b[0m \u001b[0mcv\u001b[0m\u001b[1;33m=\u001b[0m\u001b[0mKFold\u001b[0m\u001b[1;33m(\u001b[0m\u001b[0mX\u001b[0m\u001b[1;33m.\u001b[0m\u001b[0mshape\u001b[0m\u001b[1;33m[\u001b[0m\u001b[1;36m0\u001b[0m\u001b[1;33m]\u001b[0m\u001b[1;33m,\u001b[0m \u001b[0mn_folds\u001b[0m\u001b[1;33m=\u001b[0m\u001b[1;36m10\u001b[0m\u001b[1;33m,\u001b[0m \u001b[0mshuffle\u001b[0m\u001b[1;33m=\u001b[0m\u001b[0mTrue\u001b[0m\u001b[1;33m)\u001b[0m\u001b[1;33m,\u001b[0m \u001b[0mscoring\u001b[0m\u001b[1;33m=\u001b[0m\u001b[1;34m'accuracy'\u001b[0m\u001b[1;33m)\u001b[0m\u001b[1;33m\u001b[0m\u001b[0m\n\u001b[0m\u001b[0;32m      7\u001b[0m     \u001b[0mk_scores\u001b[0m\u001b[1;33m.\u001b[0m\u001b[0mappend\u001b[0m\u001b[1;33m(\u001b[0m\u001b[0mknn_scores\u001b[0m\u001b[1;33m.\u001b[0m\u001b[0mmean\u001b[0m\u001b[1;33m(\u001b[0m\u001b[1;33m)\u001b[0m\u001b[1;33m)\u001b[0m\u001b[1;33m\u001b[0m\u001b[0m\n\u001b[0;32m      8\u001b[0m \u001b[1;32mprint\u001b[0m \u001b[0mk_scores\u001b[0m\u001b[1;33m\u001b[0m\u001b[0m\n",
      "\u001b[1;32m/usr/local/lib/python2.7/site-packages/sklearn/cross_validation.pyc\u001b[0m in \u001b[0;36mcross_val_score\u001b[1;34m(estimator, X, y, scoring, cv, n_jobs, verbose, fit_params, pre_dispatch)\u001b[0m\n\u001b[0;32m   1359\u001b[0m                                               \u001b[0mtrain\u001b[0m\u001b[1;33m,\u001b[0m \u001b[0mtest\u001b[0m\u001b[1;33m,\u001b[0m \u001b[0mverbose\u001b[0m\u001b[1;33m,\u001b[0m \u001b[0mNone\u001b[0m\u001b[1;33m,\u001b[0m\u001b[1;33m\u001b[0m\u001b[0m\n\u001b[0;32m   1360\u001b[0m                                               fit_params)\n\u001b[1;32m-> 1361\u001b[1;33m                       for train, test in cv)\n\u001b[0m\u001b[0;32m   1362\u001b[0m     \u001b[1;32mreturn\u001b[0m \u001b[0mnp\u001b[0m\u001b[1;33m.\u001b[0m\u001b[0marray\u001b[0m\u001b[1;33m(\u001b[0m\u001b[0mscores\u001b[0m\u001b[1;33m)\u001b[0m\u001b[1;33m[\u001b[0m\u001b[1;33m:\u001b[0m\u001b[1;33m,\u001b[0m \u001b[1;36m0\u001b[0m\u001b[1;33m]\u001b[0m\u001b[1;33m\u001b[0m\u001b[0m\n\u001b[0;32m   1363\u001b[0m \u001b[1;33m\u001b[0m\u001b[0m\n",
      "\u001b[1;32m/usr/local/lib/python2.7/site-packages/sklearn/externals/joblib/parallel.pyc\u001b[0m in \u001b[0;36m__call__\u001b[1;34m(self, iterable)\u001b[0m\n\u001b[0;32m    657\u001b[0m             \u001b[0mself\u001b[0m\u001b[1;33m.\u001b[0m\u001b[0m_iterating\u001b[0m \u001b[1;33m=\u001b[0m \u001b[0mTrue\u001b[0m\u001b[1;33m\u001b[0m\u001b[0m\n\u001b[0;32m    658\u001b[0m             \u001b[1;32mfor\u001b[0m \u001b[0mfunction\u001b[0m\u001b[1;33m,\u001b[0m \u001b[0margs\u001b[0m\u001b[1;33m,\u001b[0m \u001b[0mkwargs\u001b[0m \u001b[1;32min\u001b[0m \u001b[0miterable\u001b[0m\u001b[1;33m:\u001b[0m\u001b[1;33m\u001b[0m\u001b[0m\n\u001b[1;32m--> 659\u001b[1;33m                 \u001b[0mself\u001b[0m\u001b[1;33m.\u001b[0m\u001b[0mdispatch\u001b[0m\u001b[1;33m(\u001b[0m\u001b[0mfunction\u001b[0m\u001b[1;33m,\u001b[0m \u001b[0margs\u001b[0m\u001b[1;33m,\u001b[0m \u001b[0mkwargs\u001b[0m\u001b[1;33m)\u001b[0m\u001b[1;33m\u001b[0m\u001b[0m\n\u001b[0m\u001b[0;32m    660\u001b[0m \u001b[1;33m\u001b[0m\u001b[0m\n\u001b[0;32m    661\u001b[0m             \u001b[1;32mif\u001b[0m \u001b[0mpre_dispatch\u001b[0m \u001b[1;33m==\u001b[0m \u001b[1;34m\"all\"\u001b[0m \u001b[1;32mor\u001b[0m \u001b[0mn_jobs\u001b[0m \u001b[1;33m==\u001b[0m \u001b[1;36m1\u001b[0m\u001b[1;33m:\u001b[0m\u001b[1;33m\u001b[0m\u001b[0m\n",
      "\u001b[1;32m/usr/local/lib/python2.7/site-packages/sklearn/externals/joblib/parallel.pyc\u001b[0m in \u001b[0;36mdispatch\u001b[1;34m(self, func, args, kwargs)\u001b[0m\n\u001b[0;32m    404\u001b[0m         \"\"\"\n\u001b[0;32m    405\u001b[0m         \u001b[1;32mif\u001b[0m \u001b[0mself\u001b[0m\u001b[1;33m.\u001b[0m\u001b[0m_pool\u001b[0m \u001b[1;32mis\u001b[0m \u001b[0mNone\u001b[0m\u001b[1;33m:\u001b[0m\u001b[1;33m\u001b[0m\u001b[0m\n\u001b[1;32m--> 406\u001b[1;33m             \u001b[0mjob\u001b[0m \u001b[1;33m=\u001b[0m \u001b[0mImmediateApply\u001b[0m\u001b[1;33m(\u001b[0m\u001b[0mfunc\u001b[0m\u001b[1;33m,\u001b[0m \u001b[0margs\u001b[0m\u001b[1;33m,\u001b[0m \u001b[0mkwargs\u001b[0m\u001b[1;33m)\u001b[0m\u001b[1;33m\u001b[0m\u001b[0m\n\u001b[0m\u001b[0;32m    407\u001b[0m             \u001b[0mindex\u001b[0m \u001b[1;33m=\u001b[0m \u001b[0mlen\u001b[0m\u001b[1;33m(\u001b[0m\u001b[0mself\u001b[0m\u001b[1;33m.\u001b[0m\u001b[0m_jobs\u001b[0m\u001b[1;33m)\u001b[0m\u001b[1;33m\u001b[0m\u001b[0m\n\u001b[0;32m    408\u001b[0m             \u001b[1;32mif\u001b[0m \u001b[1;32mnot\u001b[0m \u001b[0m_verbosity_filter\u001b[0m\u001b[1;33m(\u001b[0m\u001b[0mindex\u001b[0m\u001b[1;33m,\u001b[0m \u001b[0mself\u001b[0m\u001b[1;33m.\u001b[0m\u001b[0mverbose\u001b[0m\u001b[1;33m)\u001b[0m\u001b[1;33m:\u001b[0m\u001b[1;33m\u001b[0m\u001b[0m\n",
      "\u001b[1;32m/usr/local/lib/python2.7/site-packages/sklearn/externals/joblib/parallel.pyc\u001b[0m in \u001b[0;36m__init__\u001b[1;34m(self, func, args, kwargs)\u001b[0m\n\u001b[0;32m    138\u001b[0m         \u001b[1;31m# Don't delay the application, to avoid keeping the input\u001b[0m\u001b[1;33m\u001b[0m\u001b[1;33m\u001b[0m\u001b[0m\n\u001b[0;32m    139\u001b[0m         \u001b[1;31m# arguments in memory\u001b[0m\u001b[1;33m\u001b[0m\u001b[1;33m\u001b[0m\u001b[0m\n\u001b[1;32m--> 140\u001b[1;33m         \u001b[0mself\u001b[0m\u001b[1;33m.\u001b[0m\u001b[0mresults\u001b[0m \u001b[1;33m=\u001b[0m \u001b[0mfunc\u001b[0m\u001b[1;33m(\u001b[0m\u001b[1;33m*\u001b[0m\u001b[0margs\u001b[0m\u001b[1;33m,\u001b[0m \u001b[1;33m**\u001b[0m\u001b[0mkwargs\u001b[0m\u001b[1;33m)\u001b[0m\u001b[1;33m\u001b[0m\u001b[0m\n\u001b[0m\u001b[0;32m    141\u001b[0m \u001b[1;33m\u001b[0m\u001b[0m\n\u001b[0;32m    142\u001b[0m     \u001b[1;32mdef\u001b[0m \u001b[0mget\u001b[0m\u001b[1;33m(\u001b[0m\u001b[0mself\u001b[0m\u001b[1;33m)\u001b[0m\u001b[1;33m:\u001b[0m\u001b[1;33m\u001b[0m\u001b[0m\n",
      "\u001b[1;32m/usr/local/lib/python2.7/site-packages/sklearn/cross_validation.pyc\u001b[0m in \u001b[0;36m_fit_and_score\u001b[1;34m(estimator, X, y, scorer, train, test, verbose, parameters, fit_params, return_train_score, return_parameters, error_score)\u001b[0m\n\u001b[0;32m   1476\u001b[0m \u001b[1;33m\u001b[0m\u001b[0m\n\u001b[0;32m   1477\u001b[0m     \u001b[1;32melse\u001b[0m\u001b[1;33m:\u001b[0m\u001b[1;33m\u001b[0m\u001b[0m\n\u001b[1;32m-> 1478\u001b[1;33m         \u001b[0mtest_score\u001b[0m \u001b[1;33m=\u001b[0m \u001b[0m_score\u001b[0m\u001b[1;33m(\u001b[0m\u001b[0mestimator\u001b[0m\u001b[1;33m,\u001b[0m \u001b[0mX_test\u001b[0m\u001b[1;33m,\u001b[0m \u001b[0my_test\u001b[0m\u001b[1;33m,\u001b[0m \u001b[0mscorer\u001b[0m\u001b[1;33m)\u001b[0m\u001b[1;33m\u001b[0m\u001b[0m\n\u001b[0m\u001b[0;32m   1479\u001b[0m         \u001b[1;32mif\u001b[0m \u001b[0mreturn_train_score\u001b[0m\u001b[1;33m:\u001b[0m\u001b[1;33m\u001b[0m\u001b[0m\n\u001b[0;32m   1480\u001b[0m             \u001b[0mtrain_score\u001b[0m \u001b[1;33m=\u001b[0m \u001b[0m_score\u001b[0m\u001b[1;33m(\u001b[0m\u001b[0mestimator\u001b[0m\u001b[1;33m,\u001b[0m \u001b[0mX_train\u001b[0m\u001b[1;33m,\u001b[0m \u001b[0my_train\u001b[0m\u001b[1;33m,\u001b[0m \u001b[0mscorer\u001b[0m\u001b[1;33m)\u001b[0m\u001b[1;33m\u001b[0m\u001b[0m\n",
      "\u001b[1;32m/usr/local/lib/python2.7/site-packages/sklearn/cross_validation.pyc\u001b[0m in \u001b[0;36m_score\u001b[1;34m(estimator, X_test, y_test, scorer)\u001b[0m\n\u001b[0;32m   1532\u001b[0m         \u001b[0mscore\u001b[0m \u001b[1;33m=\u001b[0m \u001b[0mscorer\u001b[0m\u001b[1;33m(\u001b[0m\u001b[0mestimator\u001b[0m\u001b[1;33m,\u001b[0m \u001b[0mX_test\u001b[0m\u001b[1;33m)\u001b[0m\u001b[1;33m\u001b[0m\u001b[0m\n\u001b[0;32m   1533\u001b[0m     \u001b[1;32melse\u001b[0m\u001b[1;33m:\u001b[0m\u001b[1;33m\u001b[0m\u001b[0m\n\u001b[1;32m-> 1534\u001b[1;33m         \u001b[0mscore\u001b[0m \u001b[1;33m=\u001b[0m \u001b[0mscorer\u001b[0m\u001b[1;33m(\u001b[0m\u001b[0mestimator\u001b[0m\u001b[1;33m,\u001b[0m \u001b[0mX_test\u001b[0m\u001b[1;33m,\u001b[0m \u001b[0my_test\u001b[0m\u001b[1;33m)\u001b[0m\u001b[1;33m\u001b[0m\u001b[0m\n\u001b[0m\u001b[0;32m   1535\u001b[0m     \u001b[1;32mif\u001b[0m \u001b[1;32mnot\u001b[0m \u001b[0misinstance\u001b[0m\u001b[1;33m(\u001b[0m\u001b[0mscore\u001b[0m\u001b[1;33m,\u001b[0m \u001b[0mnumbers\u001b[0m\u001b[1;33m.\u001b[0m\u001b[0mNumber\u001b[0m\u001b[1;33m)\u001b[0m\u001b[1;33m:\u001b[0m\u001b[1;33m\u001b[0m\u001b[0m\n\u001b[0;32m   1536\u001b[0m         raise ValueError(\"scoring must return a number, got %s (%s) instead.\"\n",
      "\u001b[1;32m/usr/local/lib/python2.7/site-packages/sklearn/metrics/scorer.pyc\u001b[0m in \u001b[0;36m__call__\u001b[1;34m(self, estimator, X, y_true, sample_weight)\u001b[0m\n\u001b[0;32m     80\u001b[0m             \u001b[0mScore\u001b[0m \u001b[0mfunction\u001b[0m \u001b[0mapplied\u001b[0m \u001b[0mto\u001b[0m \u001b[0mprediction\u001b[0m \u001b[0mof\u001b[0m \u001b[0mestimator\u001b[0m \u001b[0mon\u001b[0m \u001b[0mX\u001b[0m\u001b[1;33m.\u001b[0m\u001b[1;33m\u001b[0m\u001b[0m\n\u001b[0;32m     81\u001b[0m         \"\"\"\n\u001b[1;32m---> 82\u001b[1;33m         \u001b[0my_pred\u001b[0m \u001b[1;33m=\u001b[0m \u001b[0mestimator\u001b[0m\u001b[1;33m.\u001b[0m\u001b[0mpredict\u001b[0m\u001b[1;33m(\u001b[0m\u001b[0mX\u001b[0m\u001b[1;33m)\u001b[0m\u001b[1;33m\u001b[0m\u001b[0m\n\u001b[0m\u001b[0;32m     83\u001b[0m         \u001b[1;32mif\u001b[0m \u001b[0msample_weight\u001b[0m \u001b[1;32mis\u001b[0m \u001b[1;32mnot\u001b[0m \u001b[0mNone\u001b[0m\u001b[1;33m:\u001b[0m\u001b[1;33m\u001b[0m\u001b[0m\n\u001b[0;32m     84\u001b[0m             return self._sign * self._score_func(y_true, y_pred,\n",
      "\u001b[1;32m/usr/local/lib/python2.7/site-packages/sklearn/neighbors/classification.pyc\u001b[0m in \u001b[0;36mpredict\u001b[1;34m(self, X)\u001b[0m\n\u001b[0;32m    136\u001b[0m         \u001b[0mX\u001b[0m \u001b[1;33m=\u001b[0m \u001b[0mcheck_array\u001b[0m\u001b[1;33m(\u001b[0m\u001b[0mX\u001b[0m\u001b[1;33m,\u001b[0m \u001b[0maccept_sparse\u001b[0m\u001b[1;33m=\u001b[0m\u001b[1;34m'csr'\u001b[0m\u001b[1;33m)\u001b[0m\u001b[1;33m\u001b[0m\u001b[0m\n\u001b[0;32m    137\u001b[0m \u001b[1;33m\u001b[0m\u001b[0m\n\u001b[1;32m--> 138\u001b[1;33m         \u001b[0mneigh_dist\u001b[0m\u001b[1;33m,\u001b[0m \u001b[0mneigh_ind\u001b[0m \u001b[1;33m=\u001b[0m \u001b[0mself\u001b[0m\u001b[1;33m.\u001b[0m\u001b[0mkneighbors\u001b[0m\u001b[1;33m(\u001b[0m\u001b[0mX\u001b[0m\u001b[1;33m)\u001b[0m\u001b[1;33m\u001b[0m\u001b[0m\n\u001b[0m\u001b[0;32m    139\u001b[0m \u001b[1;33m\u001b[0m\u001b[0m\n\u001b[0;32m    140\u001b[0m         \u001b[0mclasses_\u001b[0m \u001b[1;33m=\u001b[0m \u001b[0mself\u001b[0m\u001b[1;33m.\u001b[0m\u001b[0mclasses_\u001b[0m\u001b[1;33m\u001b[0m\u001b[0m\n",
      "\u001b[1;32m/usr/local/lib/python2.7/site-packages/sklearn/neighbors/base.pyc\u001b[0m in \u001b[0;36mkneighbors\u001b[1;34m(self, X, n_neighbors, return_distance)\u001b[0m\n\u001b[0;32m    372\u001b[0m                     \"or set algorithm='brute'\" % self._fit_method)\n\u001b[0;32m    373\u001b[0m             result = self._tree.query(X, n_neighbors,\n\u001b[1;32m--> 374\u001b[1;33m                                       return_distance=return_distance)\n\u001b[0m\u001b[0;32m    375\u001b[0m         \u001b[1;32melse\u001b[0m\u001b[1;33m:\u001b[0m\u001b[1;33m\u001b[0m\u001b[0m\n\u001b[0;32m    376\u001b[0m             \u001b[1;32mraise\u001b[0m \u001b[0mValueError\u001b[0m\u001b[1;33m(\u001b[0m\u001b[1;34m\"internal: _fit_method not recognized\"\u001b[0m\u001b[1;33m)\u001b[0m\u001b[1;33m\u001b[0m\u001b[0m\n",
      "\u001b[1;31mKeyboardInterrupt\u001b[0m: "
     ]
    }
   ],
   "source": [
    "# search for an optimal value of K for KNN\n",
    "k_range = range(1, 100)\n",
    "k_scores = []\n",
    "for k in k_range:\n",
    "    knn = KNeighborsClassifier(n_neighbors=k)\n",
    "    knn_scores = cross_val_score(knn, X, y, cv=KFold(X.shape[0], n_folds=10, shuffle=True), scoring='accuracy')\n",
    "    k_scores.append(knn_scores.mean())\n",
    "print k_scores"
   ]
  },
  {
   "cell_type": "code",
   "execution_count": null,
   "metadata": {
    "collapsed": false
   },
   "outputs": [],
   "source": [
    "import matplotlib\n",
    "%matplotlib nbagg\n",
    "\n",
    "# plot the value of K for KNN (x-axis) versus the cross-validated accuracy (y-axis)\n",
    "plt.plot(k_range, k_scores)\n",
    "plt.xlabel('Value of K for KNN')\n",
    "plt.ylabel('Cross-Validated Accuracy')"
   ]
  },
  {
   "cell_type": "markdown",
   "metadata": {},
   "source": [
    "### MODEL3: KNN - Re-run KNN model with optimized K = 40"
   ]
  },
  {
   "cell_type": "code",
   "execution_count": null,
   "metadata": {
    "collapsed": false
   },
   "outputs": [],
   "source": [
    "knntime1 = %%timeit -o 1 + 2\n",
    "knn = KNeighborsClassifier(n_neighbors=40)\n",
    "#strongy = data1.FelRecidYr3\n",
    "knn_scores = cross_val_score(knn, X, y, cv=KFold(X.shape[0], n_folds=10, shuffle=True), scoring='accuracy')\n",
    "print knn_scores"
   ]
  },
  {
   "cell_type": "code",
   "execution_count": null,
   "metadata": {
    "collapsed": false
   },
   "outputs": [],
   "source": [
    "import math\n",
    "mean_score = knn_scores.mean()\n",
    "std_dev = knn_scores.std()\n",
    "std_error = knn_scores.std() / math.sqrt(scores.shape[0])\n",
    "ci =  2.262 * std_error\n",
    "lower_bound = mean_score - ci\n",
    "upper_bound = mean_score + ci\n",
    "\n",
    "print \"Score is %f +/-  %f\" % (mean_score, ci)\n",
    "print '95 percent probability that if this experiment were repeated over and over the average score would be between %f and %f' % (lower_bound, upper_bound)"
   ]
  },
  {
   "cell_type": "code",
   "execution_count": null,
   "metadata": {
    "collapsed": false
   },
   "outputs": [],
   "source": [
    "# use average accuracy as an estimate of out-of-sample accuracy\n",
    "knn_mean1 = knn_scores.mean()"
   ]
  },
  {
   "cell_type": "code",
   "execution_count": null,
   "metadata": {
    "collapsed": false
   },
   "outputs": [],
   "source": [
    "knn_scores_auc = cross_val_score(knn, X, y, cv=KFold(X.shape[0], n_folds=10, shuffle=True), scoring='roc_auc').mean()\n",
    "print knn_scores_auc"
   ]
  },
  {
   "cell_type": "markdown",
   "metadata": {},
   "source": [
    "### MODEL 4: Logistic Regression"
   ]
  },
  {
   "cell_type": "markdown",
   "metadata": {},
   "source": [
    "#### MODEL 4: Logistic Regression - 10-fold cross-validation with logistic regression"
   ]
  },
  {
   "cell_type": "code",
   "execution_count": null,
   "metadata": {
    "collapsed": false
   },
   "outputs": [],
   "source": [
    "logregtime1 = %%timeit -o 1 + 2\n",
    "from sklearn.linear_model import LogisticRegression\n",
    "logreg = LogisticRegression()\n",
    "logreg.fit(X,y)\n",
    "logreg_scores = cross_val_score(logreg, X, y, cv=KFold(X.shape[0], n_folds=10, shuffle=True), scoring='accuracy')\n"
   ]
  },
  {
   "cell_type": "markdown",
   "metadata": {},
   "source": [
    "#### MODEL 4: Logistic Regression - Print Logistic Regression cross validation accuracy scores"
   ]
  },
  {
   "cell_type": "markdown",
   "metadata": {},
   "source": [
    "print logreg_scores"
   ]
  },
  {
   "cell_type": "markdown",
   "metadata": {},
   "source": [
    "#### MODEL 4: Logistic Regression - Print Logistic Regression cross validation accuracy score - mean"
   ]
  },
  {
   "cell_type": "code",
   "execution_count": null,
   "metadata": {
    "collapsed": false
   },
   "outputs": [],
   "source": [
    "logreg_mean1 = cross_val_score(logreg, X, y, cv=KFold(X.shape[0], n_folds=10, shuffle=True), scoring='accuracy').mean()"
   ]
  },
  {
   "cell_type": "markdown",
   "metadata": {},
   "source": [
    "#### MODEL 4: Logistic Regression - Print Logistic Regression cross validation auc score - mean"
   ]
  },
  {
   "cell_type": "code",
   "execution_count": null,
   "metadata": {
    "collapsed": false
   },
   "outputs": [],
   "source": [
    "logreg_auc_scores = cross_val_score(logreg, X, y, cv=KFold(X.shape[0], n_folds=10, shuffle=True), scoring='roc_auc').mean()"
   ]
  },
  {
   "cell_type": "code",
   "execution_count": null,
   "metadata": {
    "collapsed": false
   },
   "outputs": [],
   "source": [
    "print logreg_auc_scores.mean()"
   ]
  },
  {
   "cell_type": "code",
   "execution_count": null,
   "metadata": {
    "collapsed": false
   },
   "outputs": [],
   "source": [
    "mean_score = logreg_scores.mean()\n",
    "std_dev = logreg_scores.std()\n",
    "std_error = logreg_scores.std() / math.sqrt(logreg_scores.shape[0])\n",
    "ci =  2.262 * std_error\n",
    "lower_bound = mean_score - ci\n",
    "upper_bound = mean_score + ci\n",
    "\n",
    "print \"Score is %f +/-  %f\" % (mean_score, ci)\n",
    "print '95 percent probability that if this experiment were repeated over and over the average score would be between %f and %f' % (lower_bound, upper_bound)"
   ]
  },
  {
   "cell_type": "markdown",
   "metadata": {},
   "source": [
    "### MODEL 5: SVM Polynomial Kernel"
   ]
  },
  {
   "cell_type": "markdown",
   "metadata": {},
   "source": [
    "#### MODEL 5: SVM Polynomial Kernel - 10-fold cross-validation with SVM Poly"
   ]
  },
  {
   "cell_type": "code",
   "execution_count": null,
   "metadata": {
    "collapsed": false
   },
   "outputs": [],
   "source": [
    "# 10-fold cross-validation with SVM Polynomial\n",
    "from sklearn import svm\n",
    "svmpoly = svm.SVC(kernel='poly', gamma=2)\n",
    "svmpoly.fit(X,y)\n",
    "svmpoly_scores = cross_val_score(svmpoly, X, y, cv=KFold(X.shape[0], n_folds=10, shuffle=True), scoring='accuracy')\n",
    "print svmpoly_scores"
   ]
  },
  {
   "cell_type": "markdown",
   "metadata": {},
   "source": [
    "#### MODEL 5: SVM Polynomial Kernel - Search for an optimal gamma/depth for SVM Polynomial"
   ]
  },
  {
   "cell_type": "code",
   "execution_count": null,
   "metadata": {
    "collapsed": true
   },
   "outputs": [],
   "source": [
    "# search for an optimal gamma for SVM Polynomial\n",
    "g_range = range(1, 10)\n",
    "g_scores = []\n",
    "for k in g_range:\n",
    "    knn = svm.SVC(kernel='poly', gamma=k)\n",
    "    scores = cross_val_score(svmpoly, X, y, cv=KFold(X.shape[0], n_folds=10, shuffle=True), scoring='accuracy')\n",
    "    g_scores.append(scores.mean())\n",
    "print g_scores"
   ]
  },
  {
   "cell_type": "markdown",
   "metadata": {},
   "source": [
    "#### MODEL 5: SVM Polynomial Kernel - Tune SVM Hyperparameters - C and gamma"
   ]
  },
  {
   "cell_type": "code",
   "execution_count": null,
   "metadata": {
    "collapsed": true
   },
   "outputs": [],
   "source": [
    "\n",
    "import optunity\n",
    "import optunity.metrics\n",
    "import sklearn.svm\n",
    "\n",
    "# score function: twice iterated 10-fold cross-validated accuracy\n",
    "@optunity.cross_validated(x=data1[feature_cols2], y=data1.FelRecidYr3, num_folds=10, num_iter=2)\n",
    "def svm_auc(x_train, y_train, x_test, y_test, logC, logGamma):\n",
    "    model = sklearn.svm.SVC(C=10 ** logC, gamma=10 ** logGamma).fit(x_train, y_train)\n",
    "    decision_values = model.decision_function(x_test)\n",
    "    return optunity.metrics.roc_auc(y_test, decision_values)\n",
    "\n",
    "# perform tuning\n",
    "hps, _, _ = optunity.maximize(svm_auc, num_evals=200, logC=[-5, 2], logGamma=[-5, 1])\n"
   ]
  },
  {
   "cell_type": "code",
   "execution_count": null,
   "metadata": {
    "collapsed": true
   },
   "outputs": [],
   "source": [
    "svmpolytime1 = %%timeit -o 1 + 2\n",
    "# train model on the full training set with tuned hyperparameters\n",
    "optimal_model = sklearn.svm.SVC(C=10 ** hps['logC'], gamma=10 ** hps['logGamma']).fit(X, y)\n"
   ]
  },
  {
   "cell_type": "code",
   "execution_count": null,
   "metadata": {
    "collapsed": true
   },
   "outputs": [],
   "source": [
    "svmpoly_mean1 = cross_val_score(optimal_model, X, y, cv=KFold(X.shape[0], n_folds=10, shuffle=True), scoring='accuracy').mean()"
   ]
  },
  {
   "cell_type": "markdown",
   "metadata": {},
   "source": [
    "#### MODEL 5: SVM Polynomial Kernel - Plotting SVM boundaries"
   ]
  },
  {
   "cell_type": "code",
   "execution_count": null,
   "metadata": {
    "collapsed": true
   },
   "outputs": [],
   "source": [
    "fignum=1\n",
    "\n",
    "# plot the line, the points, and the nearest vectors to the plane\n",
    "    plt.figure(fignum, figsize=(4, 3))\n",
    "    plt.svmpoly()\n",
    "\n",
    "    plt.scatter(svmpoly.support_vectors_[:, 0], svmpoly.support_vectors_[:, 1], s=80,\n",
    "                facecolors='none', zorder=10)\n",
    "    plt.scatter(X[:, 0], X[:, 1], c=Y, zorder=10, cmap=plt.cm.Paired)\n",
    "\n",
    "    plt.axis('tight')\n",
    "    x_min = -3\n",
    "    x_max = 3\n",
    "    y_min = -3\n",
    "    y_max = 3\n",
    "\n",
    "    XX, YY = np.mgrid[x_min:x_max:200j, y_min:y_max:200j]\n",
    "    Z = svmpoly.decision_function(np.c_[XX.ravel(), YY.ravel()])\n",
    "\n",
    "    # Put the result into a color plot\n",
    "    Z = Z.reshape(XX.shape)\n",
    "    plt.figure(fignum, figsize=(4, 3))\n",
    "    plt.pcolormesh(XX, YY, Z > 0, cmap=plt.cm.Paired)\n",
    "    plt.contour(XX, YY, Z, colors=['k', 'k', 'k'], linestyles=['--', '-', '--'],\n",
    "                levels=[-.5, 0, .5])\n",
    "\n",
    "    plt.xlim(x_min, x_max)\n",
    "    plt.ylim(y_min, y_max)\n",
    "\n",
    "    plt.xticks(())\n",
    "    plt.yticks(())\n",
    "    fignum = fignum + 1\n",
    "plt.show()"
   ]
  },
  {
   "cell_type": "markdown",
   "metadata": {},
   "source": [
    "### MODEL 5: SVM Gaussian Kernel"
   ]
  },
  {
   "cell_type": "code",
   "execution_count": null,
   "metadata": {
    "collapsed": false
   },
   "outputs": [],
   "source": [
    "\n",
    "# 10-fold cross-validation with SVM Gaussian\n",
    "from sklearn import svm\n",
    "svmrbf = svm.SVC(kernel='rbf', gamma=2)\n",
    "svmrbf.fit(X,y)\n",
    "svmrbf_scores = cross_val_score(svmrbf, X, y, cv=KFold(X.shape[0], n_folds=10, shuffle=True), scoring='accuracy')\n",
    "print svmrbf_scores"
   ]
  },
  {
   "cell_type": "code",
   "execution_count": null,
   "metadata": {
    "collapsed": true
   },
   "outputs": [],
   "source": [
    "# search for an optimal gamma for SVM Polynomial\n",
    "g_range = range(1, 10)\n",
    "g_scores = []\n",
    "for k in g_range:\n",
    "    knn = svm.SVC(kernel='poly', gamma=k)\n",
    "    scores = cross_val_score(svmpoly, X, y, cv=KFold(X.shape[0], n_folds=10, shuffle=True), scoring='accuracy')\n",
    "    g_scores.append(scores.mean())\n",
    "print g_scores"
   ]
  },
  {
   "cell_type": "code",
   "execution_count": null,
   "metadata": {
    "collapsed": true
   },
   "outputs": [],
   "source": [
    "import optunity\n",
    "import optunity.metrics\n",
    "import sklearn.svm\n",
    "\n",
    "# score function: twice iterated 10-fold cross-validated accuracy\n",
    "@optunity.cross_validated(x=data1[feature_cols2], y=data1.FelRecidYr3, num_folds=10, num_iter=2)\n",
    "def svm_auc(x_train, y_train, x_test, y_test, logC, logGamma):\n",
    "    model = sklearn.svm.SVC(C=10 ** logC, gamma=10 ** logGamma).fit(x_train, y_train)\n",
    "    decision_values = model.decision_function(x_test)\n",
    "    return optunity.metrics.roc_auc(y_test, decision_values)\n",
    "\n",
    "# perform tuning\n",
    "hps, _, _ = optunity.maximize(svm_auc, num_evals=200, logC=[-5, 2], logGamma=[-5, 1])\n",
    "\n"
   ]
  },
  {
   "cell_type": "code",
   "execution_count": null,
   "metadata": {
    "collapsed": true
   },
   "outputs": [],
   "source": [
    "svmgaustime1 = %%timeit -o 1 + 2\n",
    "# train model on the full training set with tuned hyperparameters\n",
    "optimal_model = sklearn.svm.SVC(C=10 ** hps['logC'], gamma=10 ** hps['logGamma']).fit(X, y)"
   ]
  },
  {
   "cell_type": "code",
   "execution_count": null,
   "metadata": {
    "collapsed": true
   },
   "outputs": [],
   "source": [
    "svmgaus_mean1 = cross_val_score(optimal_model, X, y, cv=KFold(X.shape[0], n_folds=10, shuffle=True), scoring='accuracy').mean()"
   ]
  },
  {
   "cell_type": "code",
   "execution_count": null,
   "metadata": {
    "collapsed": true
   },
   "outputs": [],
   "source": [
    "fignum=1\n",
    "\n",
    "# plot the line, the points, and the nearest vectors to the plane\n",
    "    plt.figure(fignum, figsize=(4, 3))\n",
    "    plt.svmpoly()\n",
    "\n",
    "    plt.scatter(svmpoly.support_vectors_[:, 0], svmpoly.support_vectors_[:, 1], s=80,\n",
    "                facecolors='none', zorder=10)\n",
    "    plt.scatter(X[:, 0], X[:, 1], c=Y, zorder=10, cmap=plt.cm.Paired)\n",
    "\n",
    "    plt.axis('tight')\n",
    "    x_min = -3\n",
    "    x_max = 3\n",
    "    y_min = -3\n",
    "    y_max = 3\n",
    "\n",
    "    XX, YY = np.mgrid[x_min:x_max:200j, y_min:y_max:200j]\n",
    "    Z = svmpoly.decision_function(np.c_[XX.ravel(), YY.ravel()])\n",
    "\n",
    "    # Put the result into a color plot\n",
    "    Z = Z.reshape(XX.shape)\n",
    "    plt.figure(fignum, figsize=(4, 3))\n",
    "    plt.pcolormesh(XX, YY, Z > 0, cmap=plt.cm.Paired)\n",
    "    plt.contour(XX, YY, Z, colors=['k', 'k', 'k'], linestyles=['--', '-', '--'],\n",
    "                levels=[-.5, 0, .5])\n",
    "\n",
    "    plt.xlim(x_min, x_max)\n",
    "    plt.ylim(y_min, y_max)\n",
    "\n",
    "    plt.xticks(())\n",
    "    plt.yticks(())\n",
    "    fignum = fignum + 1\n",
    "plt.show()"
   ]
  },
  {
   "cell_type": "markdown",
   "metadata": {},
   "source": [
    "### MODEL 6: Decision Tree"
   ]
  },
  {
   "cell_type": "markdown",
   "metadata": {},
   "source": [
    "#### MODEL 6: Decision Tree - Initial Decision Tree with max depth of 10"
   ]
  },
  {
   "cell_type": "code",
   "execution_count": null,
   "metadata": {
    "collapsed": false
   },
   "outputs": [],
   "source": [
    "from sklearn import tree\n",
    "clf = tree.DecisionTreeClassifier(max_depth=10)\n",
    "clf.fit(X,y)\n",
    "clf_scores = cross_val_score(clf, X, y, cv=KFold(X.shape[0], n_folds=10, shuffle=True), scoring='accuracy')"
   ]
  },
  {
   "cell_type": "markdown",
   "metadata": {},
   "source": [
    "#### MODEL 6: Decision Tree - Print Decision Tree cross validation accuracy scores"
   ]
  },
  {
   "cell_type": "code",
   "execution_count": null,
   "metadata": {
    "collapsed": false
   },
   "outputs": [],
   "source": [
    "print clf_scores"
   ]
  },
  {
   "cell_type": "markdown",
   "metadata": {},
   "source": [
    "#### MODEL 6: Decision Tree -  Print Decision Tree cross validation accuracy score - mean"
   ]
  },
  {
   "cell_type": "code",
   "execution_count": null,
   "metadata": {
    "collapsed": false
   },
   "outputs": [],
   "source": [
    "clf_scores_mean1 = cross_val_score(clf, X, y, cv=KFold(X.shape[0], n_folds=10, shuffle=True), scoring='accuracy').mean()\n",
    "print clf_scores_mean1"
   ]
  },
  {
   "cell_type": "markdown",
   "metadata": {},
   "source": [
    "#### MODEL 6: Decision Tree - Print Decision Tree cross validation auc score - mean"
   ]
  },
  {
   "cell_type": "code",
   "execution_count": null,
   "metadata": {
    "collapsed": false
   },
   "outputs": [],
   "source": [
    "clf_scores_auc = cross_val_score(clf, X, y, cv=KFold(X.shape[0], n_folds=10, shuffle=True), scoring='roc_auc').mean()\n",
    "print clf_scores_auc"
   ]
  },
  {
   "cell_type": "markdown",
   "metadata": {},
   "source": [
    "#### MODEL 6: Decision Tree - Save and print graphic of Decision Tree"
   ]
  },
  {
   "cell_type": "code",
   "execution_count": null,
   "metadata": {
    "collapsed": true
   },
   "outputs": [],
   "source": [
    "from sklearn.externals.six import StringIO  \n",
    "import pydot \n",
    "dot_data = StringIO() \n",
    "tree.export_graphviz(clf, out_file=dot_data)\n",
    "graph = pydot.graph_from_dot_data(dot_data.getvalue()) "
   ]
  },
  {
   "cell_type": "code",
   "execution_count": null,
   "metadata": {
    "collapsed": false
   },
   "outputs": [],
   "source": [
    "graph.write_jpeg(\"hw3_tree_plot.jpg\")"
   ]
  },
  {
   "cell_type": "code",
   "execution_count": null,
   "metadata": {
    "collapsed": false
   },
   "outputs": [],
   "source": [
    "from IPython.display import Image\n",
    "Image(filename='hw3_tree_plot.jpg')"
   ]
  },
  {
   "cell_type": "markdown",
   "metadata": {},
   "source": [
    "### MODEL 6: Decision Tree - search for an optimal gamma/depth for Decision Tree"
   ]
  },
  {
   "cell_type": "code",
   "execution_count": null,
   "metadata": {
    "collapsed": false
   },
   "outputs": [],
   "source": [
    "t_range = range(1, 100)\n",
    "t_scores = []\n",
    "for k in t_range:\n",
    "    clf = tree.DecisionTreeClassifier(max_depth=k)\n",
    "    scores = cross_val_score(clf, X, y, cv=KFold(X.shape[0], n_folds=10, shuffle=True), scoring='accuracy')\n",
    "    t_scores.append(scores.mean())\n",
    "print t_scores"
   ]
  },
  {
   "cell_type": "markdown",
   "metadata": {},
   "source": [
    "### MODEL 6: Decision Tree - Plot accuracy of cross validation runs vs. values of depth"
   ]
  },
  {
   "cell_type": "code",
   "execution_count": null,
   "metadata": {
    "collapsed": false
   },
   "outputs": [],
   "source": [
    "import matplotlib\n",
    "%matplotlib nbagg\n",
    "plt.plot(t_range, t_scores)\n",
    "plt.xlabel('Value of Depth for Decision Tree')\n",
    "plt.ylabel('Cross-Validated Accuracy')"
   ]
  },
  {
   "cell_type": "markdown",
   "metadata": {},
   "source": [
    "### MODEL 6: Decision Tree - Model optimization results:\n",
    "\n",
    "After examining accuracy for a variety of depths, its appears that a value of ~45 for a max depth is optimal in terms of cross validation accuracy."
   ]
  },
  {
   "cell_type": "code",
   "execution_count": null,
   "metadata": {
    "collapsed": false
   },
   "outputs": [],
   "source": [
    "estimator_range = range(1, 100)\n",
    "\n",
    "from sklearn import tree\n",
    "\n",
    "RMSE_scores = []\n",
    "\n",
    "for estimator in estimator_range:\n",
    "    clf = tree.DecisionTreeClassifier(max_depth=estimator)\n",
    "    clf.fit(X,y)\n",
    "    MSE_scores = cross_val_score(clf, X, y, cv=KFold(X.shape[0], n_folds=10, shuffle=True), scoring='mean_squared_error')\n",
    "    RMSE_scores.append(np.mean(np.sqrt(-MSE_scores)))"
   ]
  },
  {
   "cell_type": "markdown",
   "metadata": {},
   "source": [
    "### MODEL 6: Decision Tree - Plot N Estimators vs. RMSE"
   ]
  },
  {
   "cell_type": "code",
   "execution_count": null,
   "metadata": {
    "collapsed": false
   },
   "outputs": [],
   "source": [
    "import matplotlib\n",
    "%matplotlib nbagg\n",
    "\n",
    "# plot n_estimators (x-axis) versus RMSE (y-axis)\n",
    "plt.plot(estimator_range, RMSE_scores)\n",
    "plt.xlabel('n_estimators')\n",
    "plt.ylabel('RMSE (lower is better)')"
   ]
  },
  {
   "cell_type": "markdown",
   "metadata": {},
   "source": [
    "### MODEL 6: Decision Tree - Re-run Decision Tree model with optimized Depth = 45"
   ]
  },
  {
   "cell_type": "code",
   "execution_count": null,
   "metadata": {
    "collapsed": true
   },
   "outputs": [],
   "source": [
    "clftime1 = %%timeit -o 1 + 2\n",
    "from sklearn import tree\n",
    "clf = tree.DecisionTreeClassifier(max_depth=10)\n",
    "clf.fit(X,y)\n",
    "clf_scores = cross_val_score(clf, X, y, cv=KFold(X.shape[0], n_folds=10, shuffle=True), scoring='accuracy')"
   ]
  },
  {
   "cell_type": "code",
   "execution_count": null,
   "metadata": {
    "collapsed": false
   },
   "outputs": [],
   "source": [
    "print clf_scores"
   ]
  },
  {
   "cell_type": "code",
   "execution_count": null,
   "metadata": {
    "collapsed": true
   },
   "outputs": [],
   "source": [
    "clf_mean1 = cross_val_score(clf, X, y, cv=KFold(X.shape[0], n_folds=10, shuffle=True), scoring='accuracy').mean()"
   ]
  },
  {
   "cell_type": "markdown",
   "metadata": {},
   "source": [
    "### MODEL 7: Bootstrap Aggregation using Decision Tree"
   ]
  },
  {
   "cell_type": "code",
   "execution_count": null,
   "metadata": {
    "collapsed": false
   },
   "outputs": [],
   "source": [
    "bag_scores = []\n",
    "\n",
    "bag_range = range(1, 100)\n",
    "\n",
    "for k in bag_range:\n",
    "    bag_clf = BaggingClassifier(clf, n_estimators=k, max_samples=1.0, max_features=5, bootstrap = False, bootstrap_features = True, random_state=42)\n",
    "    bag_clf.fit(X, y)\n",
    "    bag_clf_scores = cross_val_score(bag_clf, X, y, cv=KFold(X.shape[0], n_folds=10, shuffle=True), scoring='accuracy')\n",
    "    MSE_scores = cross_val_score(bag_clf, X, y, cv=KFold(X.shape[0], n_folds=10, shuffle=True), scoring='mean_squared_error')\n",
    "    bag_scores.append(bag_clf_scores.mean())\n",
    "    RMSE_scores.append(np.mean(np.sqrt(-MSE_scores)))\n",
    "print bag_clf_scores"
   ]
  },
  {
   "cell_type": "code",
   "execution_count": null,
   "metadata": {
    "collapsed": false
   },
   "outputs": [],
   "source": [
    "import matplotlib\n",
    "%matplotlib nbagg\n",
    "# plot max_depth (x-axis) versus RMSE (y-axis)\n",
    "plt.plot(bag_range, bag_scores)\n",
    "plt.xlabel('max_depth')\n",
    "plt.ylabel('RMSE (lower is better)')"
   ]
  },
  {
   "cell_type": "markdown",
   "metadata": {},
   "source": [
    "### MODEL 8: Random Forest"
   ]
  },
  {
   "cell_type": "code",
   "execution_count": null,
   "metadata": {
    "collapsed": false
   },
   "outputs": [],
   "source": [
    "rf = RandomForestClassifier(n_estimators=100, oob_score=True, random_state=42)\n",
    "rf.fit(X, y)\n",
    "rf_scores = cross_val_score(rf, X, y, cv=KFold(X.shape[0], n_folds=10, shuffle=True), scoring='accuracy')\n",
    "rf_auc_scores = cross_val_score(rf, X, y, cv=KFold(X.shape[0], n_folds=10, shuffle=True), scoring='roc_auc')"
   ]
  },
  {
   "cell_type": "code",
   "execution_count": null,
   "metadata": {
    "collapsed": false
   },
   "outputs": [],
   "source": [
    "print rf_scores"
   ]
  },
  {
   "cell_type": "code",
   "execution_count": null,
   "metadata": {
    "collapsed": false
   },
   "outputs": [],
   "source": [
    "print rf_scores.mean()"
   ]
  },
  {
   "cell_type": "code",
   "execution_count": null,
   "metadata": {
    "collapsed": false
   },
   "outputs": [],
   "source": [
    "rf.oob_score_"
   ]
  },
  {
   "cell_type": "code",
   "execution_count": null,
   "metadata": {
    "collapsed": false
   },
   "outputs": [],
   "source": [
    "#y_oob = rf.oob_prediction_\n",
    "#print \"c-stat: \", roc_auc_score(y, y_oob)"
   ]
  },
  {
   "cell_type": "markdown",
   "metadata": {},
   "source": [
    "### MODEL 8: Random Forest - Find optimal number of leaves"
   ]
  },
  {
   "cell_type": "code",
   "execution_count": null,
   "metadata": {
    "collapsed": false
   },
   "outputs": [],
   "source": [
    "results = []\n",
    "min_samples_leaf_options = [1, 2, 3, 4, 5, 6, 7, 8, 9, 10, 11, 12, 13, 14, 15, 16, 17, 18, 19, 20, 21, 22, 23, 24, 25]\n",
    "for min_samples in min_samples_leaf_options:\n",
    "    rf = RandomForestClassifier(n_estimators=100, \n",
    "                                  oob_score=True, \n",
    "                                  n_jobs=-1, \n",
    "                                  random_state=42, \n",
    "                                  max_features=\"auto\", \n",
    "                                  min_samples_leaf=min_samples)\n",
    "    rf.fit(X, y)\n",
    "    print min_samples, \"min samples\"\n",
    "    roc = cross_val_score(rf, X, y, cv=KFold(X.shape[0], n_folds=10, shuffle=True), scoring='roc_auc').mean()\n",
    "    print \"C-stat: \", roc\n",
    "    results.append(roc)\n",
    "    print \"\""
   ]
  },
  {
   "cell_type": "code",
   "execution_count": null,
   "metadata": {
    "collapsed": false
   },
   "outputs": [],
   "source": [
    "import matplotlib\n",
    "%matplotlib nbagg\n",
    "\n",
    "pd.Series(results, min_samples_leaf_options).plot();"
   ]
  },
  {
   "cell_type": "markdown",
   "metadata": {},
   "source": [
    "### MODEL 8: Random Forest - Determine optimal depth for Random Forest"
   ]
  },
  {
   "cell_type": "code",
   "execution_count": null,
   "metadata": {
    "collapsed": false
   },
   "outputs": [],
   "source": [
    "t_range = range(1, 100)\n",
    "t_scores = []\n",
    "results = []\n",
    "RMSE_scores = []\n",
    "for k in t_range:\n",
    "    clf = RandomForestClassifier(max_depth=k)\n",
    "    scores = cross_val_score(clf, X, y, cv=KFold(X.shape[0], n_folds=10, shuffle=True), scoring='accuracy')\n",
    "    clf_auc_scores = cross_val_score(clf, X, y, cv=KFold(X.shape[0], n_folds=10, shuffle=True), scoring='roc_auc')\n",
    "    MSE_scores = cross_val_score(clf, X, y, cv=KFold(X.shape[0], n_folds=10, shuffle=True), scoring='mean_squared_error')\n",
    "    t_scores.append(scores.mean())\n",
    "    results.append(clf_auc_scores)\n",
    "    RMSE_scores.append(np.mean(np.sqrt(-MSE_scores)))\n",
    "print t_scores"
   ]
  },
  {
   "cell_type": "code",
   "execution_count": null,
   "metadata": {
    "collapsed": false
   },
   "outputs": [],
   "source": [
    "import matplotlib\n",
    "%matplotlib nbagg\n",
    "plt.plot(t_range, RMSE_scores)\n",
    "plt.xlabel('Max Depth')\n",
    "plt.ylabel('RMSE - Lower is better')"
   ]
  },
  {
   "cell_type": "code",
   "execution_count": null,
   "metadata": {
    "collapsed": false
   },
   "outputs": [],
   "source": [
    "import matplotlib\n",
    "%matplotlib nbagg\n",
    "plt.plot(t_range, t_scores)\n",
    "plt.xlabel('Max Depth')\n",
    "plt.ylabel('Cross Validated Accuracy')"
   ]
  },
  {
   "cell_type": "code",
   "execution_count": null,
   "metadata": {
    "collapsed": false
   },
   "outputs": [],
   "source": [
    "import matplotlib\n",
    "%matplotlib nbagg\n",
    "plt.plot(t_range, results)\n",
    "plt.xlabel('Max Depth')\n",
    "plt.ylabel('RMSE - Lower is better')"
   ]
  },
  {
   "cell_type": "markdown",
   "metadata": {},
   "source": [
    "### MODEL 8: Random Forest - Search for an optimal number of estimators"
   ]
  },
  {
   "cell_type": "code",
   "execution_count": null,
   "metadata": {
    "collapsed": false
   },
   "outputs": [],
   "source": [
    "k_range = range(1, 100)\n",
    "k_scores = []\n",
    "for k in k_range:\n",
    "    rf = RandomForestClassifier(n_estimators=k, oob_score=True, random_state=42)\n",
    "    rf_scores = cross_val_score(rf, X, y, cv=KFold(X.shape[0], n_folds=10, shuffle=True), scoring='accuracy')\n",
    "    k_scores.append(rf_scores.mean())\n",
    "print k_scores"
   ]
  },
  {
   "cell_type": "markdown",
   "metadata": {},
   "source": [
    "### MODEL 8: Random Forest - Plot number of estimators with cross-validated accuracy"
   ]
  },
  {
   "cell_type": "code",
   "execution_count": null,
   "metadata": {
    "collapsed": false
   },
   "outputs": [],
   "source": [
    "import matplotlib\n",
    "%matplotlib nbagg\n",
    "plt.plot(k_range, k_scores)\n",
    "plt.xlabel('Number of Estimators')\n",
    "plt.ylabel('Cross-Validated Accuracy')"
   ]
  },
  {
   "cell_type": "markdown",
   "metadata": {},
   "source": [
    "### MODEL 8: Random Forest - optimize for max number of features"
   ]
  },
  {
   "cell_type": "code",
   "execution_count": null,
   "metadata": {
    "collapsed": false
   },
   "outputs": [],
   "source": [
    "import matplotlib\n",
    "%matplotlib nbagg\n",
    "\n",
    "results = []\n",
    "max_features_options = [\"auto\", None, \"sqrt\", \"log2\", 0.9, 0.2]\n",
    "\n",
    "for max_features in max_features_options:\n",
    "    model = RandomForestClassifier(n_estimators=10, oob_score=True, n_jobs=-1, random_state=42, max_features=max_features)\n",
    "    model.fit(X, y)\n",
    "    roc = cross_val_score(model, X, y, cv=KFold(X.shape[0], n_folds=10, shuffle=True), scoring='roc_auc').mean()\n",
    "    print max_features, \"option\"\n",
    "    print \"C-stat: \", roc\n",
    "    results.append(roc)\n",
    "    print \"\"\n",
    "    \n",
    "pd.Series(results, max_features_options).plot(kind=\"barh\", xlim=(.60,.65));"
   ]
  },
  {
   "cell_type": "markdown",
   "metadata": {},
   "source": [
    "### MODEL 8: Re-Run Random Forest after optimization of all hyperparameters"
   ]
  },
  {
   "cell_type": "code",
   "execution_count": null,
   "metadata": {
    "collapsed": true
   },
   "outputs": [],
   "source": [
    "rftime1 = %%timeit -o 1 + 2\n",
    "rf = RandomForestClassifier(n_estimators=60, max_features=.2, max_depth=50,  oob_score=True, min_samples_leaf=10, random_state=42)\n",
    "rf.fit(X, y)\n",
    "rf_scores = cross_val_score(rf, X, y, cv=KFold(X.shape[0], n_folds=10, shuffle=True), scoring='accuracy')"
   ]
  },
  {
   "cell_type": "code",
   "execution_count": null,
   "metadata": {
    "collapsed": true
   },
   "outputs": [],
   "source": [
    "rf_mean1 = cross_val_score(rf, X, y, cv=KFold(X.shape[0], n_folds=10, shuffle=True), scoring='accuracy').mean()"
   ]
  },
  {
   "cell_type": "markdown",
   "metadata": {},
   "source": [
    "## MODEL 9: Bagged Random Forest (using optimized parameters from above)"
   ]
  },
  {
   "cell_type": "code",
   "execution_count": null,
   "metadata": {
    "collapsed": true
   },
   "outputs": [],
   "source": [
    "rfbag_scores = []\n",
    "\n",
    "rfbag_range = range(1, 100)\n",
    "rfRMSE_scores = []\n",
    "\n",
    "for k in bag_range:\n",
    "    rfbag_clf = RandomForestClassifier(n_estimators=60, max_features=.2, max_depth=50,  oob_score=True, min_samples_leaf=10, random_state=42)\n",
    "    rfbag_clf.fit(X, y)\n",
    "    rfbag_clf_scores = cross_val_score(rfbag_clf, X, y, cv=KFold(X.shape[0], n_folds=10, shuffle=True), scoring='accuracy')\n",
    "    rfMSE_scores = cross_val_score(rfbag_clf, X, y, cv=KFold(X.shape[0], n_folds=10, shuffle=True), scoring='mean_squared_error')\n",
    "    rfbag_scores.append(rfbag_clf_scores.mean())\n",
    "    rfRMSE_scores.append(np.mean(np.sqrt(-rfMSE_scores)))\n",
    "print rfbag_clf_scores"
   ]
  },
  {
   "cell_type": "code",
   "execution_count": null,
   "metadata": {
    "collapsed": false
   },
   "outputs": [],
   "source": [
    "import matplotlib\n",
    "%matplotlib nbagg\n",
    "# plot max_depth (x-axis) versus RMSE (y-axis)\n",
    "plt.plot(rfbag_range, rfbag_scores)\n",
    "plt.xlabel('N estimators')\n",
    "plt.ylabel('RMSE (lower is better)')"
   ]
  },
  {
   "cell_type": "markdown",
   "metadata": {},
   "source": [
    "## MODEL 9: Bagged Random Forest - optimized"
   ]
  },
  {
   "cell_type": "markdown",
   "metadata": {},
   "source": [
    "## MODEL 10:  NOISY REPLICATION"
   ]
  },
  {
   "cell_type": "markdown",
   "metadata": {},
   "source": [
    "## MODEL 11:  new classifier"
   ]
  },
  {
   "cell_type": "markdown",
   "metadata": {},
   "source": [
    " "
   ]
  },
  {
   "cell_type": "code",
   "execution_count": null,
   "metadata": {
    "collapsed": true
   },
   "outputs": [],
   "source": []
  },
  {
   "cell_type": "markdown",
   "metadata": {
    "collapsed": true
   },
   "source": [
    "# DATA2 - MUSIC"
   ]
  },
  {
   "cell_type": "markdown",
   "metadata": {},
   "source": [
    "# STEP 1: DATA LOADING - Music"
   ]
  },
  {
   "cell_type": "code",
   "execution_count": null,
   "metadata": {
    "collapsed": false
   },
   "outputs": [],
   "source": [
    "urllib.urlretrieve('http://www.webpages.uidaho.edu/erichs/music.json', '/git/data/hw3/music.json')"
   ]
  },
  {
   "cell_type": "code",
   "execution_count": null,
   "metadata": {
    "collapsed": false
   },
   "outputs": [],
   "source": [
    "with open('/git/data/hw3/music.json', 'rU') as f:\n",
    "    data = [json.loads(row) for row in f]\n",
    "    data2 = pd.DataFrame(data)"
   ]
  },
  {
   "cell_type": "markdown",
   "metadata": {},
   "source": [
    "## What variables are appropriate to be used as features?"
   ]
  },
  {
   "cell_type": "code",
   "execution_count": null,
   "metadata": {
    "collapsed": false
   },
   "outputs": [],
   "source": [
    "data2[:1]"
   ]
  },
  {
   "cell_type": "markdown",
   "metadata": {},
   "source": [
    "#### Comment: from the fields above, 'helpful', 'overall', 'reviewText', 'unixReviewTime' are useful fields.  "
   ]
  },
  {
   "cell_type": "markdown",
   "metadata": {
    "collapsed": true
   },
   "source": [
    "FEATURE VARIABLES:\n",
    "\n",
    "Helpfulness index - helpful index - represents a ratio - numerator is the number of people who rated this review\n",
    "positively, with the denominator representing the total number of people who rated this review.\n",
    "\n",
    "reviewText - main text of the review\n",
    "\n",
    "Summary - a summary sentence of the review, provided by the reviewer.\n",
    "\n",
    "\n",
    "RESPONSE VARIABLES:\n",
    "\n",
    "Overall - overall ranking of review"
   ]
  },
  {
   "cell_type": "markdown",
   "metadata": {},
   "source": [
    "# STEP 2: FEATURE SELECTION - Music"
   ]
  },
  {
   "cell_type": "markdown",
   "metadata": {},
   "source": [
    "## Converting helpfulness rating into a percentage"
   ]
  },
  {
   "cell_type": "code",
   "execution_count": null,
   "metadata": {
    "collapsed": false
   },
   "outputs": [],
   "source": [
    "helpfulness_ratio = data2.helpful.tolist()\n",
    "helpfulness_ratio_final = pd.DataFrame(helpfulness_ratio)"
   ]
  },
  {
   "cell_type": "code",
   "execution_count": null,
   "metadata": {
    "collapsed": false
   },
   "outputs": [],
   "source": [
    "helpfulness_ratio_final['helpfulness_ratio'] = helpfulness_ratio_final[0] / helpfulness_ratio_final[1]"
   ]
  },
  {
   "cell_type": "markdown",
   "metadata": {},
   "source": [
    "## Preparing X and y: adding helpfulness ratio as a column, eliminating rows where helpfulness ratio is NAN."
   ]
  },
  {
   "cell_type": "code",
   "execution_count": null,
   "metadata": {
    "collapsed": false
   },
   "outputs": [],
   "source": [
    "data2 = pd.DataFrame(data)\n",
    "data2 = pd.concat([data2, helpfulness_ratio_final], axis=1)\n",
    "feature_cols = ['helpfulness_ratio', 'reviewText', 'unixReviewTime', 'summary', 'overall']\n",
    "#feature_cols = ['reviewText']\n",
    "# removing data that is not a review of 5 or 1 \n",
    "music_best_worst = data2[(data2.overall==5) | (data2.overall==1)]\n",
    "# removing rows that have NAN values for helpfulness (0/0)\n",
    "music_best_worst = music_best_worst[np.isfinite(music_best_worst['helpfulness_ratio'])]\n",
    "# group feature columns together for X\n",
    "music_best_worst_featureadd = music_best_worst[feature_cols] #for use in Task 6\n",
    "\n",
    "#--Setting X and y for music\n",
    "#X = music_best_worst_featureadd\n",
    "y = music_best_worst_featureadd.overall\n"
   ]
  },
  {
   "cell_type": "code",
   "execution_count": null,
   "metadata": {
    "collapsed": false
   },
   "outputs": [],
   "source": [
    "y.shape"
   ]
  },
  {
   "cell_type": "markdown",
   "metadata": {},
   "source": [
    "## Vectorizing Reviewtext"
   ]
  },
  {
   "cell_type": "code",
   "execution_count": null,
   "metadata": {
    "collapsed": true
   },
   "outputs": [],
   "source": [
    "data2[\"score\"] = np.nan"
   ]
  },
  {
   "cell_type": "code",
   "execution_count": null,
   "metadata": {
    "collapsed": false
   },
   "outputs": [],
   "source": [
    "import scipy as sp\n",
    "from sklearn.feature_extraction.text import CountVectorizer\n",
    "vectorizer = CountVectorizer(binary=True, ngram_range=(1, 2), max_features=1000)\n",
    "#y = data2[\"score\"].values.astype(np.float32) \n",
    "\n",
    "X = sp.sparse.hstack((vectorizer.fit_transform(music_best_worst_featureadd.reviewText),music_best_worst_featureadd[['helpfulness_ratio','unixReviewTime']].values),format='csr')\n",
    "X_columns=vectorizer.get_feature_names()+music_best_worst_featureadd[['helpfulness_ratio','unixReviewTime']].columns.tolist()\n"
   ]
  },
  {
   "cell_type": "code",
   "execution_count": null,
   "metadata": {
    "collapsed": false
   },
   "outputs": [],
   "source": [
    "#X_reviewtext= sp.issparse(X_reviewtext)"
   ]
  },
  {
   "cell_type": "markdown",
   "metadata": {},
   "source": [
    "## Create test train split"
   ]
  },
  {
   "cell_type": "code",
   "execution_count": null,
   "metadata": {
    "collapsed": false
   },
   "outputs": [],
   "source": [
    "X_train, X_test, y_train, y_test = train_test_split(X, y, random_state=99)"
   ]
  },
  {
   "cell_type": "markdown",
   "metadata": {},
   "source": [
    "### Linear Regression - 10-fold cross-validation with all three features"
   ]
  },
  {
   "cell_type": "code",
   "execution_count": null,
   "metadata": {
    "collapsed": false
   },
   "outputs": [],
   "source": [
    "lm = LinearRegression()\n",
    "scores = cross_val_score(lm, X, y, cv=KFold(X.shape[0], n_folds=10, shuffle=True), scoring='mean_squared_error')\n",
    "print scores"
   ]
  },
  {
   "cell_type": "code",
   "execution_count": null,
   "metadata": {
    "collapsed": false
   },
   "outputs": [],
   "source": [
    "# fix the sign of MSE scores\n",
    "mse_scores = -scores\n",
    "print mse_scores"
   ]
  },
  {
   "cell_type": "code",
   "execution_count": null,
   "metadata": {
    "collapsed": false
   },
   "outputs": [],
   "source": [
    "# convert from MSE to RMSE\n",
    "rmse_scores = np.sqrt(mse_scores)\n",
    "print rmse_scores"
   ]
  },
  {
   "cell_type": "code",
   "execution_count": null,
   "metadata": {
    "collapsed": false
   },
   "outputs": [],
   "source": [
    "# calculate the average RMSE\n",
    "print rmse_scores.mean()"
   ]
  },
  {
   "cell_type": "markdown",
   "metadata": {},
   "source": [
    "# STEP 3 : MODEL EVALUATION - Music"
   ]
  },
  {
   "cell_type": "markdown",
   "metadata": {},
   "source": [
    "### MODEL 1: Comparing Test Accuracy with Null Accuracy"
   ]
  },
  {
   "cell_type": "markdown",
   "metadata": {},
   "source": [
    "Null accuracy is the accuracy that could be achieved by always predicting the most frequent class. It is a benchmark against which you may want to measure your classification model."
   ]
  },
  {
   "cell_type": "code",
   "execution_count": null,
   "metadata": {
    "collapsed": false
   },
   "outputs": [],
   "source": [
    "# examine the class distribution\n",
    "y_test.value_counts()"
   ]
  },
  {
   "cell_type": "code",
   "execution_count": null,
   "metadata": {
    "collapsed": false
   },
   "outputs": [],
   "source": [
    "nulltime2 = %%timeit -o 1 + 2\n",
    "# calculate the null accuracy\n",
    "y_test.value_counts().head(1) / len(y_test)"
   ]
  },
  {
   "cell_type": "code",
   "execution_count": null,
   "metadata": {
    "collapsed": false
   },
   "outputs": [],
   "source": [
    "nullmodel2 = sklearn.dummy.DummyClassifier(strategy='most_frequent', random_state=99, constant=None)"
   ]
  },
  {
   "cell_type": "code",
   "execution_count": null,
   "metadata": {
    "collapsed": true
   },
   "outputs": [],
   "source": [
    "y_pred_prob = nullmodel2.predict_proba(X_test)[:, 1]"
   ]
  },
  {
   "cell_type": "code",
   "execution_count": null,
   "metadata": {
    "collapsed": false
   },
   "outputs": [],
   "source": [
    "# calculate AUC\n",
    "print metrics.roc_auc_score(y_test, y_pred_prob)"
   ]
  },
  {
   "cell_type": "code",
   "execution_count": null,
   "metadata": {
    "collapsed": false
   },
   "outputs": [],
   "source": [
    "nullmodel2.fit(X,y)"
   ]
  },
  {
   "cell_type": "code",
   "execution_count": null,
   "metadata": {
    "collapsed": false
   },
   "outputs": [],
   "source": [
    "# histogram of predicted probabilities grouped by actual response value\n",
    "df = pd.DataFrame({'probability':y_pred_prob, 'actual':y_test})\n",
    "df.hist(column='probability', by='actual', sharex=True, sharey=True)"
   ]
  },
  {
   "cell_type": "code",
   "execution_count": null,
   "metadata": {
    "collapsed": false
   },
   "outputs": [],
   "source": [
    "import matplotlib\n",
    "%matplotlib nbagg\n",
    "fpr, tpr, thresholds = metrics.roc_curve(y_test, y_pred_prob)\n",
    "plt.plot(fpr, tpr)"
   ]
  },
  {
   "cell_type": "code",
   "execution_count": null,
   "metadata": {
    "collapsed": false
   },
   "outputs": [],
   "source": [
    "\n",
    "nullmodel2_scores = cross_val_score(nullmodel2, X, y, cv=KFold(X.shape[0], n_folds=10, shuffle=True), scoring='roc_auc')"
   ]
  },
  {
   "cell_type": "markdown",
   "metadata": {},
   "source": [
    "### MODEL 2: Naive-Bayes"
   ]
  },
  {
   "cell_type": "markdown",
   "metadata": {},
   "source": [
    "### MODEL 2: Naive-Bayes - Multinomial Naive Bayes"
   ]
  },
  {
   "cell_type": "code",
   "execution_count": null,
   "metadata": {
    "collapsed": false
   },
   "outputs": [],
   "source": [
    "\n",
    "nbmtime2 = %%timeit -o 1 + 2\n",
    "from sklearn.naive_bayes import MultinomialNB\n",
    "nbm2 = MultinomialNB()\n",
    "nbm2.fit(X, y)\n",
    "MultinomialNB(alpha=1.0, class_prior=None, fit_prior=True)\n",
    "nbm2_scores = cross_val_score(nbm2, X, y, cv=KFold(X.shape[0], n_folds=10, shuffle=True), scoring='accuracy')\n",
    "\n",
    "#print(clf.predict(X[2:3]))"
   ]
  },
  {
   "cell_type": "code",
   "execution_count": null,
   "metadata": {
    "collapsed": false
   },
   "outputs": [],
   "source": [
    "print nbm2_scores"
   ]
  },
  {
   "cell_type": "code",
   "execution_count": null,
   "metadata": {
    "collapsed": true
   },
   "outputs": [],
   "source": [
    "nbm2_scores_mean = cross_val_score(nbm2, X, y, cv=KFold(X.shape[0], n_folds=10, shuffle=True), scoring='accuracy').mean()\n",
    "print nbm2_scores_mean"
   ]
  },
  {
   "cell_type": "code",
   "execution_count": null,
   "metadata": {
    "collapsed": false
   },
   "outputs": [],
   "source": [
    "nbm2_scores_auc = cross_val_score(nbm2, X, y, cv=KFold(X.shape[0], n_folds=10, shuffle=True), scoring='roc_auc').mean()\n",
    "print nbm2_scores_auc"
   ]
  },
  {
   "cell_type": "code",
   "execution_count": null,
   "metadata": {
    "collapsed": false
   },
   "outputs": [],
   "source": [
    "mean_score = nbm2_scores.mean()\n",
    "std_dev = nbm2_scores.std()\n",
    "std_error = nbm2_scores.std() / math.sqrt(nbm2_scores.shape[0])\n",
    "ci =  2.262 * std_error\n",
    "lower_bound = mean_score - ci\n",
    "upper_bound = mean_score + ci\n",
    "\n",
    "print \"Multinomial NB Score is %f +/-  %f\" % (mean_score, ci)\n",
    "print \"Multinomial NB AUC is \"\n",
    "print '95 percent probability that if this experiment were repeated over and over the average score would be between %f and %f' % (lower_bound, upper_bound)"
   ]
  },
  {
   "cell_type": "markdown",
   "metadata": {},
   "source": [
    "### MODEL 2: Naive-Bayes - Gaussian Naive Bayes"
   ]
  },
  {
   "cell_type": "code",
   "execution_count": null,
   "metadata": {
    "collapsed": false
   },
   "outputs": [],
   "source": [
    "nbgtime2 = %%timeit -o 1 + 2\n",
    "from sklearn.naive_bayes import GaussianNB\n",
    "nbg2 = GaussianNB()\n",
    "nbg2.fit(X, y)\n",
    "GaussianNB()\n",
    "nbg2_scores = cross_val_score(nbg2, X, y, cv=KFold(X.shape[0], n_folds=10, shuffle=True), scoring='accuracy')\n",
    "print nbg2_scores\n",
    "\n",
    "#print(clf.predict(X[2:3]))"
   ]
  },
  {
   "cell_type": "code",
   "execution_count": null,
   "metadata": {
    "collapsed": false
   },
   "outputs": [],
   "source": [
    "nbg2_scores_mean = cross_val_score(nbg2, X, y, cv=KFold(X.shape[0], n_folds=10, shuffle=True), scoring='accuracy').mean()\n",
    "print nbg2_scores_mean"
   ]
  },
  {
   "cell_type": "code",
   "execution_count": null,
   "metadata": {
    "collapsed": false
   },
   "outputs": [],
   "source": [
    "nbg2_scores_auc = cross_val_score(nbg2, X, y, cv=KFold(X.shape[0], n_folds=10, shuffle=True), scoring='roc_auc').mean()\n",
    "print nbg2_scores_auc"
   ]
  },
  {
   "cell_type": "markdown",
   "metadata": {},
   "source": [
    "### MODEL 2: Naive-Bayes - Bernoulli Naive Bayes"
   ]
  },
  {
   "cell_type": "code",
   "execution_count": null,
   "metadata": {
    "collapsed": false
   },
   "outputs": [],
   "source": [
    "nbbtime2 = %%timeit -o 1 + 2\n",
    "from sklearn.naive_bayes import BernoulliNB\n",
    "nbb2 = BernoulliNB()\n",
    "nbb2.fit(X, y)\n",
    "BernoulliNB(alpha=1.0, class_prior=None, fit_prior=True)\n",
    "nbb2_scores = cross_val_score(nbb2, X, y, cv=KFold(X.shape[0], n_folds=10, shuffle=True), scoring='accuracy')\n",
    "print nbb_scores\n",
    "\n",
    "#print(clf.predict(X[2:3]))"
   ]
  },
  {
   "cell_type": "code",
   "execution_count": null,
   "metadata": {
    "collapsed": false
   },
   "outputs": [],
   "source": [
    "nbb2_scores_mean = cross_val_score(nbb2, X, y, cv=KFold(X.shape[0], n_folds=10, shuffle=True), scoring='accuracy').mean()\n",
    "print nbb2_scores_mean"
   ]
  },
  {
   "cell_type": "code",
   "execution_count": null,
   "metadata": {
    "collapsed": false
   },
   "outputs": [],
   "source": [
    "nbb2_scores_auc = cross_val_score(nbb2, X, y, cv=KFold(X.shape[0], n_folds=10, shuffle=True), scoring='roc_auc').mean()\n",
    "print nbb2_scores_auc"
   ]
  },
  {
   "cell_type": "markdown",
   "metadata": {},
   "source": [
    "### MODEL 2: Naive-Bayes - Best performing Naive Bayes??"
   ]
  },
  {
   "cell_type": "code",
   "execution_count": null,
   "metadata": {
    "collapsed": false
   },
   "outputs": [],
   "source": [
    "# TASK 7: plot the ROC curve\n",
    "import matplotlib\n",
    "%matplotlib nbagg\n",
    "from sklearn import metrics\n",
    "import pandas as pd\n",
    "from ggplot import *\n",
    "\n",
    "\n",
    "nbm2_preds = nbm2.predict_proba(X_test)[:,1]\n",
    "nbm2_fpr, nbm2_tpr, _ = metrics.roc_curve(y_test, nbm2_preds)\n",
    "\n",
    "nbg2_preds = nbg2.predict_proba(X_test)[:,1]\n",
    "nbg2_fpr, nbg2_tpr, _ = metrics.roc_curve(y_test, nbg2_preds)\n",
    "\n",
    "nbb2_preds = nbb2.predict_proba(X_test)[:,1]\n",
    "nbb2_fpr, nbb2_tpr, _ = metrics.roc_curve(y_test, nbb2_preds)\n",
    "\n",
    "plt.plot(nbm2_fpr, nbm2_tpr, color='green')\n",
    "plt.plot(nbg2_fpr, nbg2_tpr, color='magenta')\n",
    "plt.plot(nbb2_fpr, nbb2_tpr, color='yellow')\n",
    "\n",
    "plt.xlim([0.0, 1.0])\n",
    "plt.ylim([0.0, 1.0])\n",
    "plt.xlabel('False Positive Rate (1 - Specificity)')\n",
    "plt.ylabel('True Positive Rate (Sensitivity)')\n"
   ]
  },
  {
   "cell_type": "markdown",
   "metadata": {},
   "source": [
    "### MODEL3: KNN"
   ]
  },
  {
   "cell_type": "code",
   "execution_count": null,
   "metadata": {
    "collapsed": false
   },
   "outputs": [],
   "source": [
    "knn2 = KNeighborsClassifier(n_neighbors=9)\n",
    "#strongy = data1.FelRecidYr3\n",
    "knn2.fit(X,y)\n",
    "knn2_scores = cross_val_score(knn2, X, y, cv=KFold(X.shape[0], n_folds=10, shuffle=True), scoring='accuracy')\n",
    "print knn2_scores"
   ]
  },
  {
   "cell_type": "code",
   "execution_count": null,
   "metadata": {
    "collapsed": false
   },
   "outputs": [],
   "source": [
    "# use average accuracy as an estimate of out-of-sample accuracy\n",
    "print knn2_scores.mean()\n"
   ]
  },
  {
   "cell_type": "code",
   "execution_count": null,
   "metadata": {
    "collapsed": false
   },
   "outputs": [],
   "source": [
    "# search for an optimal value of K for KNN\n",
    "k2_range = range(1, 100)\n",
    "k2_scores = []\n",
    "for k in k2_range:\n",
    "    knn2 = KNeighborsClassifier(n_neighbors=k)\n",
    "    knn2_scores = cross_val_score(knn2, X, y, cv=KFold(X.shape[0], n_folds=10, shuffle=True), scoring='accuracy')\n",
    "    k_scores.append(knn2_scores.mean())\n",
    "print k2_scores"
   ]
  },
  {
   "cell_type": "code",
   "execution_count": null,
   "metadata": {
    "collapsed": false
   },
   "outputs": [],
   "source": [
    "import matplotlib\n",
    "%matplotlib nbagg\n",
    "\n",
    "# plot the value of K for KNN (x-axis) versus the cross-validated accuracy (y-axis)\n",
    "plt.plot(k_range, k_scores)\n",
    "plt.xlabel('Value of K for KNN')\n",
    "plt.ylabel('Cross-Validated Accuracy')"
   ]
  },
  {
   "cell_type": "markdown",
   "metadata": {},
   "source": [
    "### MODEL3: KNN - Re-run KNN model with optimized K = 40"
   ]
  },
  {
   "cell_type": "code",
   "execution_count": null,
   "metadata": {
    "collapsed": false
   },
   "outputs": [],
   "source": [
    "knntime2 = %%timeit -o 1 + 2\n",
    "# 10-fold cross-validation with K=5 for KNN (the n_neighbors parameter)\n",
    "knn2 = KNeighborsClassifier(n_neighbors=40)\n",
    "#strongy = data1.FelRecidYr3\n",
    "knn2_scores = cross_val_score(knn2, X, y, cv=KFold(X.shape[0], n_folds=10, shuffle=True), scoring='accuracy')\n",
    "print knn2_scores"
   ]
  },
  {
   "cell_type": "code",
   "execution_count": null,
   "metadata": {
    "collapsed": true
   },
   "outputs": [],
   "source": [
    "knn_mean2 = cross_val_score(knn2, X, y, cv=KFold(X.shape[0], n_folds=10, shuffle=True), scoring='accuracy').mean()"
   ]
  },
  {
   "cell_type": "code",
   "execution_count": null,
   "metadata": {
    "collapsed": false
   },
   "outputs": [],
   "source": [
    "import math\n",
    "mean_score = knn2_scores.mean()\n",
    "std_dev = knn2_scores.std()\n",
    "std_error = knn2_scores.std() / math.sqrt(scores.shape[0])\n",
    "ci =  2.262 * std_error\n",
    "lower_bound = mean_score - ci\n",
    "upper_bound = mean_score + ci\n",
    "\n",
    "print \"Score is %f +/-  %f\" % (mean_score, ci)\n",
    "print '95 percent probability that if this experiment were repeated over and over the average score would be between %f and %f' % (lower_bound, upper_bound)"
   ]
  },
  {
   "cell_type": "markdown",
   "metadata": {},
   "source": [
    "### MODEL 4: Logistic Regression"
   ]
  },
  {
   "cell_type": "markdown",
   "metadata": {},
   "source": [
    "#### MODEL 4: Logistic Regression - 10-fold cross-validation with logistic regression"
   ]
  },
  {
   "cell_type": "code",
   "execution_count": null,
   "metadata": {
    "collapsed": false
   },
   "outputs": [],
   "source": [
    "logregtime2 = %%timeit -o 1 + 2\n",
    "from sklearn.linear_model import LogisticRegression\n",
    "logreg2 = LogisticRegression()\n",
    "logreg2.fit(X,y)\n",
    "logreg2_scores = cross_val_score(logreg2, X, y, cv=KFold(X.shape[0], n_folds=10, shuffle=True), scoring='accuracy')"
   ]
  },
  {
   "cell_type": "code",
   "execution_count": null,
   "metadata": {
    "collapsed": true
   },
   "outputs": [],
   "source": [
    "logreg2_auc_scores = cross_val_score(logreg2, X, y, cv=KFold(X.shape[0], n_folds=10, shuffle=True), scoring='roc_auc')"
   ]
  },
  {
   "cell_type": "markdown",
   "metadata": {},
   "source": [
    "#### MODEL 4: Logistic Regression - Print Logistic Regression cross validation accuracy scores"
   ]
  },
  {
   "cell_type": "markdown",
   "metadata": {},
   "source": [
    "print logreg_scores"
   ]
  },
  {
   "cell_type": "markdown",
   "metadata": {},
   "source": [
    "#### MODEL 4: Logistic Regression - Print Logistic Regression cross validation accuracy score - mean"
   ]
  },
  {
   "cell_type": "code",
   "execution_count": null,
   "metadata": {
    "collapsed": false
   },
   "outputs": [],
   "source": [
    "logreg_mean2 = cross_val_score(logreg2, X, y, cv=KFold(X.shape[0], n_folds=10, shuffle=True), scoring='accuracy').mean()"
   ]
  },
  {
   "cell_type": "markdown",
   "metadata": {},
   "source": [
    "#### MODEL 4: Logistic Regression - Print Logistic Regression cross validation auc score - mean"
   ]
  },
  {
   "cell_type": "code",
   "execution_count": null,
   "metadata": {
    "collapsed": true
   },
   "outputs": [],
   "source": [
    "print logreg2_auc_scores.mean()"
   ]
  },
  {
   "cell_type": "code",
   "execution_count": null,
   "metadata": {
    "collapsed": false
   },
   "outputs": [],
   "source": [
    "mean_score = logreg2_scores.mean()\n",
    "std_dev = logreg2_scores.std()\n",
    "std_error = logreg2_scores.std() / math.sqrt(logreg_scores.shape[0])\n",
    "ci =  2.262 * std_error\n",
    "lower_bound = mean_score - ci\n",
    "upper_bound = mean_score + ci\n",
    "\n",
    "print \"Score is %f +/-  %f\" % (mean_score, ci)\n",
    "print '95 percent probability that if this experiment were repeated over and over the average score would be between %f and %f' % (lower_bound, upper_bound)"
   ]
  },
  {
   "cell_type": "markdown",
   "metadata": {},
   "source": [
    "### MODEL 5: SVM Polynomial Kernel"
   ]
  },
  {
   "cell_type": "markdown",
   "metadata": {},
   "source": [
    "#### MODEL 5: SVM Polynomial Kernel - 10-fold cross-validation with SVM Poly"
   ]
  },
  {
   "cell_type": "code",
   "execution_count": null,
   "metadata": {
    "collapsed": false
   },
   "outputs": [],
   "source": [
    "# 10-fold cross-validation with SVM Polynomial\n",
    "from sklearn import svm\n",
    "svmpoly2 = svm.SVC(kernel='poly', gamma=2)\n",
    "svmpoly2.fit(X,y)\n",
    "svmpoly2_scores = cross_val_score(svmpoly2, X, y, cv=KFold(X.shape[0], n_folds=10, shuffle=True), scoring='accuracy')\n",
    "print svmpoly2_scores"
   ]
  },
  {
   "cell_type": "markdown",
   "metadata": {},
   "source": [
    "#### MODEL 5: SVM Polynomial Kernel - Search for an optimal gamma/depth for SVM Polynomial"
   ]
  },
  {
   "cell_type": "code",
   "execution_count": null,
   "metadata": {
    "collapsed": true
   },
   "outputs": [],
   "source": [
    "# search for an optimal gamma for SVM Polynomial\n",
    "g_range = range(1, 10)\n",
    "g_scores = []\n",
    "for k in g_range:\n",
    "    knn = svm.SVC(kernel='poly', gamma=k)\n",
    "    scores = cross_val_score(svmpoly, X, y, cv=KFold(X.shape[0], n_folds=10, shuffle=True), scoring='accuracy')\n",
    "    g_scores.append(scores.mean())\n",
    "print g_scores"
   ]
  },
  {
   "cell_type": "markdown",
   "metadata": {},
   "source": [
    "#### MODEL 5: SVM Polynomial Kernel - Tune SVM Hyperparameters - C and gamma"
   ]
  },
  {
   "cell_type": "code",
   "execution_count": null,
   "metadata": {
    "collapsed": true
   },
   "outputs": [],
   "source": [
    "svmpolytime2 = %%timeit -o 1 + 2\n",
    "import optunity\n",
    "import optunity.metrics\n",
    "import sklearn.svm\n",
    "\n",
    "# score function: twice iterated 10-fold cross-validated accuracy\n",
    "@optunity.cross_validated(x=data1[feature_cols2], y=data1.FelRecidYr3, num_folds=10, num_iter=2)\n",
    "def svm_auc(x_train, y_train, x_test, y_test, logC, logGamma):\n",
    "    model = sklearn.svm.SVC(C=10 ** logC, gamma=10 ** logGamma).fit(x_train, y_train)\n",
    "    decision_values = model.decision_function(x_test)\n",
    "    return optunity.metrics.roc_auc(y_test, decision_values)\n",
    "\n",
    "# perform tuning\n",
    "hps, _, _ = optunity.maximize(svm_auc, num_evals=200, logC=[-5, 2], logGamma=[-5, 1])"
   ]
  },
  {
   "cell_type": "code",
   "execution_count": null,
   "metadata": {
    "collapsed": true
   },
   "outputs": [],
   "source": [
    "# train model on the full training set with tuned hyperparameters\n",
    "\n",
    "optimal_model = sklearn.svm.SVC(C=10 ** hps['logC'], gamma=10 ** hps['logGamma']).fit(X, y)\n",
    "svmpoly_mean2 = cross_val_score(optimal_model, X, y, cv=KFold(X.shape[0], n_folds=10, shuffle=True), scoring='accuracy').mean()\n"
   ]
  },
  {
   "cell_type": "markdown",
   "metadata": {},
   "source": [
    "#### MODEL 5: SVM Polynomial Kernel - Plotting SVM boundaries"
   ]
  },
  {
   "cell_type": "code",
   "execution_count": null,
   "metadata": {
    "collapsed": true
   },
   "outputs": [],
   "source": [
    "fignum=1\n",
    "\n",
    "# plot the line, the points, and the nearest vectors to the plane\n",
    "    plt.figure(fignum, figsize=(4, 3))\n",
    "    plt.svmpoly()\n",
    "\n",
    "    plt.scatter(svmpoly.support_vectors_[:, 0], svmpoly.support_vectors_[:, 1], s=80,\n",
    "                facecolors='none', zorder=10)\n",
    "    plt.scatter(X[:, 0], X[:, 1], c=Y, zorder=10, cmap=plt.cm.Paired)\n",
    "\n",
    "    plt.axis('tight')\n",
    "    x_min = -3\n",
    "    x_max = 3\n",
    "    y_min = -3\n",
    "    y_max = 3\n",
    "\n",
    "    XX, YY = np.mgrid[x_min:x_max:200j, y_min:y_max:200j]\n",
    "    Z = svmpoly.decision_function(np.c_[XX.ravel(), YY.ravel()])\n",
    "\n",
    "    # Put the result into a color plot\n",
    "    Z = Z.reshape(XX.shape)\n",
    "    plt.figure(fignum, figsize=(4, 3))\n",
    "    plt.pcolormesh(XX, YY, Z > 0, cmap=plt.cm.Paired)\n",
    "    plt.contour(XX, YY, Z, colors=['k', 'k', 'k'], linestyles=['--', '-', '--'],\n",
    "                levels=[-.5, 0, .5])\n",
    "\n",
    "    plt.xlim(x_min, x_max)\n",
    "    plt.ylim(y_min, y_max)\n",
    "\n",
    "    plt.xticks(())\n",
    "    plt.yticks(())\n",
    "    fignum = fignum + 1\n",
    "plt.show()"
   ]
  },
  {
   "cell_type": "markdown",
   "metadata": {},
   "source": [
    "### MODEL 5: SVM Gaussian Kernel"
   ]
  },
  {
   "cell_type": "code",
   "execution_count": null,
   "metadata": {
    "collapsed": false
   },
   "outputs": [],
   "source": [
    "\n",
    "# 10-fold cross-validation with SVM Polynomial\n",
    "from sklearn import svm\n",
    "svmrbf = svm.SVC(kernel='rbf', gamma=2)\n",
    "svmrbf.fit(X,y)\n",
    "svmpoly2_scores = cross_val_score(svmpoly, X, y, cv=KFold(X.shape[0], n_folds=10, shuffle=True), scoring='accuracy')\n",
    "print svmpoly_scores\n"
   ]
  },
  {
   "cell_type": "code",
   "execution_count": null,
   "metadata": {
    "collapsed": true
   },
   "outputs": [],
   "source": [
    "# search for an optimal gamma for SVM Polynomial\n",
    "g_range = range(1, 10)\n",
    "g_scores = []\n",
    "for k in g_range:\n",
    "    knn = svm.SVC(kernel='rbf', gamma=k)\n",
    "    scores = cross_val_score(svmpoly, X, y, cv=KFold(X.shape[0], n_folds=10, shuffle=True), scoring='accuracy')\n",
    "    g_scores.append(scores.mean())\n",
    "print g_scores"
   ]
  },
  {
   "cell_type": "code",
   "execution_count": null,
   "metadata": {
    "collapsed": true
   },
   "outputs": [],
   "source": [
    "svmgaustime2 = %%timeit -o 1 + 2\n",
    "\n",
    "import optunity\n",
    "import optunity.metrics\n",
    "import sklearn.svm\n",
    "\n",
    "# score function: twice iterated 10-fold cross-validated accuracy\n",
    "@optunity.cross_validated(x=data1[feature_cols2], y=data1.FelRecidYr3, num_folds=10, num_iter=2)\n",
    "\n",
    "def svm_auc(x_train, y_train, x_test, y_test, logC, logGamma):\n",
    "    model = sklearn.svm.SVC(C=10 ** logC, gamma=10 ** logGamma).fit(x_train, y_train)\n",
    "    decision_values = model.decision_function(x_test)\n",
    "    return optunity.metrics.roc_auc(y_test, decision_values)\n",
    "\n",
    "# perform tuning\n",
    "hps, _, _ = optunity.maximize(svm_auc, num_evals=200, logC=[-5, 2], logGamma=[-5, 1])\n",
    "\n"
   ]
  },
  {
   "cell_type": "code",
   "execution_count": null,
   "metadata": {
    "collapsed": true
   },
   "outputs": [],
   "source": [
    "# train model on the full training set with tuned hyperparameters\n",
    "optimal_model = sklearn.svm.SVC(C=10 ** hps['logC'], gamma=10 ** hps['logGamma']).fit(X, y)\n",
    "svmgaus_mean2 = cross_val_score(optimal_model, X, y, cv=KFold(X.shape[0], n_folds=10, shuffle=True), scoring='accuracy').mean()"
   ]
  },
  {
   "cell_type": "code",
   "execution_count": null,
   "metadata": {
    "collapsed": true
   },
   "outputs": [],
   "source": [
    "fignum=1\n",
    "\n",
    "# plot the line, the points, and the nearest vectors to the plane\n",
    "    plt.figure(fignum, figsize=(4, 3))\n",
    "    plt.svmpoly()\n",
    "\n",
    "    plt.scatter(svmpoly.support_vectors_[:, 0], svmpoly.support_vectors_[:, 1], s=80,\n",
    "                facecolors='none', zorder=10)\n",
    "    plt.scatter(X[:, 0], X[:, 1], c=Y, zorder=10, cmap=plt.cm.Paired)\n",
    "\n",
    "    plt.axis('tight')\n",
    "    x_min = -3\n",
    "    x_max = 3\n",
    "    y_min = -3\n",
    "    y_max = 3\n",
    "\n",
    "    XX, YY = np.mgrid[x_min:x_max:200j, y_min:y_max:200j]\n",
    "    Z = svmpoly.decision_function(np.c_[XX.ravel(), YY.ravel()])\n",
    "\n",
    "    # Put the result into a color plot\n",
    "    Z = Z.reshape(XX.shape)\n",
    "    plt.figure(fignum, figsize=(4, 3))\n",
    "    plt.pcolormesh(XX, YY, Z > 0, cmap=plt.cm.Paired)\n",
    "    plt.contour(XX, YY, Z, colors=['k', 'k', 'k'], linestyles=['--', '-', '--'],\n",
    "                levels=[-.5, 0, .5])\n",
    "\n",
    "    plt.xlim(x_min, x_max)\n",
    "    plt.ylim(y_min, y_max)\n",
    "\n",
    "    plt.xticks(())\n",
    "    plt.yticks(())\n",
    "    fignum = fignum + 1\n",
    "plt.show()"
   ]
  },
  {
   "cell_type": "markdown",
   "metadata": {},
   "source": [
    "### MODEL 6: Decision Tree"
   ]
  },
  {
   "cell_type": "markdown",
   "metadata": {},
   "source": [
    "#### MODEL 6: Decision Tree - Initial Decision Tree with max depth of 10"
   ]
  },
  {
   "cell_type": "code",
   "execution_count": null,
   "metadata": {
    "collapsed": false
   },
   "outputs": [],
   "source": [
    "from sklearn import tree\n",
    "clf = tree.DecisionTreeClassifier(max_depth=10)\n",
    "clf.fit(X,y)\n",
    "clf_scores = cross_val_score(clf, X, y, cv=KFold(X.shape[0], n_folds=10, shuffle=True), scoring='accuracy')"
   ]
  },
  {
   "cell_type": "markdown",
   "metadata": {},
   "source": [
    "#### MODEL 6: Decision Tree - Print Decision Tree cross validation accuracy scores"
   ]
  },
  {
   "cell_type": "code",
   "execution_count": null,
   "metadata": {
    "collapsed": false
   },
   "outputs": [],
   "source": [
    "print clf_scores"
   ]
  },
  {
   "cell_type": "markdown",
   "metadata": {},
   "source": [
    "#### MODEL 6: Decision Tree -  Print Decision Tree cross validation accuracy score - mean"
   ]
  },
  {
   "cell_type": "code",
   "execution_count": null,
   "metadata": {
    "collapsed": false
   },
   "outputs": [],
   "source": [
    "clf_scores_mean = cross_val_score(clf, X, y, cv=KFold(X.shape[0], n_folds=10, shuffle=True), scoring='accuracy').mean()\n",
    "print clf_scores_mean"
   ]
  },
  {
   "cell_type": "markdown",
   "metadata": {},
   "source": [
    "#### MODEL 6: Decision Tree - Print Decision Tree cross validation auc score - mean"
   ]
  },
  {
   "cell_type": "code",
   "execution_count": null,
   "metadata": {
    "collapsed": false
   },
   "outputs": [],
   "source": [
    "clf_scores_auc = cross_val_score(clf, X, y, cv=KFold(X.shape[0], n_folds=10, shuffle=True), scoring='roc_auc').mean()\n",
    "print clf_scores_auc"
   ]
  },
  {
   "cell_type": "markdown",
   "metadata": {},
   "source": [
    "#### MODEL 6: Decision Tree - Save and print graphic of Decision Tree"
   ]
  },
  {
   "cell_type": "code",
   "execution_count": null,
   "metadata": {
    "collapsed": true
   },
   "outputs": [],
   "source": [
    "from sklearn.externals.six import StringIO  \n",
    "import pydot \n",
    "dot_data = StringIO() \n",
    "tree.export_graphviz(clf, out_file=dot_data)\n",
    "graph = pydot.graph_from_dot_data(dot_data.getvalue()) "
   ]
  },
  {
   "cell_type": "code",
   "execution_count": null,
   "metadata": {
    "collapsed": false
   },
   "outputs": [],
   "source": [
    "graph.write_jpeg(\"hw3_tree_plot.jpg\")"
   ]
  },
  {
   "cell_type": "code",
   "execution_count": null,
   "metadata": {
    "collapsed": false
   },
   "outputs": [],
   "source": [
    "from IPython.display import Image\n",
    "Image(filename='hw3_tree_plot.jpg')"
   ]
  },
  {
   "cell_type": "markdown",
   "metadata": {},
   "source": [
    "### MODEL 6: Decision Tree - search for an optimal gamma/depth for Decision Tree"
   ]
  },
  {
   "cell_type": "code",
   "execution_count": null,
   "metadata": {
    "collapsed": false
   },
   "outputs": [],
   "source": [
    "t_range = range(1, 100)\n",
    "t_scores = []\n",
    "for k in t_range:\n",
    "    clf = tree.DecisionTreeClassifier(max_depth=k)\n",
    "    scores = cross_val_score(clf, X, y, cv=KFold(X.shape[0], n_folds=10, shuffle=True), scoring='accuracy')\n",
    "    t_scores.append(scores.mean())\n",
    "print t_scores"
   ]
  },
  {
   "cell_type": "markdown",
   "metadata": {},
   "source": [
    "### MODEL 6: Decision Tree - Plot accuracy of cross validation runs vs. values of depth"
   ]
  },
  {
   "cell_type": "code",
   "execution_count": null,
   "metadata": {
    "collapsed": false
   },
   "outputs": [],
   "source": [
    "import matplotlib\n",
    "%matplotlib nbagg\n",
    "plt.plot(t_range, t_scores)\n",
    "plt.xlabel('Value of Depth for Decision Tree')\n",
    "plt.ylabel('Cross-Validated Accuracy')"
   ]
  },
  {
   "cell_type": "markdown",
   "metadata": {},
   "source": [
    "### MODEL 6: Decision Tree - Model optimization results:\n",
    "\n",
    "After examining accuracy for a variety of depths, its appears that a value of ~45 for a max depth is optimal in terms of cross validation accuracy."
   ]
  },
  {
   "cell_type": "markdown",
   "metadata": {},
   "source": [
    "### MODEL 6: Decision Tree - Plot N Estimators vs. RMSE"
   ]
  },
  {
   "cell_type": "code",
   "execution_count": null,
   "metadata": {
    "collapsed": false
   },
   "outputs": [],
   "source": [
    "estimator_range = range(1, 100)\n",
    "\n",
    "from sklearn import tree\n",
    "\n",
    "RMSE_scores = []\n",
    "\n",
    "for estimator in estimator_range:\n",
    "    clf = tree.DecisionTreeClassifier(max_depth=estimator)\n",
    "    clf.fit(X,y)\n",
    "    MSE_scores = cross_val_score(clf, X, y, cv=KFold(X.shape[0], n_folds=10, shuffle=True), scoring='mean_squared_error')\n",
    "    RMSE_scores.append(np.mean(np.sqrt(-MSE_scores)))"
   ]
  },
  {
   "cell_type": "code",
   "execution_count": null,
   "metadata": {
    "collapsed": false
   },
   "outputs": [],
   "source": [
    "import matplotlib\n",
    "%matplotlib nbagg\n",
    "\n",
    "# plot n_estimators (x-axis) versus RMSE (y-axis)\n",
    "plt.plot(estimator_range, RMSE_scores)\n",
    "plt.xlabel('n_estimators')\n",
    "plt.ylabel('RMSE (lower is better)')"
   ]
  },
  {
   "cell_type": "markdown",
   "metadata": {},
   "source": [
    "### MODEL 6: Decision Tree - Re-run Decision Tree model with optimized Depth = 45"
   ]
  },
  {
   "cell_type": "code",
   "execution_count": null,
   "metadata": {
    "collapsed": true
   },
   "outputs": [],
   "source": [
    "clftime2 = %%timeit -o 1 + 2\n",
    "from sklearn import tree\n",
    "clf = tree.DecisionTreeClassifier(max_depth=45)\n",
    "clf.fit(X,y)\n",
    "clf_scores = cross_val_score(clf, X, y, cv=KFold(X.shape[0], n_folds=10, shuffle=True), scoring='accuracy')"
   ]
  },
  {
   "cell_type": "code",
   "execution_count": null,
   "metadata": {
    "collapsed": true
   },
   "outputs": [],
   "source": [
    "clf_mean2 = cross_val_score(clf, X, y, cv=KFold(X.shape[0], n_folds=10, shuffle=True), scoring='accuracy').mean()"
   ]
  },
  {
   "cell_type": "markdown",
   "metadata": {},
   "source": [
    "### MODEL 7: Bootstrap Aggregation using Decision Tree"
   ]
  },
  {
   "cell_type": "code",
   "execution_count": null,
   "metadata": {
    "collapsed": false
   },
   "outputs": [],
   "source": [
    "bag_scores = []\n",
    "\n",
    "bag_range = range(1, 100)\n",
    "\n",
    "for k in bag_range:\n",
    "    bag_clf = BaggingClassifier(clf, n_estimators=k, max_samples=1.0, max_features=5, bootstrap = False, bootstrap_features = True, random_state=42)\n",
    "    bag_clf.fit(X, y)\n",
    "    bag_clf_scores = cross_val_score(bag_clf, X, y, cv=KFold(X.shape[0], n_folds=10, shuffle=True), scoring='accuracy')\n",
    "    MSE_scores = cross_val_score(bag_clf, X, y, cv=KFold(X.shape[0], n_folds=10, shuffle=True), scoring='mean_squared_error')\n",
    "    bag_scores.append(bag_clf_scores.mean())\n",
    "    RMSE_scores.append(np.mean(np.sqrt(-MSE_scores)))\n",
    "print bag_clf_scores"
   ]
  },
  {
   "cell_type": "code",
   "execution_count": null,
   "metadata": {
    "collapsed": false
   },
   "outputs": [],
   "source": [
    "import matplotlib\n",
    "%matplotlib nbagg\n",
    "# plot max_depth (x-axis) versus RMSE (y-axis)\n",
    "plt.plot(bag_range, bag_scores)\n",
    "plt.xlabel('max_depth')\n",
    "plt.ylabel('RMSE (lower is better)')"
   ]
  },
  {
   "cell_type": "markdown",
   "metadata": {},
   "source": [
    "### MODEL 8: Random Forest"
   ]
  },
  {
   "cell_type": "code",
   "execution_count": null,
   "metadata": {
    "collapsed": false
   },
   "outputs": [],
   "source": [
    "rf = RandomForestClassifier(n_estimators=100, oob_score=True, random_state=42)\n",
    "rf.fit(X, y)\n",
    "rf_scores = cross_val_score(rf, X, y, cv=KFold(X.shape[0], n_folds=10, shuffle=True), scoring='accuracy')"
   ]
  },
  {
   "cell_type": "code",
   "execution_count": null,
   "metadata": {
    "collapsed": true
   },
   "outputs": [],
   "source": [
    "rf_auc_scores = cross_val_score(rf, X, y, cv=KFold(X.shape[0], n_folds=10, shuffle=True), scoring='roc_auc')"
   ]
  },
  {
   "cell_type": "code",
   "execution_count": null,
   "metadata": {
    "collapsed": false
   },
   "outputs": [],
   "source": [
    "print rf_scores"
   ]
  },
  {
   "cell_type": "code",
   "execution_count": null,
   "metadata": {
    "collapsed": false
   },
   "outputs": [],
   "source": [
    "print rf_scores.mean()"
   ]
  },
  {
   "cell_type": "code",
   "execution_count": null,
   "metadata": {
    "collapsed": false
   },
   "outputs": [],
   "source": [
    "rf.oob_score_"
   ]
  },
  {
   "cell_type": "markdown",
   "metadata": {},
   "source": [
    "### MODEL 8: Random Forest - Find optimal number of leaves"
   ]
  },
  {
   "cell_type": "code",
   "execution_count": null,
   "metadata": {
    "collapsed": false
   },
   "outputs": [],
   "source": [
    "results = []\n",
    "min_samples_leaf_options = [1, 2, 3, 4, 5, 6, 7, 8, 9, 10, 11, 12, 13, 14, 15, 16, 17, 18, 19, 20, 21, 22, 23, 24, 25]\n",
    "for min_samples in min_samples_leaf_options:\n",
    "    rf = RandomForestClassifier(n_estimators=100, \n",
    "                                  oob_score=True, \n",
    "                                  n_jobs=-1, \n",
    "                                  random_state=42, \n",
    "                                  max_features=\"auto\", \n",
    "                                  min_samples_leaf=min_samples)\n",
    "    rf.fit(X, y)\n",
    "    print min_samples, \"min samples\"\n",
    "    roc = cross_val_score(rf, X, y, cv=KFold(X.shape[0], n_folds=10, shuffle=True), scoring='roc_auc').mean()\n",
    "    print \"C-stat: \", roc\n",
    "    results.append(roc)\n",
    "    print \"\""
   ]
  },
  {
   "cell_type": "code",
   "execution_count": null,
   "metadata": {
    "collapsed": false
   },
   "outputs": [],
   "source": [
    "import matplotlib\n",
    "%matplotlib nbagg\n",
    "\n",
    "pd.Series(results, min_samples_leaf_options).plot();"
   ]
  },
  {
   "cell_type": "markdown",
   "metadata": {},
   "source": [
    "### MODEL 8: Random Forest - Determine optimal depth for Random Forest"
   ]
  },
  {
   "cell_type": "code",
   "execution_count": null,
   "metadata": {
    "collapsed": false
   },
   "outputs": [],
   "source": [
    "t_range = range(1, 100)\n",
    "t_scores = []\n",
    "results = []\n",
    "RMSE_scores = []\n",
    "for k in t_range:\n",
    "    clf = RandomForestClassifier(max_depth=k)\n",
    "    scores = cross_val_score(clf, X, y, cv=KFold(X.shape[0], n_folds=10, shuffle=True), scoring='accuracy')\n",
    "    clf_auc_scores = cross_val_score(clf, X, y, cv=KFold(X.shape[0], n_folds=10, shuffle=True), scoring='roc_auc')\n",
    "    MSE_scores = cross_val_score(clf, X, y, cv=KFold(X.shape[0], n_folds=10, shuffle=True), scoring='mean_squared_error')\n",
    "    t_scores.append(scores.mean())\n",
    "    results.append(clf_auc_scores)\n",
    "    RMSE_scores.append(np.mean(np.sqrt(-MSE_scores)))\n",
    "print t_scores"
   ]
  },
  {
   "cell_type": "code",
   "execution_count": null,
   "metadata": {
    "collapsed": false
   },
   "outputs": [],
   "source": [
    "import matplotlib\n",
    "%matplotlib nbagg\n",
    "plt.plot(t_range, RMSE_scores)\n",
    "plt.xlabel('Max Depth')\n",
    "plt.ylabel('RMSE - Lower is better')"
   ]
  },
  {
   "cell_type": "code",
   "execution_count": null,
   "metadata": {
    "collapsed": false
   },
   "outputs": [],
   "source": [
    "import matplotlib\n",
    "%matplotlib nbagg\n",
    "plt.plot(t_range, t_scores)\n",
    "plt.xlabel('Max Depth')\n",
    "plt.ylabel('Cross Validated Accuracy')"
   ]
  },
  {
   "cell_type": "code",
   "execution_count": null,
   "metadata": {
    "collapsed": false
   },
   "outputs": [],
   "source": [
    "import matplotlib\n",
    "%matplotlib nbagg\n",
    "plt.plot(t_range, results)\n",
    "plt.xlabel('Max Depth')\n",
    "plt.ylabel('RMSE - Lower is better')"
   ]
  },
  {
   "cell_type": "markdown",
   "metadata": {},
   "source": [
    "### MODEL 8: Random Forest - Search for an optimal number of estimators"
   ]
  },
  {
   "cell_type": "code",
   "execution_count": null,
   "metadata": {
    "collapsed": false
   },
   "outputs": [],
   "source": [
    "k_range = range(1, 100)\n",
    "k_scores = []\n",
    "for k in k_range:\n",
    "    rf = RandomForestClassifier(n_estimators=k, oob_score=True, random_state=42)\n",
    "    rf_scores = cross_val_score(rf, X, y, cv=KFold(X.shape[0], n_folds=10, shuffle=True), scoring='accuracy')\n",
    "    k_scores.append(rf_scores.mean())\n",
    "print k_scores"
   ]
  },
  {
   "cell_type": "markdown",
   "metadata": {},
   "source": [
    "### MODEL 8: Random Forest - Plot number of estimators with cross-validated accuracy"
   ]
  },
  {
   "cell_type": "code",
   "execution_count": null,
   "metadata": {
    "collapsed": false
   },
   "outputs": [],
   "source": [
    "import matplotlib\n",
    "%matplotlib nbagg\n",
    "plt.plot(k_range, k_scores)\n",
    "plt.xlabel('Number of Estimators')\n",
    "plt.ylabel('Cross-Validated Accuracy')"
   ]
  },
  {
   "cell_type": "markdown",
   "metadata": {},
   "source": [
    "### MODEL 8: Random Forest - optimize for max number of features"
   ]
  },
  {
   "cell_type": "code",
   "execution_count": null,
   "metadata": {
    "collapsed": false
   },
   "outputs": [],
   "source": [
    "import matplotlib\n",
    "%matplotlib nbagg\n",
    "\n",
    "results = []\n",
    "max_features_options = [\"auto\", None, \"sqrt\", \"log2\", 0.9, 0.2]\n",
    "\n",
    "for max_features in max_features_options:\n",
    "    model = RandomForestClassifier(n_estimators=10, oob_score=True, n_jobs=-1, random_state=42, max_features=max_features)\n",
    "    model.fit(X, y)\n",
    "    roc = cross_val_score(model, X, y, cv=KFold(X.shape[0], n_folds=10, shuffle=True), scoring='roc_auc').mean()\n",
    "    print max_features, \"option\"\n",
    "    print \"C-stat: \", roc\n",
    "    results.append(roc)\n",
    "    print \"\"\n",
    "    \n",
    "pd.Series(results, max_features_options).plot(kind=\"barh\", xlim=(.60,.65));"
   ]
  },
  {
   "cell_type": "markdown",
   "metadata": {},
   "source": [
    "### MODEL 8: Re-Run Random Forest after optimization of all hyperparameters"
   ]
  },
  {
   "cell_type": "code",
   "execution_count": null,
   "metadata": {
    "collapsed": true
   },
   "outputs": [],
   "source": [
    "rftime2 = %%timeit -o 1 + 2\n",
    "rf = RandomForestClassifier(n_estimators=60, max_features=.2, max_depth=50,  oob_score=True, min_samples_leaf=10, random_state=42)\n",
    "rf.fit(X, y)\n",
    "rf_mean2 = cross_val_score(rf, X, y, cv=KFold(X.shape[0], n_folds=10, shuffle=True), scoring='accuracy').mean()"
   ]
  },
  {
   "cell_type": "code",
   "execution_count": null,
   "metadata": {
    "collapsed": true
   },
   "outputs": [],
   "source": [
    "rf_auc_scores = cross_val_score(rf, X, y, cv=KFold(X.shape[0], n_folds=10, shuffle=True), scoring='roc_auc')"
   ]
  },
  {
   "cell_type": "markdown",
   "metadata": {},
   "source": [
    "## MODEL 8a: Bagged Random Forest (using optimized parameters from above)"
   ]
  },
  {
   "cell_type": "code",
   "execution_count": null,
   "metadata": {
    "collapsed": true
   },
   "outputs": [],
   "source": [
    "rfbag_scores = []\n",
    "\n",
    "rfbag_range = range(1, 100)\n",
    "rfRMSE_scores = []\n",
    "\n",
    "for k in bag_range:\n",
    "    rfbag_clf = RandomForestClassifier(n_estimators=60, max_features=.2, max_depth=50,  oob_score=True, min_samples_leaf=10, random_state=42)\n",
    "    rfbag_clf.fit(X, y)\n",
    "    rfbag_clf_scores = cross_val_score(rfbag_clf, X, y, cv=KFold(X.shape[0], n_folds=10, shuffle=True), scoring='accuracy')\n",
    "    rfMSE_scores = cross_val_score(rfbag_clf, X, y, cv=KFold(X.shape[0], n_folds=10, shuffle=True), scoring='mean_squared_error')\n",
    "    rfbag_scores.append(rfbag_clf_scores.mean())\n",
    "    rfRMSE_scores.append(np.mean(np.sqrt(-rfMSE_scores)))\n",
    "print rfbag_clf_scores"
   ]
  },
  {
   "cell_type": "code",
   "execution_count": null,
   "metadata": {
    "collapsed": false
   },
   "outputs": [],
   "source": [
    "import matplotlib\n",
    "%matplotlib nbagg\n",
    "# plot max_depth (x-axis) versus RMSE (y-axis)\n",
    "plt.plot(rfbag_range, rfbag_scores)\n",
    "plt.xlabel('N estimators')\n",
    "plt.ylabel('RMSE (lower is better)')"
   ]
  },
  {
   "cell_type": "markdown",
   "metadata": {},
   "source": [
    "## MODEL 9:  NOISY REPLICATION"
   ]
  },
  {
   "cell_type": "markdown",
   "metadata": {},
   "source": [
    "## MODEL 10: Additional Classifier"
   ]
  },
  {
   "cell_type": "markdown",
   "metadata": {},
   "source": [
    " "
   ]
  },
  {
   "cell_type": "markdown",
   "metadata": {},
   "source": [
    "# STEP 4: RESULTS! - all data"
   ]
  },
  {
   "cell_type": "markdown",
   "metadata": {},
   "source": [
    "### Summary ROCs for all models - DATA2 - RECIDIVISM"
   ]
  },
  {
   "cell_type": "code",
   "execution_count": null,
   "metadata": {
    "collapsed": true
   },
   "outputs": [],
   "source": []
  },
  {
   "cell_type": "code",
   "execution_count": null,
   "metadata": {
    "collapsed": false
   },
   "outputs": [],
   "source": [
    "# TASK 7: plot the ROC curve\n",
    "import matplotlib\n",
    "%matplotlib nbagg\n",
    "from sklearn import metrics\n",
    "import pandas as pd\n",
    "from ggplot import *\n",
    "\n",
    "nullmodel_preds = nullmodel.predict_proba(X_test)[:,1]\n",
    "nullmodel_fpr, nullmodel_tpr, _ = metrics.roc_curve(y_test, nullmodel_preds)\n",
    "\n",
    "knn_preds = knn.predict_proba(X_test)[:,1]\n",
    "knn_fpr, knn_tpr, _ = metrics.roc_curve(y_test, knn_preds)\n",
    "\n",
    "nbm_preds = nbm.predict_proba(X_test)[:,1]\n",
    "nbm_fpr, nbm_tpr, _ = metrics.roc_curve(y_test, nbm_preds)\n",
    "\n",
    "nbg_preds = nbg.predict_proba(X_test)[:,1]\n",
    "nbg_fpr, nbg_tpr, _ = metrics.roc_curve(y_test, nbg_preds)\n",
    "\n",
    "nbb_preds = nbb.predict_proba(X_test)[:,1]\n",
    "nbb_fpr, nbb_tpr, _ = metrics.roc_curve(y_test, nbb_preds)\n",
    "\n",
    "logreg_preds = logreg.predict_proba(X_test)[:,1]\n",
    "logreg_fpr, logreg_tpr, _ = metrics.roc_curve(y_test, logreg_preds)\n",
    "\n",
    "clf_preds = clf.predict_proba(X_test)[:,1]\n",
    "clf_fpr, clf_tpr, _ = metrics.roc_curve(y_test, clf_preds)\n",
    "\n",
    "bag_clf_preds = bag_clf.predict_proba(X_test)[:,1]\n",
    "bag_fpr, bag_tpr, _ = metrics.roc_curve(y_test, bag_clf_preds)\n",
    "\n",
    "rf_clf_preds = rf_clf.predict_proba(X_test)[:,1]\n",
    "rf_fpr, rf_tpr, _ = metrics.roc_curve(y_test, rf_clf_preds)\n",
    "\n",
    "plt.plot(nullmodel_fpr, nullmodel_tpr, color='gray') # KNN\n",
    "plt.plot(knn_fpr, knn_tpr, color='blue') # KNN\n",
    "plt.plot(logreg_fpr, logreg_tpr, color='red') # Logistic Regression\n",
    "plt.plot(nbm_fpr, nbm_tpr, color='green') # Naive Bayes Multinomial\n",
    "plt.plot(nbg_fpr, nbg_tpr, color='magenta') # Naive Bayes Gaussian\n",
    "plt.plot(nbb_fpr, nbb_tpr, color='yellow') # Naive Bayes Bernoulli\n",
    "plt.plot(clf_fpr, clf_tpr, color='orange') # Decision Tree\n",
    "plt.plot(bag_fpr, bag_tpr, color='black') # Bagged Decision Tree\n",
    "plt.plot(rf_fpr, rf_tpr, color='brown')\n",
    "\n",
    "\n",
    "plt.xlim([0.0, 1.0])\n",
    "plt.ylim([0.0, 1.0])\n",
    "plt.xlabel('False Positive Rate (1 - Specificity)')\n",
    "plt.ylabel('True Positive Rate (Sensitivity)')\n",
    "\n",
    "\n"
   ]
  },
  {
   "cell_type": "markdown",
   "metadata": {},
   "source": [
    "### Summary ROCs for all models - DATA2 - MUSIC"
   ]
  },
  {
   "cell_type": "code",
   "execution_count": null,
   "metadata": {
    "collapsed": false
   },
   "outputs": [],
   "source": [
    "# TASK 7: plot the ROC curve\n",
    "import matplotlib\n",
    "%matplotlib nbagg\n",
    "from sklearn import metrics\n",
    "import pandas as pd\n",
    "from ggplot import *\n",
    "\n",
    "nullmodel2_preds = nullmodel2.predict_proba(X_test)[:,1]\n",
    "nullmodel2_fpr, nullmodel_tpr, _ = metrics.roc_curve(y_test, nullmodel2_preds)\n",
    "\n",
    "knn2_preds = knn2.predict_proba(X_test)[:,1]\n",
    "knn2_fpr, knn2_tpr, _ = metrics.roc_curve(y_test, knn2_preds)\n",
    "\n",
    "nbm2_preds = nbm2.predict_proba(X_test)[:,1]\n",
    "nbm2_fpr, nbm2_tpr, _ = metrics.roc_curve(y_test, nbm2_preds)\n",
    "\n",
    "nbg2_preds = nbg2.predict_proba(X_test)[:,1]\n",
    "nbg2_fpr, nbg2_tpr, _ = metrics.roc_curve(y_test, nbg2_preds)\n",
    "\n",
    "nbb2_preds = nbb2.predict_proba(X_test)[:,1]\n",
    "nbb2_fpr, nbb2_tpr, _ = metrics.roc_curve(y_test, nbb2_preds)\n",
    "\n",
    "logreg2_preds = logreg2.predict_proba(X_test)[:,1]\n",
    "logreg2_fpr, logreg2_tpr, _ = metrics.roc_curve(y_test, logreg2_preds)\n",
    "\n",
    "clf2_preds = clf2.predict_proba(X_test)[:,1]\n",
    "clf2_fpr, clf2_tpr, _ = metrics.roc_curve(y_test, clf2_preds)\n",
    "\n",
    "bag_clf2_preds = bag_clf2.predict_proba(X_test)[:,1]\n",
    "bag2_fpr, bag2_tpr, _ = metrics.roc_curve(y_test, bag_clf2_preds)\n",
    "\n",
    "rf_clf2_preds = rf_clf2.predict_proba(X_test)[:,1]\n",
    "rf2_fpr, rf2_tpr, _ = metrics.roc_curve(y_test, rf_clf2_preds)\n",
    "\n",
    "plt.plot(nullmodel2_fpr, nullmodel2_tpr, color='gray') # KNN\n",
    "plt.plot(knn2_fpr, knn2_tpr, color='blue') # KNN\n",
    "plt.plot(logreg2_fpr, logreg2_tpr, color='red') # Logistic Regression\n",
    "plt.plot(nbm2_fpr, nbm2_tpr, color='green') # Naive Bayes Multinomial\n",
    "plt.plot(nbg2_fpr, nbg2_tpr, color='magenta') # Naive Bayes Gaussian\n",
    "plt.plot(nbb2_fpr, nbb2_tpr, color='yellow') # Naive Bayes Bernoulli\n",
    "plt.plot(clf2_fpr, clf2_tpr, color='orange') # Decision Tree\n",
    "plt.plot(bag2_fpr, bag2_tpr, color='black') # Bagged Decision Tree\n",
    "plt.plot(rf2_fpr, rf2_tpr, color='brown')\n",
    "\n",
    "\n",
    "plt.xlim([0.0, 1.0])\n",
    "plt.ylim([0.0, 1.0])\n",
    "plt.xlabel('False Positive Rate (1 - Specificity)')\n",
    "plt.ylabel('True Positive Rate (Sensitivity)')\n",
    "\n",
    "\n"
   ]
  },
  {
   "cell_type": "markdown",
   "metadata": {},
   "source": [
    "## Plot time and cv for both datasets, for all models"
   ]
  },
  {
   "cell_type": "code",
   "execution_count": null,
   "metadata": {
    "collapsed": false
   },
   "outputs": [],
   "source": [
    "time1 = [nulltime1.best, nbmtime1.best, nbgtime1.best, nbbtime1.best, logregtime1.best, svmpolytime1.best, svmgaustime1.best, clftime1.best, bagtime1.best, rftime1.best, noisetime1.best, xtime1.best]\n",
    "cv1 = [nullmodel_mean1, nbm_scores_mean1, nbg_scores_mean1, nbb_scores_mean1, knn_scores_mean1, svmpoly_mean1, svmgaus_mean1, clf_mean1, bagclf_mean1, rf_mean1, noise_mean1, xxx_mean1]"
   ]
  },
  {
   "cell_type": "code",
   "execution_count": null,
   "metadata": {
    "collapsed": true
   },
   "outputs": [],
   "source": []
  },
  {
   "cell_type": "code",
   "execution_count": null,
   "metadata": {
    "collapsed": true
   },
   "outputs": [],
   "source": [
    "time2 = [nulltime2.best, nbmtime2.best, nbgtime2.best, nbbtime2.best, logregtime2.best, svmpolytime2.best, svmgaustime2.best, clftime2.best, bagtime2.best, rftime2.best, noisetime2.best, xtime2.best]\n",
    "cv2 = [nullmodel_mean2, nbm_scores_mean2, nbg_scores_mean2, nbb_scores_mean2, knn_scores_mean2, svmpoly_mean2, svmgaus_mean2, clf_mean2, bagclf_mean2, rf_mean2, noise_mean2, xxx_mean2]"
   ]
  }
 ],
 "metadata": {
  "kernelspec": {
   "display_name": "Python 2",
   "language": "python",
   "name": "python2"
  },
  "language_info": {
   "codemirror_mode": {
    "name": "ipython",
    "version": 2
   },
   "file_extension": ".py",
   "mimetype": "text/x-python",
   "name": "python",
   "nbconvert_exporter": "python",
   "pygments_lexer": "ipython2",
   "version": "2.7.10"
  }
 },
 "nbformat": 4,
 "nbformat_minor": 0
}
